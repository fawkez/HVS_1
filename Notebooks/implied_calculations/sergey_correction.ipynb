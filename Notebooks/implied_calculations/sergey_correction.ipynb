{
 "cells": [
  {
   "cell_type": "code",
   "execution_count": null,
   "metadata": {},
   "outputs": [
    {
     "ename": "KeyboardInterrupt",
     "evalue": "",
     "output_type": "error",
     "traceback": [
      "\u001b[0;31m---------------------------------------------------------------------------\u001b[0m",
      "\u001b[0;31mKeyboardInterrupt\u001b[0m                         Traceback (most recent call last)",
      "Cell \u001b[0;32mIn[1], line 55\u001b[0m\n\u001b[1;32m     50\u001b[0m         r4\u001b[38;5;241m.\u001b[39mappend(Vz)\n\u001b[1;32m     52\u001b[0m     \u001b[38;5;28;01mreturn\u001b[39;00m [np\u001b[38;5;241m.\u001b[39mconcatenate(_) \u001b[38;5;28;01mfor\u001b[39;00m _ \u001b[38;5;129;01min\u001b[39;00m [r0, r1, r2, r3, r4]]\n\u001b[0;32m---> 55\u001b[0m R, z, VR, Vz \u001b[38;5;241m=\u001b[39m \u001b[43mdoall\u001b[49m\u001b[43m(\u001b[49m\u001b[43m)\u001b[49m\n",
      "Cell \u001b[0;32mIn[1], line 45\u001b[0m, in \u001b[0;36mdoall\u001b[0;34m(N, seed)\u001b[0m\n\u001b[1;32m     43\u001b[0m r0, r1, r2, r3, r4 \u001b[38;5;241m=\u001b[39m [], [], [], [], []\n\u001b[1;32m     44\u001b[0m \u001b[38;5;28;01mfor\u001b[39;00m curv, curc \u001b[38;5;129;01min\u001b[39;00m \u001b[38;5;28mzip\u001b[39m(vej, cosa):\n\u001b[0;32m---> 45\u001b[0m     R, z, VR, Vz \u001b[38;5;241m=\u001b[39m \u001b[43mdoit\u001b[49m\u001b[43m(\u001b[49m\u001b[43mcurv\u001b[49m\u001b[43m,\u001b[49m\u001b[43m \u001b[49m\u001b[43mcurc\u001b[49m\u001b[43m,\u001b[49m\u001b[43m \u001b[49m\u001b[43mtimes\u001b[49m\u001b[43m)\u001b[49m\n\u001b[1;32m     46\u001b[0m     r0\u001b[38;5;241m.\u001b[39mappend(np\u001b[38;5;241m.\u001b[39mzeros(\u001b[38;5;28mlen\u001b[39m(R)) \u001b[38;5;241m+\u001b[39m curv)\n\u001b[1;32m     47\u001b[0m     r1\u001b[38;5;241m.\u001b[39mappend(R)\n",
      "Cell \u001b[0;32mIn[1], line 24\u001b[0m, in \u001b[0;36mdoit\u001b[0;34m(vej, cosang, t)\u001b[0m\n\u001b[1;32m     22\u001b[0m nsteps \u001b[38;5;241m=\u001b[39m \u001b[38;5;241m10000\u001b[39m\n\u001b[1;32m     23\u001b[0m timestep \u001b[38;5;241m=\u001b[39m t \u001b[38;5;241m*\u001b[39m auni\u001b[38;5;241m.\u001b[39mMyr \u001b[38;5;241m/\u001b[39m nsteps\n\u001b[0;32m---> 24\u001b[0m orbit \u001b[38;5;241m=\u001b[39m \u001b[43mgp\u001b[49m\u001b[38;5;241;43m.\u001b[39;49m\u001b[43mHamiltonian\u001b[49m\u001b[43m(\u001b[49m\u001b[43mpot\u001b[49m\u001b[43m)\u001b[49m\u001b[38;5;241;43m.\u001b[39;49m\u001b[43mintegrate_orbit\u001b[49m\u001b[43m(\u001b[49m\n\u001b[1;32m     25\u001b[0m \u001b[43m    \u001b[49m\u001b[43mw0\u001b[49m\u001b[43m,\u001b[49m\n\u001b[1;32m     26\u001b[0m \u001b[43m    \u001b[49m\u001b[43mdt\u001b[49m\u001b[38;5;241;43m=\u001b[39;49m\u001b[43mtimestep\u001b[49m\u001b[43m,\u001b[49m\n\u001b[1;32m     27\u001b[0m \u001b[43m    \u001b[49m\u001b[43mn_steps\u001b[49m\u001b[38;5;241;43m=\u001b[39;49m\u001b[43mnsteps\u001b[49m\u001b[43m,\u001b[49m\n\u001b[1;32m     28\u001b[0m \u001b[43m    \u001b[49m\u001b[43mIntegrator\u001b[49m\u001b[38;5;241;43m=\u001b[39;49m\u001b[43mgi\u001b[49m\u001b[38;5;241;43m.\u001b[39;49m\u001b[43mDOPRI853Integrator\u001b[49m\u001b[43m,\u001b[49m\n\u001b[1;32m     29\u001b[0m \u001b[43m    \u001b[49m\u001b[38;5;66;43;03m# Integrator_kwargs = dict(atol=1e-15,rtol=1e-15)\u001b[39;49;00m\n\u001b[1;32m     30\u001b[0m \u001b[43m\u001b[49m\u001b[43m)\u001b[49m\n\u001b[1;32m     31\u001b[0m R \u001b[38;5;241m=\u001b[39m (orbit\u001b[38;5;241m.\u001b[39mx\u001b[38;5;241m*\u001b[39m\u001b[38;5;241m*\u001b[39m\u001b[38;5;241m2\u001b[39m \u001b[38;5;241m+\u001b[39m orbit\u001b[38;5;241m.\u001b[39mz\u001b[38;5;241m*\u001b[39m\u001b[38;5;241m*\u001b[39m\u001b[38;5;241m2\u001b[39m \u001b[38;5;241m+\u001b[39m orbit\u001b[38;5;241m.\u001b[39my\u001b[38;5;241m*\u001b[39m\u001b[38;5;241m*\u001b[39m\u001b[38;5;241m2\u001b[39m)\u001b[38;5;241m*\u001b[39m\u001b[38;5;241m*\u001b[39m\u001b[38;5;241m.5\u001b[39m\n\u001b[1;32m     32\u001b[0m z \u001b[38;5;241m=\u001b[39m orbit\u001b[38;5;241m.\u001b[39mz\u001b[38;5;241m.\u001b[39mto_value(auni\u001b[38;5;241m.\u001b[39mkpc)\n",
      "File \u001b[0;32m/usr/local/lib/python3.10/site-packages/gala/potential/hamiltonian/chamiltonian.pyx:367\u001b[0m, in \u001b[0;36mgala.potential.hamiltonian.chamiltonian.Hamiltonian.integrate_orbit\u001b[0;34m()\u001b[0m\n",
      "File \u001b[0;32m/usr/local/lib/python3.10/site-packages/gala/dynamics/core.py:530\u001b[0m, in \u001b[0;36mPhaseSpacePosition.from_w\u001b[0;34m(cls, w, units, **kwargs)\u001b[0m\n\u001b[1;32m    527\u001b[0m     pos \u001b[38;5;241m=\u001b[39m pos \u001b[38;5;241m*\u001b[39m units[\u001b[38;5;124m\"\u001b[39m\u001b[38;5;124mlength\u001b[39m\u001b[38;5;124m\"\u001b[39m]\n\u001b[1;32m    528\u001b[0m     vel \u001b[38;5;241m=\u001b[39m vel \u001b[38;5;241m*\u001b[39m units[\u001b[38;5;124m\"\u001b[39m\u001b[38;5;124mlength\u001b[39m\u001b[38;5;124m\"\u001b[39m] \u001b[38;5;241m/\u001b[39m units[\u001b[38;5;124m\"\u001b[39m\u001b[38;5;124mtime\u001b[39m\u001b[38;5;124m\"\u001b[39m]  \u001b[38;5;66;03m# from _core_units\u001b[39;00m\n\u001b[0;32m--> 530\u001b[0m \u001b[38;5;28;01mreturn\u001b[39;00m \u001b[38;5;28;43mcls\u001b[39;49m\u001b[43m(\u001b[49m\u001b[43mpos\u001b[49m\u001b[38;5;241;43m=\u001b[39;49m\u001b[43mpos\u001b[49m\u001b[43m,\u001b[49m\u001b[43m \u001b[49m\u001b[43mvel\u001b[49m\u001b[38;5;241;43m=\u001b[39;49m\u001b[43mvel\u001b[49m\u001b[43m,\u001b[49m\u001b[43m \u001b[49m\u001b[38;5;241;43m*\u001b[39;49m\u001b[38;5;241;43m*\u001b[39;49m\u001b[43mkwargs\u001b[49m\u001b[43m)\u001b[49m\n",
      "File \u001b[0;32m/usr/local/lib/python3.10/site-packages/gala/dynamics/orbit.py:73\u001b[0m, in \u001b[0;36mOrbit.__init__\u001b[0;34m(self, pos, vel, t, hamiltonian, potential, frame)\u001b[0m\n\u001b[1;32m     72\u001b[0m \u001b[38;5;28;01mdef\u001b[39;00m \u001b[38;5;21m__init__\u001b[39m(\u001b[38;5;28mself\u001b[39m, pos, vel, t\u001b[38;5;241m=\u001b[39m\u001b[38;5;28;01mNone\u001b[39;00m, hamiltonian\u001b[38;5;241m=\u001b[39m\u001b[38;5;28;01mNone\u001b[39;00m, potential\u001b[38;5;241m=\u001b[39m\u001b[38;5;28;01mNone\u001b[39;00m, frame\u001b[38;5;241m=\u001b[39m\u001b[38;5;28;01mNone\u001b[39;00m):\n\u001b[0;32m---> 73\u001b[0m     \u001b[38;5;28;43msuper\u001b[39;49m\u001b[43m(\u001b[49m\u001b[43m)\u001b[49m\u001b[38;5;241;43m.\u001b[39;49m\u001b[38;5;21;43m__init__\u001b[39;49m\u001b[43m(\u001b[49m\u001b[43mpos\u001b[49m\u001b[38;5;241;43m=\u001b[39;49m\u001b[43mpos\u001b[49m\u001b[43m,\u001b[49m\u001b[43m \u001b[49m\u001b[43mvel\u001b[49m\u001b[38;5;241;43m=\u001b[39;49m\u001b[43mvel\u001b[49m\u001b[43m)\u001b[49m\n\u001b[1;32m     75\u001b[0m     \u001b[38;5;28;01mif\u001b[39;00m \u001b[38;5;28mself\u001b[39m\u001b[38;5;241m.\u001b[39mpos\u001b[38;5;241m.\u001b[39mndim \u001b[38;5;241m<\u001b[39m \u001b[38;5;241m1\u001b[39m:\n\u001b[1;32m     76\u001b[0m         \u001b[38;5;28mself\u001b[39m\u001b[38;5;241m.\u001b[39mpos \u001b[38;5;241m=\u001b[39m \u001b[38;5;28mself\u001b[39m\u001b[38;5;241m.\u001b[39mpos\u001b[38;5;241m.\u001b[39mreshape(\u001b[38;5;241m1\u001b[39m)\n",
      "File \u001b[0;32m/usr/local/lib/python3.10/site-packages/gala/dynamics/core.py:170\u001b[0m, in \u001b[0;36mPhaseSpacePosition.__init__\u001b[0;34m(self, pos, vel, frame)\u001b[0m\n\u001b[1;32m    168\u001b[0m     name \u001b[38;5;241m=\u001b[39m pos\u001b[38;5;241m.\u001b[39m\u001b[38;5;18m__class__\u001b[39m\u001b[38;5;241m.\u001b[39mget_name()\n\u001b[1;32m    169\u001b[0m     Diff \u001b[38;5;241m=\u001b[39m coord\u001b[38;5;241m.\u001b[39mrepresentation\u001b[38;5;241m.\u001b[39mDIFFERENTIAL_CLASSES[name]\n\u001b[0;32m--> 170\u001b[0m     vel \u001b[38;5;241m=\u001b[39m \u001b[43mDiff\u001b[49m\u001b[43m(\u001b[49m\u001b[38;5;241;43m*\u001b[39;49m\u001b[43mvel\u001b[49m\u001b[43m)\u001b[49m\n\u001b[1;32m    171\u001b[0m \u001b[38;5;28;01melse\u001b[39;00m:\n\u001b[1;32m    172\u001b[0m     Diff \u001b[38;5;241m=\u001b[39m rep_nd\u001b[38;5;241m.\u001b[39mNDCartesianDifferential\n",
      "File \u001b[0;32m/usr/local/lib/python3.10/site-packages/astropy/coordinates/representation/cartesian.py:375\u001b[0m, in \u001b[0;36mCartesianDifferential.__init__\u001b[0;34m(self, d_x, d_y, d_z, unit, xyz_axis, copy)\u001b[0m\n\u001b[1;32m    372\u001b[0m     d_z \u001b[38;5;241m=\u001b[39m u\u001b[38;5;241m.\u001b[39mQuantity(d_z, unit, copy\u001b[38;5;241m=\u001b[39mcopy, subok\u001b[38;5;241m=\u001b[39m\u001b[38;5;28;01mTrue\u001b[39;00m)\n\u001b[1;32m    373\u001b[0m     copy \u001b[38;5;241m=\u001b[39m \u001b[38;5;28;01mFalse\u001b[39;00m\n\u001b[0;32m--> 375\u001b[0m \u001b[38;5;28;43msuper\u001b[39;49m\u001b[43m(\u001b[49m\u001b[43m)\u001b[49m\u001b[38;5;241;43m.\u001b[39;49m\u001b[38;5;21;43m__init__\u001b[39;49m\u001b[43m(\u001b[49m\u001b[43md_x\u001b[49m\u001b[43m,\u001b[49m\u001b[43m \u001b[49m\u001b[43md_y\u001b[49m\u001b[43m,\u001b[49m\u001b[43m \u001b[49m\u001b[43md_z\u001b[49m\u001b[43m,\u001b[49m\u001b[43m \u001b[49m\u001b[43mcopy\u001b[49m\u001b[38;5;241;43m=\u001b[39;49m\u001b[43mcopy\u001b[49m\u001b[43m)\u001b[49m\n\u001b[1;32m    376\u001b[0m \u001b[38;5;28;01mif\u001b[39;00m \u001b[38;5;129;01mnot\u001b[39;00m (\n\u001b[1;32m    377\u001b[0m     \u001b[38;5;28mself\u001b[39m\u001b[38;5;241m.\u001b[39m_d_x\u001b[38;5;241m.\u001b[39munit\u001b[38;5;241m.\u001b[39mis_equivalent(\u001b[38;5;28mself\u001b[39m\u001b[38;5;241m.\u001b[39m_d_y\u001b[38;5;241m.\u001b[39munit)\n\u001b[1;32m    378\u001b[0m     \u001b[38;5;129;01mand\u001b[39;00m \u001b[38;5;28mself\u001b[39m\u001b[38;5;241m.\u001b[39m_d_x\u001b[38;5;241m.\u001b[39munit\u001b[38;5;241m.\u001b[39mis_equivalent(\u001b[38;5;28mself\u001b[39m\u001b[38;5;241m.\u001b[39m_d_z\u001b[38;5;241m.\u001b[39munit)\n\u001b[1;32m    379\u001b[0m ):\n\u001b[1;32m    380\u001b[0m     \u001b[38;5;28;01mraise\u001b[39;00m u\u001b[38;5;241m.\u001b[39mUnitsError(\u001b[38;5;124m\"\u001b[39m\u001b[38;5;124md_x, d_y and d_z should have equivalent units.\u001b[39m\u001b[38;5;124m\"\u001b[39m)\n",
      "File \u001b[0;32m/usr/local/lib/python3.10/site-packages/astropy/coordinates/representation/base.py:204\u001b[0m, in \u001b[0;36mBaseRepresentationOrDifferential.__init__\u001b[0;34m(self, *args, **kwargs)\u001b[0m\n\u001b[1;32m    201\u001b[0m         \u001b[38;5;28;01mraise\u001b[39;00m \u001b[38;5;167;01mTypeError\u001b[39;00m(\u001b[38;5;124mf\u001b[39m\u001b[38;5;124m\"\u001b[39m\u001b[38;5;124munexpected keyword arguments: \u001b[39m\u001b[38;5;132;01m{\u001b[39;00mkwargs\u001b[38;5;132;01m}\u001b[39;00m\u001b[38;5;124m\"\u001b[39m)\n\u001b[1;32m    203\u001b[0m \u001b[38;5;66;03m# Pass attributes through the required initializing classes.\u001b[39;00m\n\u001b[0;32m--> 204\u001b[0m attrs \u001b[38;5;241m=\u001b[39m [\n\u001b[1;32m    205\u001b[0m     \u001b[38;5;28mself\u001b[39m\u001b[38;5;241m.\u001b[39mattr_classes[component](attr, copy\u001b[38;5;241m=\u001b[39mcopy, subok\u001b[38;5;241m=\u001b[39m\u001b[38;5;28;01mTrue\u001b[39;00m)\n\u001b[1;32m    206\u001b[0m     \u001b[38;5;28;01mfor\u001b[39;00m component, attr \u001b[38;5;129;01min\u001b[39;00m \u001b[38;5;28mzip\u001b[39m(components, attrs)\n\u001b[1;32m    207\u001b[0m ]\n\u001b[1;32m    208\u001b[0m \u001b[38;5;28;01mtry\u001b[39;00m:\n\u001b[1;32m    209\u001b[0m     bc_attrs \u001b[38;5;241m=\u001b[39m np\u001b[38;5;241m.\u001b[39mbroadcast_arrays(\u001b[38;5;241m*\u001b[39mattrs, subok\u001b[38;5;241m=\u001b[39m\u001b[38;5;28;01mTrue\u001b[39;00m)\n",
      "File \u001b[0;32m/usr/local/lib/python3.10/site-packages/astropy/coordinates/representation/base.py:205\u001b[0m, in \u001b[0;36m<listcomp>\u001b[0;34m(.0)\u001b[0m\n\u001b[1;32m    201\u001b[0m         \u001b[38;5;28;01mraise\u001b[39;00m \u001b[38;5;167;01mTypeError\u001b[39;00m(\u001b[38;5;124mf\u001b[39m\u001b[38;5;124m\"\u001b[39m\u001b[38;5;124munexpected keyword arguments: \u001b[39m\u001b[38;5;132;01m{\u001b[39;00mkwargs\u001b[38;5;132;01m}\u001b[39;00m\u001b[38;5;124m\"\u001b[39m)\n\u001b[1;32m    203\u001b[0m \u001b[38;5;66;03m# Pass attributes through the required initializing classes.\u001b[39;00m\n\u001b[1;32m    204\u001b[0m attrs \u001b[38;5;241m=\u001b[39m [\n\u001b[0;32m--> 205\u001b[0m     \u001b[38;5;28;43mself\u001b[39;49m\u001b[38;5;241;43m.\u001b[39;49m\u001b[43mattr_classes\u001b[49m\u001b[43m[\u001b[49m\u001b[43mcomponent\u001b[49m\u001b[43m]\u001b[49m\u001b[43m(\u001b[49m\u001b[43mattr\u001b[49m\u001b[43m,\u001b[49m\u001b[43m \u001b[49m\u001b[43mcopy\u001b[49m\u001b[38;5;241;43m=\u001b[39;49m\u001b[43mcopy\u001b[49m\u001b[43m,\u001b[49m\u001b[43m \u001b[49m\u001b[43msubok\u001b[49m\u001b[38;5;241;43m=\u001b[39;49m\u001b[38;5;28;43;01mTrue\u001b[39;49;00m\u001b[43m)\u001b[49m\n\u001b[1;32m    206\u001b[0m     \u001b[38;5;28;01mfor\u001b[39;00m component, attr \u001b[38;5;129;01min\u001b[39;00m \u001b[38;5;28mzip\u001b[39m(components, attrs)\n\u001b[1;32m    207\u001b[0m ]\n\u001b[1;32m    208\u001b[0m \u001b[38;5;28;01mtry\u001b[39;00m:\n\u001b[1;32m    209\u001b[0m     bc_attrs \u001b[38;5;241m=\u001b[39m np\u001b[38;5;241m.\u001b[39mbroadcast_arrays(\u001b[38;5;241m*\u001b[39mattrs, subok\u001b[38;5;241m=\u001b[39m\u001b[38;5;28;01mTrue\u001b[39;00m)\n",
      "File \u001b[0;32m/usr/local/lib/python3.10/site-packages/astropy/units/quantity.py:461\u001b[0m, in \u001b[0;36mQuantity.__new__\u001b[0;34m(cls, value, unit, dtype, copy, order, subok, ndmin)\u001b[0m\n\u001b[1;32m    458\u001b[0m     \u001b[38;5;28;01mif\u001b[39;00m float_default \u001b[38;5;129;01mand\u001b[39;00m value\u001b[38;5;241m.\u001b[39mdtype\u001b[38;5;241m.\u001b[39mkind \u001b[38;5;129;01min\u001b[39;00m \u001b[38;5;124m\"\u001b[39m\u001b[38;5;124miu\u001b[39m\u001b[38;5;124m\"\u001b[39m:\n\u001b[1;32m    459\u001b[0m         dtype \u001b[38;5;241m=\u001b[39m \u001b[38;5;28mfloat\u001b[39m\n\u001b[0;32m--> 461\u001b[0m     \u001b[38;5;28;01mreturn\u001b[39;00m \u001b[43mnp\u001b[49m\u001b[38;5;241;43m.\u001b[39;49m\u001b[43marray\u001b[49m\u001b[43m(\u001b[49m\n\u001b[1;32m    462\u001b[0m \u001b[43m        \u001b[49m\u001b[43mvalue\u001b[49m\u001b[43m,\u001b[49m\u001b[43m \u001b[49m\u001b[43mdtype\u001b[49m\u001b[38;5;241;43m=\u001b[39;49m\u001b[43mdtype\u001b[49m\u001b[43m,\u001b[49m\u001b[43m \u001b[49m\u001b[43mcopy\u001b[49m\u001b[38;5;241;43m=\u001b[39;49m\u001b[43mcopy\u001b[49m\u001b[43m,\u001b[49m\u001b[43m \u001b[49m\u001b[43morder\u001b[49m\u001b[38;5;241;43m=\u001b[39;49m\u001b[43morder\u001b[49m\u001b[43m,\u001b[49m\u001b[43m \u001b[49m\u001b[43msubok\u001b[49m\u001b[38;5;241;43m=\u001b[39;49m\u001b[38;5;28;43;01mTrue\u001b[39;49;00m\u001b[43m,\u001b[49m\u001b[43m \u001b[49m\u001b[43mndmin\u001b[49m\u001b[38;5;241;43m=\u001b[39;49m\u001b[43mndmin\u001b[49m\n\u001b[1;32m    463\u001b[0m \u001b[43m    \u001b[49m\u001b[43m)\u001b[49m\n\u001b[1;32m    465\u001b[0m \u001b[38;5;66;03m# Maybe str, or list/tuple of Quantity? If so, this may set value_unit.\u001b[39;00m\n\u001b[1;32m    466\u001b[0m \u001b[38;5;66;03m# To ensure array remains fast, we short-circuit it.\u001b[39;00m\n\u001b[1;32m    467\u001b[0m value_unit \u001b[38;5;241m=\u001b[39m \u001b[38;5;28;01mNone\u001b[39;00m\n",
      "\u001b[0;31mKeyboardInterrupt\u001b[0m: "
     ]
    }
   ],
   "source": [
    "import gala.potential as gp\n",
    "import gala.integrate as gi\n",
    "import gala.dynamics as gd\n",
    "import astropy.units as auni\n",
    "import astropy.coordinates as acoo\n",
    "import numpy as np\n",
    "import matplotlib.pyplot as plt\n",
    "from scipy.stats import binned_statistic_2d\n",
    "pot = gp.MilkyWayPotential2022()\n",
    "kms = auni.km / auni.s\n",
    "\n",
    "acoo.galactocentric_frame_defaults.set('latest')\n",
    "\n",
    "\n",
    "\n",
    "def doit(vej, cosang, t):\n",
    "    sinang = np.sqrt(1 - cosang**2)\n",
    "    # start from 10 pc radius\n",
    "    startpos = np.array([cosang, 0, sinang]) * 0.01 * auni.kpc\n",
    "    vel = np.array([cosang, 0, sinang]) * vej\n",
    "    w0 = gd.PhaseSpacePosition(startpos, vel=vel * kms)\n",
    "    nsteps = 10000\n",
    "    timestep = t * auni.Myr / nsteps\n",
    "    orbit = gp.Hamiltonian(pot).integrate_orbit(\n",
    "        w0,\n",
    "        dt=timestep,\n",
    "        n_steps=nsteps,\n",
    "        Integrator=gi.DOPRI853Integrator,\n",
    "        # Integrator_kwargs = dict(atol=1e-15,rtol=1e-15)\n",
    "    )\n",
    "    R = (orbit.x**2 + orbit.z**2 + orbit.y**2)**.5\n",
    "    z = orbit.z.to_value(auni.kpc)\n",
    "    VR = orbit.v_x * R / orbit.x\n",
    "    Vz = orbit.v_z - orbit.v_x * orbit.z / orbit.x\n",
    "    return R.to_value(auni.kpc), z, VR.to_value(kms), Vz.to_value(kms)\n",
    "\n",
    "\n",
    "def doall(N=10000, seed=3):\n",
    "    rng = np.random.default_rng(seed)\n",
    "    vej = 10**rng.uniform(2.8, 3.5, size=N)\n",
    "    cosa = rng.uniform(0, 1, size=N)\n",
    "    times = 100\n",
    "    r0, r1, r2, r3, r4 = [], [], [], [], []\n",
    "    for curv, curc in zip(vej, cosa):\n",
    "        R, z, VR, Vz = doit(curv, curc, times)\n",
    "        r0.append(np.zeros(len(R)) + curv)\n",
    "        r1.append(R)\n",
    "        r2.append(z)\n",
    "        r3.append(VR)\n",
    "        r4.append(Vz)\n",
    "\n",
    "    return [np.concatenate(_) for _ in [r0, r1, r2, r3, r4]]\n",
    "\n",
    "\n",
    "R, z, VR, Vz = doall()\n",
    "\n"
   ]
  },
  {
   "cell_type": "code",
   "execution_count": null,
   "metadata": {},
   "outputs": [],
   "source": [
    "\n",
    "\n",
    "# Choose how many bins you want in each dimension\n",
    "xbins = 50  # bins in z\n",
    "ybins = 50  # bins in log10(VR)\n",
    "\n",
    "# Flatten to go from (10000, 1000) to (10000000,)\n",
    "zf = z.ravel()\n",
    "VRf = VR.ravel()\n",
    "Vzf = Vz.ravel()\n",
    "Rf = R.ravel()\n",
    "\n",
    "\n",
    "\n",
    "# Use binned_statistic_2d to compute the mean ratio in each (z, logVR) bin\n",
    "# statistic='mean' can also be 'median', 'count', 'sum', etc.\n",
    "stat, xedges, yedges, binnum = binned_statistic_2d(\n",
    "    y= zf/Rf, # to avoid log(0) we add a small number\n",
    "    x=np.log10(Rf),\n",
    "    values=Vzf/Rf*VRf,\n",
    "    statistic='mean',\n",
    "    bins=[xbins, ybins]\n",
    ")\n",
    "\n",
    "# 'stat' is a 2D array of the same shape as bins: (xbins, ybins)\n",
    "# We can plot it with pcolormesh (or imshow).\n",
    "plt.figure(figsize=(8, 6))\n",
    "# Note that stat is indexed as stat[ix, iy], but pcolormesh expects\n",
    "# xedges (length xbins+1) along the horizontal axis, yedges (length ybins+1)\n",
    "# along the vertical axis, so we transpose 'stat' in pcolormesh.\n",
    "plt.pcolormesh(xedges, yedges, stat.T, cmap='jet', shading='auto')#, vmin= 0, vmax= 2e3)\n",
    "\n",
    "# Colorbar labeling\n",
    "cb = plt.colorbar()\n",
    "cb.set_label(r'$V_z/R*V_R$ ')\n",
    "\n",
    "plt.xlabel(r'$\\log_{10}(R)$')\n",
    "plt.ylabel(r'$z/R$')\n",
    "#plt.title(r'')\n",
    "plt.tight_layout()\n",
    "#plt.xlim(\n",
    "# -2, 2)\n",
    "plt.show()"
   ]
  },
  {
   "cell_type": "code",
   "execution_count": 1,
   "metadata": {},
   "outputs": [
    {
     "data": {
      "text/plain": [
       "1.5"
      ]
     },
     "execution_count": 1,
     "metadata": {},
     "output_type": "execute_result"
    }
   ],
   "source": []
  },
  {
   "cell_type": "code",
   "execution_count": 3,
   "metadata": {},
   "outputs": [],
   "source": [
    "# construct a regular grid interpolator that will give Vz/R*VR for any R, z\n",
    "import numpy as np\n",
    "from scipy.interpolate import RegularGridInterpolator\n",
    "\n",
    "xcenters = 0.5*(xedges[:-1] + xedges[1:])\n",
    "ycenters = 0.5*(yedges[:-1] + yedges[1:])\n",
    "\n",
    "interp_func = RegularGridInterpolator(\n",
    "    (xcenters, ycenters),   # The 2D grid coordinates\n",
    "    stat,                   # The mean ratio table on that grid\n",
    "    method='linear',        # or 'nearest', 'cubic', etc.\n",
    "    bounds_error=False,     # If False, points outside will not raise an error...\n",
    "    fill_value=np.nan       # ...and will return NaN. (You can choose 0 or None, etc.)\n",
    ")"
   ]
  },
  {
   "cell_type": "code",
   "execution_count": 7,
   "metadata": {},
   "outputs": [
    {
     "name": "stdout",
     "output_type": "stream",
     "text": [
      "Interpolation time: 1.6624927520751953e-06 seconds\n"
     ]
    }
   ],
   "source": [
    "# see how long it takes to evalute the interpolator for 1000 points\n",
    "logR_new = np.linspace(0.1, 2.3, 1000)\n",
    "zr_new   = np.linspace(0.1, 0.83, 1000)\n",
    "\n",
    "import time\n",
    "t0 = time.time()\n",
    "val = interp_func((logR_new, zr_new))\n",
    "print(\"Interpolation time:\", (time.time() - t0)/1000, \"seconds\")"
   ]
  },
  {
   "cell_type": "code",
   "execution_count": 25,
   "metadata": {},
   "outputs": [],
   "source": [
    "import pickle\n",
    "import sys\n",
    "import os\n",
    "# set current directory to /app/data so we can work with relative paths\n",
    "os.chdir('/app/data/')\n",
    "# Add the path to the 'scripts' folder directly\n",
    "sys.path.append('/app/data/')\n",
    "\n",
    "# Save the interpolator to a file\n",
    "with open('/app/data/Data/vz_interpolator/RVR.pkl', 'wb') as f:\n",
    "    pickle.dump(interp_func, f)"
   ]
  }
 ],
 "metadata": {
  "kernelspec": {
   "display_name": "speedytest2",
   "language": "python",
   "name": "python3"
  },
  "language_info": {
   "codemirror_mode": {
    "name": "ipython",
    "version": 3
   },
   "file_extension": ".py",
   "mimetype": "text/x-python",
   "name": "python",
   "nbconvert_exporter": "python",
   "pygments_lexer": "ipython3",
   "version": "3.12.7"
  }
 },
 "nbformat": 4,
 "nbformat_minor": 2
}
