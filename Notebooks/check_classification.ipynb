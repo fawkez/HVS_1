{
 "cells": [
  {
   "cell_type": "code",
   "execution_count": 1,
   "metadata": {},
   "outputs": [],
   "source": [
    "import pandas as pd\n",
    "import numpy as np\n",
    "import matplotlib.pyplot as plt\n",
    "import seaborn as sns\n",
    "import healpy as hp"
   ]
  },
  {
   "cell_type": "code",
   "execution_count": 41,
   "metadata": {},
   "outputs": [],
   "source": [
    "# Define the HEALPix pixel level and compute the total number of pixels\n",
    "healpix_level = 4\n",
    "nside = 2 ** healpix_level\n",
    "npix = hp.nside2npix(nside)\n"
   ]
  },
  {
   "cell_type": "code",
   "execution_count": 180,
   "metadata": {},
   "outputs": [],
   "source": [
    "processed_files = 0"
   ]
  },
  {
   "cell_type": "code",
   "execution_count": 181,
   "metadata": {},
   "outputs": [],
   "source": [
    "# read processed files\n",
    "with open('/Users/mncavieres/Documents/2024-2/HVS/Data/candidates/processed_2') as f:\n",
    "    processed_files = f.readlines()\n",
    "processed_files = [x.split('  ') for x in processed_files]"
   ]
  },
  {
   "cell_type": "code",
   "execution_count": 182,
   "metadata": {},
   "outputs": [],
   "source": [
    "#processed_files.remove(['\\n'])#.remove([''])\n",
    "# remove everything that is not a number\n",
    "processed_files_list = [x for i in processed_files for x in i]"
   ]
  },
  {
   "cell_type": "code",
   "execution_count": 183,
   "metadata": {},
   "outputs": [],
   "source": [
    "processed_files_clean = []\n",
    "for i in processed_files_list:\n",
    "    # remove everything that is not a number from the string i\n",
    "    i = ''.join(filter(str.isdigit, i))\n",
    "    if i:  # check if i is not an empty string\n",
    "        #print(int(i))\n",
    "        processed_files_clean.append(int(i))"
   ]
  },
  {
   "cell_type": "code",
   "execution_count": 184,
   "metadata": {},
   "outputs": [],
   "source": [
    "# make a list of every healpix pixel level 4 that is not in processed_files_clean\n",
    "all_files = list(range(npix))\n",
    "to_process = [x for x in all_files if x not in processed_files_clean]"
   ]
  },
  {
   "cell_type": "code",
   "execution_count": 185,
   "metadata": {},
   "outputs": [
    {
     "data": {
      "text/plain": [
       "2"
      ]
     },
     "execution_count": 185,
     "metadata": {},
     "output_type": "execute_result"
    }
   ],
   "source": [
    "len(to_process)"
   ]
  },
  {
   "cell_type": "code",
   "execution_count": 186,
   "metadata": {},
   "outputs": [],
   "source": [
    "import os"
   ]
  },
  {
   "cell_type": "code",
   "execution_count": 187,
   "metadata": {},
   "outputs": [],
   "source": [
    "for left_to_process in to_process:\n",
    "    finished = os.listdir('/Users/mncavieres/Documents/2024-2/HVS/Data/candidates/candidates_50_v2')\n",
    "    file_name = f'candidates_{left_to_process}.fits'\n",
    "    if file_name in finished:\n",
    "        print(f'{file_name} already processed')\n",
    "        continue"
   ]
  },
  {
   "cell_type": "code",
   "execution_count": 188,
   "metadata": {},
   "outputs": [
    {
     "data": {
      "text/plain": [
       "2"
      ]
     },
     "execution_count": 188,
     "metadata": {},
     "output_type": "execute_result"
    }
   ],
   "source": [
    "len(to_process)"
   ]
  },
  {
   "cell_type": "code",
   "execution_count": 189,
   "metadata": {},
   "outputs": [
    {
     "data": {
      "text/plain": [
       "[1831, 2633]"
      ]
     },
     "execution_count": 189,
     "metadata": {},
     "output_type": "execute_result"
    }
   ],
   "source": [
    "to_process"
   ]
  },
  {
   "cell_type": "code",
   "execution_count": 190,
   "metadata": {},
   "outputs": [],
   "source": [
    "# save to_process to a csv\n",
    "to_process = pd.DataFrame(to_process)\n",
    "to_process.to_csv('/Users/mncavieres/Documents/2024-2/HVS/Data/candidates/to_process.csv', index=False)"
   ]
  },
  {
   "cell_type": "code",
   "execution_count": 191,
   "metadata": {},
   "outputs": [],
   "source": [
    "work_to_do = pd.read_csv('/Users/mncavieres/Documents/2024-2/HVS/Data/candidates/to_process.csv')"
   ]
  },
  {
   "cell_type": "code",
   "execution_count": 79,
   "metadata": {},
   "outputs": [
    {
     "data": {
      "text/plain": [
       "array([ 902, 1793, 1797, 1798, 1799, 1805, 1806, 1807, 1817, 1825, 1828,\n",
       "       1829, 1830, 1831, 1873, 1886, 1889, 1893, 1894, 1897, 1900, 1903,\n",
       "       1910, 1913, 1917, 1921, 1924, 1925, 1967, 1972, 1975, 1982, 1985,\n",
       "       1990, 1997, 1998, 1999, 2006, 2009, 2014, 2015, 2021, 2062, 2065,\n",
       "       2069, 2070, 2081, 2085, 2086, 2087, 2093, 2094, 2095, 2105, 2113,\n",
       "       2116, 2153, 2158, 2161, 2167, 2174, 2177, 2181, 2182, 2185, 2188,\n",
       "       2191, 2198, 2201, 2205, 2239, 2254, 2255, 2257, 2260, 2263, 2270,\n",
       "       2273, 2278, 2285, 2286, 2287, 2294, 2297, 2333, 2349, 2350, 2351,\n",
       "       2353, 2357, 2358, 2369, 2373, 2374, 2375, 2381, 2382, 2383, 2428,\n",
       "       2430, 2441, 2445, 2446, 2449, 2455, 2462, 2465, 2469, 2470, 2473,\n",
       "       2476, 2479, 2521, 2525, 2527, 2534, 2542, 2543, 2545, 2548, 2551,\n",
       "       2558, 2561, 2566, 2573, 2574, 2591, 2614, 2615, 2617, 2621, 2633,\n",
       "       2637, 2638, 2639, 2641, 2645, 2646, 2657, 2661, 2662, 2663, 2689,\n",
       "       2705, 2709, 2713, 2716, 2717, 2718, 2729, 2733, 2734, 2737, 2743,\n",
       "       2750, 2753, 2757, 2758, 2777, 2791, 2806, 2807, 2809, 2812, 2813,\n",
       "       2815, 2822, 2830, 2831, 2833, 2836, 2839, 2846, 2849, 2870, 2886,\n",
       "       2887, 2894, 2902, 2903, 2905, 2909, 2921, 2925, 2926, 2927, 2929,\n",
       "       2933, 2934, 2945, 2958, 2981, 2982, 2983, 2993, 2997, 3001, 3004,\n",
       "       3005, 3006, 3017, 3021, 3022, 3025, 3031, 3038, 3052])"
      ]
     },
     "execution_count": 79,
     "metadata": {},
     "output_type": "execute_result"
    }
   ],
   "source": [
    "work_to_do['0'].values"
   ]
  },
  {
   "cell_type": "code",
   "execution_count": 171,
   "metadata": {},
   "outputs": [],
   "source": [
    "# load first run\n",
    "first_run = Table.read('/Users/mncavieres/Documents/2024-2/HVS/Data/candidates/all_candidates.fits')#pd.read_csv('/Users/mncavieres/Documents/2024-2/HVS/Data/candidates/first_run.csv')\n",
    "\n"
   ]
  },
  {
   "cell_type": "code",
   "execution_count": 173,
   "metadata": {},
   "outputs": [],
   "source": [
    "# compute 3d velocity by first transforming to galactocentric cartesian and then computing the modulus of the velocity vectior\n",
    "from astropy.coordinates import SkyCoord, Galactocentric\n",
    "from astropy import units as u\n",
    "\n",
    "gc = Galactocentric()\n",
    "coords = SkyCoord(first_run['ra']*u.deg, first_run['dec']*u.deg, distance=first_run['implied_distance']*u.pc,\n",
    "                  pm_ra_cosdec=first_run['pmra']*u.mas/u.yr, pm_dec=first_run['pmdec']*u.mas/u.yr, radial_velocity=first_run['VR']*u.km/u.s) "
   ]
  },
  {
   "cell_type": "code",
   "execution_count": 172,
   "metadata": {},
   "outputs": [
    {
     "ename": "AttributeError",
     "evalue": "'Column' object has no attribute 'values'",
     "output_type": "error",
     "traceback": [
      "\u001b[0;31m---------------------------------------------------------------------------\u001b[0m",
      "\u001b[0;31mAttributeError\u001b[0m                            Traceback (most recent call last)",
      "Cell \u001b[0;32mIn[172], line 6\u001b[0m\n\u001b[1;32m      3\u001b[0m \u001b[38;5;28;01mfrom\u001b[39;00m \u001b[38;5;21;01mastropy\u001b[39;00m \u001b[38;5;28;01mimport\u001b[39;00m units \u001b[38;5;28;01mas\u001b[39;00m u\n\u001b[1;32m      5\u001b[0m gc \u001b[38;5;241m=\u001b[39m Galactocentric()\n\u001b[0;32m----> 6\u001b[0m coords \u001b[38;5;241m=\u001b[39m SkyCoord(\u001b[43mfirst_run\u001b[49m\u001b[43m[\u001b[49m\u001b[38;5;124;43m'\u001b[39;49m\u001b[38;5;124;43mra\u001b[39;49m\u001b[38;5;124;43m'\u001b[39;49m\u001b[43m]\u001b[49m\u001b[38;5;241;43m.\u001b[39;49m\u001b[43mvalues\u001b[49m\u001b[38;5;241m*\u001b[39mu\u001b[38;5;241m.\u001b[39mdeg, first_run[\u001b[38;5;124m'\u001b[39m\u001b[38;5;124mdec\u001b[39m\u001b[38;5;124m'\u001b[39m]\u001b[38;5;241m.\u001b[39mvalues\u001b[38;5;241m*\u001b[39mu\u001b[38;5;241m.\u001b[39mdeg, distance\u001b[38;5;241m=\u001b[39mfirst_run[\u001b[38;5;124m'\u001b[39m\u001b[38;5;124mimplied_distance\u001b[39m\u001b[38;5;124m'\u001b[39m]\u001b[38;5;241m.\u001b[39mvalues\u001b[38;5;241m*\u001b[39mu\u001b[38;5;241m.\u001b[39mpc,\n\u001b[1;32m      7\u001b[0m                   pm_ra_cosdec\u001b[38;5;241m=\u001b[39mfirst_run[\u001b[38;5;124m'\u001b[39m\u001b[38;5;124mpmra\u001b[39m\u001b[38;5;124m'\u001b[39m]\u001b[38;5;241m.\u001b[39mvalues\u001b[38;5;241m*\u001b[39mu\u001b[38;5;241m.\u001b[39mmas\u001b[38;5;241m/\u001b[39mu\u001b[38;5;241m.\u001b[39myr, pm_dec\u001b[38;5;241m=\u001b[39mfirst_run[\u001b[38;5;124m'\u001b[39m\u001b[38;5;124mpmdec\u001b[39m\u001b[38;5;124m'\u001b[39m]\u001b[38;5;241m.\u001b[39mvalues\u001b[38;5;241m*\u001b[39mu\u001b[38;5;241m.\u001b[39mmas\u001b[38;5;241m/\u001b[39mu\u001b[38;5;241m.\u001b[39myr, radial_velocity\u001b[38;5;241m=\u001b[39mfirst_run[\u001b[38;5;124m'\u001b[39m\u001b[38;5;124mVR\u001b[39m\u001b[38;5;124m'\u001b[39m]\u001b[38;5;241m.\u001b[39mvalues\u001b[38;5;241m*\u001b[39mu\u001b[38;5;241m.\u001b[39mkm\u001b[38;5;241m/\u001b[39mu\u001b[38;5;241m.\u001b[39ms) \n",
      "\u001b[0;31mAttributeError\u001b[0m: 'Column' object has no attribute 'values'"
     ]
    }
   ],
   "source": [
    "# # compute 3d velocity by first transforming to galactocentric cartesian and then computing the modulus of the velocity vectior\n",
    "# from astropy.coordinates import SkyCoord, Galactocentric\n",
    "# from astropy import units as u\n",
    "\n",
    "# gc = Galactocentric()\n",
    "# coords = SkyCoord(first_run['ra'].values*u.deg, first_run['dec'].values*u.deg, distance=first_run['implied_distance'].values*u.pc,\n",
    "#                   pm_ra_cosdec=first_run['pmra'].values*u.mas/u.yr, pm_dec=first_run['pmdec'].values*u.mas/u.yr, radial_velocity=first_run['VR'].values*u.km/u.s) "
   ]
  },
  {
   "cell_type": "code",
   "execution_count": 174,
   "metadata": {},
   "outputs": [],
   "source": [
    "coords_galactocentric = coords.transform_to(gc)"
   ]
  },
  {
   "cell_type": "code",
   "execution_count": 175,
   "metadata": {},
   "outputs": [],
   "source": [
    "x, y, z, vx, vy, vz = coords_galactocentric.x, coords_galactocentric.y, coords_galactocentric.z, coords_galactocentric.v_x, coords_galactocentric.v_y, coords_galactocentric.v_z"
   ]
  },
  {
   "cell_type": "code",
   "execution_count": 176,
   "metadata": {},
   "outputs": [],
   "source": [
    "velocity_total = np.sqrt(vx**2 + vy**2 + vz**2)"
   ]
  },
  {
   "cell_type": "code",
   "execution_count": 177,
   "metadata": {},
   "outputs": [],
   "source": [
    "first_run['3d_velocity'] = velocity_total\n",
    "first_run['x'] = x\n",
    "first_run['y'] = y\n",
    "first_run['z'] = z\n",
    "first_run['vx'] = vx\n",
    "first_run['vy'] = vy\n",
    "first_run['vz'] = vz\n"
   ]
  },
  {
   "cell_type": "code",
   "execution_count": 137,
   "metadata": {},
   "outputs": [],
   "source": [
    "from astropy.table import Table"
   ]
  },
  {
   "cell_type": "code",
   "execution_count": 179,
   "metadata": {},
   "outputs": [],
   "source": [
    "first_run.write('/Users/mncavieres/Documents/2024-2/HVS/Data/candidates/all_candidates_with_velocity.fits', overwrite=True)"
   ]
  },
  {
   "cell_type": "code",
   "execution_count": 196,
   "metadata": {},
   "outputs": [],
   "source": [
    "candidates = Table.read('/Users/mncavieres/Documents/2024-2/HVS/Data/candidates/high_likelihood_candidates2.dat', format='ascii')"
   ]
  },
  {
   "cell_type": "code",
   "execution_count": 199,
   "metadata": {},
   "outputs": [],
   "source": [
    "candidates = Table.read('/Users/mncavieres/Documents/2024-2/HVS/Data/candidates/high_likelihood_candidates.dat', format='ascii')"
   ]
  },
  {
   "cell_type": "code",
   "execution_count": 200,
   "metadata": {},
   "outputs": [
    {
     "data": {
      "text/html": [
       "<div><i>Table length=488</i>\n",
       "<table id=\"table6547424032\" class=\"table-striped table-bordered table-condensed\">\n",
       "<thead><tr><th>col1</th><th>col2</th><th>col3</th></tr></thead>\n",
       "<thead><tr><th>int64</th><th>float64</th><th>float64</th></tr></thead>\n",
       "<tr><td>3519228788535778176</td><td>183.3312353995936</td><td>-18.076000678578016</td></tr>\n",
       "<tr><td>3215231248139929216</td><td>79.35198278625761</td><td>-1.1496835330325736</td></tr>\n",
       "<tr><td>4203086469406294144</td><td>282.2677426198415</td><td>-10.040093666728527</td></tr>\n",
       "<tr><td>3353379695848965504</td><td>104.0138829819836</td><td>13.616277696325136</td></tr>\n",
       "<tr><td>5774843632691792512</td><td>246.4167874691072</td><td>-81.72772417123953</td></tr>\n",
       "<tr><td>6097980758553306240</td><td>218.66563232931205</td><td>-47.25680591159758</td></tr>\n",
       "<tr><td>6098149666722079360</td><td>219.75433455857737</td><td>-45.9799651907169</td></tr>\n",
       "<tr><td>6099772064847615744</td><td>220.3096481703587</td><td>-43.146178885663645</td></tr>\n",
       "<tr><td>5230980960610541568</td><td>164.7423554873834</td><td>-71.60675263557779</td></tr>\n",
       "<tr><td>...</td><td>...</td><td>...</td></tr>\n",
       "<tr><td>5436128840854050816</td><td>142.81906426773864</td><td>-37.76860431330691</td></tr>\n",
       "<tr><td>4500957677026753024</td><td>267.79388726340125</td><td>15.55902825280101</td></tr>\n",
       "<tr><td>6448483070948758912</td><td>296.7390632279129</td><td>-56.82573908039287</td></tr>\n",
       "<tr><td>5781510044705459712</td><td>239.98378479904326</td><td>-76.4565618082852</td></tr>\n",
       "<tr><td>5400067603941805824</td><td>166.59426230466707</td><td>-36.965508898260296</td></tr>\n",
       "<tr><td>5995002178822311040</td><td>241.38631218560403</td><td>-42.29469274608568</td></tr>\n",
       "<tr><td>4051372590931569024</td><td>274.4950192277899</td><td>-28.395778310698393</td></tr>\n",
       "<tr><td>4051405851043451520</td><td>274.8647422714644</td><td>-28.165131611819753</td></tr>\n",
       "<tr><td>5906566293932585472</td><td>224.43418872136525</td><td>-47.2643411188241</td></tr>\n",
       "<tr><td>5906675042502053376</td><td>226.19146822943202</td><td>-46.424901366841205</td></tr>\n",
       "</table></div>"
      ],
      "text/plain": [
       "<Table length=488>\n",
       "        col1               col2                col3       \n",
       "       int64             float64             float64      \n",
       "------------------- ------------------ -------------------\n",
       "3519228788535778176  183.3312353995936 -18.076000678578016\n",
       "3215231248139929216  79.35198278625761 -1.1496835330325736\n",
       "4203086469406294144  282.2677426198415 -10.040093666728527\n",
       "3353379695848965504  104.0138829819836  13.616277696325136\n",
       "5774843632691792512  246.4167874691072  -81.72772417123953\n",
       "6097980758553306240 218.66563232931205  -47.25680591159758\n",
       "6098149666722079360 219.75433455857737   -45.9799651907169\n",
       "6099772064847615744  220.3096481703587 -43.146178885663645\n",
       "5230980960610541568  164.7423554873834  -71.60675263557779\n",
       "                ...                ...                 ...\n",
       "5436128840854050816 142.81906426773864  -37.76860431330691\n",
       "4500957677026753024 267.79388726340125   15.55902825280101\n",
       "6448483070948758912  296.7390632279129  -56.82573908039287\n",
       "5781510044705459712 239.98378479904326   -76.4565618082852\n",
       "5400067603941805824 166.59426230466707 -36.965508898260296\n",
       "5995002178822311040 241.38631218560403  -42.29469274608568\n",
       "4051372590931569024  274.4950192277899 -28.395778310698393\n",
       "4051405851043451520  274.8647422714644 -28.165131611819753\n",
       "5906566293932585472 224.43418872136525   -47.2643411188241\n",
       "5906675042502053376 226.19146822943202 -46.424901366841205"
      ]
     },
     "execution_count": 200,
     "metadata": {},
     "output_type": "execute_result"
    },
    {
     "ename": "",
     "evalue": "",
     "output_type": "error",
     "traceback": [
      "\u001b[1;31mThe Kernel crashed while executing code in the current cell or a previous cell. \n",
      "\u001b[1;31mPlease review the code in the cell(s) to identify a possible cause of the failure. \n",
      "\u001b[1;31mClick <a href='https://aka.ms/vscodeJupyterKernelCrash'>here</a> for more info. \n",
      "\u001b[1;31mView Jupyter <a href='command:jupyter.viewOutput'>log</a> for further details."
     ]
    }
   ],
   "source": [
    "candidates"
   ]
  },
  {
   "cell_type": "code",
   "execution_count": 195,
   "metadata": {},
   "outputs": [],
   "source": [
    "# round off ra and dec to 3 decimal places\n",
    "#candidates['ra'] = np.round(candidates['ra'], 3)\n",
    "#candidates['dec'] = np.round(candidates['dec'], 3)\n",
    "\n",
    "\n",
    "# select candidates that can be observed in the southern hemisphere\n",
    "candidates = candidates[candidates['dec'] < 0]\n",
    "\n",
    "\n",
    "candidates.write('/Users/mncavieres/Documents/2024-2/HVS/Data/candidates/high_likelihood_candidates3.dat', format='ascii.no_header', overwrite=True)"
   ]
  },
  {
   "cell_type": "code",
   "execution_count": null,
   "metadata": {},
   "outputs": [],
   "source": []
  }
 ],
 "metadata": {
  "kernelspec": {
   "display_name": "speedytest2",
   "language": "python",
   "name": "python3"
  },
  "language_info": {
   "codemirror_mode": {
    "name": "ipython",
    "version": 3
   },
   "file_extension": ".py",
   "mimetype": "text/x-python",
   "name": "python",
   "nbconvert_exporter": "python",
   "pygments_lexer": "ipython3",
   "version": "3.12.7"
  }
 },
 "nbformat": 4,
 "nbformat_minor": 2
}
