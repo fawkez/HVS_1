{
 "cells": [
  {
   "cell_type": "markdown",
   "metadata": {},
   "source": [
    "# Tutorial for speedystar"
   ]
  },
  {
   "cell_type": "code",
   "execution_count": 1,
   "metadata": {},
   "outputs": [],
   "source": [
    "from galpy.potential.mwpotentials import McMillan17\n",
    "import astropy.units as u\n",
    "import numpy as np"
   ]
  },
  {
   "cell_type": "markdown",
   "metadata": {},
   "source": [
    "Define an ejection model, i. e. the ejection mechanisms and associated assumptions. By default only stars ejected up to 100 Myr in the past are generated. This can be changed in the arguments. Arguments can also change the default initial mass function slope as well as the stellar binary mass ratio and log-period distribution slopes, see documentation.\n"
   ]
  },
  {
   "cell_type": "code",
   "execution_count": 2,
   "metadata": {},
   "outputs": [],
   "source": [
    "import speedystar\n",
    "ejmodel = speedystar.eject.Hills()"
   ]
  },
  {
   "cell_type": "markdown",
   "metadata": {},
   "source": [
    "Create an ejection sample. Masses, velocities, ages, flight times, luminosities, radii and evolutionary stages are assigned/computed for each ejected star and become attributes to mysample:"
   ]
  },
  {
   "cell_type": "code",
   "execution_count": 3,
   "metadata": {},
   "outputs": [
    {
     "name": "stdout",
     "output_type": "stream",
     "text": [
      "Getting primary star maximum lifetime\n"
     ]
    },
    {
     "name": "stderr",
     "output_type": "stream",
     "text": [
      "100%|██████████| 845/845 [00:00<00:00, 2279.35it/s]\n"
     ]
    },
    {
     "name": "stdout",
     "output_type": "stream",
     "text": [
      "Getting HVS maximum lifetime\n"
     ]
    },
    {
     "name": "stderr",
     "output_type": "stream",
     "text": [
      "100%|██████████| 275/275 [00:00<00:00, 2268.70it/s]\n"
     ]
    },
    {
     "name": "stdout",
     "output_type": "stream",
     "text": [
      "Evolving stars...\n"
     ]
    },
    {
     "name": "stderr",
     "output_type": "stream",
     "text": [
      "  0%|          | 0/51 [00:00<?, ?it/s]"
     ]
    },
    {
     "name": "stdout",
     "output_type": "stream",
     "text": [
      "/Users/mncavieres/opt/anaconda3/envs/speedytest2/lib/python3.12/site-packages/amuse/rfi/core.py:964: UserWarning: MPI (unexpectedly?) not available, falling back to sockets channel\n",
      "  warnings.warn(\"MPI (unexpectedly?) not available, falling back to sockets channel\")\n",
      "\n"
     ]
    },
    {
     "name": "stderr",
     "output_type": "stream",
     "text": [
      "100%|██████████| 51/51 [00:28<00:00,  1.82it/s]\n"
     ]
    }
   ],
   "source": [
    "mysample = speedystar.starsample(ejmodel)"
   ]
  },
  {
   "cell_type": "markdown",
   "metadata": {},
   "source": [
    "Define a Galactic potential and propagate the fast star sample through the Galaxy. Equatorial (position, proper motion, radial velocity, heliocentric distance, parallax) and Galactocentric Cartesian (x, y, z, vx, vy, vz) are computed and become attributes to mysample. Default orbital integration timestep is 0.1 Myr.\n",
    "Note astropy-units must be set to True in ~/.galpyrc and the assumed potential must be either defined in physical units or 'physicalized' with .turn_physical_on(), see galpy explanation."
   ]
  },
  {
   "cell_type": "code",
   "execution_count": 4,
   "metadata": {},
   "outputs": [],
   "source": [
    " idx = (mysample.m >= 2*u.Msun)\n",
    " mysample.subsample(np.where(idx)[0])"
   ]
  },
  {
   "cell_type": "code",
   "execution_count": 5,
   "metadata": {},
   "outputs": [
    {
     "name": "stdout",
     "output_type": "stream",
     "text": [
      "Propagating...\n"
     ]
    },
    {
     "name": "stderr",
     "output_type": "stream",
     "text": [
      "  0%|          | 0/71 [00:00<?, ?it/s]"
     ]
    },
    {
     "name": "stderr",
     "output_type": "stream",
     "text": [
      "100%|██████████| 71/71 [00:04<00:00, 15.73it/s]\n"
     ]
    }
   ],
   "source": [
    "mysample.propagate(potential=McMillan17)"
   ]
  },
  {
   "cell_type": "markdown",
   "metadata": {},
   "source": [
    "Obtain mock observations of each ejected star. Apparent magnitudes in the Johnson-Cousins V, Ic and Gaia G, GBP, GRP and GRVS bands are computed by default and become attributes to mysample. Optionally, magnitudes in other photometric systems can be computed as well, see documentation. Computing apparent magnitudes requires a DustMap object (see mwdust or the speedystar.starsample.fetch_dust() docstring). Gaia DR4 astrometric and radial velocity errors are computed by default as well. "
   ]
  },
  {
   "cell_type": "code",
   "execution_count": 6,
   "metadata": {},
   "outputs": [],
   "source": [
    "from astropy.coordinates import SkyCoord\n",
    "from dustmaps.sfd import SFDQuery\n",
    "from dustmaps.bayestar import BayestarQuery\n",
    "from dustmaps.bayestar import fetch as bayestar_fetch\n",
    "from dustmaps.sfd import fetch as sfd_fetch"
   ]
  },
  {
   "cell_type": "code",
   "execution_count": 7,
   "metadata": {},
   "outputs": [],
   "source": [
    "sfd_path = '/Users/mncavieres/Documents/2024-2/HVS/mwdustmaps/.mwdust/green15/dust-map-3d.h5'"
   ]
  },
  {
   "cell_type": "code",
   "execution_count": 8,
   "metadata": {},
   "outputs": [],
   "source": [
    "mysample.config_dust(sfd_path)"
   ]
  },
  {
   "cell_type": "code",
   "execution_count": 9,
   "metadata": {},
   "outputs": [],
   "source": [
    "mysample.save('/Users/mncavieres/Documents/2024-2/HVS/speedystar/samples.fits')"
   ]
  },
  {
   "cell_type": "code",
   "execution_count": 10,
   "metadata": {},
   "outputs": [
    {
     "name": "stdout",
     "output_type": "stream",
     "text": [
      "/Users/mncavieres/opt/anaconda3/envs/speedytest2/lib/python3.12/site-packages/speedystar/utils/MIST_photometry.py:556: SyntaxWarning: invalid escape sequence '\\d'\n",
      "  '''\n",
      "\n",
      "/Users/mncavieres/opt/anaconda3/envs/speedytest2/lib/python3.12/site-packages/speedystar/utils/MIST_photometry.py:934: SyntaxWarning: invalid escape sequence '\\d'\n",
      "  '''\n",
      "\n",
      "/Users/mncavieres/opt/anaconda3/envs/speedytest2/lib/python3.12/site-packages/speedystar/utils/MIST_photometry.py:27: UserWarning: Input line 1 contained no data and will not be counted towards `max_rows=50000`.  This differs from the behaviour in NumPy <=1.22 which counted lines rather than rows.  If desired, the previous behaviour can be achieved by using `itertools.islice`.\n",
      "Please see the 1.23 release notes for an example on how to do this.  If you wish to ignore this warning, use `warnings.filterwarnings`.  This warning is expected to be removed in the future and is given only once per `loadtxt` call.\n",
      "  = np.loadtxt(spectrum_datap00, dtype = 'str', unpack=True)\n",
      "\n",
      "/Users/mncavieres/opt/anaconda3/envs/speedytest2/lib/python3.12/site-packages/speedystar/utils/MIST_photometry.py:34: UserWarning: Input line 1 contained no data and will not be counted towards `max_rows=50000`.  This differs from the behaviour in NumPy <=1.22 which counted lines rather than rows.  If desired, the previous behaviour can be achieved by using `itertools.islice`.\n",
      "Please see the 1.23 release notes for an example on how to do this.  If you wish to ignore this warning, use `warnings.filterwarnings`.  This warning is expected to be removed in the future and is given only once per `loadtxt` call.\n",
      "  = np.loadtxt(spectrum_datam025, dtype = 'str', unpack=True)\n",
      "\n",
      "/Users/mncavieres/opt/anaconda3/envs/speedytest2/lib/python3.12/site-packages/speedystar/utils/MIST_photometry.py:41: UserWarning: Input line 1 contained no data and will not be counted towards `max_rows=50000`.  This differs from the behaviour in NumPy <=1.22 which counted lines rather than rows.  If desired, the previous behaviour can be achieved by using `itertools.islice`.\n",
      "Please see the 1.23 release notes for an example on how to do this.  If you wish to ignore this warning, use `warnings.filterwarnings`.  This warning is expected to be removed in the future and is given only once per `loadtxt` call.\n",
      "  = np.loadtxt(spectrum_datap025, dtype = 'str', unpack=True)\n",
      "\n",
      "Photometry: calculating dust extinction...\n"
     ]
    },
    {
     "name": "stderr",
     "output_type": "stream",
     "text": [
      "  0%|          | 0/6 [00:00<?, ?it/s]"
     ]
    },
    {
     "name": "stdout",
     "output_type": "stream",
     "text": [
      "Photometry: calculating V...\n"
     ]
    },
    {
     "name": "stderr",
     "output_type": "stream",
     "text": [
      " 33%|███▎      | 2/6 [00:01<00:02,  1.35it/s]"
     ]
    },
    {
     "name": "stdout",
     "output_type": "stream",
     "text": [
      "Photometry: calculating I...\n"
     ]
    },
    {
     "name": "stderr",
     "output_type": "stream",
     "text": [
      " 50%|█████     | 3/6 [00:02<00:03,  1.06s/it]"
     ]
    },
    {
     "name": "stdout",
     "output_type": "stream",
     "text": [
      "Photometry: calculating Gaia G...\n"
     ]
    },
    {
     "name": "stderr",
     "output_type": "stream",
     "text": [
      " 67%|██████▋   | 4/6 [00:04<00:02,  1.25s/it]"
     ]
    },
    {
     "name": "stdout",
     "output_type": "stream",
     "text": [
      "Photometry: calculating Gaia G_RP...\n"
     ]
    },
    {
     "name": "stderr",
     "output_type": "stream",
     "text": [
      " 83%|████████▎ | 5/6 [00:06<00:01,  1.32s/it]"
     ]
    },
    {
     "name": "stdout",
     "output_type": "stream",
     "text": [
      "Photometry: calculating Gaia G_BP...\n"
     ]
    },
    {
     "name": "stderr",
     "output_type": "stream",
     "text": [
      "100%|██████████| 6/6 [00:07<00:00,  1.34s/it]"
     ]
    },
    {
     "name": "stdout",
     "output_type": "stream",
     "text": [
      "Photometry: calculating Gaia G_RVS...\n",
      "/Users/mncavieres/opt/anaconda3/envs/speedytest2/lib/python3.12/site-packages/speedystar/utils/MIST_photometry.py:556: SyntaxWarning: invalid escape sequence '\\d'\n",
      "  '''\n",
      "\n",
      "/Users/mncavieres/opt/anaconda3/envs/speedytest2/lib/python3.12/site-packages/speedystar/utils/MIST_photometry.py:934: SyntaxWarning: invalid escape sequence '\\d'\n",
      "  '''\n",
      "\n"
     ]
    },
    {
     "ename": "UFuncTypeError",
     "evalue": "ufunc 'greater_equal' did not contain a loop with signature matching types (<class 'numpy.dtypes.StrDType'>, <class 'numpy.dtypes._PyLongDType'>) -> None",
     "output_type": "error",
     "traceback": [
      "\u001b[0;31m---------------------------------------------------------------------------\u001b[0m",
      "\u001b[0;31mUFuncTypeError\u001b[0m                            Traceback (most recent call last)",
      "Cell \u001b[0;32mIn[10], line 1\u001b[0m\n\u001b[0;32m----> 1\u001b[0m \u001b[43mmysample\u001b[49m\u001b[38;5;241;43m.\u001b[39;49m\u001b[43mphotometry\u001b[49m\u001b[43m(\u001b[49m\u001b[43m)\u001b[49m\n",
      "File \u001b[0;32m~/opt/anaconda3/envs/speedytest2/lib/python3.12/site-packages/speedystar/observation.py:108\u001b[0m, in \u001b[0;36mphotometry\u001b[0;34m(self, bands, errors)\u001b[0m\n\u001b[1;32m    105\u001b[0m \u001b[38;5;28;01mif\u001b[39;00m \u001b[38;5;28mlen\u001b[39m(l) \u001b[38;5;241m!=\u001b[39m \u001b[38;5;28mlen\u001b[39m(b):\n\u001b[1;32m    106\u001b[0m     \u001b[38;5;28;01mraise\u001b[39;00m \u001b[38;5;167;01mValueError\u001b[39;00m(__IncorrectCoordinatesError__)\n\u001b[0;32m--> 108\u001b[0m \u001b[38;5;28mself\u001b[39m\u001b[38;5;241m.\u001b[39mAv, Mags, errs \u001b[38;5;241m=\u001b[39m \u001b[43mget_Mags\u001b[49m\u001b[43m(\u001b[49m\u001b[38;5;28;43mself\u001b[39;49m\u001b[38;5;241;43m.\u001b[39;49m\u001b[43mAv\u001b[49m\u001b[43m,\u001b[49m\u001b[43m \u001b[49m\u001b[38;5;28;43mself\u001b[39;49m\u001b[38;5;241;43m.\u001b[39;49m\u001b[43mdist\u001b[49m\u001b[38;5;241;43m.\u001b[39;49m\u001b[43mto\u001b[49m\u001b[43m(\u001b[49m\u001b[38;5;124;43m'\u001b[39;49m\u001b[38;5;124;43mkpc\u001b[39;49m\u001b[38;5;124;43m'\u001b[39;49m\u001b[43m)\u001b[49m\u001b[38;5;241;43m.\u001b[39;49m\u001b[43mvalue\u001b[49m\u001b[43m,\u001b[49m\u001b[43m \u001b[49m\n\u001b[1;32m    109\u001b[0m \u001b[43m                              \u001b[49m\u001b[43ml\u001b[49m\u001b[43m,\u001b[49m\u001b[43m \u001b[49m\u001b[43mb\u001b[49m\u001b[43m,\u001b[49m\u001b[43m \u001b[49m\u001b[38;5;28;43mself\u001b[39;49m\u001b[38;5;241;43m.\u001b[39;49m\u001b[43mm\u001b[49m\u001b[38;5;241;43m.\u001b[39;49m\u001b[43mto\u001b[49m\u001b[43m(\u001b[49m\u001b[38;5;124;43m'\u001b[39;49m\u001b[38;5;124;43mMsun\u001b[39;49m\u001b[38;5;124;43m'\u001b[39;49m\u001b[43m)\u001b[49m\u001b[38;5;241;43m.\u001b[39;49m\u001b[43mvalue\u001b[49m\u001b[43m,\u001b[49m\u001b[43m \u001b[49m\u001b[38;5;28;43mself\u001b[39;49m\u001b[38;5;241;43m.\u001b[39;49m\u001b[43mmet\u001b[49m\u001b[43m,\u001b[49m\u001b[43m \u001b[49m\n\u001b[1;32m    110\u001b[0m \u001b[43m                              \u001b[49m\u001b[38;5;28;43mself\u001b[39;49m\u001b[38;5;241;43m.\u001b[39;49m\u001b[43mT_eff\u001b[49m\u001b[38;5;241;43m.\u001b[39;49m\u001b[43mvalue\u001b[49m\u001b[43m,\u001b[49m\u001b[43m \u001b[49m\u001b[38;5;28;43mself\u001b[39;49m\u001b[38;5;241;43m.\u001b[39;49m\u001b[43mRad\u001b[49m\u001b[38;5;241;43m.\u001b[39;49m\u001b[43mvalue\u001b[49m\u001b[43m,\u001b[49m\u001b[43m \u001b[49m\n\u001b[1;32m    111\u001b[0m \u001b[43m                              \u001b[49m\u001b[38;5;28;43mself\u001b[39;49m\u001b[38;5;241;43m.\u001b[39;49m\u001b[43mLum\u001b[49m\u001b[38;5;241;43m.\u001b[39;49m\u001b[43mvalue\u001b[49m\u001b[43m,\u001b[49m\u001b[43m \u001b[49m\u001b[43mdustmap\u001b[49m\u001b[43m,\u001b[49m\u001b[43m \u001b[49m\u001b[43mbands\u001b[49m\u001b[43m,\u001b[49m\u001b[43m \u001b[49m\u001b[43merrors\u001b[49m\u001b[43m)\u001b[49m\n\u001b[1;32m    113\u001b[0m \u001b[38;5;66;03m#Sets attributes\u001b[39;00m\n\u001b[1;32m    114\u001b[0m \u001b[38;5;28;01mfor\u001b[39;00m band \u001b[38;5;129;01min\u001b[39;00m bands:\n",
      "File \u001b[0;32m~/opt/anaconda3/envs/speedytest2/lib/python3.12/site-packages/speedystar/utils/MIST_photometry.py:1303\u001b[0m, in \u001b[0;36mget_Mags\u001b[0;34m(av, r, l, b, M, Met, Teff, R, Lum, dust, bands, errors)\u001b[0m\n\u001b[1;32m   1299\u001b[0m         BC \u001b[38;5;241m=\u001b[39m get_V(T\u001b[38;5;241m.\u001b[39mvalue, logg, av, Met)\n\u001b[1;32m   1300\u001b[0m         VMag \u001b[38;5;241m=\u001b[39m MbolSun \u001b[38;5;241m-\u001b[39m \u001b[38;5;241m2.5\u001b[39m\u001b[38;5;241m*\u001b[39mnp\u001b[38;5;241m.\u001b[39mlog10(Lum\u001b[38;5;241m.\u001b[39mvalue) \u001b[38;5;241m-\u001b[39m BC \\\n\u001b[1;32m   1301\u001b[0m                 \u001b[38;5;241m+\u001b[39m dist_correction_Mag           \n\u001b[0;32m-> 1303\u001b[0m     errs[\u001b[38;5;124m'\u001b[39m\u001b[38;5;124me_vlos\u001b[39m\u001b[38;5;124m'\u001b[39m] \u001b[38;5;241m=\u001b[39m \u001b[43mget_e_vlos\u001b[49m\u001b[43m(\u001b[49m\u001b[43mVMag\u001b[49m\u001b[43m,\u001b[49m\u001b[43m \u001b[49m\u001b[43mT\u001b[49m\u001b[38;5;241;43m.\u001b[39;49m\u001b[43mvalue\u001b[49m\u001b[43m,\u001b[49m\u001b[43m \u001b[49m\u001b[43mlogg\u001b[49m\u001b[43m)\u001b[49m \n\u001b[1;32m   1305\u001b[0m \u001b[38;5;28;01mreturn\u001b[39;00m av, Mags, errs\n",
      "File \u001b[0;32m~/opt/anaconda3/envs/speedytest2/lib/python3.12/site-packages/speedystar/utils/MIST_photometry.py:74\u001b[0m, in \u001b[0;36mget_e_vlos\u001b[0;34m(V, T, logg)\u001b[0m\n\u001b[1;32m     71\u001b[0m \u001b[38;5;28;01mfor\u001b[39;00m i \u001b[38;5;129;01min\u001b[39;00m \u001b[38;5;28mrange\u001b[39m(\u001b[38;5;28mlen\u001b[39m(V)):\n\u001b[1;32m     72\u001b[0m     types[i] \u001b[38;5;241m=\u001b[39m startypes[np\u001b[38;5;241m.\u001b[39margmin(\u001b[38;5;28mabs\u001b[39m(T[i]\u001b[38;5;241m-\u001b[39mstartypetemps))]\n\u001b[0;32m---> 74\u001b[0m e_vlos \u001b[38;5;241m=\u001b[39m \u001b[43mvrad_error_sky_avg\u001b[49m\u001b[43m(\u001b[49m\u001b[43mV\u001b[49m\u001b[43m,\u001b[49m\u001b[43m \u001b[49m\u001b[43mtypes\u001b[49m\u001b[43m,\u001b[49m\u001b[43m \u001b[49m\u001b[43mlogg\u001b[49m\u001b[43m)\u001b[49m\n\u001b[1;32m     76\u001b[0m \u001b[38;5;28;01mreturn\u001b[39;00m e_vlos\n",
      "File \u001b[0;32m~/opt/anaconda3/envs/speedytest2/lib/python3.12/site-packages/pygaia/errors/spectroscopic.py:117\u001b[0m, in \u001b[0;36mradial_velocity_uncertainty\u001b[0;34m(grvs, teff, logg, release)\u001b[0m\n\u001b[1;32m    114\u001b[0m         rv_nb_transits \u001b[38;5;241m=\u001b[39m _rv_nb_transits_dr5\n\u001b[1;32m    116\u001b[0m \u001b[38;5;28;01mfor\u001b[39;00m group \u001b[38;5;129;01min\u001b[39;00m _rv_unc_model\u001b[38;5;241m.\u001b[39mkeys():\n\u001b[0;32m--> 117\u001b[0m     slots \u001b[38;5;241m=\u001b[39m \u001b[43m_in_interval\u001b[49m\u001b[43m(\u001b[49m\n\u001b[1;32m    118\u001b[0m \u001b[43m        \u001b[49m\u001b[43mtteff\u001b[49m\u001b[43m,\u001b[49m\n\u001b[1;32m    119\u001b[0m \u001b[43m        \u001b[49m\u001b[43m_rv_unc_model\u001b[49m\u001b[43m[\u001b[49m\u001b[43mgroup\u001b[49m\u001b[43m]\u001b[49m\u001b[43m[\u001b[49m\u001b[38;5;124;43m\"\u001b[39;49m\u001b[38;5;124;43mteff\u001b[39;49m\u001b[38;5;124;43m\"\u001b[39;49m\u001b[43m]\u001b[49m\u001b[43m[\u001b[49m\u001b[38;5;241;43m0\u001b[39;49m\u001b[43m]\u001b[49m\u001b[43m,\u001b[49m\n\u001b[1;32m    120\u001b[0m \u001b[43m        \u001b[49m\u001b[43m_rv_unc_model\u001b[49m\u001b[43m[\u001b[49m\u001b[43mgroup\u001b[49m\u001b[43m]\u001b[49m\u001b[43m[\u001b[49m\u001b[38;5;124;43m\"\u001b[39;49m\u001b[38;5;124;43mteff\u001b[39;49m\u001b[38;5;124;43m\"\u001b[39;49m\u001b[43m]\u001b[49m\u001b[43m[\u001b[49m\u001b[38;5;241;43m1\u001b[39;49m\u001b[43m]\u001b[49m\u001b[43m,\u001b[49m\n\u001b[1;32m    121\u001b[0m \u001b[43m        \u001b[49m\u001b[43m_rv_unc_model\u001b[49m\u001b[43m[\u001b[49m\u001b[43mgroup\u001b[49m\u001b[43m]\u001b[49m\u001b[43m[\u001b[49m\u001b[38;5;124;43m\"\u001b[39;49m\u001b[38;5;124;43mteff\u001b[39;49m\u001b[38;5;124;43m\"\u001b[39;49m\u001b[43m]\u001b[49m\u001b[43m[\u001b[49m\u001b[38;5;241;43m2\u001b[39;49m\u001b[43m]\u001b[49m\u001b[43m,\u001b[49m\n\u001b[1;32m    122\u001b[0m \u001b[43m    \u001b[49m\u001b[43m)\u001b[49m \u001b[38;5;241m&\u001b[39m _in_interval(\n\u001b[1;32m    123\u001b[0m         llogg,\n\u001b[1;32m    124\u001b[0m         _rv_unc_model[group][\u001b[38;5;124m\"\u001b[39m\u001b[38;5;124mlogg\u001b[39m\u001b[38;5;124m\"\u001b[39m][\u001b[38;5;241m0\u001b[39m],\n\u001b[1;32m    125\u001b[0m         _rv_unc_model[group][\u001b[38;5;124m\"\u001b[39m\u001b[38;5;124mlogg\u001b[39m\u001b[38;5;124m\"\u001b[39m][\u001b[38;5;241m1\u001b[39m],\n\u001b[1;32m    126\u001b[0m         _rv_unc_model[group][\u001b[38;5;124m\"\u001b[39m\u001b[38;5;124mlogg\u001b[39m\u001b[38;5;124m\"\u001b[39m][\u001b[38;5;241m2\u001b[39m],\n\u001b[1;32m    127\u001b[0m     )\n\u001b[1;32m    128\u001b[0m     \u001b[38;5;28;01mif\u001b[39;00m np\u001b[38;5;241m.\u001b[39many(slots):\n\u001b[1;32m    129\u001b[0m         \u001b[38;5;28;01mif\u001b[39;00m release\u001b[38;5;241m.\u001b[39mupper() \u001b[38;5;241m==\u001b[39m \u001b[38;5;124m\"\u001b[39m\u001b[38;5;124mDR3\u001b[39m\u001b[38;5;124m\"\u001b[39m:\n",
      "File \u001b[0;32m~/opt/anaconda3/envs/speedytest2/lib/python3.12/site-packages/pygaia/errors/spectroscopic.py:58\u001b[0m, in \u001b[0;36m_in_interval\u001b[0;34m(a, left, right, closed)\u001b[0m\n\u001b[1;32m     56\u001b[0m     \u001b[38;5;28;01mreturn\u001b[39;00m (a \u001b[38;5;241m>\u001b[39m\u001b[38;5;241m=\u001b[39m left) \u001b[38;5;241m&\u001b[39m (a \u001b[38;5;241m<\u001b[39m\u001b[38;5;241m=\u001b[39m right)\n\u001b[1;32m     57\u001b[0m \u001b[38;5;28;01melif\u001b[39;00m closed \u001b[38;5;241m==\u001b[39m \u001b[38;5;124m\"\u001b[39m\u001b[38;5;124mleft\u001b[39m\u001b[38;5;124m\"\u001b[39m:\n\u001b[0;32m---> 58\u001b[0m     \u001b[38;5;28;01mreturn\u001b[39;00m (\u001b[43ma\u001b[49m\u001b[43m \u001b[49m\u001b[38;5;241;43m>\u001b[39;49m\u001b[38;5;241;43m=\u001b[39;49m\u001b[43m \u001b[49m\u001b[43mleft\u001b[49m) \u001b[38;5;241m&\u001b[39m (a \u001b[38;5;241m<\u001b[39m right)\n\u001b[1;32m     59\u001b[0m \u001b[38;5;28;01melif\u001b[39;00m closed \u001b[38;5;241m==\u001b[39m \u001b[38;5;124m\"\u001b[39m\u001b[38;5;124mright\u001b[39m\u001b[38;5;124m\"\u001b[39m:\n\u001b[1;32m     60\u001b[0m     \u001b[38;5;28;01mreturn\u001b[39;00m (a \u001b[38;5;241m>\u001b[39m left) \u001b[38;5;241m&\u001b[39m (a \u001b[38;5;241m<\u001b[39m\u001b[38;5;241m=\u001b[39m right)\n",
      "\u001b[0;31mUFuncTypeError\u001b[0m: ufunc 'greater_equal' did not contain a loop with signature matching types (<class 'numpy.dtypes.StrDType'>, <class 'numpy.dtypes._PyLongDType'>) -> None"
     ]
    }
   ],
   "source": [
    "mysample.photometry()"
   ]
  }
 ],
 "metadata": {
  "kernelspec": {
   "display_name": "speedytest2",
   "language": "python",
   "name": "python3"
  },
  "language_info": {
   "codemirror_mode": {
    "name": "ipython",
    "version": 3
   },
   "file_extension": ".py",
   "mimetype": "text/x-python",
   "name": "python",
   "nbconvert_exporter": "python",
   "pygments_lexer": "ipython3",
   "version": "3.12.7"
  }
 },
 "nbformat": 4,
 "nbformat_minor": 2
}
