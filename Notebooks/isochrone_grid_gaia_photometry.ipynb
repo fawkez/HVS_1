{
 "cells": [
  {
   "cell_type": "code",
   "execution_count": 68,
   "metadata": {},
   "outputs": [],
   "source": [
    "# imports\n",
    "import pandas as pd\n",
    "import numpy as np \n",
    "import matplotlib.pyplot as plt\n",
    "import seaborn as sns\n",
    "import os\n",
    "import sys\n",
    "from astropy.table import Table\n",
    "from astropy.table import hstack\n",
    "import astropy.units as u\n",
    "\n",
    "from isochrones.mist import MISTEvolutionTrackGrid, MISTIsochroneGrid, MIST_EvolutionTrack"
   ]
  },
  {
   "cell_type": "code",
   "execution_count": 22,
   "metadata": {},
   "outputs": [],
   "source": [
    "track = MIST_EvolutionTrack()\n",
    "iso_grid = MISTIsochroneGrid()\n",
    "\n",
    "from isochrones.mist import MIST_Isochrone\n",
    "from isochrones import get_ichrone\n",
    "mist = get_ichrone('mist')\n"
   ]
  },
  {
   "cell_type": "code",
   "execution_count": 4,
   "metadata": {},
   "outputs": [],
   "source": [
    "mass, age, feh, distance, AV = 1.0, 9.74, -0.05, 100, 0.02"
   ]
  },
  {
   "cell_type": "code",
   "execution_count": 18,
   "metadata": {},
   "outputs": [],
   "source": [
    "# Given a mass, age, feh interpolate the isochrone grid to get the photometry of the star\n",
    "#eep = mist.get_eep(mass, age,feh, accurate=True)\n",
    "isochrone = iso_grid.interp([mass, age*1e9, feh])"
   ]
  },
  {
   "cell_type": "code",
   "execution_count": 29,
   "metadata": {},
   "outputs": [
    {
     "data": {
      "text/plain": [
       "array([8.33122954e-307, 8.33122954e-307, 8.33122954e-307, 8.33122954e-307])"
      ]
     },
     "execution_count": 29,
     "metadata": {},
     "output_type": "execute_result"
    }
   ],
   "source": [
    "mist = MIST_Isochrone()\n",
    "\n",
    "pars = [353, 9.78, -1.24]  # eep, log(age), feh\n",
    "mist.interp_value(pars, ['mass', 'radius', 'Teff', 'logg'])"
   ]
  },
  {
   "cell_type": "code",
   "execution_count": 31,
   "metadata": {},
   "outputs": [
    {
     "data": {
      "text/plain": [
       "(-3.099250687999979,\n",
       " -3.104169167999979,\n",
       " -3.10175266399998,\n",
       " array([nan, nan, nan]))"
      ]
     },
     "execution_count": 31,
     "metadata": {},
     "output_type": "execute_result"
    }
   ],
   "source": [
    "mist.interp_mag(pars, ['K', 'BP', 'RP']) "
   ]
  },
  {
   "cell_type": "code",
   "execution_count": 162,
   "metadata": {},
   "outputs": [
    {
     "name": "stdout",
     "output_type": "stream",
     "text": [
      "Error during model generation: EEP minimization not successful: (np.float64(1.0), np.float64(0.5), np.float64(0.25))\n",
      "Photometry for the star at age [5.0] Gyr:\n",
      "G: nan, BP: nan, RP: nan\n"
     ]
    }
   ],
   "source": [
    "from isochrones import get_ichrone\n",
    "import numpy as np\n",
    "from tqdm import tqdm\n",
    "\n",
    "def get_star_photometry_old(feh: np.array, initial_mass: np.array, age_ejection: np.array, flight_time: np.array):\n",
    "    \"\"\"\n",
    "    Retrieve Gaia photometry for a star given its initial mass, metallicity (feh),\n",
    "    and age using the MIST isochrone model.\n",
    "\n",
    "    Parameters:\n",
    "    - feh: float, the metallicity [Fe/H] of the star.\n",
    "    - initial_mass: float, the initial mass of the star in solar masses.\n",
    "    - age: float, the current age of the star in Gyr.\n",
    "\n",
    "    Returns:\n",
    "    - dict with Gaia magnitudes 'G', 'BP', and 'RP' if available.\n",
    "    \"\"\"\n",
    "    # Load the MIST isochrone model\n",
    "    mist = get_ichrone('mist')\n",
    "\n",
    "    age = age_ejection + flight_time\n",
    "\n",
    "\n",
    "    # Generate the star's model with `generate`, which returns a dictionary of properties\n",
    "    # Documentation Reference: https://isochrones.readthedocs.io/en/latest/usage.html#model-parameters\n",
    "    try:\n",
    "        star_model = mist.generate(mass=initial_mass, age=age, feh=feh, accurate=True)\n",
    "    except (ValueError, RuntimeError) as e:\n",
    "        print(f\"Error during model generation: {e}\")\n",
    "        return {'G': np.nan, 'BP': np.nan, 'RP': np.nan}\n",
    "\n",
    "\n",
    "            # Extract Gaia photometry (G, BP, RP) from the star model\n",
    "    result = {\n",
    "        'G': star_model.get('G_mag', np.nan),\n",
    "        'BP': star_model.get('BP_mag', np.nan),\n",
    "        'RP': star_model.get('RP_mag', np.nan),\n",
    "        'Teff': star_model.get('Teff', np.nan),\n",
    "        'logg': star_model.get('logg', np.nan),\n",
    "        'radius': star_model.get('radius', np.nan),\n",
    "        'logL': star_model.get('logL', np.nan),\n",
    "        'feh': star_model.get('feh', np.nan),\n",
    "        'eep': star_model.get('eep', np.nan)\n",
    "    }\n",
    "\n",
    "    return Table(result)\n",
    "\n",
    "# Example usage\n",
    "if __name__ == \"__main__\":\n",
    "    feh = [0.25]        # Example metallicity [Fe/H]\n",
    "    initial_mass = [1.0] # Example mass in solar masses\n",
    "    age = [5.0]          # Example age in Gyr\n",
    "    flight_time = [0.5]   \n",
    "\n",
    "    photometry = get_star_photometry_old(feh, initial_mass, age, flight_time)\n",
    "    print(f\"Photometry for the star at age {age} Gyr:\")\n",
    "    print(f\"G: {photometry['G']}, BP: {photometry['BP']}, RP: {photometry['RP']}\")\n"
   ]
  },
  {
   "cell_type": "code",
   "execution_count": 199,
   "metadata": {},
   "outputs": [],
   "source": [
    "from isochrones import get_ichrone\n",
    "import numpy as np\n",
    "from astropy.table import Table\n",
    "\n",
    "def get_star_photometry_v2(feh_array, initial_mass_array, age_ejection_array, flight_time_array):\n",
    "    \"\"\"\n",
    "    Retrieve Gaia photometry for a set of stars given their initial masses, metallicities (feh),\n",
    "    and ages using the MIST isochrone model.\n",
    "\n",
    "    Parameters:\n",
    "    - feh_array: array-like, metallicities [Fe/H] of the stars.\n",
    "    - initial_mass_array: array-like, initial masses of the stars in solar masses.\n",
    "    - age_ejection_array: array-like, ejection ages of the stars in Gyr.\n",
    "    - flight_time_array: array-like, flight times of the stars in Gyr.\n",
    "\n",
    "    Returns:\n",
    "    - pandas DataFrame with Gaia magnitudes 'G', 'BP', 'RP', and other stellar properties.\n",
    "    \"\"\"\n",
    "    # Load the MIST isochrone model\n",
    "    mist = get_ichrone('mist')\n",
    "\n",
    "    results = []\n",
    "\n",
    "    # Iterate over each star's parameters\n",
    "    for feh, initial_mass, age_ejection, flight_time in zip(\n",
    "            feh_array, initial_mass_array, age_ejection_array, flight_time_array):\n",
    "        \n",
    "        age = np.log10((age_ejection + flight_time)) + 9 # Convert age to log10(age) in yr\n",
    "\n",
    "        try:\n",
    "            # Generate the star's model\n",
    "            star_model = mist.generate(mass=initial_mass, age=age, feh=feh, accurate=True)\n",
    "            \n",
    "            # Extract scalar values from the DataFrame\n",
    "            G_mag = star_model['G_mag'].values[0]\n",
    "            BP_mag = star_model['BP_mag'].values[0]\n",
    "            RP_mag = star_model['RP_mag'].values[0]\n",
    "            Teff = star_model['Teff'].values[0]\n",
    "            logg = star_model['logg'].values[0]\n",
    "            radius = star_model['radius'].values[0]\n",
    "            logL = star_model['logL'].values[0]\n",
    "            feh_value = star_model['feh'].values[0]\n",
    "            eep = star_model['eep'].values[0]\n",
    "            \n",
    "            result = {\n",
    "                'G': G_mag,\n",
    "                'BP': BP_mag,\n",
    "                'RP': RP_mag,\n",
    "                'Teff': Teff,\n",
    "                'logg': logg,\n",
    "                'radius': radius,\n",
    "                'logL': logL,\n",
    "                'feh': feh_value,\n",
    "                'eep': eep\n",
    "            }\n",
    "        except (ValueError, RuntimeError, IndexError) as e:\n",
    "            print(f\"Error during model generation for star with mass {initial_mass}, \"\n",
    "                  f\"age {age}, feh {feh}: {e}\")\n",
    "            # Assign NaN values if generation fails\n",
    "            result = {\n",
    "                'G': np.nan,\n",
    "                'BP': np.nan,\n",
    "                'RP': np.nan,\n",
    "                'Teff': np.nan,\n",
    "                'logg': np.nan,\n",
    "                'radius': np.nan,\n",
    "                'logL': np.nan,\n",
    "                'feh': np.nan,\n",
    "                'eep': np.nan\n",
    "            }\n",
    "        \n",
    "        results.append(result)\n",
    "\n",
    "    return Table(results)"
   ]
  },
  {
   "cell_type": "code",
   "execution_count": 200,
   "metadata": {},
   "outputs": [
    {
     "name": "stdout",
     "output_type": "stream",
     "text": [
      "<TableColumns names=('mass','age','flight_time')>\n"
     ]
    }
   ],
   "source": [
    "# test on catalog\n",
    "pmage_catalog = Table.read('/Users/mncavieres/Documents/2024-2/HVS/Data/SFH_sampling_catalogs/initial/sample_NSC.fits')\n",
    "print(pmage_catalog.columns)"
   ]
  },
  {
   "cell_type": "code",
   "execution_count": 201,
   "metadata": {},
   "outputs": [
    {
     "data": {
      "text/html": [
       "<div><i>Table length=10000</i>\n",
       "<table id=\"table5535562256\" class=\"table-striped table-bordered table-condensed\">\n",
       "<thead><tr><th>mass</th><th>age</th><th>flight_time</th></tr></thead>\n",
       "<thead><tr><th>solMass</th><th>Gyr</th><th>Gyr</th></tr></thead>\n",
       "<thead><tr><th>float64</th><th>float64</th><th>float64</th></tr></thead>\n",
       "<tr><td>0.1400624261755766</td><td>6.6028308686826644</td><td>5.519621440806965</td></tr>\n",
       "<tr><td>0.11678222893069126</td><td>5.693950155191098</td><td>7.1227137725939</td></tr>\n",
       "<tr><td>0.11106970590664389</td><td>10.752883708617833</td><td>1.3771757187316378</td></tr>\n",
       "<tr><td>0.1649303813509785</td><td>2.3719340149248906</td><td>8.684637395220062</td></tr>\n",
       "<tr><td>0.1716065035291909</td><td>9.211427734831503</td><td>3.314081265370164</td></tr>\n",
       "<tr><td>0.18640206764672013</td><td>1.5219521810707424</td><td>10.563400843108514</td></tr>\n",
       "<tr><td>0.1981871353911785</td><td>10.745193679831845</td><td>2.21580935461009</td></tr>\n",
       "<tr><td>0.11490578712856621</td><td>0.5606409554880913</td><td>5.298546232115724</td></tr>\n",
       "<tr><td>0.15343866571779874</td><td>2.010273924383424</td><td>3.338756816026248</td></tr>\n",
       "<tr><td>...</td><td>...</td><td>...</td></tr>\n",
       "<tr><td>0.15836776073399966</td><td>5.199457991109382</td><td>7.377571164616317</td></tr>\n",
       "<tr><td>0.1671550469067986</td><td>6.219773836553757</td><td>5.281345822195396</td></tr>\n",
       "<tr><td>0.12126888187981417</td><td>8.153825520220195</td><td>4.331301694350864</td></tr>\n",
       "<tr><td>0.9272294528057861</td><td>2.9351182870297876</td><td>9.43038926701638</td></tr>\n",
       "<tr><td>0.11216853188692777</td><td>4.5570067293075205</td><td>6.432870118051982</td></tr>\n",
       "<tr><td>0.10075427107662517</td><td>7.120249062278352</td><td>4.565248470573035</td></tr>\n",
       "<tr><td>0.13909015163659133</td><td>6.223736550825816</td><td>6.440474260221998</td></tr>\n",
       "<tr><td>0.108910126094444</td><td>5.474867953831167</td><td>5.867630753912691</td></tr>\n",
       "<tr><td>0.144994944206539</td><td>10.41335876194821</td><td>1.3794881565946513</td></tr>\n",
       "</table></div>"
      ],
      "text/plain": [
       "<Table length=10000>\n",
       "        mass               age            flight_time    \n",
       "      solMass              Gyr                Gyr        \n",
       "      float64            float64            float64      \n",
       "------------------- ------------------ ------------------\n",
       " 0.1400624261755766 6.6028308686826644  5.519621440806965\n",
       "0.11678222893069126  5.693950155191098    7.1227137725939\n",
       "0.11106970590664389 10.752883708617833 1.3771757187316378\n",
       " 0.1649303813509785 2.3719340149248906  8.684637395220062\n",
       " 0.1716065035291909  9.211427734831503  3.314081265370164\n",
       "0.18640206764672013 1.5219521810707424 10.563400843108514\n",
       " 0.1981871353911785 10.745193679831845   2.21580935461009\n",
       "0.11490578712856621 0.5606409554880913  5.298546232115724\n",
       "0.15343866571779874  2.010273924383424  3.338756816026248\n",
       "                ...                ...                ...\n",
       "0.15836776073399966  5.199457991109382  7.377571164616317\n",
       " 0.1671550469067986  6.219773836553757  5.281345822195396\n",
       "0.12126888187981417  8.153825520220195  4.331301694350864\n",
       " 0.9272294528057861 2.9351182870297876   9.43038926701638\n",
       "0.11216853188692777 4.5570067293075205  6.432870118051982\n",
       "0.10075427107662517  7.120249062278352  4.565248470573035\n",
       "0.13909015163659133  6.223736550825816  6.440474260221998\n",
       "  0.108910126094444  5.474867953831167  5.867630753912691\n",
       "  0.144994944206539  10.41335876194821 1.3794881565946513"
      ]
     },
     "execution_count": 201,
     "metadata": {},
     "output_type": "execute_result"
    }
   ],
   "source": [
    "pmage_catalog"
   ]
  },
  {
   "cell_type": "code",
   "execution_count": 202,
   "metadata": {},
   "outputs": [],
   "source": [
    "pmage_catalog_with_photometry = hstack([pmage_catalog, get_star_photometry_v2([0]*len(pmage_catalog), pmage_catalog['mass'], pmage_catalog['age'], pmage_catalog['flight_time'])])"
   ]
  },
  {
   "cell_type": "code",
   "execution_count": 203,
   "metadata": {},
   "outputs": [
    {
     "data": {
      "text/html": [
       "<div>\n",
       "<style scoped>\n",
       "    .dataframe tbody tr th:only-of-type {\n",
       "        vertical-align: middle;\n",
       "    }\n",
       "\n",
       "    .dataframe tbody tr th {\n",
       "        vertical-align: top;\n",
       "    }\n",
       "\n",
       "    .dataframe thead th {\n",
       "        text-align: right;\n",
       "    }\n",
       "</style>\n",
       "<table border=\"1\" class=\"dataframe\">\n",
       "  <thead>\n",
       "    <tr style=\"text-align: right;\">\n",
       "      <th></th>\n",
       "      <th>mass</th>\n",
       "      <th>age</th>\n",
       "      <th>flight_time</th>\n",
       "      <th>G</th>\n",
       "      <th>BP</th>\n",
       "      <th>RP</th>\n",
       "      <th>Teff</th>\n",
       "      <th>logg</th>\n",
       "      <th>radius</th>\n",
       "      <th>logL</th>\n",
       "      <th>feh</th>\n",
       "      <th>eep</th>\n",
       "    </tr>\n",
       "  </thead>\n",
       "  <tbody>\n",
       "    <tr>\n",
       "      <th>0</th>\n",
       "      <td>0.140062</td>\n",
       "      <td>6.602831</td>\n",
       "      <td>5.519621</td>\n",
       "      <td>12.582886</td>\n",
       "      <td>14.381609</td>\n",
       "      <td>11.377411</td>\n",
       "      <td>3083.422822</td>\n",
       "      <td>5.138407</td>\n",
       "      <td>0.167553</td>\n",
       "      <td>-2.649277</td>\n",
       "      <td>0.045978</td>\n",
       "      <td>252.724514</td>\n",
       "    </tr>\n",
       "    <tr>\n",
       "      <th>1</th>\n",
       "      <td>0.116782</td>\n",
       "      <td>5.693950</td>\n",
       "      <td>7.122714</td>\n",
       "      <td>13.261056</td>\n",
       "      <td>15.339588</td>\n",
       "      <td>12.005831</td>\n",
       "      <td>2969.885665</td>\n",
       "      <td>5.194589</td>\n",
       "      <td>0.143590</td>\n",
       "      <td>-2.853005</td>\n",
       "      <td>0.045322</td>\n",
       "      <td>248.771782</td>\n",
       "    </tr>\n",
       "    <tr>\n",
       "      <th>2</th>\n",
       "      <td>0.111070</td>\n",
       "      <td>10.752884</td>\n",
       "      <td>1.377176</td>\n",
       "      <td>13.435937</td>\n",
       "      <td>15.597524</td>\n",
       "      <td>12.169998</td>\n",
       "      <td>2941.834384</td>\n",
       "      <td>5.208466</td>\n",
       "      <td>0.137701</td>\n",
       "      <td>-2.903204</td>\n",
       "      <td>0.045011</td>\n",
       "      <td>246.397419</td>\n",
       "    </tr>\n",
       "    <tr>\n",
       "      <th>3</th>\n",
       "      <td>0.164930</td>\n",
       "      <td>2.371934</td>\n",
       "      <td>8.684637</td>\n",
       "      <td>12.068596</td>\n",
       "      <td>13.688980</td>\n",
       "      <td>10.899304</td>\n",
       "      <td>3161.855658</td>\n",
       "      <td>5.093663</td>\n",
       "      <td>0.191107</td>\n",
       "      <td>-2.487890</td>\n",
       "      <td>0.046300</td>\n",
       "      <td>254.284515</td>\n",
       "    </tr>\n",
       "    <tr>\n",
       "      <th>4</th>\n",
       "      <td>0.171607</td>\n",
       "      <td>9.211428</td>\n",
       "      <td>3.314081</td>\n",
       "      <td>11.961089</td>\n",
       "      <td>13.549575</td>\n",
       "      <td>10.798321</td>\n",
       "      <td>3175.877720</td>\n",
       "      <td>5.082998</td>\n",
       "      <td>0.197398</td>\n",
       "      <td>-2.452887</td>\n",
       "      <td>0.046893</td>\n",
       "      <td>257.446289</td>\n",
       "    </tr>\n",
       "    <tr>\n",
       "      <th>...</th>\n",
       "      <td>...</td>\n",
       "      <td>...</td>\n",
       "      <td>...</td>\n",
       "      <td>...</td>\n",
       "      <td>...</td>\n",
       "      <td>...</td>\n",
       "      <td>...</td>\n",
       "      <td>...</td>\n",
       "      <td>...</td>\n",
       "      <td>...</td>\n",
       "      <td>...</td>\n",
       "      <td>...</td>\n",
       "    </tr>\n",
       "    <tr>\n",
       "      <th>9995</th>\n",
       "      <td>0.112169</td>\n",
       "      <td>4.557007</td>\n",
       "      <td>6.432870</td>\n",
       "      <td>13.403803</td>\n",
       "      <td>15.550391</td>\n",
       "      <td>12.139799</td>\n",
       "      <td>2946.896097</td>\n",
       "      <td>5.205988</td>\n",
       "      <td>0.138802</td>\n",
       "      <td>-2.893936</td>\n",
       "      <td>0.044813</td>\n",
       "      <td>244.570713</td>\n",
       "    </tr>\n",
       "    <tr>\n",
       "      <th>9996</th>\n",
       "      <td>0.100754</td>\n",
       "      <td>7.120249</td>\n",
       "      <td>4.565248</td>\n",
       "      <td>13.749838</td>\n",
       "      <td>16.060216</td>\n",
       "      <td>12.464789</td>\n",
       "      <td>2891.465872</td>\n",
       "      <td>5.233349</td>\n",
       "      <td>0.127099</td>\n",
       "      <td>-2.993518</td>\n",
       "      <td>0.044659</td>\n",
       "      <td>243.330860</td>\n",
       "    </tr>\n",
       "    <tr>\n",
       "      <th>9997</th>\n",
       "      <td>0.139090</td>\n",
       "      <td>6.223737</td>\n",
       "      <td>6.440474</td>\n",
       "      <td>12.610003</td>\n",
       "      <td>14.419132</td>\n",
       "      <td>11.402428</td>\n",
       "      <td>3078.853832</td>\n",
       "      <td>5.140622</td>\n",
       "      <td>0.166577</td>\n",
       "      <td>-2.657556</td>\n",
       "      <td>0.046088</td>\n",
       "      <td>253.411217</td>\n",
       "    </tr>\n",
       "    <tr>\n",
       "      <th>9998</th>\n",
       "      <td>0.108910</td>\n",
       "      <td>5.474868</td>\n",
       "      <td>5.867631</td>\n",
       "      <td>13.502517</td>\n",
       "      <td>15.695813</td>\n",
       "      <td>12.232498</td>\n",
       "      <td>2931.109428</td>\n",
       "      <td>5.213778</td>\n",
       "      <td>0.135465</td>\n",
       "      <td>-2.922320</td>\n",
       "      <td>0.044799</td>\n",
       "      <td>244.498386</td>\n",
       "    </tr>\n",
       "    <tr>\n",
       "      <th>9999</th>\n",
       "      <td>0.144995</td>\n",
       "      <td>10.413359</td>\n",
       "      <td>1.379488</td>\n",
       "      <td>12.441411</td>\n",
       "      <td>14.185636</td>\n",
       "      <td>11.246945</td>\n",
       "      <td>3107.430115</td>\n",
       "      <td>5.126515</td>\n",
       "      <td>0.172631</td>\n",
       "      <td>-2.606155</td>\n",
       "      <td>0.046080</td>\n",
       "      <td>253.229771</td>\n",
       "    </tr>\n",
       "  </tbody>\n",
       "</table>\n",
       "<p>10000 rows × 12 columns</p>\n",
       "</div>"
      ],
      "text/plain": [
       "          mass        age  flight_time  ...      logL       feh         eep\n",
       "0     0.140062   6.602831     5.519621  ... -2.649277  0.045978  252.724514\n",
       "1     0.116782   5.693950     7.122714  ... -2.853005  0.045322  248.771782\n",
       "2     0.111070  10.752884     1.377176  ... -2.903204  0.045011  246.397419\n",
       "3     0.164930   2.371934     8.684637  ... -2.487890  0.046300  254.284515\n",
       "4     0.171607   9.211428     3.314081  ... -2.452887  0.046893  257.446289\n",
       "...        ...        ...          ...  ...       ...       ...         ...\n",
       "9995  0.112169   4.557007     6.432870  ... -2.893936  0.044813  244.570713\n",
       "9996  0.100754   7.120249     4.565248  ... -2.993518  0.044659  243.330860\n",
       "9997  0.139090   6.223737     6.440474  ... -2.657556  0.046088  253.411217\n",
       "9998  0.108910   5.474868     5.867631  ... -2.922320  0.044799  244.498386\n",
       "9999  0.144995  10.413359     1.379488  ... -2.606155  0.046080  253.229771\n",
       "\n",
       "[10000 rows x 12 columns]"
      ]
     },
     "execution_count": 203,
     "metadata": {},
     "output_type": "execute_result"
    }
   ],
   "source": [
    "pmage_catalog_with_photometry.to_pandas().dropna()"
   ]
  },
  {
   "cell_type": "code",
   "execution_count": 194,
   "metadata": {},
   "outputs": [],
   "source": [
    "pmage_catalog_with_photometry.write('/Users/mncavieres/Documents/2024-2/HVS/Data/SFH_sampling_catalogs/MIST_photometry/sample_NSC_with_photometry.fits', overwrite=True)"
   ]
  },
  {
   "cell_type": "code",
   "execution_count": 204,
   "metadata": {},
   "outputs": [
    {
     "data": {
      "image/png": "[encoded data removed]",
      "text/plain": [
       "<Figure size 1000x600 with 1 Axes>"
      ]
     },
     "metadata": {},
     "output_type": "display_data"
    }
   ],
   "source": [
    "plt.figure(figsize=(10, 6))\n",
    "plt.hist(pmage_catalog_with_photometry['age'], bins=100, histtype='step', lw=2, color='k')\n",
    "plt.show()"
   ]
  },
  {
   "cell_type": "markdown",
   "metadata": {},
   "source": [
    "## Test with simple populations"
   ]
  },
  {
   "cell_type": "code",
   "execution_count": 235,
   "metadata": {},
   "outputs": [],
   "source": [
    "ages = np.linspace(0.1, 13, 1000)\n",
    "mass = [1.0] * len(ages)\n",
    "feh = [0.0] * len(ages)"
   ]
  },
  {
   "cell_type": "code",
   "execution_count": 236,
   "metadata": {},
   "outputs": [
    {
     "data": {
      "text/plain": [
       "<function __main__.get_star_photometry_v2(feh_array, initial_mass_array, age_ejection_array, flight_time_array)>"
      ]
     },
     "execution_count": 236,
     "metadata": {},
     "output_type": "execute_result"
    }
   ],
   "source": [
    "get_star_photometry_v2"
   ]
  },
  {
   "cell_type": "code",
   "execution_count": 237,
   "metadata": {},
   "outputs": [
    {
     "name": "stdout",
     "output_type": "stream",
     "text": [
      "Error during model generation for star with mass 1.0, age 10.079854554123724, feh 0.0: EEP minimization not successful: (1.0, 10.079854554123724, 0.0)\n",
      "Error during model generation for star with mass 1.0, age 10.080320913570734, feh 0.0: EEP minimization not successful: (1.0, 10.080320913570734, 0.0)\n",
      "Error during model generation for star with mass 1.0, age 10.080786772763043, feh 0.0: EEP minimization not successful: (1.0, 10.080786772763043, 0.0)\n",
      "Error during model generation for star with mass 1.0, age 10.081252132772729, feh 0.0: EEP minimization not successful: (1.0, 10.081252132772729, 0.0)\n",
      "Error during model generation for star with mass 1.0, age 10.081716994668424, feh 0.0: EEP minimization not successful: (1.0, 10.081716994668424, 0.0)\n",
      "Error during model generation for star with mass 1.0, age 10.082181359515337, feh 0.0: EEP minimization not successful: (1.0, 10.082181359515337, 0.0)\n",
      "Error during model generation for star with mass 1.0, age 10.082645228375261, feh 0.0: EEP minimization not successful: (1.0, 10.082645228375261, 0.0)\n",
      "Error during model generation for star with mass 1.0, age 10.08310860230659, feh 0.0: EEP minimization not successful: (1.0, 10.08310860230659, 0.0)\n",
      "Error during model generation for star with mass 1.0, age 10.083571482364334, feh 0.0: EEP minimization not successful: (1.0, 10.083571482364334, 0.0)\n",
      "Error during model generation for star with mass 1.0, age 10.084033869600134, feh 0.0: EEP minimization not successful: (1.0, 10.084033869600134, 0.0)\n",
      "Error during model generation for star with mass 1.0, age 10.084495765062277, feh 0.0: EEP minimization not successful: (1.0, 10.084495765062277, 0.0)\n",
      "Error during model generation for star with mass 1.0, age 10.084957169795706, feh 0.0: EEP minimization not successful: (1.0, 10.084957169795706, 0.0)\n",
      "Error during model generation for star with mass 1.0, age 10.085418084842036, feh 0.0: EEP minimization not successful: (1.0, 10.085418084842036, 0.0)\n",
      "Error during model generation for star with mass 1.0, age 10.085878511239576, feh 0.0: EEP minimization not successful: (1.0, 10.085878511239576, 0.0)\n",
      "Error during model generation for star with mass 1.0, age 10.086338450023327, feh 0.0: EEP minimization not successful: (1.0, 10.086338450023327, 0.0)\n",
      "Error during model generation for star with mass 1.0, age 10.086797902225012, feh 0.0: EEP minimization not successful: (1.0, 10.086797902225012, 0.0)\n",
      "Error during model generation for star with mass 1.0, age 10.08725686887308, feh 0.0: EEP minimization not successful: (1.0, 10.08725686887308, 0.0)\n",
      "Error during model generation for star with mass 1.0, age 10.087715350992722, feh 0.0: EEP minimization not successful: (1.0, 10.087715350992722, 0.0)\n",
      "Error during model generation for star with mass 1.0, age 10.08817334960589, feh 0.0: EEP minimization not successful: (1.0, 10.08817334960589, 0.0)\n",
      "Error during model generation for star with mass 1.0, age 10.0886308657313, feh 0.0: EEP minimization not successful: (1.0, 10.0886308657313, 0.0)\n",
      "Error during model generation for star with mass 1.0, age 10.089087900384456, feh 0.0: EEP minimization not successful: (1.0, 10.089087900384456, 0.0)\n",
      "Error during model generation for star with mass 1.0, age 10.08954445457766, feh 0.0: EEP minimization not successful: (1.0, 10.08954445457766, 0.0)\n",
      "Error during model generation for star with mass 1.0, age 10.090000529320019, feh 0.0: EEP minimization not successful: (1.0, 10.090000529320019, 0.0)\n",
      "Error during model generation for star with mass 1.0, age 10.090456125617473, feh 0.0: EEP minimization not successful: (1.0, 10.090456125617473, 0.0)\n",
      "Error during model generation for star with mass 1.0, age 10.090911244472792, feh 0.0: EEP minimization not successful: (1.0, 10.090911244472792, 0.0)\n",
      "Error during model generation for star with mass 1.0, age 10.091365886885601, feh 0.0: EEP minimization not successful: (1.0, 10.091365886885601, 0.0)\n",
      "Error during model generation for star with mass 1.0, age 10.091820053852386, feh 0.0: EEP minimization not successful: (1.0, 10.091820053852386, 0.0)\n",
      "Error during model generation for star with mass 1.0, age 10.09227374636651, feh 0.0: EEP minimization not successful: (1.0, 10.09227374636651, 0.0)\n",
      "Error during model generation for star with mass 1.0, age 10.092726965418231, feh 0.0: EEP minimization not successful: (1.0, 10.092726965418231, 0.0)\n",
      "Error during model generation for star with mass 1.0, age 10.093179711994706, feh 0.0: EEP minimization not successful: (1.0, 10.093179711994706, 0.0)\n",
      "Error during model generation for star with mass 1.0, age 10.093631987080006, feh 0.0: EEP minimization not successful: (1.0, 10.093631987080006, 0.0)\n",
      "Error during model generation for star with mass 1.0, age 10.094083791655136, feh 0.0: EEP minimization not successful: (1.0, 10.094083791655136, 0.0)\n",
      "Error during model generation for star with mass 1.0, age 10.094535126698036, feh 0.0: EEP minimization not successful: (1.0, 10.094535126698036, 0.0)\n",
      "Error during model generation for star with mass 1.0, age 10.094985993183606, feh 0.0: EEP minimization not successful: (1.0, 10.094985993183606, 0.0)\n",
      "Error during model generation for star with mass 1.0, age 10.095436392083712, feh 0.0: EEP minimization not successful: (1.0, 10.095436392083712, 0.0)\n",
      "Error during model generation for star with mass 1.0, age 10.095886324367196, feh 0.0: EEP minimization not successful: (1.0, 10.095886324367196, 0.0)\n",
      "Error during model generation for star with mass 1.0, age 10.096335790999895, feh 0.0: EEP minimization not successful: (1.0, 10.096335790999895, 0.0)\n",
      "Error during model generation for star with mass 1.0, age 10.09678479294465, feh 0.0: EEP minimization not successful: (1.0, 10.09678479294465, 0.0)\n",
      "Error during model generation for star with mass 1.0, age 10.097233331161316, feh 0.0: EEP minimization not successful: (1.0, 10.097233331161316, 0.0)\n",
      "Error during model generation for star with mass 1.0, age 10.097681406606782, feh 0.0: EEP minimization not successful: (1.0, 10.097681406606782, 0.0)\n",
      "Error during model generation for star with mass 1.0, age 10.098129020234973, feh 0.0: EEP minimization not successful: (1.0, 10.098129020234973, 0.0)\n",
      "Error during model generation for star with mass 1.0, age 10.098576172996873, feh 0.0: EEP minimization not successful: (1.0, 10.098576172996873, 0.0)\n",
      "Error during model generation for star with mass 1.0, age 10.099022865840526, feh 0.0: EEP minimization not successful: (1.0, 10.099022865840526, 0.0)\n",
      "Error during model generation for star with mass 1.0, age 10.099469099711058, feh 0.0: EEP minimization not successful: (1.0, 10.099469099711058, 0.0)\n",
      "Error during model generation for star with mass 1.0, age 10.099914875550681, feh 0.0: EEP minimization not successful: (1.0, 10.099914875550681, 0.0)\n",
      "Error during model generation for star with mass 1.0, age 10.100360194298712, feh 0.0: EEP minimization not successful: (1.0, 10.100360194298712, 0.0)\n",
      "Error during model generation for star with mass 1.0, age 10.10080505689158, feh 0.0: EEP minimization not successful: (1.0, 10.10080505689158, 0.0)\n",
      "Error during model generation for star with mass 1.0, age 10.10124946426284, feh 0.0: EEP minimization not successful: (1.0, 10.10124946426284, 0.0)\n",
      "Error during model generation for star with mass 1.0, age 10.101693417343181, feh 0.0: EEP minimization not successful: (1.0, 10.101693417343181, 0.0)\n",
      "Error during model generation for star with mass 1.0, age 10.102136917060447, feh 0.0: EEP minimization not successful: (1.0, 10.102136917060447, 0.0)\n",
      "Error during model generation for star with mass 1.0, age 10.102579964339636, feh 0.0: EEP minimization not successful: (1.0, 10.102579964339636, 0.0)\n",
      "Error during model generation for star with mass 1.0, age 10.10302256010292, feh 0.0: EEP minimization not successful: (1.0, 10.10302256010292, 0.0)\n",
      "Error during model generation for star with mass 1.0, age 10.103464705269655, feh 0.0: EEP minimization not successful: (1.0, 10.103464705269655, 0.0)\n",
      "Error during model generation for star with mass 1.0, age 10.103906400756394, feh 0.0: EEP minimization not successful: (1.0, 10.103906400756394, 0.0)\n",
      "Error during model generation for star with mass 1.0, age 10.104347647476892, feh 0.0: EEP minimization not successful: (1.0, 10.104347647476892, 0.0)\n",
      "Error during model generation for star with mass 1.0, age 10.104788446342125, feh 0.0: EEP minimization not successful: (1.0, 10.104788446342125, 0.0)\n",
      "Error during model generation for star with mass 1.0, age 10.105228798260296, feh 0.0: EEP minimization not successful: (1.0, 10.105228798260296, 0.0)\n",
      "Error during model generation for star with mass 1.0, age 10.10566870413685, feh 0.0: EEP minimization not successful: (1.0, 10.10566870413685, 0.0)\n",
      "Error during model generation for star with mass 1.0, age 10.106108164874483, feh 0.0: EEP minimization not successful: (1.0, 10.106108164874483, 0.0)\n",
      "Error during model generation for star with mass 1.0, age 10.10654718137315, feh 0.0: EEP minimization not successful: (1.0, 10.10654718137315, 0.0)\n",
      "Error during model generation for star with mass 1.0, age 10.106985754530085, feh 0.0: EEP minimization not successful: (1.0, 10.106985754530085, 0.0)\n",
      "Error during model generation for star with mass 1.0, age 10.107423885239804, feh 0.0: EEP minimization not successful: (1.0, 10.107423885239804, 0.0)\n",
      "Error during model generation for star with mass 1.0, age 10.107861574394116, feh 0.0: EEP minimization not successful: (1.0, 10.107861574394116, 0.0)\n",
      "Error during model generation for star with mass 1.0, age 10.10829882288214, feh 0.0: EEP minimization not successful: (1.0, 10.10829882288214, 0.0)\n",
      "Error during model generation for star with mass 1.0, age 10.108735631590314, feh 0.0: EEP minimization not successful: (1.0, 10.108735631590314, 0.0)\n",
      "Error during model generation for star with mass 1.0, age 10.109172001402396, feh 0.0: EEP minimization not successful: (1.0, 10.109172001402396, 0.0)\n",
      "Error during model generation for star with mass 1.0, age 10.10960793319949, feh 0.0: EEP minimization not successful: (1.0, 10.10960793319949, 0.0)\n",
      "Error during model generation for star with mass 1.0, age 10.110043427860047, feh 0.0: EEP minimization not successful: (1.0, 10.110043427860047, 0.0)\n",
      "Error during model generation for star with mass 1.0, age 10.110478486259877, feh 0.0: EEP minimization not successful: (1.0, 10.110478486259877, 0.0)\n",
      "Error during model generation for star with mass 1.0, age 10.110913109272165, feh 0.0: EEP minimization not successful: (1.0, 10.110913109272165, 0.0)\n",
      "Error during model generation for star with mass 1.0, age 10.11134729776747, feh 0.0: EEP minimization not successful: (1.0, 10.11134729776747, 0.0)\n",
      "Error during model generation for star with mass 1.0, age 10.111781052613747, feh 0.0: EEP minimization not successful: (1.0, 10.111781052613747, 0.0)\n",
      "Error during model generation for star with mass 1.0, age 10.112214374676352, feh 0.0: EEP minimization not successful: (1.0, 10.112214374676352, 0.0)\n",
      "Error during model generation for star with mass 1.0, age 10.112647264818056, feh 0.0: EEP minimization not successful: (1.0, 10.112647264818056, 0.0)\n",
      "Error during model generation for star with mass 1.0, age 10.113079723899048, feh 0.0: EEP minimization not successful: (1.0, 10.113079723899048, 0.0)\n",
      "Error during model generation for star with mass 1.0, age 10.113511752776953, feh 0.0: EEP minimization not successful: (1.0, 10.113511752776953, 0.0)\n",
      "Error during model generation for star with mass 1.0, age 10.113943352306837, feh 0.0: EEP minimization not successful: (1.0, 10.113943352306837, 0.0)\n"
     ]
    }
   ],
   "source": [
    "testing_evol_track = get_star_photometry_v2(feh, mass, ages, [0]*len(ages))"
   ]
  },
  {
   "cell_type": "code",
   "execution_count": 238,
   "metadata": {},
   "outputs": [],
   "source": [
    "testing_evol_track = testing_evol_track.to_pandas().dropna()"
   ]
  },
  {
   "cell_type": "code",
   "execution_count": 239,
   "metadata": {},
   "outputs": [
    {
     "data": {
      "text/plain": [
       "(8.0, -5.0)"
      ]
     },
     "execution_count": 239,
     "metadata": {},
     "output_type": "execute_result"
    },
    {
     "data": {
      "image/png": "[encoded data removed]",
      "text/plain": [
       "<Figure size 640x480 with 1 Axes>"
      ]
     },
     "metadata": {},
     "output_type": "display_data"
    }
   ],
   "source": [
    "sns.scatterplot(data=testing_evol_track, x='Teff', y='G', alpha=0.5)\n",
    "plt.xlim(7000, 3000)\n",
    "plt.ylim(8, -5)"
   ]
  },
  {
   "cell_type": "code",
   "execution_count": null,
   "metadata": {},
   "outputs": [],
   "source": []
  }
 ],
 "metadata": {
  "kernelspec": {
   "display_name": "speedytest2",
   "language": "python",
   "name": "python3"
  },
  "language_info": {
   "codemirror_mode": {
    "name": "ipython",
    "version": 3
   },
   "file_extension": ".py",
   "mimetype": "text/x-python",
   "name": "python",
   "nbconvert_exporter": "python",
   "pygments_lexer": "ipython3",
   "version": "3.12.6"
  }
 },
 "nbformat": 4,
 "nbformat_minor": 2
}
