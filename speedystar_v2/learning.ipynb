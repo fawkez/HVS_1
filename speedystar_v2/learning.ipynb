{
 "cells": [
  {
   "cell_type": "markdown",
   "metadata": {},
   "source": [
    "### Your first hypervelocity star catalogue\n",
    "\n",
    "`speedystar` is a python package which will allow you to generate, evolve, propagate and perform mock observations of single stars ejected at high velocities.\n",
    "\n",
    "### Getting Started\n",
    "\n",
    "Make sure this notebook is in the parent directory of `speedystar/`. The package itself is not large, but performing mock observations requires downloading a Milky Way dust map which by default is ~500 MB. This free space is assumed to be in the current working directory by default, but does not have to be (see below).\n",
    "\n",
    "We currently do not recommend installing `speedystar` globally using pip since that prevents you from editing the source code directly.\n",
    "\n",
    "`speedystar` uses a number of Python packages. Some of these which might not already be included in your Python distribution are astropy, galpy, mwdust and pygaia. Simply run this notebook and conda or pip install any package that doesn't exist.\n",
    "\n",
    "More accurate treatments of the Gaia selection functions and astrometric spread function also require the Python packages scanninglaw and gaiaunlimited. These packages currently do not support Windows since they rely on the healpy package, but can be installed using Windows Subsystem for Linux (WSL).\n",
    "\n",
    "### Documentation\n",
    "\n",
    "help(speedystar.starsample) will display the names and descriptions of every method in `speedystar`, as well as descriptions of common column names.\n",
    "\n",
    "### Outputs\n",
    "\n",
    "`speedystar` outputs are .fits tables containing useful info for each mock star as well as metadata describing the assumptions that go into the sample. They can be accessed using astropy.table or with [Topcat](https://www.star.bris.ac.uk/~mbt/topcat/) or however else you'd like to read them.\n"
   ]
  },
  {
   "cell_type": "code",
   "execution_count": 1,
   "metadata": {},
   "outputs": [
    {
     "name": "stdout",
     "output_type": "stream",
     "text": [
      "/Users/mncavieres/opt/anaconda3/envs/speedytest2/lib/python3.12/site-packages/requests/__init__.py:86: RequestsDependencyWarning: Unable to find acceptable character detection dependency (chardet or charset_normalizer).\n",
      "  warnings.warn(\n",
      "\n"
     ]
    }
   ],
   "source": [
    "#Import what you need\n",
    "import numpy as np\n",
    "import os\n",
    "#os.chdir('/mnt/c/Users/frase/')\n",
    "from speedystar import starsample\n",
    "from speedystar.eject import Hills\n",
    "from speedystar.eject import HillsFromCatalog\n",
    "from speedystar.utils.mwpotential import MWPotential\n",
    "import astropy.units as u\n",
    "from galpy import potential\n",
    "import mwdust\n",
    "from tqdm import tqdm\n",
    "import matplotlib.pyplot as plt\n",
    "from astropy.table import Table\n",
    "#Print a lot of documentation\n",
    "#help(starsample)"
   ]
  },
  {
   "cell_type": "markdown",
   "metadata": {},
   "source": [
    "### Ejecting a sample\n",
    "\n",
    "We're now ready to eject some stars!\n",
    "\n",
    "The 'typical' way to eject hypervelocity stars is via the Hills Mechanism, in which a stellar binary approaches Sgr A* on a very low-angular momentum orbit. At a particular distance from Sgr A*, the tidal forces across the binary surpass the gravitational binding energy of the binary itself and the binary is separated. One star is captured in orbit around Sgr A* and the other is flung away at a velocities up to several thousand km/s. Stars ejected above the escape velocity of the Galaxy are hypervelocity stars (HVSs) -- they will eventually escape the Galaxy entirely. Note that there will also be a population of stars ejected slowly as well, which will not escape the inner Galaxy and might survive to interact again with Sgr A*.\n",
    "\n",
    "<p align=\"center\">\n",
    "<img src =\"https://www.universetoday.com/wp-content/uploads/2023/01/hills-mechanism.jpg\" width=\"50%\" height=\"50%\">\n",
    "</p>\n",
    "\n",
    "With `speedystar` you first generate a sample of stars at the moment of ejection. The number of stars and their masses/metallicities/velocities/flight times/evolutionary stages depend a lot on assumptions you make about stars and binaries in the Galactic Centre, see [Evans+2022](https://ui.adsabs.harvard.edu/abs/2022MNRAS.512.2350E/abstract) for more details.\n"
   ]
  },
  {
   "cell_type": "markdown",
   "metadata": {},
   "source": [
    "## Build a simple catalog"
   ]
  },
  {
   "cell_type": "code",
   "execution_count": 2,
   "metadata": {},
   "outputs": [],
   "source": [
    "simulated_catalogs_path = '/Users/mncavieres/Documents/2024-2/HVS/Data/speedystar_catalogs/from_MIST'"
   ]
  },
  {
   "cell_type": "code",
   "execution_count": 3,
   "metadata": {},
   "outputs": [],
   "source": [
    "# load MIST isochrone simulated catalog\n",
    "catalog_mist = Table.read('/Users/mncavieres/Documents/2024-2/HVS/Data/SFH_sampling_catalogs/MIST_photometry/sample_NSC_with_photometry.fits')"
   ]
  },
  {
   "cell_type": "code",
   "execution_count": 4,
   "metadata": {},
   "outputs": [],
   "source": [
    "# subsample the catalog\n",
    "catalog_mist = catalog_mist[np.random.choice(len(catalog_mist), 1000, replace=False)]"
   ]
  },
  {
   "cell_type": "code",
   "execution_count": 25,
   "metadata": {},
   "outputs": [
    {
     "data": {
      "text/html": [
       "<div><i>Table length=1000</i>\n",
       "<table id=\"table6274655840\" class=\"table-striped table-bordered table-condensed\">\n",
       "<thead><tr><th>mass</th><th>age</th><th>flight_time</th><th>G</th><th>BP</th><th>RP</th><th>Teff</th><th>logg</th><th>radius</th><th>logL</th><th>feh</th><th>eep</th></tr></thead>\n",
       "<thead><tr><th>solMass</th><th>Gyr</th><th>Gyr</th><th></th><th></th><th></th><th></th><th></th><th></th><th></th><th></th><th></th></tr></thead>\n",
       "<thead><tr><th>float64</th><th>float64</th><th>float64</th><th>float64</th><th>float64</th><th>float64</th><th>float64</th><th>float64</th><th>float64</th><th>float64</th><th>float64</th><th>float64</th></tr></thead>\n",
       "<tr><td>0.856900640808</td><td>5.12323612064</td><td>7.1058775019</td><td>5.58473787645</td><td>6.04255122309</td><td>4.97310578769</td><td>5056.77056849</td><td>4.4803234534</td><td>0.881829322814</td><td>-0.33961499994</td><td>0.27386280519</td><td>383.803195953</td></tr>\n",
       "<tr><td>0.850508747207</td><td>4.84098806365</td><td>0.197818745916</td><td>6.01789734432</td><td>6.52321771513</td><td>5.36700519146</td><td>4871.74525027</td><td>4.56780603693</td><td>0.794326075928</td><td>-0.494841461297</td><td>0.320983607553</td><td>333.964862823</td></tr>\n",
       "<tr><td>0.828650007448</td><td>10.8640016821</td><td>1.03357909892</td><td>5.87494044042</td><td>6.36822902415</td><td>5.23359806189</td><td>4908.23741125</td><td>4.51522973357</td><td>0.833033014818</td><td>-0.441211352397</td><td>0.279681320923</td><td>369.187545776</td></tr>\n",
       "<tr><td>0.96547920366</td><td>6.10957031324</td><td>5.21196716612</td><td>4.65565311531</td><td>5.03464711603</td><td>4.11469068486</td><td>5451.16196009</td><td>4.31732236798</td><td>1.12917746834</td><td>0.00581104452721</td><td>0.261274901996</td><td>421.874771118</td></tr>\n",
       "<tr><td>1.28839675007</td><td>2.1915532961</td><td>0.158019880148</td><td>3.59060133269</td><td>3.85639050876</td><td>3.16755789616</td><td>6177.17043738</td><td>4.25331055098</td><td>1.40444549304</td><td>0.412380436933</td><td>0.290513327727</td><td>350.39686203</td></tr>\n",
       "<tr><td>1.0911028146</td><td>4.69381182227</td><td>7.9427677897</td><td>--</td><td>--</td><td>--</td><td>--</td><td>--</td><td>--</td><td>--</td><td>--</td><td>--</td></tr>\n",
       "<tr><td>1.85028016343</td><td>1.41474762848</td><td>4.03327526347</td><td>--</td><td>--</td><td>--</td><td>--</td><td>--</td><td>--</td><td>--</td><td>--</td><td>--</td></tr>\n",
       "<tr><td>0.821502453196</td><td>3.61057111723</td><td>8.62338786862</td><td>5.92640316655</td><td>6.42707387599</td><td>5.27899637443</td><td>4878.72442336</td><td>4.51832845772</td><td>0.826480534573</td><td>-0.458558564447</td><td>0.278617588689</td><td>368.917980194</td></tr>\n",
       "<tr><td>1.05163920424</td><td>0.996508519824</td><td>11.0658111186</td><td>8.48465003872</td><td>8.23269653572</td><td>8.80360821043</td><td>49746.206936</td><td>7.62437290434</td><td>0.0187402451313</td><td>0.286337185631</td><td>0.376892073864</td><td>1710.0</td></tr>\n",
       "<tr><td>...</td><td>...</td><td>...</td><td>...</td><td>...</td><td>...</td><td>...</td><td>...</td><td>...</td><td>...</td><td>...</td><td>...</td></tr>\n",
       "<tr><td>0.983767089309</td><td>3.61096668509</td><td>8.55016943403</td><td>4.35993616938</td><td>4.73539988223</td><td>3.82226126373</td><td>5468.20506014</td><td>4.21340764074</td><td>1.28460486622</td><td>0.123297442976</td><td>0.256485586331</td><td>439.618492126</td></tr>\n",
       "<tr><td>0.996283808781</td><td>6.71282910543</td><td>5.52054710777</td><td>4.20464931814</td><td>4.58398134631</td><td>3.66348163927</td><td>5448.08857993</td><td>4.14933793172</td><td>1.39166192892</td><td>0.186449942305</td><td>0.260857591216</td><td>447.867622375</td></tr>\n",
       "<tr><td>0.991005671177</td><td>10.0249379851</td><td>2.20488124673</td><td>4.26695223256</td><td>4.64401521667</td><td>3.72783967634</td><td>5459.77949527</td><td>4.17626227138</td><td>1.34564588688</td><td>0.160931770461</td><td>0.25816732315</td><td>444.543972015</td></tr>\n",
       "<tr><td>1.00830510932</td><td>12.2498803293</td><td>0.596184154709</td><td>4.08480263344</td><td>4.56859476169</td><td>3.45193215305</td><td>4945.74657949</td><td>3.9023819</td><td>1.86042771784</td><td>0.270565305192</td><td>0.315797546169</td><td>466.581516266</td></tr>\n",
       "<tr><td>1.26525221676</td><td>4.11445898319</td><td>7.37650148881</td><td>--</td><td>--</td><td>--</td><td>--</td><td>--</td><td>--</td><td>--</td><td>--</td><td>--</td></tr>\n",
       "<tr><td>0.904050461205</td><td>4.95605201116</td><td>7.16774798928</td><td>5.14507206114</td><td>5.55891650614</td><td>4.5719436995</td><td>5265.56552075</td><td>4.4143120944</td><td>0.977214956342</td><td>-0.179898094419</td><td>0.266887469252</td><td>402.168445587</td></tr>\n",
       "<tr><td>0.834322934079</td><td>0.68042768286</td><td>11.3754433503</td><td>5.81127146871</td><td>6.29625368172</td><td>5.1767322161</td><td>4940.68620138</td><td>4.50777235788</td><td>0.843073327372</td><td>-0.419269089579</td><td>0.278003424881</td><td>372.910079956</td></tr>\n",
       "<tr><td>1.1683350413</td><td>3.25374288315</td><td>9.16398344463</td><td>--</td><td>--</td><td>--</td><td>--</td><td>--</td><td>--</td><td>--</td><td>--</td><td>--</td></tr>\n",
       "<tr><td>0.920755882037</td><td>6.08506979419</td><td>6.79697785911</td><td>4.92545888298</td><td>5.32564268199</td><td>4.36487952972</td><td>5336.67884933</td><td>4.36147656855</td><td>1.048035591</td><td>-0.0957960686688</td><td>0.258976460219</td><td>415.794696808</td></tr>\n",
       "</table></div>"
      ],
      "text/plain": [
       "<Table length=1000>\n",
       "     mass           age        flight_time   ...      feh            eep     \n",
       "   solMass          Gyr            Gyr       ...                             \n",
       "   float64        float64        float64     ...    float64        float64   \n",
       "-------------- -------------- -------------- ... -------------- -------------\n",
       "0.856900640808  5.12323612064   7.1058775019 ...  0.27386280519 383.803195953\n",
       "0.850508747207  4.84098806365 0.197818745916 ... 0.320983607553 333.964862823\n",
       "0.828650007448  10.8640016821  1.03357909892 ... 0.279681320923 369.187545776\n",
       " 0.96547920366  6.10957031324  5.21196716612 ... 0.261274901996 421.874771118\n",
       " 1.28839675007   2.1915532961 0.158019880148 ... 0.290513327727  350.39686203\n",
       "  1.0911028146  4.69381182227   7.9427677897 ...             --            --\n",
       " 1.85028016343  1.41474762848  4.03327526347 ...             --            --\n",
       "0.821502453196  3.61057111723  8.62338786862 ... 0.278617588689 368.917980194\n",
       " 1.05163920424 0.996508519824  11.0658111186 ... 0.376892073864        1710.0\n",
       "           ...            ...            ... ...            ...           ...\n",
       "0.983767089309  3.61096668509  8.55016943403 ... 0.256485586331 439.618492126\n",
       "0.996283808781  6.71282910543  5.52054710777 ... 0.260857591216 447.867622375\n",
       "0.991005671177  10.0249379851  2.20488124673 ...  0.25816732315 444.543972015\n",
       " 1.00830510932  12.2498803293 0.596184154709 ... 0.315797546169 466.581516266\n",
       " 1.26525221676  4.11445898319  7.37650148881 ...             --            --\n",
       "0.904050461205  4.95605201116  7.16774798928 ... 0.266887469252 402.168445587\n",
       "0.834322934079  0.68042768286  11.3754433503 ... 0.278003424881 372.910079956\n",
       "  1.1683350413  3.25374288315  9.16398344463 ...             --            --\n",
       "0.920755882037  6.08506979419  6.79697785911 ... 0.258976460219 415.794696808"
      ]
     },
     "execution_count": 25,
     "metadata": {},
     "output_type": "execute_result"
    }
   ],
   "source": [
    "catalog_mist"
   ]
  },
  {
   "cell_type": "code",
   "execution_count": 15,
   "metadata": {},
   "outputs": [],
   "source": [
    "ejectionmodel = HillsFromCatalog(\n",
    "    catalog=catalog_mist,\n",
    "    rate=1e-4/u.yr,  # Same rate parameter as in the original model\n",
    "    kappa=0,         # Log-slope of the IMF (not used here, but must be passed)\n",
    "    amuseflag=True,  # Keep the flag for consistency\n",
    "    Met=0.25         # Metallicity (not used here, but for interface consistency)\n",
    ")\n",
    "mysample = starsample(ejectionmodel, name = 'MIST')"
   ]
  },
  {
   "cell_type": "code",
   "execution_count": 6,
   "metadata": {},
   "outputs": [],
   "source": [
    "mysample.saveall('/Users/mncavieres/Documents/2024-2/HVS/Data/speedystar_catalogs/from_MIST/test2.fits')"
   ]
  },
  {
   "cell_type": "markdown",
   "metadata": {},
   "source": [
    "### Propagating the sample\n",
    "\n",
    "The 'ejection sample' consists of a population of stars freshly ejected from the centre of the Milky Way. Next we have to propagate them through the Galaxy (each at its own assigned flight time) to find out where they will be at the present day. To do this we will have to assume a potential for the Galaxy. \n",
    "\n",
    "<p align=\"center\">\n",
    "<img src =\"https://cdn.sci.news/images/enlarge4/image_5003e-Hypervelocity-Stars.jpg\" width=\"50%\" height=\"50%\">\n",
    "</p>\n"
   ]
  },
  {
   "cell_type": "code",
   "execution_count": 8,
   "metadata": {},
   "outputs": [
    {
     "name": "stderr",
     "output_type": "stream",
     "text": [
      "Propagating...: 100%|██████████| 1000/1000 [00:34<00:00, 28.72it/s]\n"
     ]
    }
   ],
   "source": [
    "propagated_catalogs_path = simulated_catalogs_path\n",
    "#simulated_catalogs_path = '/Users/mncavieres/Documents/2024-2/HVS/speedystar/simulated_catalogs/top_heavy'\n",
    "\n",
    "# Assume a Galactic potential\n",
    "default_potential = MWPotential()\n",
    "#Ensure the potential has physical units so that the final positions and velocities have physical units too\n",
    "potential.turn_physical_on(default_potential)\n",
    "\n",
    "#Propagate sample. Positions / velocities are returned in Cartesian (x/y/z/v_x/v_y/v_z) and Galactic (l/b/dist/pm_l/pm_b/v_radial) and equatorial (ra/dec/dist/pm_ra/pm_dec/v_radial) coordinates\n",
    "mysample.propagate(potential = default_potential)"
   ]
  },
  {
   "cell_type": "code",
   "execution_count": 9,
   "metadata": {},
   "outputs": [],
   "source": [
    "#Save propagated sample\n",
    "mysample.saveall('/Users/mncavieres/Documents/2024-2/HVS/Data/speedystar_catalogs/from_MIST/test2_propagated.fits')"
   ]
  },
  {
   "cell_type": "code",
   "execution_count": 22,
   "metadata": {},
   "outputs": [],
   "source": [
    "\n",
    "mysample = starsample('/Users/mncavieres/Documents/2024-2/HVS/Data/speedystar_catalogs/from_MIST/test2_propagated.fits')"
   ]
  },
  {
   "cell_type": "markdown",
   "metadata": {},
   "source": [
    "### Subsetting the catalogue\n",
    "\n",
    "So far we've ejected and propagated everything, including fast and slow stars. If we're only interested in the hypervelocity stars, we can use boolean indexing on a speedystar object."
   ]
  },
  {
   "cell_type": "code",
   "execution_count": 20,
   "metadata": {},
   "outputs": [
    {
     "name": "stdout",
     "output_type": "stream",
     "text": [
      "Size of the entire sample: 1000\n",
      "Size of the fast sample: 360\n"
     ]
    }
   ],
   "source": [
    "fast = mysample.GCv > mysample.Vesc\n",
    "\n",
    "print('Size of the entire sample: '+str(mysample.size))\n",
    "\n",
    "mysample = mysample[fast]\n",
    "print('Size of the fast sample: '+str(mysample.size))"
   ]
  },
  {
   "cell_type": "markdown",
   "metadata": {},
   "source": [
    "### Mock observations of the sample\n",
    "\n",
    "We next have to figure out how bright each of the stars is, otherwise we don't know which of the stars would be detectable today or in the near future. `speedystar` is able to calculate the apparent magnitudes of the sample in a variety of photometric bassbands (e.g. Gaia G/G_BP/G_RP/G_RVS, Johnson-Cousins UBVRI, SDSS/LSST ugriz, VISTA JHK) depending on the mass, temperature and radius of the stars along with their distance and position on the sky.\n",
    "\n"
   ]
  },
  {
   "cell_type": "code",
   "execution_count": 15,
   "metadata": {},
   "outputs": [],
   "source": [
    "mysample.met = np.array([0.2]*1000)"
   ]
  },
  {
   "cell_type": "code",
   "execution_count": 23,
   "metadata": {},
   "outputs": [
    {
     "name": "stdout",
     "output_type": "stream",
     "text": [
      "WARNING: speedystar mock magnitudes are unreliable for stars with metallicities outside the range [-0.3, +0.3]. Some stars outside this range are present in the sample. Proceed with caution.\n"
     ]
    },
    {
     "name": "stderr",
     "output_type": "stream",
     "text": [
      "Calculating magnitudes:  33%|███▎      | 2/6 [00:00<00:00,  4.72it/s]"
     ]
    },
    {
     "name": "stdout",
     "output_type": "stream",
     "text": [
      "/Users/mncavieres/Documents/2024-2/HVS/speedystar_v2/speedystar/utils/MIST_photometry.py:815: RuntimeWarning: invalid value encountered in log10\n",
      "  VMag0 = MbolSun - 2.5*np.log10(Lum.value) - BC\n",
      "\n"
     ]
    },
    {
     "name": "stderr",
     "output_type": "stream",
     "text": [
      "Calculating magnitudes:  50%|█████     | 3/6 [00:00<00:00,  3.45it/s]"
     ]
    },
    {
     "name": "stdout",
     "output_type": "stream",
     "text": [
      "/Users/mncavieres/Documents/2024-2/HVS/speedystar_v2/speedystar/utils/MIST_photometry.py:830: RuntimeWarning: invalid value encountered in log10\n",
      "  IMag0 = MbolSun - 2.5*np.log10(Lum.value) - BC\n",
      "\n"
     ]
    },
    {
     "name": "stderr",
     "output_type": "stream",
     "text": [
      "Calculating magnitudes:  67%|██████▋   | 4/6 [00:01<00:00,  2.93it/s]"
     ]
    },
    {
     "name": "stdout",
     "output_type": "stream",
     "text": [
      "/Users/mncavieres/Documents/2024-2/HVS/speedystar_v2/speedystar/utils/MIST_photometry.py:838: RuntimeWarning: invalid value encountered in log10\n",
      "  GMag0 = MbolSun - 2.5*np.log10(Lum.value) - BC\n",
      "\n"
     ]
    },
    {
     "name": "stderr",
     "output_type": "stream",
     "text": [
      "Calculating magnitudes:  83%|████████▎ | 5/6 [00:01<00:00,  2.77it/s]"
     ]
    },
    {
     "name": "stdout",
     "output_type": "stream",
     "text": [
      "/Users/mncavieres/Documents/2024-2/HVS/speedystar_v2/speedystar/utils/MIST_photometry.py:846: RuntimeWarning: invalid value encountered in log10\n",
      "  RPMag0 = MbolSun - 2.5*np.log10(Lum.value) - BC\n",
      "\n"
     ]
    },
    {
     "name": "stderr",
     "output_type": "stream",
     "text": [
      "Calculating magnitudes: 100%|██████████| 6/6 [00:04<00:00,  1.39it/s]"
     ]
    },
    {
     "name": "stdout",
     "output_type": "stream",
     "text": [
      "/Users/mncavieres/Documents/2024-2/HVS/speedystar_v2/speedystar/utils/MIST_photometry.py:854: RuntimeWarning: invalid value encountered in log10\n",
      "  BPMag0 = MbolSun - 2.5*np.log10(Lum.value) - BC\n",
      "\n"
     ]
    },
    {
     "name": "stderr",
     "output_type": "stream",
     "text": [
      "\n"
     ]
    }
   ],
   "source": [
    "\n",
    "# # Select only HVSs that are fast\n",
    "# fast = mysample.GCv > mysample.Vesc\n",
    "# mysample = mysample[fast]\n",
    "\n",
    "#Assign the dust map. Will be downloaded if it doesn't already exist in the working directory or where you've\n",
    "#   specified above\n",
    "mysample.dust = mwdust.Combined15()\n",
    "\n",
    "#Get mock apparent magnitudes . By default magnitudes are computed in the Johnson-Cousins V and I bands \n",
    "#   and the Gaia G, G_RP, G_BP and G_RVS bands.\n",
    "#   By default this also returns Gaia astrometric and radial velocity errors assuming Gaia DR4 precision\n",
    "mysample.photometry()\n",
    "\n",
    "#Save the sample with mock photometry\n",
    "mysample.save('/Users/mncavieres/Documents/2024-2/HVS/Data/speedystar_catalogs/from_MIST/test2_propagated_phot.fits')"
   ]
  },
  {
   "cell_type": "code",
   "execution_count": 14,
   "metadata": {},
   "outputs": [
    {
     "name": "stderr",
     "output_type": "stream",
     "text": [
      "Calculating magnitudes: 100%|██████████| 6/6 [00:02<00:00,  2.16it/s]\n"
     ]
    }
   ],
   "source": [
    "#Load a pre-existing propagated sample, if needed\n",
    "mysample = starsample('./cat_propagated.fits')\n",
    "\n",
    "#Magnitudes are exctincted by Milky Way dust along the line of sight. Need to assign a dust map. \n",
    "#Dust map(s) must be downloaded if they do not already exist. They can be rather large, ~500 MB.\n",
    "\n",
    "#Uncomment this line and fill out a path if the dust map is located somewhere other than the working\n",
    "#   directory, or you want it downloaded somewhere other than the working directory\n",
    "#mysample.config_dust('/path/to/where/you/want/the/dust/map')\n",
    "\n",
    "#Assign the dust map. Will be downloaded if it doesn't already exist in the working directory or where you've\n",
    "#   specified above\n",
    "mysample.dust = mwdust.Combined15()\n",
    "\n",
    "#Get mock apparent magnitudes . By default magnitudes are computed in the Johnson-Cousins V and I bands \n",
    "#   and the Gaia G, G_RP, G_BP and G_RVS bands.\n",
    "#   By default this also returns Gaia astrometric and radial velocity errors assuming Gaia DR4 precision\n",
    "mysample.photometry()\n",
    "\n",
    "#Save the sample with mock photometry\n",
    "mysample.save('./cat_photometry.fits')"
   ]
  },
  {
   "cell_type": "markdown",
   "metadata": {},
   "source": [
    "### Gaia detectability\n",
    " Finally, let's determine which stars would be detectable in Gaia Data Release 3.\n",
    " \n",
    " Gaia magnitude cuts can be performed using mysample[...], but they're also implemented directly in `speedystar.subsample` for simplicity, along with some other common cuts. These cuts will also automatically calculate DR3 mock Gaia errors.\n"
   ]
  },
  {
   "cell_type": "code",
   "execution_count": 15,
   "metadata": {},
   "outputs": [
    {
     "name": "stderr",
     "output_type": "stream",
     "text": [
      "100%|██████████| 100/100 [00:10<00:00,  9.95it/s]\n"
     ]
    }
   ],
   "source": [
    "detectable_dr3_path = '/Users/mncavieres/Documents/2024-2/HVS/speedystar/simulated_catalogs/detectable_DR3'\n",
    "\n",
    "for catalog in tqdm.tqdm(os.listdir(photometric_catalogs_path)):\n",
    "    if not catalog.endswith('.fits'):\n",
    "        pass\n",
    "    # Load photometric sample\n",
    "    mysample = starsample(os.path.join(photometric_catalogs_path, catalog))\n",
    "\n",
    "    #Determine which stars would be in principle detectable in Gaia DR3 and recalculate errors\n",
    "    mysample.subsample('Gaia_DR3')\n",
    "\n",
    "    #Save the cut sample\n",
    "    mysample.save(os.path.join(detectable_dr3_path, catalog))"
   ]
  },
  {
   "cell_type": "code",
   "execution_count": 15,
   "metadata": {},
   "outputs": [
    {
     "name": "stdout",
     "output_type": "stream",
     "text": [
      "Number of stars in Gaia DR3: 95\n",
      "Number of stars in Gaia DR4 with radial velocity: 4\n"
     ]
    }
   ],
   "source": [
    "#Load a pre-existing sample with photometry, if needed\n",
    "mysample = starsample('./cat_photometry.fits')\n",
    "\n",
    "#Determine which stars would be in principle detectable in Gaia DR3 and recalculate errors\n",
    "mysample.subsample('Gaia_DR3')\n",
    "\n",
    "#Save the cut sample\n",
    "mysample.save('./cat_gaiaDR3.fits')\n",
    "print('Number of stars in Gaia DR3: '+str(mysample.size))\n",
    "\n",
    "#Determine which stars would be in principle detectable in the subsample of Gaia DR4 with\n",
    "#   measured radial velocities.\n",
    "mysample.subsample('Gaia_6D_DR4')\n",
    "\n",
    "#Save the cut sample\n",
    "mysample.save('./cat_gaiaDR4_6D.fits')\n",
    "print('Number of stars in Gaia DR4 with radial velocity: '+str(mysample.size))\n"
   ]
  },
  {
   "cell_type": "code",
   "execution_count": 17,
   "metadata": {},
   "outputs": [
    {
     "name": "stdout",
     "output_type": "stream",
     "text": [
      "Number of stars in Gaia DR4: 95\n"
     ]
    }
   ],
   "source": [
    "#Load a pre-existing sample with photometry, if needed\n",
    "mysample = starsample('./cat_photometry.fits')\n",
    "mysample.subsample('Gaia_DR4')\n",
    "\n",
    "#Save the cut sample\n",
    "mysample.save('./cat_gaiaDR4.fits')\n",
    "print('Number of stars in Gaia DR4: '+str(mysample.size))"
   ]
  },
  {
   "cell_type": "code",
   "execution_count": 20,
   "metadata": {},
   "outputs": [
    {
     "name": "stdout",
     "output_type": "stream",
     "text": [
      "Number of stars in Gaia DR4: 4\n"
     ]
    }
   ],
   "source": [
    "#Load a pre-existing sample with photometry, if needed\n",
    "mysample = starsample('./cat_photometry.fits')\n",
    "mysample.subsample('Gaia_6D_DR4')\n",
    "print('Number of stars in Gaia DR4: '+str(mysample.size))"
   ]
  },
  {
   "cell_type": "code",
   "execution_count": null,
   "metadata": {},
   "outputs": [],
   "source": []
  }
 ],
 "metadata": {
  "kernelspec": {
   "display_name": "speedytest2",
   "language": "python",
   "name": "python3"
  },
  "language_info": {
   "codemirror_mode": {
    "name": "ipython",
    "version": 3
   },
   "file_extension": ".py",
   "mimetype": "text/x-python",
   "name": "python",
   "nbconvert_exporter": "python",
   "pygments_lexer": "ipython3",
   "version": "3.12.7"
  }
 },
 "nbformat": 4,
 "nbformat_minor": 2
}
