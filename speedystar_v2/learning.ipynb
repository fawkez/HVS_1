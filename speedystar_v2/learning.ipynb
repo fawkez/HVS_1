{
 "cells": [
  {
   "cell_type": "markdown",
   "metadata": {},
   "source": [
    "### Your first hypervelocity star catalogue\n",
    "\n",
    "`speedystar` is a python package which will allow you to generate, evolve, propagate and perform mock observations of single stars ejected at high velocities.\n",
    "\n",
    "### Getting Started\n",
    "\n",
    "Make sure this notebook is in the parent directory of `speedystar/`. The package itself is not large, but performing mock observations requires downloading a Milky Way dust map which by default is ~500 MB. This free space is assumed to be in the current working directory by default, but does not have to be (see below).\n",
    "\n",
    "We currently do not recommend installing `speedystar` globally using pip since that prevents you from editing the source code directly.\n",
    "\n",
    "`speedystar` uses a number of Python packages. Some of these which might not already be included in your Python distribution are astropy, galpy, mwdust and pygaia. Simply run this notebook and conda or pip install any package that doesn't exist.\n",
    "\n",
    "More accurate treatments of the Gaia selection functions and astrometric spread function also require the Python packages scanninglaw and gaiaunlimited. These packages currently do not support Windows since they rely on the healpy package, but can be installed using Windows Subsystem for Linux (WSL).\n",
    "\n",
    "### Documentation\n",
    "\n",
    "help(speedystar.starsample) will display the names and descriptions of every method in `speedystar`, as well as descriptions of common column names.\n",
    "\n",
    "### Outputs\n",
    "\n",
    "`speedystar` outputs are .fits tables containing useful info for each mock star as well as metadata describing the assumptions that go into the sample. They can be accessed using astropy.table or with [Topcat](https://www.star.bris.ac.uk/~mbt/topcat/) or however else you'd like to read them.\n"
   ]
  },
  {
   "cell_type": "code",
   "execution_count": 1,
   "metadata": {},
   "outputs": [
    {
     "name": "stdout",
     "output_type": "stream",
     "text": [
      "/Users/mncavieres/opt/anaconda3/envs/speedytest2/lib/python3.12/site-packages/requests/__init__.py:86: RequestsDependencyWarning: Unable to find acceptable character detection dependency (chardet or charset_normalizer).\n",
      "  warnings.warn(\n",
      "\n"
     ]
    }
   ],
   "source": [
    "#Import what you need\n",
    "import numpy as np\n",
    "import os\n",
    "#os.chdir('/mnt/c/Users/frase/')\n",
    "from speedystar import starsample\n",
    "from speedystar.eject import Hills\n",
    "from speedystar.eject import HillsFromCatalog\n",
    "from speedystar.utils.mwpotential import MWPotential\n",
    "import astropy.units as u\n",
    "from galpy import potential\n",
    "import mwdust\n",
    "from tqdm import tqdm\n",
    "import matplotlib.pyplot as plt\n",
    "from astropy.table import Table\n",
    "#Print a lot of documentation\n",
    "#help(starsample)"
   ]
  },
  {
   "cell_type": "markdown",
   "metadata": {},
   "source": [
    "### Ejecting a sample\n",
    "\n",
    "We're now ready to eject some stars!\n",
    "\n",
    "The 'typical' way to eject hypervelocity stars is via the Hills Mechanism, in which a stellar binary approaches Sgr A* on a very low-angular momentum orbit. At a particular distance from Sgr A*, the tidal forces across the binary surpass the gravitational binding energy of the binary itself and the binary is separated. One star is captured in orbit around Sgr A* and the other is flung away at a velocities up to several thousand km/s. Stars ejected above the escape velocity of the Galaxy are hypervelocity stars (HVSs) -- they will eventually escape the Galaxy entirely. Note that there will also be a population of stars ejected slowly as well, which will not escape the inner Galaxy and might survive to interact again with Sgr A*.\n",
    "\n",
    "<p align=\"center\">\n",
    "<img src =\"https://www.universetoday.com/wp-content/uploads/2023/01/hills-mechanism.jpg\" width=\"50%\" height=\"50%\">\n",
    "</p>\n",
    "\n",
    "With `speedystar` you first generate a sample of stars at the moment of ejection. The number of stars and their masses/metallicities/velocities/flight times/evolutionary stages depend a lot on assumptions you make about stars and binaries in the Galactic Centre, see [Evans+2022](https://ui.adsabs.harvard.edu/abs/2022MNRAS.512.2350E/abstract) for more details.\n"
   ]
  },
  {
   "cell_type": "markdown",
   "metadata": {},
   "source": [
    "## Build a simple catalog"
   ]
  },
  {
   "cell_type": "code",
   "execution_count": 2,
   "metadata": {},
   "outputs": [],
   "source": [
    "simulated_catalogs_path = '/Users/mncavieres/Documents/2024-2/HVS/Data/speedystar_catalogs/from_MIST'"
   ]
  },
  {
   "cell_type": "code",
   "execution_count": 6,
   "metadata": {},
   "outputs": [],
   "source": [
    "# load MIST isochrone simulated catalog\n",
    "#catalog_mist = Table.read('/Users/mncavieres/Documents/2024-2/HVS/Data/SFH_sampling_catalogs/MIST_photometry/sample_NSC_with_photometry.fits')\n",
    "catalog_mist = Table.read('/Users/mncavieres/Documents/2024-2/HVS/Data/importance_sampling/uniform_eep.fits')"
   ]
  },
  {
   "cell_type": "code",
   "execution_count": 7,
   "metadata": {},
   "outputs": [],
   "source": [
    "# subsample the catalog\n",
    "catalog_mist = catalog_mist[np.random.choice(len(catalog_mist), 100000, replace=False)]"
   ]
  },
  {
   "cell_type": "code",
   "execution_count": 8,
   "metadata": {},
   "outputs": [
    {
     "data": {
      "text/html": [
       "<div><i>Table length=100000</i>\n",
       "<table id=\"table6279493488\" class=\"table-striped table-bordered table-condensed\">\n",
       "<thead><tr><th>mass</th><th>radius</th><th>Teff</th><th>age</th><th>logL</th><th>logg</th><th>initial_mass</th><th>feh</th><th>eep</th><th>G</th><th>BP</th><th>RP</th></tr></thead>\n",
       "<thead><tr><th>float64</th><th>float64</th><th>float64</th><th>float64</th><th>float64</th><th>float64</th><th>float64</th><th>float64</th><th>float64</th><th>float64</th><th>float64</th><th>float64</th></tr></thead>\n",
       "<tr><td>0.68124096525</td><td>0.625904636798</td><td>4109.65856861</td><td>8.3297825473</td><td>-0.998004124307</td><td>4.67864054734</td><td>0.681242841067</td><td>0.25</td><td>220.0</td><td>7.62937619872</td><td>8.42211544074</td><td>6.77506791051</td></tr>\n",
       "<tr><td>7.48878806572</td><td>446.02641213</td><td>3308.33359909</td><td>7.65761892582</td><td>4.33114442043</td><td>0.0144657027258</td><td>7.62626523475</td><td>0.25</td><td>795.0</td><td>-4.25079268537</td><td>-2.18071410013</td><td>-5.47902378785</td></tr>\n",
       "<tr><td>8.71166197399</td><td>301.278981653</td><td>3558.78962298</td><td>7.49045320371</td><td>4.11326471334</td><td>0.424196454915</td><td>8.72603524534</td><td>0.25</td><td>630.0</td><td>-4.50233339196</td><td>-3.21066844774</td><td>-5.57145774491</td></tr>\n",
       "<tr><td>5.28272839389</td><td>107.41088144</td><td>3877.98832324</td><td>7.97655517921</td><td>3.37041589256</td><td>1.09957267601</td><td>5.2878715648</td><td>0.25</td><td>629.0</td><td>-3.10510631762</td><td>-2.20659777025</td><td>-4.0111182459</td></tr>\n",
       "<tr><td>3.00915011225</td><td>11.284969002</td><td>5623.34135202</td><td>8.61271336576</td><td>2.05937467985</td><td>2.81173644172</td><td>3.01125699435</td><td>0.25</td><td>509.0</td><td>-0.502600761059</td><td>-0.150172818581</td><td>-1.01407963201</td></tr>\n",
       "<tr><td>4.31599511089</td><td>71.9884799251</td><td>4000.99237568</td><td>8.19754663423</td><td>3.07771138433</td><td>1.35869553107</td><td>4.31982351418</td><td>0.25</td><td>629.0</td><td>-2.50390246073</td><td>-1.69637867433</td><td>-3.36102921754</td></tr>\n",
       "<tr><td>4.43226741598</td><td>23.1986595569</td><td>5717.51957175</td><td>8.1638279276</td><td>2.71414497105</td><td>2.35399736563</td><td>4.43525530783</td><td>0.25</td><td>531.0</td><td>-2.15260426511</td><td>-1.81465746821</td><td>-2.64647951913</td></tr>\n",
       "<tr><td>4.44301982705</td><td>21.5519938247</td><td>6035.62618368</td><td>8.16111020272</td><td>2.7442170369</td><td>2.41900505308</td><td>4.44601110394</td><td>0.25</td><td>525.0</td><td>-2.24802906347</td><td>-1.96040887706</td><td>-2.68413210363</td></tr>\n",
       "<tr><td>7.5011779632</td><td>201.806662513</td><td>3702.16699738</td><td>7.62613224147</td><td>3.83807648649</td><td>0.70362768262</td><td>7.51132357993</td><td>0.25</td><td>633.0</td><td>-4.06339461831</td><td>-2.99642188152</td><td>-5.04685515405</td></tr>\n",
       "<tr><td>...</td><td>...</td><td>...</td><td>...</td><td>...</td><td>...</td><td>...</td><td>...</td><td>...</td><td>...</td><td>...</td><td>...</td></tr>\n",
       "<tr><td>1.03947131171</td><td>63.1894823203</td><td>3457.23734227</td><td>10.068130208</td><td>2.71084619887</td><td>0.853652687217</td><td>1.04981004848</td><td>0.25</td><td>575.0</td><td>-0.700264545097</td><td>0.88220338718</td><td>-1.84648831015</td></tr>\n",
       "<tr><td>9.18170917343</td><td>68.4560502875</td><td>6601.61484694</td><td>7.43726901319</td><td>3.90330972014</td><td>1.73057099645</td><td>9.25606389748</td><td>0.25</td><td>538.0</td><td>-5.16285464663</td><td>-4.96366197055</td><td>-5.48534555615</td></tr>\n",
       "<tr><td>4.82818122941</td><td>4.13476518713</td><td>14227.4948908</td><td>7.87938520067</td><td>2.79995035228</td><td>3.88900788004</td><td>4.82953694147</td><td>0.25</td><td>350.0</td><td>-1.23550812182</td><td>-1.33246320075</td><td>-1.10927870067</td></tr>\n",
       "<tr><td>6.76502663686</td><td>3.38266977302</td><td>19349.7144924</td><td>6.30594732438</td><td>3.15980603222</td><td>4.20988489177</td><td>6.76511329132</td><td>0.25</td><td>250.0</td><td>-1.35375674601</td><td>-1.507452456</td><td>-1.15534736835</td></tr>\n",
       "<tr><td>5.14579095817</td><td>3.1394950829</td><td>16009.0326748</td><td>7.27104369526</td><td>2.76567723975</td><td>4.15585157775</td><td>5.14610142215</td><td>0.25</td><td>305.0</td><td>-0.849098435596</td><td>-0.968187278597</td><td>-0.695761971298</td></tr>\n",
       "<tr><td>0.563188920018</td><td>0.512025458849</td><td>3780.22474574</td><td>8.32300175232</td><td>-1.3176131606</td><td>4.77066863501</td><td>0.563190208256</td><td>0.25</td><td>210.0</td><td>8.67210205856</td><td>9.6903793518</td><td>7.69741319604</td></tr>\n",
       "<tr><td>6.80758315805</td><td>4.35121167583</td><td>18400.9179849</td><td>7.40178287363</td><td>3.29120659963</td><td>3.9939166471</td><td>6.80878246562</td><td>0.25</td><td>340.0</td><td>-1.8144748746</td><td>-1.95991527738</td><td>-1.62708240086</td></tr>\n",
       "<tr><td>9.00814994005</td><td>61.6140003748</td><td>6898.58987621</td><td>7.45708878709</td><td>3.88894826277</td><td>1.81345642085</td><td>9.02668863211</td><td>0.25</td><td>534.0</td><td>-5.14374429731</td><td>-4.98576675058</td><td>-5.40624244933</td></tr>\n",
       "<tr><td>4.47685449255</td><td>70.5786011251</td><td>4044.88702313</td><td>8.21934453604</td><td>3.078183602</td><td>1.39307695766</td><td>4.48627979367</td><td>0.25</td><td>735.0</td><td>-2.52642865364</td><td>-1.74016264037</td><td>-3.37018154585</td></tr>\n",
       "<tr><td>4.25929615678</td><td>12.9091676146</td><td>8015.41865654</td><td>8.2079999246</td><td>2.79184824781</td><td>2.84570443216</td><td>4.26215391705</td><td>0.25</td><td>490.0</td><td>-2.32882597031</td><td>-2.26682646137</td><td>-2.43479995973</td></tr>\n",
       "</table></div>"
      ],
      "text/plain": [
       "<Table length=100000>\n",
       "     mass          radius          Teff     ...        BP              RP      \n",
       "   float64        float64        float64    ...     float64         float64    \n",
       "-------------- -------------- ------------- ... --------------- ---------------\n",
       " 0.68124096525 0.625904636798 4109.65856861 ...   8.42211544074   6.77506791051\n",
       " 7.48878806572   446.02641213 3308.33359909 ...  -2.18071410013  -5.47902378785\n",
       " 8.71166197399  301.278981653 3558.78962298 ...  -3.21066844774  -5.57145774491\n",
       " 5.28272839389   107.41088144 3877.98832324 ...  -2.20659777025   -4.0111182459\n",
       " 3.00915011225   11.284969002 5623.34135202 ... -0.150172818581  -1.01407963201\n",
       " 4.31599511089  71.9884799251 4000.99237568 ...  -1.69637867433  -3.36102921754\n",
       " 4.43226741598  23.1986595569 5717.51957175 ...  -1.81465746821  -2.64647951913\n",
       " 4.44301982705  21.5519938247 6035.62618368 ...  -1.96040887706  -2.68413210363\n",
       "  7.5011779632  201.806662513 3702.16699738 ...  -2.99642188152  -5.04685515405\n",
       "           ...            ...           ... ...             ...             ...\n",
       " 1.03947131171  63.1894823203 3457.23734227 ...   0.88220338718  -1.84648831015\n",
       " 9.18170917343  68.4560502875 6601.61484694 ...  -4.96366197055  -5.48534555615\n",
       " 4.82818122941  4.13476518713 14227.4948908 ...  -1.33246320075  -1.10927870067\n",
       " 6.76502663686  3.38266977302 19349.7144924 ...    -1.507452456  -1.15534736835\n",
       " 5.14579095817   3.1394950829 16009.0326748 ... -0.968187278597 -0.695761971298\n",
       "0.563188920018 0.512025458849 3780.22474574 ...    9.6903793518   7.69741319604\n",
       " 6.80758315805  4.35121167583 18400.9179849 ...  -1.95991527738  -1.62708240086\n",
       " 9.00814994005  61.6140003748 6898.58987621 ...  -4.98576675058  -5.40624244933\n",
       " 4.47685449255  70.5786011251 4044.88702313 ...  -1.74016264037  -3.37018154585\n",
       " 4.25929615678  12.9091676146 8015.41865654 ...  -2.26682646137  -2.43479995973"
      ]
     },
     "execution_count": 8,
     "metadata": {},
     "output_type": "execute_result"
    }
   ],
   "source": [
    "catalog_mist"
   ]
  },
  {
   "cell_type": "code",
   "execution_count": 9,
   "metadata": {},
   "outputs": [],
   "source": [
    "# age comes from MIST as log10(age) in years, convert to Myr for speedystar\n",
    "age = 10**catalog_mist['age']/1e6\n",
    "catalog_mist['age'] = age"
   ]
  },
  {
   "cell_type": "code",
   "execution_count": 10,
   "metadata": {},
   "outputs": [],
   "source": [
    "ejectionmodel = HillsFromCatalog(\n",
    "    catalog=catalog_mist,\n",
    "    rate=1e-4/u.yr,  # Same rate parameter as in the original model\n",
    "    kappa=0,         # Log-slope of the IMF (not used here, but must be passed)\n",
    "    amuseflag=True,  # Keep the flag for consistency\n",
    "    Met=0.25         # Metallicity (not used here, but for interface consistency)\n",
    ")\n",
    "mysample = starsample(ejectionmodel, name = 'MIST')"
   ]
  },
  {
   "cell_type": "code",
   "execution_count": 11,
   "metadata": {},
   "outputs": [],
   "source": [
    "mysample.saveall('/Users/mncavieres/Documents/2024-2/HVS/Data/speedystar_catalogs/from_MIST/test_eep_1e4.fits')"
   ]
  },
  {
   "cell_type": "code",
   "execution_count": 12,
   "metadata": {},
   "outputs": [],
   "source": [
    "mysample = starsample('/Users/mncavieres/Documents/2024-2/HVS/Data/speedystar_catalogs/from_MIST/test_eep_1e4.fits')"
   ]
  },
  {
   "cell_type": "markdown",
   "metadata": {},
   "source": [
    "### Propagating the sample\n",
    "\n",
    "The 'ejection sample' consists of a population of stars freshly ejected from the centre of the Milky Way. Next we have to propagate them through the Galaxy (each at its own assigned flight time) to find out where they will be at the present day. To do this we will have to assume a potential for the Galaxy. \n",
    "\n",
    "<p align=\"center\">\n",
    "<img src =\"https://cdn.sci.news/images/enlarge4/image_5003e-Hypervelocity-Stars.jpg\" width=\"50%\" height=\"50%\">\n",
    "</p>\n"
   ]
  },
  {
   "cell_type": "code",
   "execution_count": 13,
   "metadata": {},
   "outputs": [
    {
     "name": "stderr",
     "output_type": "stream",
     "text": [
      "Propagating...: 100%|██████████| 100000/100000 [57:22<00:00, 29.05it/s] \n"
     ]
    }
   ],
   "source": [
    "#propagated_catalogs_path = simulated_catalogs_path\n",
    "#simulated_catalogs_path = '/Users/mncavieres/Documents/2024-2/HVS/speedystar/simulated_catalogs/top_heavy'\n",
    "\n",
    "# Assume a Galactic potential\n",
    "default_potential = MWPotential()\n",
    "#Ensure the potential has physical units so that the final positions and velocities have physical units too\n",
    "potential.turn_physical_on(default_potential)\n",
    "\n",
    "#Propagate sample. Positions / velocities are returned in Cartesian (x/y/z/v_x/v_y/v_z) and Galactic (l/b/dist/pm_l/pm_b/v_radial) and equatorial (ra/dec/dist/pm_ra/pm_dec/v_radial) coordinates\n",
    "mysample.propagate(potential = default_potential)"
   ]
  },
  {
   "cell_type": "code",
   "execution_count": 14,
   "metadata": {},
   "outputs": [],
   "source": [
    "#Save propagated sample\n",
    "mysample.saveall('/Users/mncavieres/Documents/2024-2/HVS/Data/speedystar_catalogs/from_MIST/test_eep_propagated_1e5.fits')"
   ]
  },
  {
   "cell_type": "code",
   "execution_count": 15,
   "metadata": {},
   "outputs": [],
   "source": [
    "\n",
    "mysample = starsample('/Users/mncavieres/Documents/2024-2/HVS/Data/speedystar_catalogs/from_MIST/test_eep_propagated_1e5.fits')"
   ]
  },
  {
   "cell_type": "markdown",
   "metadata": {},
   "source": [
    "### Subsetting the catalogue\n",
    "\n",
    "So far we've ejected and propagated everything, including fast and slow stars. If we're only interested in the hypervelocity stars, we can use boolean indexing on a speedystar object."
   ]
  },
  {
   "cell_type": "code",
   "execution_count": 3,
   "metadata": {},
   "outputs": [
    {
     "name": "stdout",
     "output_type": "stream",
     "text": [
      "Size of the entire sample: 1000\n",
      "Size of the fast sample: 245\n"
     ]
    }
   ],
   "source": [
    "fast = mysample.GCv > mysample.Vesc\n",
    "\n",
    "print('Size of the entire sample: '+str(mysample.size))\n",
    "\n",
    "mysample = mysample[fast]\n",
    "print('Size of the fast sample: '+str(mysample.size))"
   ]
  },
  {
   "cell_type": "markdown",
   "metadata": {},
   "source": [
    "### Mock observations of the sample\n",
    "\n",
    "We next have to figure out how bright each of the stars is, otherwise we don't know which of the stars would be detectable today or in the near future. `speedystar` is able to calculate the apparent magnitudes of the sample in a variety of photometric bassbands (e.g. Gaia G/G_BP/G_RP/G_RVS, Johnson-Cousins UBVRI, SDSS/LSST ugriz, VISTA JHK) depending on the mass, temperature and radius of the stars along with their distance and position on the sky.\n",
    "\n"
   ]
  },
  {
   "cell_type": "code",
   "execution_count": 15,
   "metadata": {},
   "outputs": [],
   "source": [
    "mysample.met = np.array([0.2]*1000)"
   ]
  },
  {
   "cell_type": "code",
   "execution_count": 16,
   "metadata": {},
   "outputs": [
    {
     "name": "stderr",
     "output_type": "stream",
     "text": [
      "Calculating magnitudes:  33%|███▎      | 2/6 [00:29<00:59, 14.88s/it]"
     ]
    },
    {
     "name": "stdout",
     "output_type": "stream",
     "text": [
      "/Users/mncavieres/Documents/2024-2/HVS/speedystar_v2/speedystar/utils/MIST_photometry.py:817: RuntimeWarning: invalid value encountered in log10\n",
      "  VMag0 = MbolSun - 2.5*np.log10(Lum.value) - BC\n",
      "\n"
     ]
    },
    {
     "name": "stderr",
     "output_type": "stream",
     "text": [
      "Calculating magnitudes:  50%|█████     | 3/6 [01:00<01:04, 21.49s/it]"
     ]
    },
    {
     "name": "stdout",
     "output_type": "stream",
     "text": [
      "/Users/mncavieres/Documents/2024-2/HVS/speedystar_v2/speedystar/utils/MIST_photometry.py:832: RuntimeWarning: invalid value encountered in log10\n",
      "  IMag0 = MbolSun - 2.5*np.log10(Lum.value) - BC\n",
      "\n"
     ]
    },
    {
     "name": "stderr",
     "output_type": "stream",
     "text": [
      "Calculating magnitudes:  67%|██████▋   | 4/6 [01:30<00:49, 24.51s/it]"
     ]
    },
    {
     "name": "stdout",
     "output_type": "stream",
     "text": [
      "/Users/mncavieres/Documents/2024-2/HVS/speedystar_v2/speedystar/utils/MIST_photometry.py:840: RuntimeWarning: invalid value encountered in log10\n",
      "  GMag0 = MbolSun - 2.5*np.log10(Lum.value) - BC\n",
      "\n"
     ]
    },
    {
     "name": "stderr",
     "output_type": "stream",
     "text": [
      "Calculating magnitudes:  83%|████████▎ | 5/6 [02:00<00:26, 26.46s/it]"
     ]
    },
    {
     "name": "stdout",
     "output_type": "stream",
     "text": [
      "/Users/mncavieres/Documents/2024-2/HVS/speedystar_v2/speedystar/utils/MIST_photometry.py:848: RuntimeWarning: invalid value encountered in log10\n",
      "  RPMag0 = MbolSun - 2.5*np.log10(Lum.value) - BC\n",
      "\n"
     ]
    },
    {
     "name": "stderr",
     "output_type": "stream",
     "text": [
      "Calculating magnitudes: 100%|██████████| 6/6 [02:30<00:00, 27.64s/it]"
     ]
    },
    {
     "name": "stdout",
     "output_type": "stream",
     "text": [
      "/Users/mncavieres/Documents/2024-2/HVS/speedystar_v2/speedystar/utils/MIST_photometry.py:856: RuntimeWarning: invalid value encountered in log10\n",
      "  BPMag0 = MbolSun - 2.5*np.log10(Lum.value) - BC\n",
      "\n"
     ]
    },
    {
     "name": "stderr",
     "output_type": "stream",
     "text": [
      "Calculating magnitudes: 100%|██████████| 6/6 [02:31<00:00, 25.21s/it]\n"
     ]
    }
   ],
   "source": [
    "\n",
    "# # Select only HVSs that are fast\n",
    "# fast = mysample.GCv > mysample.Vesc\n",
    "# mysample = mysample[fast]\n",
    "\n",
    "#Assign the dust map. Will be downloaded if it doesn't already exist in the working directory or where you've\n",
    "#   specified above\n",
    "mysample.dust = mwdust.Combined15()\n",
    "\n",
    "#Get mock apparent magnitudes . By default magnitudes are computed in the Johnson-Cousins V and I bands \n",
    "#   and the Gaia G, G_RP, G_BP and G_RVS bands.\n",
    "#   By default this also returns Gaia astrometric and radial velocity errors assuming Gaia DR4 precision\n",
    "mysample.photometry()\n",
    "\n",
    "#Save the sample with mock photometry\n",
    "mysample.save('/Users/mncavieres/Documents/2024-2/HVS/Data/speedystar_catalogs/from_MIST/test_eep_propagated_phot_1e5.fits')"
   ]
  },
  {
   "cell_type": "code",
   "execution_count": 14,
   "metadata": {},
   "outputs": [
    {
     "name": "stderr",
     "output_type": "stream",
     "text": [
      "Calculating magnitudes: 100%|██████████| 6/6 [00:02<00:00,  2.16it/s]\n"
     ]
    }
   ],
   "source": [
    "#Load a pre-existing propagated sample, if needed\n",
    "mysample = starsample('./cat_propagated.fits')\n",
    "\n",
    "#Magnitudes are exctincted by Milky Way dust along the line of sight. Need to assign a dust map. \n",
    "#Dust map(s) must be downloaded if they do not already exist. They can be rather large, ~500 MB.\n",
    "\n",
    "#Uncomment this line and fill out a path if the dust map is located somewhere other than the working\n",
    "#   directory, or you want it downloaded somewhere other than the working directory\n",
    "#mysample.config_dust('/path/to/where/you/want/the/dust/map')\n",
    "\n",
    "#Assign the dust map. Will be downloaded if it doesn't already exist in the working directory or where you've\n",
    "#   specified above\n",
    "mysample.dust = mwdust.Combined15()\n",
    "\n",
    "#Get mock apparent magnitudes . By default magnitudes are computed in the Johnson-Cousins V and I bands \n",
    "#   and the Gaia G, G_RP, G_BP and G_RVS bands.\n",
    "#   By default this also returns Gaia astrometric and radial velocity errors assuming Gaia DR4 precision\n",
    "mysample.photometry()\n",
    "\n",
    "#Save the sample with mock photometry\n",
    "mysample.save('./cat_photometry.fits')"
   ]
  },
  {
   "cell_type": "markdown",
   "metadata": {},
   "source": [
    "### Gaia detectability\n",
    " Finally, let's determine which stars would be detectable in Gaia Data Release 3.\n",
    " \n",
    " Gaia magnitude cuts can be performed using mysample[...], but they're also implemented directly in `speedystar.subsample` for simplicity, along with some other common cuts. These cuts will also automatically calculate DR3 mock Gaia errors.\n"
   ]
  },
  {
   "cell_type": "code",
   "execution_count": 15,
   "metadata": {},
   "outputs": [
    {
     "name": "stderr",
     "output_type": "stream",
     "text": [
      "100%|██████████| 100/100 [00:10<00:00,  9.95it/s]\n"
     ]
    }
   ],
   "source": [
    "detectable_dr3_path = '/Users/mncavieres/Documents/2024-2/HVS/speedystar/simulated_catalogs/detectable_DR3'\n",
    "\n",
    "for catalog in tqdm.tqdm(os.listdir(photometric_catalogs_path)):\n",
    "    if not catalog.endswith('.fits'):\n",
    "        pass\n",
    "    # Load photometric sample\n",
    "    mysample = starsample(os.path.join(photometric_catalogs_path, catalog))\n",
    "\n",
    "    #Determine which stars would be in principle detectable in Gaia DR3 and recalculate errors\n",
    "    mysample.subsample('Gaia_DR3')\n",
    "\n",
    "    #Save the cut sample\n",
    "    mysample.save(os.path.join(detectable_dr3_path, catalog))"
   ]
  },
  {
   "cell_type": "code",
   "execution_count": 15,
   "metadata": {},
   "outputs": [
    {
     "name": "stdout",
     "output_type": "stream",
     "text": [
      "Number of stars in Gaia DR3: 95\n",
      "Number of stars in Gaia DR4 with radial velocity: 4\n"
     ]
    }
   ],
   "source": [
    "#Load a pre-existing sample with photometry, if needed\n",
    "mysample = starsample('./cat_photometry.fits')\n",
    "\n",
    "#Determine which stars would be in principle detectable in Gaia DR3 and recalculate errors\n",
    "mysample.subsample('Gaia_DR3')\n",
    "\n",
    "#Save the cut sample\n",
    "mysample.save('./cat_gaiaDR3.fits')\n",
    "print('Number of stars in Gaia DR3: '+str(mysample.size))\n",
    "\n",
    "#Determine which stars would be in principle detectable in the subsample of Gaia DR4 with\n",
    "#   measured radial velocities.\n",
    "mysample.subsample('Gaia_6D_DR4')\n",
    "\n",
    "#Save the cut sample\n",
    "mysample.save('./cat_gaiaDR4_6D.fits')\n",
    "print('Number of stars in Gaia DR4 with radial velocity: '+str(mysample.size))\n"
   ]
  },
  {
   "cell_type": "code",
   "execution_count": 17,
   "metadata": {},
   "outputs": [
    {
     "name": "stdout",
     "output_type": "stream",
     "text": [
      "Number of stars in Gaia DR4: 95\n"
     ]
    }
   ],
   "source": [
    "#Load a pre-existing sample with photometry, if needed\n",
    "mysample = starsample('./cat_photometry.fits')\n",
    "mysample.subsample('Gaia_DR4')\n",
    "\n",
    "#Save the cut sample\n",
    "mysample.save('./cat_gaiaDR4.fits')\n",
    "print('Number of stars in Gaia DR4: '+str(mysample.size))"
   ]
  },
  {
   "cell_type": "code",
   "execution_count": 20,
   "metadata": {},
   "outputs": [
    {
     "name": "stdout",
     "output_type": "stream",
     "text": [
      "Number of stars in Gaia DR4: 4\n"
     ]
    }
   ],
   "source": [
    "#Load a pre-existing sample with photometry, if needed\n",
    "mysample = starsample('./cat_photometry.fits')\n",
    "mysample.subsample('Gaia_6D_DR4')\n",
    "print('Number of stars in Gaia DR4: '+str(mysample.size))"
   ]
  },
  {
   "cell_type": "code",
   "execution_count": null,
   "metadata": {},
   "outputs": [],
   "source": []
  }
 ],
 "metadata": {
  "kernelspec": {
   "display_name": "speedytest2",
   "language": "python",
   "name": "python3"
  },
  "language_info": {
   "codemirror_mode": {
    "name": "ipython",
    "version": 3
   },
   "file_extension": ".py",
   "mimetype": "text/x-python",
   "name": "python",
   "nbconvert_exporter": "python",
   "pygments_lexer": "ipython3",
   "version": "3.12.7"
  }
 },
 "nbformat": 4,
 "nbformat_minor": 2
}
