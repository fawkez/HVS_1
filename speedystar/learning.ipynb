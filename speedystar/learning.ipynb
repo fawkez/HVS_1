{
 "cells": [
  {
   "cell_type": "markdown",
   "metadata": {},
   "source": [
    "### Your first hypervelocity star catalogue\n",
    "\n",
    "`speedystar` is a python package which will allow you to generate, evolve, propagate and perform mock observations of single stars ejected at high velocities.\n",
    "\n",
    "### Getting Started\n",
    "\n",
    "Make sure this notebook is in the parent directory of `speedystar/`. The package itself is not large, but performing mock observations requires downloading a Milky Way dust map which by default is ~500 MB. This free space is assumed to be in the current working directory by default, but does not have to be (see below).\n",
    "\n",
    "We currently do not recommend installing `speedystar` globally using pip since that prevents you from editing the source code directly.\n",
    "\n",
    "`speedystar` uses a number of Python packages. Some of these which might not already be included in your Python distribution are astropy, galpy, mwdust and pygaia. Simply run this notebook and conda or pip install any package that doesn't exist.\n",
    "\n",
    "More accurate treatments of the Gaia selection functions and astrometric spread function also require the Python packages scanninglaw and gaiaunlimited. These packages currently do not support Windows since they rely on the healpy package, but can be installed using Windows Subsystem for Linux (WSL).\n",
    "\n",
    "### Documentation\n",
    "\n",
    "help(speedystar.starsample) will display the names and descriptions of every method in `speedystar`, as well as descriptions of common column names.\n",
    "\n",
    "### Outputs\n",
    "\n",
    "`speedystar` outputs are .fits tables containing useful info for each mock star as well as metadata describing the assumptions that go into the sample. They can be accessed using astropy.table or with [Topcat](https://www.star.bris.ac.uk/~mbt/topcat/) or however else you'd like to read them.\n"
   ]
  },
  {
   "cell_type": "code",
   "execution_count": 1,
   "metadata": {},
   "outputs": [
    {
     "name": "stdout",
     "output_type": "stream",
     "text": [
      "/Users/mncavieres/opt/anaconda3/envs/speedytest2/lib/python3.12/site-packages/requests/__init__.py:86: RequestsDependencyWarning: Unable to find acceptable character detection dependency (chardet or charset_normalizer).\n",
      "  warnings.warn(\n",
      "\n"
     ]
    }
   ],
   "source": [
    "#Import what you need\n",
    "import numpy as np\n",
    "import os\n",
    "#os.chdir('/mnt/c/Users/frase/')\n",
    "from speedystar import starsample\n",
    "from speedystar.eject import Hills\n",
    "from speedystar.utils.mwpotential import MWPotential\n",
    "import astropy.units as u\n",
    "from galpy import potential\n",
    "import mwdust\n",
    "from tqdm import tqdm\n",
    "#Print a lot of documentation\n",
    "#help(starsample)"
   ]
  },
  {
   "cell_type": "markdown",
   "metadata": {},
   "source": [
    "### Ejecting a sample\n",
    "\n",
    "We're now ready to eject some stars!\n",
    "\n",
    "The 'typical' way to eject hypervelocity stars is via the Hills Mechanism, in which a stellar binary approaches Sgr A* on a very low-angular momentum orbit. At a particular distance from Sgr A*, the tidal forces across the binary surpass the gravitational binding energy of the binary itself and the binary is separated. One star is captured in orbit around Sgr A* and the other is flung away at a velocities up to several thousand km/s. Stars ejected above the escape velocity of the Galaxy are hypervelocity stars (HVSs) -- they will eventually escape the Galaxy entirely. Note that there will also be a population of stars ejected slowly as well, which will not escape the inner Galaxy and might survive to interact again with Sgr A*.\n",
    "\n",
    "<p align=\"center\">\n",
    "<img src =\"https://www.universetoday.com/wp-content/uploads/2023/01/hills-mechanism.jpg\" width=\"50%\" height=\"50%\">\n",
    "</p>\n",
    "\n",
    "With `speedystar` you first generate a sample of stars at the moment of ejection. The number of stars and their masses/metallicities/velocities/flight times/evolutionary stages depend a lot on assumptions you make about stars and binaries in the Galactic Centre, see [Evans+2022](https://ui.adsabs.harvard.edu/abs/2022MNRAS.512.2350E/abstract) for more details.\n"
   ]
  },
  {
   "cell_type": "markdown",
   "metadata": {},
   "source": [
    "## Build a simple catalog"
   ]
  },
  {
   "cell_type": "code",
   "execution_count": 2,
   "metadata": {},
   "outputs": [],
   "source": [
    "simulated_catalogs_path = '/Users/mncavieres/Documents/2024-2/HVS/speedystar/simulated_catalogs/new/evolved'"
   ]
  },
  {
   "cell_type": "code",
   "execution_count": null,
   "metadata": {},
   "outputs": [],
   "source": [
    "#  the mass of Sgr A*, the maximum flight time, etc.\n",
    "\n",
    "simulated_catalogs_path = '/Users/mncavieres/Documents/2024-2/HVS/speedystar/simulated_catalogs/top_heavy'\n",
    "ejectionmodel = Hills(rate=1e-4/u.yr, kappa=1.7, amuseflag= True, Met= 0.25)\n",
    "mysample = starsample(ejectionmodel, name='sill_copy')\n",
    "mysample.save(os.path.join(simulated_catalogs_path, f'cat_ejection_kappa_{1.7}.fits'))"
   ]
  },
  {
   "cell_type": "markdown",
   "metadata": {},
   "source": [
    "## Build for a range of IMF slopes"
   ]
  },
  {
   "cell_type": "code",
   "execution_count": null,
   "metadata": {},
   "outputs": [
    {
     "ename": "KeyboardInterrupt",
     "evalue": "",
     "output_type": "error",
     "traceback": [
      "\u001b[0;31m---------------------------------------------------------------------------\u001b[0m",
      "\u001b[0;31mKeyboardInterrupt\u001b[0m                         Traceback (most recent call last)",
      "Cell \u001b[0;32mIn[5], line 10\u001b[0m\n\u001b[1;32m      8\u001b[0m \u001b[38;5;28;01mfor\u001b[39;00m kappa \u001b[38;5;129;01min\u001b[39;00m kappa_range:\n\u001b[1;32m      9\u001b[0m     ejectionmodel \u001b[38;5;241m=\u001b[39m Hills(rate\u001b[38;5;241m=\u001b[39m\u001b[38;5;241m1e-2\u001b[39m\u001b[38;5;241m/\u001b[39mu\u001b[38;5;241m.\u001b[39myr, kappa\u001b[38;5;241m=\u001b[39mkappa, amuseflag\u001b[38;5;241m=\u001b[39m \u001b[38;5;28;01mTrue\u001b[39;00m, Met\u001b[38;5;241m=\u001b[39m \u001b[38;5;241m0.25\u001b[39m)\n\u001b[0;32m---> 10\u001b[0m     mysample \u001b[38;5;241m=\u001b[39m \u001b[43mstarsample\u001b[49m\u001b[43m(\u001b[49m\u001b[43mejectionmodel\u001b[49m\u001b[43m,\u001b[49m\u001b[43m \u001b[49m\u001b[43mname\u001b[49m\u001b[38;5;241;43m=\u001b[39;49m\u001b[38;5;124;43m'\u001b[39;49m\u001b[38;5;124;43msill_copy\u001b[39;49m\u001b[38;5;124;43m'\u001b[39;49m\u001b[43m)\u001b[49m\n\u001b[1;32m     11\u001b[0m     mysample\u001b[38;5;241m.\u001b[39msave(os\u001b[38;5;241m.\u001b[39mpath\u001b[38;5;241m.\u001b[39mjoin(simulated_catalogs_path, \u001b[38;5;124mf\u001b[39m\u001b[38;5;124m'\u001b[39m\u001b[38;5;124mcat_ejection_kappa_\u001b[39m\u001b[38;5;132;01m{\u001b[39;00mkappa\u001b[38;5;132;01m}\u001b[39;00m\u001b[38;5;124m.fits\u001b[39m\u001b[38;5;124m'\u001b[39m))\n",
      "File \u001b[0;32m~/Documents/2024-2/HVS/speedystar/speedystar/__init__.py:183\u001b[0m, in \u001b[0;36mstarsample.__init__\u001b[0;34m(self, inputdata, name, isExternal, **kwargs)\u001b[0m\n\u001b[1;32m    181\u001b[0m \u001b[38;5;66;03m#If inputdata is ejection model, create new ejection sample\u001b[39;00m\n\u001b[1;32m    182\u001b[0m \u001b[38;5;28;01mif\u001b[39;00m \u001b[38;5;28misinstance\u001b[39m(inputdata, EjectionModel):\n\u001b[0;32m--> 183\u001b[0m     \u001b[38;5;28;43mself\u001b[39;49m\u001b[38;5;241;43m.\u001b[39;49m\u001b[43m_eject\u001b[49m\u001b[43m(\u001b[49m\u001b[43minputdata\u001b[49m\u001b[43m,\u001b[49m\u001b[43m \u001b[49m\u001b[38;5;241;43m*\u001b[39;49m\u001b[38;5;241;43m*\u001b[39;49m\u001b[43mkwargs\u001b[49m\u001b[43m)\u001b[49m\n\u001b[1;32m    185\u001b[0m \u001b[38;5;66;03m# If inputdata is a filename and isExternal=True, \u001b[39;00m\n\u001b[1;32m    186\u001b[0m \u001b[38;5;66;03m# loads existing sample of star observations    \u001b[39;00m\n\u001b[1;32m    187\u001b[0m \u001b[38;5;28;01mif\u001b[39;00m(\u001b[38;5;28misinstance\u001b[39m(inputdata, \u001b[38;5;28mstr\u001b[39m) \u001b[38;5;129;01mand\u001b[39;00m (isExternal)):\n",
      "File \u001b[0;32m~/Documents/2024-2/HVS/speedystar/speedystar/__init__.py:217\u001b[0m, in \u001b[0;36mstarsample._eject\u001b[0;34m(self, ejmodel, **kwargs)\u001b[0m\n\u001b[1;32m    209\u001b[0m \u001b[38;5;28mself\u001b[39m\u001b[38;5;241m.\u001b[39mpropagated \u001b[38;5;241m=\u001b[39m \u001b[38;5;28;01mFalse\u001b[39;00m\n\u001b[1;32m    211\u001b[0m \u001b[38;5;66;03m# See ejmodel.sampler() for descriptions of returned attributes\u001b[39;00m\n\u001b[1;32m    212\u001b[0m \u001b[38;5;66;03m#self.r0, self.phi0, self.theta0, self.v0, self.phiv0, self.thetav0, \\\u001b[39;00m\n\u001b[1;32m    213\u001b[0m \u001b[38;5;66;03m#self.m, self.tage, self.tflight, self.a, self.P, self.q, self.mem, \\\u001b[39;00m\n\u001b[1;32m    214\u001b[0m \u001b[38;5;66;03m#self.met, self.stage, self.stagebefore, self.Rad, self.T_eff, \\\u001b[39;00m\n\u001b[1;32m    215\u001b[0m \u001b[38;5;66;03m#self.Lum, self.size = ejmodel.sampler(**kwargs)\u001b[39;00m\n\u001b[0;32m--> 217\u001b[0m ejargs \u001b[38;5;241m=\u001b[39m \u001b[43mejmodel\u001b[49m\u001b[38;5;241;43m.\u001b[39;49m\u001b[43msampler\u001b[49m\u001b[43m(\u001b[49m\u001b[38;5;241;43m*\u001b[39;49m\u001b[38;5;241;43m*\u001b[39;49m\u001b[43mkwargs\u001b[49m\u001b[43m)\u001b[49m\n\u001b[1;32m    219\u001b[0m \u001b[38;5;28;01mfor\u001b[39;00m key \u001b[38;5;129;01min\u001b[39;00m \u001b[38;5;28mlist\u001b[39m(ejargs\u001b[38;5;241m.\u001b[39mkeys()):\n\u001b[1;32m    220\u001b[0m     \u001b[38;5;28msetattr\u001b[39m(\u001b[38;5;28mself\u001b[39m,key,ejargs[key])\n",
      "File \u001b[0;32m~/Documents/2024-2/HVS/speedystar/speedystar/eject.py:1075\u001b[0m, in \u001b[0;36mHills.sampler\u001b[0;34m(self)\u001b[0m\n\u001b[1;32m   1059\u001b[0m met \u001b[38;5;241m=\u001b[39m \u001b[38;5;28mself\u001b[39m\u001b[38;5;241m.\u001b[39msample_met(n)\n\u001b[1;32m   1061\u001b[0m \u001b[38;5;28;01mif\u001b[39;00m \u001b[38;5;28mself\u001b[39m\u001b[38;5;241m.\u001b[39mamuseflag:\n\u001b[1;32m   1062\u001b[0m     \u001b[38;5;66;03m#Calculate stellar ages and remove stars that are remnants today\u001b[39;00m\n\u001b[1;32m   1063\u001b[0m     \u001b[38;5;66;03m#Calculating maximum lifetimes (taken here as the time from ZAMS \u001b[39;00m\n\u001b[0;32m   (...)\u001b[0m\n\u001b[1;32m   1072\u001b[0m     \u001b[38;5;66;03m#binary using the Hurley+2000 relation. These relations assume \u001b[39;00m\n\u001b[1;32m   1073\u001b[0m     \u001b[38;5;66;03m#Zsun=0.02, so might need to be adjusted if self.Zsun is different\u001b[39;00m\n\u001b[0;32m-> 1075\u001b[0m     T_maxbig \u001b[38;5;241m=\u001b[39m \u001b[43mget_t_MS\u001b[49m\u001b[43m(\u001b[49m\u001b[43mnp\u001b[49m\u001b[38;5;241;43m.\u001b[39;49m\u001b[43mmaximum\u001b[49m\u001b[43m(\u001b[49m\u001b[43mm\u001b[49m\u001b[43m,\u001b[49m\u001b[43mmc\u001b[49m\u001b[43m)\u001b[49m\u001b[43m,\u001b[49m\u001b[43mmet\u001b[49m\u001b[38;5;241;43m+\u001b[39;49m\u001b[43mnp\u001b[49m\u001b[38;5;241;43m.\u001b[39;49m\u001b[43mlog10\u001b[49m\u001b[43m(\u001b[49m\u001b[38;5;28;43mself\u001b[39;49m\u001b[38;5;241;43m.\u001b[39;49m\u001b[43mZsun\u001b[49m\u001b[38;5;241;43m/\u001b[39;49m\u001b[38;5;241;43m0.02\u001b[39;49m\u001b[43m)\u001b[49m\u001b[43m)\u001b[49m\n\u001b[1;32m   1076\u001b[0m     T_maxbig[T_maxbig\u001b[38;5;241m>\u001b[39m\u001b[38;5;28mself\u001b[39m\u001b[38;5;241m.\u001b[39mT_MW] \u001b[38;5;241m=\u001b[39m \u001b[38;5;28mself\u001b[39m\u001b[38;5;241m.\u001b[39mT_MW\n\u001b[1;32m   1078\u001b[0m     \u001b[38;5;66;03m#Binary hung around the GC for a random fraction e1 \u001b[39;00m\n\u001b[1;32m   1079\u001b[0m     \u001b[38;5;66;03m#of its maximum lifetime\u001b[39;00m\n\u001b[1;32m   1080\u001b[0m     \u001b[38;5;66;03m#(\"maximum lifetime\" here is taken as 1.4*t_MS, see above)\u001b[39;00m\n",
      "File \u001b[0;32m~/Documents/2024-2/HVS/speedystar/speedystar/utils/hurley_stellar_evolution.py:1859\u001b[0m, in \u001b[0;36mget_t_MS\u001b[0;34m(m, xi)\u001b[0m\n\u001b[1;32m   1854\u001b[0m out \u001b[38;5;241m=\u001b[39m np\u001b[38;5;241m.\u001b[39mempty(\u001b[38;5;28mlen\u001b[39m(M))\n\u001b[1;32m   1856\u001b[0m \u001b[38;5;28;01mfor\u001b[39;00m i \u001b[38;5;129;01min\u001b[39;00m \u001b[38;5;28mrange\u001b[39m(\u001b[38;5;28mlen\u001b[39m(m)):\n\u001b[1;32m   1857\u001b[0m \u001b[38;5;66;03m#for i in tqdm(range(len(m))):\u001b[39;00m\n\u001b[1;32m   1858\u001b[0m     \u001b[38;5;66;03m#out[i] = max( Mu_param(M[i],xi[i])*t_BGB(M[i],xi[i]), x_param(xi[i])*t_BGB(M[i],xi[i]) )#*u.Myr \u001b[39;00m\n\u001b[0;32m-> 1859\u001b[0m     out[i] \u001b[38;5;241m=\u001b[39m \u001b[43mt_MS\u001b[49m\u001b[43m(\u001b[49m\u001b[43mM\u001b[49m\u001b[43m[\u001b[49m\u001b[43mi\u001b[49m\u001b[43m]\u001b[49m\u001b[43m,\u001b[49m\u001b[43m \u001b[49m\u001b[43mxi\u001b[49m\u001b[43m[\u001b[49m\u001b[43mi\u001b[49m\u001b[43m]\u001b[49m\u001b[43m)\u001b[49m \n\u001b[1;32m   1861\u001b[0m \u001b[38;5;28;01mreturn\u001b[39;00m out\u001b[38;5;241m*\u001b[39mu\u001b[38;5;241m.\u001b[39mMyr\n",
      "File \u001b[0;32m~/Documents/2024-2/HVS/speedystar/speedystar/utils/hurley_stellar_evolution.py:683\u001b[0m, in \u001b[0;36mt_MS\u001b[0;34m(M, xi)\u001b[0m\n\u001b[1;32m    681\u001b[0m \u001b[38;5;28;01mdef\u001b[39;00m \u001b[38;5;21mt_MS\u001b[39m(M,xi):\n\u001b[1;32m    682\u001b[0m         \u001b[38;5;66;03m# Main Sequence (MS) lifetime, Eq. 5:\u001b[39;00m\n\u001b[0;32m--> 683\u001b[0m         \u001b[38;5;28;01mreturn\u001b[39;00m \u001b[38;5;28mmax\u001b[39m( \u001b[43mt_hook\u001b[49m\u001b[43m(\u001b[49m\u001b[43mM\u001b[49m\u001b[43m,\u001b[49m\u001b[43m \u001b[49m\u001b[43mxi\u001b[49m\u001b[43m)\u001b[49m, x_param(xi)\u001b[38;5;241m*\u001b[39mt_BGB(M,xi) )\n",
      "File \u001b[0;32m~/Documents/2024-2/HVS/speedystar/speedystar/utils/hurley_stellar_evolution.py:679\u001b[0m, in \u001b[0;36mt_hook\u001b[0;34m(M, xi)\u001b[0m\n\u001b[1;32m    678\u001b[0m \u001b[38;5;28;01mdef\u001b[39;00m \u001b[38;5;21mt_hook\u001b[39m(M, xi):\n\u001b[0;32m--> 679\u001b[0m         \u001b[38;5;28;01mreturn\u001b[39;00m \u001b[43mMu_param\u001b[49m\u001b[43m(\u001b[49m\u001b[43mM\u001b[49m\u001b[43m,\u001b[49m\u001b[43m \u001b[49m\u001b[43mxi\u001b[49m\u001b[43m)\u001b[49m \u001b[38;5;241m*\u001b[39m t_BGB(M, xi)\n",
      "File \u001b[0;32m~/Documents/2024-2/HVS/speedystar/speedystar/utils/hurley_stellar_evolution.py:667\u001b[0m, in \u001b[0;36mMu_param\u001b[0;34m(M, xi)\u001b[0m\n\u001b[1;32m    665\u001b[0m \u001b[38;5;28;01mdef\u001b[39;00m \u001b[38;5;21mMu_param\u001b[39m(M,xi):\n\u001b[1;32m    666\u001b[0m         \u001b[38;5;66;03m# Eq. 7:\u001b[39;00m\n\u001b[0;32m--> 667\u001b[0m         \u001b[38;5;28;01mreturn\u001b[39;00m \u001b[38;5;28mmax\u001b[39m( \u001b[38;5;241m0.5\u001b[39m, \u001b[38;5;241m1.0\u001b[39m \u001b[38;5;241m-\u001b[39m \u001b[38;5;241m0.01\u001b[39m\u001b[38;5;241m*\u001b[39m\u001b[38;5;28mmax\u001b[39m( a_coeff(xi,\u001b[38;5;241m6\u001b[39m)\u001b[38;5;241m/\u001b[39m(M\u001b[38;5;241m*\u001b[39m\u001b[38;5;241m*\u001b[39m\u001b[43ma_coeff\u001b[49m\u001b[43m(\u001b[49m\u001b[43mxi\u001b[49m\u001b[43m,\u001b[49m\u001b[38;5;241;43m7\u001b[39;49m\u001b[43m)\u001b[49m), a_coeff(xi,\u001b[38;5;241m8\u001b[39m) \u001b[38;5;241m+\u001b[39m a_coeff(xi,\u001b[38;5;241m9\u001b[39m)\u001b[38;5;241m/\u001b[39m(M\u001b[38;5;241m*\u001b[39m\u001b[38;5;241m*\u001b[39ma_coeff(xi,\u001b[38;5;241m10\u001b[39m)) ) )\n",
      "File \u001b[0;32m~/Documents/2024-2/HVS/speedystar/speedystar/utils/hurley_stellar_evolution.py:23\u001b[0m, in \u001b[0;36ma_coeff\u001b[0;34m(xi, n)\u001b[0m\n\u001b[1;32m     17\u001b[0m         \u001b[38;5;28;01mreturn\u001b[39;00m \u001b[38;5;241m0.02\u001b[39m \u001b[38;5;241m*\u001b[39m \u001b[38;5;241m10.\u001b[39m\u001b[38;5;241m*\u001b[39m\u001b[38;5;241m*\u001b[39mxi\n\u001b[1;32m     20\u001b[0m \u001b[38;5;66;03m# ================ Coefficients from Appendix A ================================== #\u001b[39;00m\n\u001b[0;32m---> 23\u001b[0m \u001b[38;5;28;01mdef\u001b[39;00m \u001b[38;5;21ma_coeff\u001b[39m(xi,n):\n\u001b[1;32m     24\u001b[0m \n\u001b[1;32m     25\u001b[0m         \u001b[38;5;66;03m# ---------- tMS + LTMS: ---------------\u001b[39;00m\n\u001b[1;32m     27\u001b[0m         \u001b[38;5;28;01mif\u001b[39;00m n \u001b[38;5;241m==\u001b[39m \u001b[38;5;241m1\u001b[39m:\n\u001b[1;32m     28\u001b[0m                 params \u001b[38;5;241m=\u001b[39m [\u001b[38;5;241m1.593890e3\u001b[39m, \u001b[38;5;241m2.053038e3\u001b[39m, \u001b[38;5;241m1.231226e3\u001b[39m, \u001b[38;5;241m2.327785e2\u001b[39m, \u001b[38;5;241m0.\u001b[39m]\n",
      "\u001b[0;31mKeyboardInterrupt\u001b[0m: "
     ]
    }
   ],
   "source": [
    "#Current ejection methods include 'Hills' implementing the Hills mechanism\n",
    "#  and 'BMBH' implementing the massive black hole binary slingshot mechanism\n",
    "\n",
    "# Arguments to Hills() allow you to set many parameters for the sample, e.g. the stellar initial mass function,\n",
    "#  the mass of Sgr A*, the maximum flight time, etc.\n",
    "\n",
    "simulated_catalogs_path = '/Users/mncavieres/Documents/2024-2/HVS/speedystar/simulated_catalogs/top_heavy'\n",
    "kappa_range = np.linspace(1, 2.5, 10)\n",
    "for kappa in kappa_range:\n",
    "    ejectionmodel = Hills(rate=1e-4/u.yr, kappa=kappa, amuseflag= True, Met= 0.25)\n",
    "    mysample = starsample(ejectionmodel, name='sill_copy')\n",
    "    mysample.save(os.path.join(simulated_catalogs_path, f'cat_ejection_kappa_{kappa}.fits'))"
   ]
  },
  {
   "cell_type": "code",
   "execution_count": null,
   "metadata": {},
   "outputs": [
    {
     "name": "stderr",
     "output_type": "stream",
     "text": [
      "  0%|          | 0/100 [00:00<?, ?it/s]"
     ]
    },
    {
     "name": "stdout",
     "output_type": "stream",
     "text": [
      "/Users/mncavieres/opt/anaconda3/envs/speedytest2/lib/python3.12/site-packages/amuse/rfi/core.py:964: UserWarning: MPI (unexpectedly?) not available, falling back to sockets channel\n",
      "  warnings.warn(\"MPI (unexpectedly?) not available, falling back to sockets channel\")\n",
      "\n"
     ]
    },
    {
     "name": "stderr",
     "output_type": "stream",
     "text": [
      "Evolving HVSs: 100%|██████████| 1/1 [00:03<00:00,  3.09s/it]\n",
      "  1%|          | 1/100 [00:19<32:56, 19.97s/it]"
     ]
    },
    {
     "name": "stdout",
     "output_type": "stream",
     "text": [
      "/Users/mncavieres/opt/anaconda3/envs/speedytest2/lib/python3.12/site-packages/amuse/rfi/core.py:964: UserWarning: MPI (unexpectedly?) not available, falling back to sockets channel\n",
      "  warnings.warn(\"MPI (unexpectedly?) not available, falling back to sockets channel\")\n",
      "\n"
     ]
    },
    {
     "name": "stderr",
     "output_type": "stream",
     "text": [
      "Evolving HVSs: 100%|██████████| 1/1 [00:02<00:00,  2.25s/it]\n",
      "  2%|▏         | 2/100 [00:39<31:48, 19.47s/it]"
     ]
    },
    {
     "name": "stdout",
     "output_type": "stream",
     "text": [
      "/Users/mncavieres/opt/anaconda3/envs/speedytest2/lib/python3.12/site-packages/amuse/rfi/core.py:964: UserWarning: MPI (unexpectedly?) not available, falling back to sockets channel\n",
      "  warnings.warn(\"MPI (unexpectedly?) not available, falling back to sockets channel\")\n",
      "\n"
     ]
    },
    {
     "name": "stderr",
     "output_type": "stream",
     "text": [
      "Evolving HVSs: 100%|██████████| 1/1 [00:02<00:00,  2.28s/it]\n",
      "  3%|▎         | 3/100 [00:58<31:11, 19.30s/it]"
     ]
    },
    {
     "name": "stdout",
     "output_type": "stream",
     "text": [
      "/Users/mncavieres/opt/anaconda3/envs/speedytest2/lib/python3.12/site-packages/amuse/rfi/core.py:964: UserWarning: MPI (unexpectedly?) not available, falling back to sockets channel\n",
      "  warnings.warn(\"MPI (unexpectedly?) not available, falling back to sockets channel\")\n",
      "\n"
     ]
    },
    {
     "name": "stderr",
     "output_type": "stream",
     "text": [
      "Evolving HVSs: 100%|██████████| 1/1 [00:02<00:00,  2.30s/it]\n",
      "  4%|▍         | 4/100 [01:17<30:53, 19.31s/it]"
     ]
    },
    {
     "name": "stdout",
     "output_type": "stream",
     "text": [
      "/Users/mncavieres/opt/anaconda3/envs/speedytest2/lib/python3.12/site-packages/amuse/rfi/core.py:964: UserWarning: MPI (unexpectedly?) not available, falling back to sockets channel\n",
      "  warnings.warn(\"MPI (unexpectedly?) not available, falling back to sockets channel\")\n",
      "\n"
     ]
    },
    {
     "name": "stderr",
     "output_type": "stream",
     "text": [
      "Evolving HVSs: 100%|██████████| 1/1 [00:02<00:00,  2.29s/it]\n",
      "  5%|▌         | 5/100 [01:36<30:18, 19.15s/it]"
     ]
    },
    {
     "name": "stdout",
     "output_type": "stream",
     "text": [
      "/Users/mncavieres/opt/anaconda3/envs/speedytest2/lib/python3.12/site-packages/amuse/rfi/core.py:964: UserWarning: MPI (unexpectedly?) not available, falling back to sockets channel\n",
      "  warnings.warn(\"MPI (unexpectedly?) not available, falling back to sockets channel\")\n",
      "\n"
     ]
    },
    {
     "name": "stderr",
     "output_type": "stream",
     "text": [
      "Evolving HVSs: 100%|██████████| 1/1 [00:02<00:00,  2.25s/it]\n",
      "  6%|▌         | 6/100 [01:55<29:56, 19.11s/it]"
     ]
    },
    {
     "name": "stdout",
     "output_type": "stream",
     "text": [
      "/Users/mncavieres/opt/anaconda3/envs/speedytest2/lib/python3.12/site-packages/amuse/rfi/core.py:964: UserWarning: MPI (unexpectedly?) not available, falling back to sockets channel\n",
      "  warnings.warn(\"MPI (unexpectedly?) not available, falling back to sockets channel\")\n",
      "\n"
     ]
    },
    {
     "name": "stderr",
     "output_type": "stream",
     "text": [
      "Evolving HVSs: 100%|██████████| 1/1 [00:02<00:00,  2.29s/it]\n",
      "  7%|▋         | 7/100 [02:14<29:39, 19.14s/it]"
     ]
    },
    {
     "name": "stdout",
     "output_type": "stream",
     "text": [
      "/Users/mncavieres/opt/anaconda3/envs/speedytest2/lib/python3.12/site-packages/amuse/rfi/core.py:964: UserWarning: MPI (unexpectedly?) not available, falling back to sockets channel\n",
      "  warnings.warn(\"MPI (unexpectedly?) not available, falling back to sockets channel\")\n",
      "\n"
     ]
    },
    {
     "name": "stderr",
     "output_type": "stream",
     "text": [
      "Evolving HVSs: 100%|██████████| 1/1 [00:02<00:00,  2.30s/it]\n",
      "  8%|▊         | 8/100 [02:33<29:22, 19.16s/it]"
     ]
    },
    {
     "name": "stdout",
     "output_type": "stream",
     "text": [
      "/Users/mncavieres/opt/anaconda3/envs/speedytest2/lib/python3.12/site-packages/amuse/rfi/core.py:964: UserWarning: MPI (unexpectedly?) not available, falling back to sockets channel\n",
      "  warnings.warn(\"MPI (unexpectedly?) not available, falling back to sockets channel\")\n",
      "\n"
     ]
    },
    {
     "name": "stderr",
     "output_type": "stream",
     "text": [
      "Evolving HVSs: 100%|██████████| 1/1 [00:02<00:00,  2.26s/it]\n",
      "  9%|▉         | 9/100 [02:53<29:11, 19.25s/it]"
     ]
    },
    {
     "name": "stdout",
     "output_type": "stream",
     "text": [
      "/Users/mncavieres/opt/anaconda3/envs/speedytest2/lib/python3.12/site-packages/amuse/rfi/core.py:964: UserWarning: MPI (unexpectedly?) not available, falling back to sockets channel\n",
      "  warnings.warn(\"MPI (unexpectedly?) not available, falling back to sockets channel\")\n",
      "\n"
     ]
    },
    {
     "name": "stderr",
     "output_type": "stream",
     "text": [
      "Evolving HVSs: 100%|██████████| 1/1 [00:02<00:00,  2.25s/it]\n",
      " 10%|█         | 10/100 [03:12<28:42, 19.14s/it]"
     ]
    },
    {
     "name": "stdout",
     "output_type": "stream",
     "text": [
      "/Users/mncavieres/opt/anaconda3/envs/speedytest2/lib/python3.12/site-packages/amuse/rfi/core.py:964: UserWarning: MPI (unexpectedly?) not available, falling back to sockets channel\n",
      "  warnings.warn(\"MPI (unexpectedly?) not available, falling back to sockets channel\")\n",
      "\n"
     ]
    },
    {
     "name": "stderr",
     "output_type": "stream",
     "text": [
      "Evolving HVSs: 100%|██████████| 1/1 [00:02<00:00,  2.41s/it]\n",
      " 11%|█         | 11/100 [03:31<28:32, 19.25s/it]"
     ]
    },
    {
     "name": "stdout",
     "output_type": "stream",
     "text": [
      "/Users/mncavieres/opt/anaconda3/envs/speedytest2/lib/python3.12/site-packages/amuse/rfi/core.py:964: UserWarning: MPI (unexpectedly?) not available, falling back to sockets channel\n",
      "  warnings.warn(\"MPI (unexpectedly?) not available, falling back to sockets channel\")\n",
      "\n"
     ]
    },
    {
     "name": "stderr",
     "output_type": "stream",
     "text": [
      "Evolving HVSs: 100%|██████████| 1/1 [00:02<00:00,  2.28s/it]\n",
      " 12%|█▏        | 12/100 [03:50<28:03, 19.14s/it]"
     ]
    },
    {
     "name": "stdout",
     "output_type": "stream",
     "text": [
      "/Users/mncavieres/opt/anaconda3/envs/speedytest2/lib/python3.12/site-packages/amuse/rfi/core.py:964: UserWarning: MPI (unexpectedly?) not available, falling back to sockets channel\n",
      "  warnings.warn(\"MPI (unexpectedly?) not available, falling back to sockets channel\")\n",
      "\n"
     ]
    },
    {
     "name": "stderr",
     "output_type": "stream",
     "text": [
      "Evolving HVSs: 100%|██████████| 1/1 [00:02<00:00,  2.38s/it]\n",
      " 13%|█▎        | 13/100 [04:09<27:52, 19.23s/it]"
     ]
    },
    {
     "name": "stdout",
     "output_type": "stream",
     "text": [
      "/Users/mncavieres/opt/anaconda3/envs/speedytest2/lib/python3.12/site-packages/amuse/rfi/core.py:964: UserWarning: MPI (unexpectedly?) not available, falling back to sockets channel\n",
      "  warnings.warn(\"MPI (unexpectedly?) not available, falling back to sockets channel\")\n",
      "\n"
     ]
    },
    {
     "name": "stderr",
     "output_type": "stream",
     "text": [
      "Evolving HVSs: 100%|██████████| 1/1 [00:02<00:00,  2.25s/it]\n",
      " 14%|█▍        | 14/100 [04:29<27:34, 19.24s/it]"
     ]
    },
    {
     "name": "stdout",
     "output_type": "stream",
     "text": [
      "/Users/mncavieres/opt/anaconda3/envs/speedytest2/lib/python3.12/site-packages/amuse/rfi/core.py:964: UserWarning: MPI (unexpectedly?) not available, falling back to sockets channel\n",
      "  warnings.warn(\"MPI (unexpectedly?) not available, falling back to sockets channel\")\n",
      "\n"
     ]
    },
    {
     "name": "stderr",
     "output_type": "stream",
     "text": [
      "Evolving HVSs: 100%|██████████| 1/1 [00:02<00:00,  2.27s/it]\n",
      " 15%|█▌        | 15/100 [04:48<27:09, 19.17s/it]"
     ]
    },
    {
     "name": "stdout",
     "output_type": "stream",
     "text": [
      "/Users/mncavieres/opt/anaconda3/envs/speedytest2/lib/python3.12/site-packages/amuse/rfi/core.py:964: UserWarning: MPI (unexpectedly?) not available, falling back to sockets channel\n",
      "  warnings.warn(\"MPI (unexpectedly?) not available, falling back to sockets channel\")\n",
      "\n"
     ]
    },
    {
     "name": "stderr",
     "output_type": "stream",
     "text": [
      "Evolving HVSs: 100%|██████████| 1/1 [00:02<00:00,  2.28s/it]\n",
      " 16%|█▌        | 16/100 [05:07<26:44, 19.10s/it]"
     ]
    },
    {
     "name": "stdout",
     "output_type": "stream",
     "text": [
      "/Users/mncavieres/opt/anaconda3/envs/speedytest2/lib/python3.12/site-packages/amuse/rfi/core.py:964: UserWarning: MPI (unexpectedly?) not available, falling back to sockets channel\n",
      "  warnings.warn(\"MPI (unexpectedly?) not available, falling back to sockets channel\")\n",
      "\n"
     ]
    },
    {
     "name": "stderr",
     "output_type": "stream",
     "text": [
      "Evolving HVSs: 100%|██████████| 1/1 [00:02<00:00,  2.31s/it]\n",
      " 17%|█▋        | 17/100 [05:26<26:30, 19.17s/it]"
     ]
    },
    {
     "name": "stdout",
     "output_type": "stream",
     "text": [
      "/Users/mncavieres/opt/anaconda3/envs/speedytest2/lib/python3.12/site-packages/amuse/rfi/core.py:964: UserWarning: MPI (unexpectedly?) not available, falling back to sockets channel\n",
      "  warnings.warn(\"MPI (unexpectedly?) not available, falling back to sockets channel\")\n",
      "\n"
     ]
    },
    {
     "name": "stderr",
     "output_type": "stream",
     "text": [
      "Evolving HVSs: 100%|██████████| 1/1 [00:02<00:00,  2.29s/it]\n",
      " 18%|█▊        | 18/100 [05:45<26:11, 19.17s/it]"
     ]
    },
    {
     "name": "stdout",
     "output_type": "stream",
     "text": [
      "/Users/mncavieres/opt/anaconda3/envs/speedytest2/lib/python3.12/site-packages/amuse/rfi/core.py:964: UserWarning: MPI (unexpectedly?) not available, falling back to sockets channel\n",
      "  warnings.warn(\"MPI (unexpectedly?) not available, falling back to sockets channel\")\n",
      "\n"
     ]
    },
    {
     "name": "stderr",
     "output_type": "stream",
     "text": [
      "Evolving HVSs: 100%|██████████| 1/1 [00:02<00:00,  2.28s/it]\n",
      " 19%|█▉        | 19/100 [06:04<25:49, 19.13s/it]"
     ]
    },
    {
     "name": "stdout",
     "output_type": "stream",
     "text": [
      "/Users/mncavieres/opt/anaconda3/envs/speedytest2/lib/python3.12/site-packages/amuse/rfi/core.py:964: UserWarning: MPI (unexpectedly?) not available, falling back to sockets channel\n",
      "  warnings.warn(\"MPI (unexpectedly?) not available, falling back to sockets channel\")\n",
      "\n"
     ]
    },
    {
     "name": "stderr",
     "output_type": "stream",
     "text": [
      "Evolving HVSs: 100%|██████████| 1/1 [00:02<00:00,  2.31s/it]\n",
      " 20%|██        | 20/100 [06:23<25:28, 19.11s/it]"
     ]
    },
    {
     "name": "stdout",
     "output_type": "stream",
     "text": [
      "/Users/mncavieres/opt/anaconda3/envs/speedytest2/lib/python3.12/site-packages/amuse/rfi/core.py:964: UserWarning: MPI (unexpectedly?) not available, falling back to sockets channel\n",
      "  warnings.warn(\"MPI (unexpectedly?) not available, falling back to sockets channel\")\n",
      "\n"
     ]
    },
    {
     "name": "stderr",
     "output_type": "stream",
     "text": [
      "Evolving HVSs: 100%|██████████| 1/1 [00:02<00:00,  2.22s/it]\n",
      " 21%|██        | 21/100 [06:42<24:59, 18.98s/it]"
     ]
    },
    {
     "name": "stdout",
     "output_type": "stream",
     "text": [
      "/Users/mncavieres/opt/anaconda3/envs/speedytest2/lib/python3.12/site-packages/amuse/rfi/core.py:964: UserWarning: MPI (unexpectedly?) not available, falling back to sockets channel\n",
      "  warnings.warn(\"MPI (unexpectedly?) not available, falling back to sockets channel\")\n",
      "\n"
     ]
    },
    {
     "name": "stderr",
     "output_type": "stream",
     "text": [
      "Evolving HVSs: 100%|██████████| 1/1 [00:02<00:00,  2.29s/it]\n",
      " 22%|██▏       | 22/100 [07:01<24:46, 19.06s/it]"
     ]
    },
    {
     "name": "stdout",
     "output_type": "stream",
     "text": [
      "/Users/mncavieres/opt/anaconda3/envs/speedytest2/lib/python3.12/site-packages/amuse/rfi/core.py:964: UserWarning: MPI (unexpectedly?) not available, falling back to sockets channel\n",
      "  warnings.warn(\"MPI (unexpectedly?) not available, falling back to sockets channel\")\n",
      "\n"
     ]
    },
    {
     "name": "stderr",
     "output_type": "stream",
     "text": [
      "Evolving HVSs: 100%|██████████| 1/1 [00:02<00:00,  2.31s/it]\n",
      " 23%|██▎       | 23/100 [07:20<24:26, 19.04s/it]"
     ]
    },
    {
     "name": "stdout",
     "output_type": "stream",
     "text": [
      "/Users/mncavieres/opt/anaconda3/envs/speedytest2/lib/python3.12/site-packages/amuse/rfi/core.py:964: UserWarning: MPI (unexpectedly?) not available, falling back to sockets channel\n",
      "  warnings.warn(\"MPI (unexpectedly?) not available, falling back to sockets channel\")\n",
      "\n"
     ]
    },
    {
     "name": "stderr",
     "output_type": "stream",
     "text": [
      "Evolving HVSs: 100%|██████████| 1/1 [00:02<00:00,  2.32s/it]\n",
      " 24%|██▍       | 24/100 [07:40<24:23, 19.25s/it]"
     ]
    }
   ],
   "source": [
    "# just generate a lot of stars with flat IMF to the apply importance sampling\n",
    "#  the mass of Sgr A*, the maximum flight time, etc.\n",
    "simulated_catalogs_path = '/Users/mncavieres/Documents/2024-2/HVS/speedystar/simulated_catalogs/flat'\n",
    "\n",
    "for kappa in tqdm(range(100)):\n",
    "    ejectionmodel = Hills(rate=1e-3/u.yr, kappa=0, amuseflag= True, Met= 0.25)\n",
    "    mysample = starsample(ejectionmodel, name='sill_copy')\n",
    "    mysample.save(os.path.join(simulated_catalogs_path, f'cat_ejection_kappa_{kappa}.fits'))\n",
    "\n",
    "# ejectionmodel = Hills(rate=1e-1/u.yr, kappa=1.7, amuseflag= True, Met= 0.25)\n",
    "# mysample = starsample(ejectionmodel, name='sill_copy')\n",
    "# mysample.save(os.path.join(simulated_catalogs_path, f'cat_ejection_kappa_{1.7}.fits'))"
   ]
  },
  {
   "cell_type": "markdown",
   "metadata": {},
   "source": [
    "### Propagating the sample\n",
    "\n",
    "The 'ejection sample' consists of a population of stars freshly ejected from the centre of the Milky Way. Next we have to propagate them through the Galaxy (each at its own assigned flight time) to find out where they will be at the present day. To do this we will have to assume a potential for the Galaxy. \n",
    "\n",
    "<p align=\"center\">\n",
    "<img src =\"https://cdn.sci.news/images/enlarge4/image_5003e-Hypervelocity-Stars.jpg\" width=\"50%\" height=\"50%\">\n",
    "</p>\n"
   ]
  },
  {
   "cell_type": "code",
   "execution_count": 4,
   "metadata": {},
   "outputs": [
    {
     "name": "stderr",
     "output_type": "stream",
     "text": [
      "Propagating...: 100%|██████████| 710/710 [00:09<00:00, 71.50it/s]\n",
      "Propagating...: 100%|██████████| 1824/1824 [00:24<00:00, 75.31it/s]\n",
      "Propagating...: 100%|██████████| 2547/2547 [00:34<00:00, 74.27it/s]\n",
      "Propagating...: 100%|██████████| 1744/1744 [00:21<00:00, 80.61it/s]\n",
      "Propagating...: 100%|██████████| 2614/2614 [00:33<00:00, 78.41it/s]\n",
      "Propagating...: 100%|██████████| 1896/1896 [00:23<00:00, 79.64it/s]\n",
      "Propagating...: 100%|██████████| 891/891 [00:11<00:00, 77.72it/s]\n",
      "Propagating...: 100%|██████████| 1331/1331 [00:17<00:00, 74.79it/s]\n",
      "Propagating...: 100%|██████████| 2734/2734 [00:34<00:00, 78.73it/s]\n",
      "Propagating...: 100%|██████████| 2142/2142 [00:26<00:00, 80.39it/s]\n",
      "Propagating...: 100%|██████████| 2160/2160 [00:27<00:00, 78.60it/s]\n",
      "Propagating...: 100%|██████████| 1889/1889 [00:23<00:00, 81.12it/s]\n",
      "Propagating...: 100%|██████████| 1945/1945 [00:25<00:00, 76.33it/s]\n",
      "Propagating...: 100%|██████████| 2673/2673 [00:34<00:00, 77.33it/s]\n",
      "Propagating...: 100%|██████████| 2269/2269 [00:29<00:00, 76.98it/s]\n",
      "Propagating...: 100%|██████████| 2384/2384 [00:30<00:00, 77.50it/s]\n",
      "Propagating...: 100%|██████████| 2087/2087 [00:26<00:00, 78.29it/s]\n",
      "Propagating...: 100%|██████████| 1278/1278 [00:16<00:00, 75.24it/s]\n",
      "Propagating...: 100%|██████████| 745/745 [00:10<00:00, 73.19it/s]\n",
      "Propagating...: 100%|██████████| 2065/2065 [00:27<00:00, 75.62it/s]\n",
      "Propagating...: 100%|██████████| 1945/1945 [00:25<00:00, 75.04it/s]\n",
      "Propagating...: 100%|██████████| 2493/2493 [00:31<00:00, 79.56it/s]\n",
      "Propagating...: 100%|██████████| 1234/1234 [00:16<00:00, 75.69it/s]\n",
      "Propagating...: 100%|██████████| 1539/1539 [00:20<00:00, 74.92it/s]\n",
      "Propagating...: 100%|██████████| 872/872 [00:11<00:00, 73.83it/s]\n",
      "Propagating...: 100%|██████████| 1166/1166 [00:15<00:00, 74.68it/s]\n",
      "Propagating...: 100%|██████████| 2256/2256 [00:29<00:00, 76.89it/s]\n",
      "Propagating...: 100%|██████████| 2693/2693 [00:35<00:00, 76.62it/s]\n",
      "Propagating...: 100%|██████████| 2005/2005 [00:27<00:00, 72.15it/s]\n",
      "Propagating...: 100%|██████████| 2342/2342 [00:30<00:00, 77.21it/s]\n",
      "Propagating...: 100%|██████████| 1010/1010 [00:13<00:00, 77.67it/s]\n",
      "Propagating...: 100%|██████████| 2567/2567 [00:35<00:00, 72.80it/s]\n",
      "Propagating...: 100%|██████████| 2240/2240 [00:29<00:00, 74.89it/s]\n",
      "Propagating...: 100%|██████████| 2681/2681 [00:35<00:00, 75.31it/s]\n",
      "Propagating...: 100%|██████████| 2006/2006 [00:24<00:00, 80.49it/s]\n",
      "Propagating...: 100%|██████████| 2736/2736 [00:34<00:00, 79.99it/s]\n",
      "Propagating...: 100%|██████████| 1089/1089 [00:13<00:00, 78.29it/s]\n",
      "Propagating...: 100%|██████████| 2567/2567 [00:31<00:00, 80.75it/s]\n",
      "Propagating...: 100%|██████████| 2069/2069 [00:26<00:00, 78.31it/s]\n",
      "Propagating...: 100%|██████████| 1841/1841 [00:24<00:00, 75.17it/s]\n",
      "Propagating...: 100%|██████████| 2437/2437 [00:32<00:00, 74.18it/s]\n",
      "Propagating...: 100%|██████████| 1923/1923 [00:25<00:00, 76.04it/s]\n",
      "Propagating...: 100%|██████████| 2686/2686 [00:33<00:00, 79.85it/s]\n",
      "Propagating...: 100%|██████████| 892/892 [00:11<00:00, 78.52it/s]\n",
      "Propagating...: 100%|██████████| 1839/1839 [00:23<00:00, 79.44it/s]\n",
      "Propagating...: 100%|██████████| 1798/1798 [00:21<00:00, 83.33it/s]\n",
      "Propagating...: 100%|██████████| 762/762 [00:10<00:00, 75.10it/s]\n",
      "Propagating...: 100%|██████████| 2423/2423 [00:30<00:00, 79.71it/s]\n",
      "Propagating...: 100%|██████████| 2600/2600 [00:33<00:00, 77.62it/s]\n",
      "Propagating...: 100%|██████████| 918/918 [00:12<00:00, 74.54it/s]\n",
      "Propagating...: 100%|██████████| 1025/1025 [00:15<00:00, 67.51it/s]\n",
      "Propagating...: 100%|██████████| 2718/2718 [00:36<00:00, 73.48it/s]\n",
      "Propagating...: 100%|██████████| 2736/2736 [00:37<00:00, 72.53it/s]\n",
      "Propagating...: 100%|██████████| 1177/1177 [00:16<00:00, 72.39it/s]\n",
      "Propagating...: 100%|██████████| 1483/1483 [00:19<00:00, 75.66it/s]\n",
      "Propagating...: 100%|██████████| 2668/2668 [00:35<00:00, 75.96it/s]\n",
      "Propagating...: 100%|██████████| 2390/2390 [00:30<00:00, 79.24it/s]\n",
      "Propagating...: 100%|██████████| 1596/1596 [00:22<00:00, 72.48it/s]\n",
      "Propagating...: 100%|██████████| 1618/1618 [00:21<00:00, 76.10it/s]\n",
      "Propagating...: 100%|██████████| 1797/1797 [00:23<00:00, 76.14it/s]\n",
      "Propagating...: 100%|██████████| 2294/2294 [00:29<00:00, 77.66it/s]\n",
      "Propagating...: 100%|██████████| 2429/2429 [00:32<00:00, 75.75it/s]\n",
      "Propagating...: 100%|██████████| 2423/2423 [00:32<00:00, 74.41it/s]\n",
      "Propagating...: 100%|██████████| 1261/1261 [00:17<00:00, 74.07it/s]\n",
      "Propagating...: 100%|██████████| 2249/2249 [00:30<00:00, 73.65it/s]\n",
      "Propagating...: 100%|██████████| 705/705 [00:09<00:00, 73.10it/s]\n",
      "Propagating...: 100%|██████████| 850/850 [00:11<00:00, 72.56it/s]\n",
      "Propagating...: 100%|██████████| 2495/2495 [00:32<00:00, 77.38it/s]\n",
      "Propagating...: 100%|██████████| 2468/2468 [00:31<00:00, 78.71it/s]\n",
      "Propagating...: 100%|██████████| 2590/2590 [00:32<00:00, 79.68it/s]\n",
      "Propagating...: 100%|██████████| 2678/2678 [00:33<00:00, 78.81it/s]\n",
      "Propagating...: 100%|██████████| 2172/2172 [00:26<00:00, 81.48it/s]\n",
      "Propagating...: 100%|██████████| 1353/1353 [00:18<00:00, 71.76it/s]\n",
      "Propagating...: 100%|██████████| 893/893 [00:12<00:00, 71.13it/s]\n",
      "Propagating...: 100%|██████████| 2167/2167 [00:28<00:00, 76.82it/s]\n",
      "Propagating...: 100%|██████████| 777/777 [00:10<00:00, 73.88it/s]\n",
      "Propagating...: 100%|██████████| 1743/1743 [00:22<00:00, 76.47it/s]\n",
      "Propagating...: 100%|██████████| 2593/2593 [00:34<00:00, 75.49it/s]\n",
      "Propagating...: 100%|██████████| 2669/2669 [00:35<00:00, 76.14it/s]\n",
      "Propagating...: 100%|██████████| 2662/2662 [00:34<00:00, 77.41it/s]\n",
      "Propagating...: 100%|██████████| 1741/1741 [00:23<00:00, 74.23it/s]\n",
      "Propagating...: 100%|██████████| 1264/1264 [00:16<00:00, 75.35it/s]\n",
      "Propagating...: 100%|██████████| 2422/2422 [00:31<00:00, 76.73it/s]\n",
      "Propagating...: 100%|██████████| 649/649 [00:09<00:00, 69.71it/s]\n",
      "Propagating...: 100%|██████████| 2386/2386 [00:32<00:00, 72.77it/s]\n",
      "Propagating...: 100%|██████████| 2548/2548 [00:33<00:00, 77.20it/s]\n",
      "Propagating...: 100%|██████████| 1927/1927 [00:23<00:00, 81.54it/s]\n",
      "Propagating...: 100%|██████████| 1496/1496 [00:20<00:00, 74.22it/s]\n",
      "Propagating...: 100%|██████████| 2489/2489 [00:30<00:00, 80.30it/s]\n",
      "Propagating...: 100%|██████████| 1574/1574 [00:20<00:00, 77.04it/s]\n",
      "Propagating...: 100%|██████████| 2697/2697 [00:35<00:00, 76.01it/s]\n",
      "Propagating...: 100%|██████████| 848/848 [00:12<00:00, 70.01it/s]\n",
      "Propagating...: 100%|██████████| 2519/2519 [00:31<00:00, 79.92it/s]\n",
      "Propagating...: 100%|██████████| 2055/2055 [00:26<00:00, 77.57it/s]\n",
      "Propagating...: 100%|██████████| 1489/1489 [00:19<00:00, 76.33it/s]\n",
      "Propagating...: 100%|██████████| 2673/2673 [00:35<00:00, 75.57it/s]\n",
      "Propagating...: 100%|██████████| 1184/1184 [00:15<00:00, 78.23it/s]\n",
      "Propagating...: 100%|██████████| 2111/2111 [00:26<00:00, 80.62it/s]\n",
      "Propagating...: 100%|██████████| 1950/1950 [00:23<00:00, 81.75it/s]\n",
      "Propagating...: 100%|██████████| 1902/1902 [00:23<00:00, 80.96it/s]\n",
      "100%|██████████| 100/100 [43:17<00:00, 25.97s/it]\n"
     ]
    }
   ],
   "source": [
    "propagated_catalogs_path = '/Users/mncavieres/Documents/2024-2/HVS/Data/speedystar_catalogs/top_heavy_propagated'\n",
    "\n",
    "simulated_catalogs_path = '/Users/mncavieres/Documents/2024-2/HVS/speedystar/simulated_catalogs/top_heavy'\n",
    "\n",
    "# Assume a Galactic potential\n",
    "default_potential = MWPotential()\n",
    "#Ensure the potential has physical units so that the final positions and velocities have physical units too\n",
    "potential.turn_physical_on(default_potential)\n",
    "\n",
    "for catalog in tqdm(os.listdir(simulated_catalogs_path)):\n",
    "    # Skip already propagated samples\n",
    "    if os.path.isfile(os.path.join(simulated_catalogs_path, catalog)):\n",
    "        pass\n",
    "    # Only propagate FITS files\n",
    "    if catalog.endswith('.fits'):\n",
    "            # Load ejection sample, if it doesn't already exist\n",
    "        mysample = starsample(os.path.join(simulated_catalogs_path, catalog))\n",
    "\n",
    "        #Propagate sample. Positions / velocities are returned in Cartesian (x/y/z/v_x/v_y/v_z) and Galactic (l/b/dist/pm_l/pm_b/v_radial) and equatorial (ra/dec/dist/pm_ra/pm_dec/v_radial) coordinates\n",
    "        mysample.propagate(potential = default_potential)\n",
    "\n",
    "        #Save propagated sample\n",
    "        mysample.save(os.path.join(propagated_catalogs_path, catalog))"
   ]
  },
  {
   "cell_type": "markdown",
   "metadata": {},
   "source": [
    "### Subsetting the catalogue\n",
    "\n",
    "So far we've ejected and propagated everything, including fast and slow stars. If we're only interested in the hypervelocity stars, we can use boolean indexing on a speedystar object."
   ]
  },
  {
   "cell_type": "code",
   "execution_count": 13,
   "metadata": {},
   "outputs": [
    {
     "name": "stdout",
     "output_type": "stream",
     "text": [
      "Size of the entire sample: 561\n",
      "Size of the fast sample: 424\n"
     ]
    }
   ],
   "source": [
    "fast = mysample.GCv > mysample.Vesc\n",
    "\n",
    "print('Size of the entire sample: '+str(mysample.size))\n",
    "\n",
    "mysample = mysample[fast]\n",
    "print('Size of the fast sample: '+str(mysample.size))"
   ]
  },
  {
   "cell_type": "markdown",
   "metadata": {},
   "source": [
    "### Mock observations of the sample\n",
    "\n",
    "We next have to figure out how bright each of the stars is, otherwise we don't know which of the stars would be detectable today or in the near future. `speedystar` is able to calculate the apparent magnitudes of the sample in a variety of photometric bassbands (e.g. Gaia G/G_BP/G_RP/G_RVS, Johnson-Cousins UBVRI, SDSS/LSST ugriz, VISTA JHK) depending on the mass, temperature and radius of the stars along with their distance and position on the sky.\n",
    "\n"
   ]
  },
  {
   "cell_type": "code",
   "execution_count": 6,
   "metadata": {},
   "outputs": [
    {
     "name": "stderr",
     "output_type": "stream",
     "text": [
      "Calculating magnitudes: 100%|██████████| 6/6 [00:12<00:00,  2.13s/it]\n",
      "Calculating magnitudes: 100%|██████████| 6/6 [00:07<00:00,  1.22s/it]\n",
      "Calculating magnitudes: 100%|██████████| 6/6 [00:09<00:00,  1.66s/it]\n",
      "Calculating magnitudes: 100%|██████████| 6/6 [00:06<00:00,  1.11s/it]\n",
      "Calculating magnitudes: 100%|██████████| 6/6 [00:10<00:00,  1.74s/it]\n",
      "Calculating magnitudes: 100%|██████████| 6/6 [00:07<00:00,  1.24s/it]\n",
      "Calculating magnitudes: 100%|██████████| 6/6 [00:05<00:00,  1.17it/s]\n",
      "Calculating magnitudes: 100%|██████████| 6/6 [00:06<00:00,  1.10s/it]\n",
      "Calculating magnitudes: 100%|██████████| 6/6 [00:11<00:00,  1.93s/it]\n",
      "Calculating magnitudes: 100%|██████████| 6/6 [00:08<00:00,  1.46s/it]\n",
      "Calculating magnitudes: 100%|██████████| 6/6 [00:10<00:00,  1.67s/it]\n",
      "Calculating magnitudes: 100%|██████████| 6/6 [00:07<00:00,  1.23s/it]\n",
      "Calculating magnitudes: 100%|██████████| 6/6 [00:08<00:00,  1.46s/it]\n",
      "Calculating magnitudes: 100%|██████████| 6/6 [00:12<00:00,  2.06s/it]\n",
      "Calculating magnitudes: 100%|██████████| 6/6 [00:10<00:00,  1.79s/it]\n",
      "Calculating magnitudes: 100%|██████████| 6/6 [00:10<00:00,  1.70s/it]\n",
      "Calculating magnitudes: 100%|██████████| 6/6 [00:08<00:00,  1.39s/it]\n",
      "Calculating magnitudes: 100%|██████████| 6/6 [00:06<00:00,  1.06s/it]\n",
      "Calculating magnitudes: 100%|██████████| 6/6 [00:05<00:00,  1.04it/s]\n",
      "Calculating magnitudes: 100%|██████████| 6/6 [00:10<00:00,  1.68s/it]\n",
      "Calculating magnitudes: 100%|██████████| 6/6 [00:08<00:00,  1.47s/it]\n",
      "Calculating magnitudes: 100%|██████████| 6/6 [00:09<00:00,  1.62s/it]\n",
      "Calculating magnitudes: 100%|██████████| 6/6 [00:06<00:00,  1.01s/it]\n",
      "Calculating magnitudes: 100%|██████████| 6/6 [00:07<00:00,  1.18s/it]\n",
      "Calculating magnitudes: 100%|██████████| 6/6 [00:04<00:00,  1.29it/s]\n",
      "Calculating magnitudes: 100%|██████████| 6/6 [00:05<00:00,  1.02it/s]\n",
      "Calculating magnitudes: 100%|██████████| 6/6 [00:09<00:00,  1.54s/it]\n",
      "Calculating magnitudes: 100%|██████████| 6/6 [00:10<00:00,  1.79s/it]\n",
      "Calculating magnitudes: 100%|██████████| 6/6 [00:07<00:00,  1.30s/it]\n",
      "Calculating magnitudes: 100%|██████████| 6/6 [00:09<00:00,  1.50s/it]\n",
      "Calculating magnitudes: 100%|██████████| 6/6 [00:05<00:00,  1.08it/s]\n",
      "Calculating magnitudes: 100%|██████████| 6/6 [00:11<00:00,  1.86s/it]\n",
      "Calculating magnitudes: 100%|██████████| 6/6 [00:09<00:00,  1.63s/it]\n",
      "Calculating magnitudes: 100%|██████████| 6/6 [00:11<00:00,  1.87s/it]\n",
      "Calculating magnitudes: 100%|██████████| 6/6 [00:08<00:00,  1.38s/it]\n",
      "Calculating magnitudes: 100%|██████████| 6/6 [00:11<00:00,  1.92s/it]\n",
      "Calculating magnitudes: 100%|██████████| 6/6 [00:05<00:00,  1.06it/s]\n",
      "Calculating magnitudes: 100%|██████████| 6/6 [00:09<00:00,  1.64s/it]\n",
      "Calculating magnitudes: 100%|██████████| 6/6 [00:08<00:00,  1.47s/it]\n",
      "Calculating magnitudes: 100%|██████████| 6/6 [00:08<00:00,  1.37s/it]\n",
      "Calculating magnitudes: 100%|██████████| 6/6 [00:10<00:00,  1.75s/it]\n",
      "Calculating magnitudes: 100%|██████████| 6/6 [00:08<00:00,  1.44s/it]\n",
      "Calculating magnitudes: 100%|██████████| 6/6 [00:10<00:00,  1.80s/it]\n",
      "Calculating magnitudes: 100%|██████████| 6/6 [00:05<00:00,  1.02it/s]\n",
      "Calculating magnitudes: 100%|██████████| 6/6 [00:10<00:00,  1.67s/it]\n",
      "Calculating magnitudes: 100%|██████████| 6/6 [00:08<00:00,  1.37s/it]\n",
      "Calculating magnitudes: 100%|██████████| 6/6 [1:14:35<00:00, 745.97s/it] \n",
      "Calculating magnitudes: 100%|██████████| 6/6 [00:10<00:00,  1.74s/it]\n",
      "Calculating magnitudes: 100%|██████████| 6/6 [00:11<00:00,  1.97s/it]\n",
      "Calculating magnitudes: 100%|██████████| 6/6 [00:04<00:00,  1.22it/s]\n",
      "Calculating magnitudes: 100%|██████████| 6/6 [00:05<00:00,  1.19it/s]\n",
      "Calculating magnitudes: 100%|██████████| 6/6 [00:10<00:00,  1.73s/it]\n",
      "Calculating magnitudes: 100%|██████████| 6/6 [00:10<00:00,  1.79s/it]\n",
      "Calculating magnitudes: 100%|██████████| 6/6 [00:05<00:00,  1.03it/s]\n",
      "Calculating magnitudes: 100%|██████████| 6/6 [00:06<00:00,  1.11s/it]\n",
      "Calculating magnitudes: 100%|██████████| 6/6 [00:09<00:00,  1.65s/it]\n",
      "Calculating magnitudes: 100%|██████████| 6/6 [00:10<00:00,  1.73s/it]\n",
      "Calculating magnitudes: 100%|██████████| 6/6 [00:07<00:00,  1.23s/it]\n",
      "Calculating magnitudes: 100%|██████████| 6/6 [00:07<00:00,  1.32s/it]\n",
      "Calculating magnitudes: 100%|██████████| 6/6 [00:07<00:00,  1.24s/it]\n",
      "Calculating magnitudes: 100%|██████████| 6/6 [00:08<00:00,  1.37s/it]\n",
      "Calculating magnitudes: 100%|██████████| 6/6 [00:08<00:00,  1.43s/it]\n",
      "Calculating magnitudes: 100%|██████████| 6/6 [00:09<00:00,  1.55s/it]\n",
      "Calculating magnitudes: 100%|██████████| 6/6 [00:05<00:00,  1.14it/s]\n",
      "Calculating magnitudes: 100%|██████████| 6/6 [00:08<00:00,  1.45s/it]\n",
      "Calculating magnitudes: 100%|██████████| 6/6 [00:03<00:00,  1.63it/s]\n",
      "Calculating magnitudes: 100%|██████████| 6/6 [00:04<00:00,  1.44it/s]\n",
      "Calculating magnitudes: 100%|██████████| 6/6 [00:09<00:00,  1.65s/it]\n",
      "Calculating magnitudes: 100%|██████████| 6/6 [00:09<00:00,  1.57s/it]\n",
      "Calculating magnitudes: 100%|██████████| 6/6 [00:10<00:00,  1.71s/it]\n",
      "Calculating magnitudes: 100%|██████████| 6/6 [00:15<00:00,  2.50s/it]\n",
      "Calculating magnitudes: 100%|██████████| 6/6 [00:08<00:00,  1.47s/it]\n",
      "Calculating magnitudes: 100%|██████████| 6/6 [00:07<00:00,  1.27s/it]\n",
      "Calculating magnitudes: 100%|██████████| 6/6 [00:05<00:00,  1.09it/s]\n",
      "Calculating magnitudes: 100%|██████████| 6/6 [00:07<00:00,  1.28s/it]\n",
      "Calculating magnitudes: 100%|██████████| 6/6 [00:04<00:00,  1.50it/s]\n",
      "Calculating magnitudes: 100%|██████████| 6/6 [00:06<00:00,  1.01s/it]\n",
      "Calculating magnitudes: 100%|██████████| 6/6 [00:09<00:00,  1.63s/it]\n",
      "Calculating magnitudes: 100%|██████████| 6/6 [00:10<00:00,  1.81s/it]\n",
      "Calculating magnitudes: 100%|██████████| 6/6 [00:09<00:00,  1.65s/it]\n",
      "Calculating magnitudes: 100%|██████████| 6/6 [00:07<00:00,  1.19s/it]\n",
      "Calculating magnitudes: 100%|██████████| 6/6 [00:05<00:00,  1.08it/s]\n",
      "Calculating magnitudes: 100%|██████████| 6/6 [00:09<00:00,  1.56s/it]\n",
      "Calculating magnitudes: 100%|██████████| 6/6 [00:03<00:00,  1.72it/s]\n",
      "Calculating magnitudes: 100%|██████████| 6/6 [00:08<00:00,  1.44s/it]\n",
      "Calculating magnitudes: 100%|██████████| 6/6 [00:09<00:00,  1.56s/it]\n",
      "Calculating magnitudes: 100%|██████████| 6/6 [00:06<00:00,  1.13s/it]\n",
      "Calculating magnitudes: 100%|██████████| 6/6 [00:06<00:00,  1.06s/it]\n",
      "Calculating magnitudes: 100%|██████████| 6/6 [00:08<00:00,  1.48s/it]\n",
      "Calculating magnitudes: 100%|██████████| 6/6 [00:06<00:00,  1.08s/it]\n",
      "Calculating magnitudes: 100%|██████████| 6/6 [00:09<00:00,  1.64s/it]\n",
      "Calculating magnitudes: 100%|██████████| 6/6 [00:04<00:00,  1.48it/s]\n",
      "Calculating magnitudes: 100%|██████████| 6/6 [00:09<00:00,  1.61s/it]\n",
      "Calculating magnitudes: 100%|██████████| 6/6 [00:08<00:00,  1.37s/it]\n",
      "Calculating magnitudes: 100%|██████████| 6/6 [00:06<00:00,  1.06s/it]\n",
      "Calculating magnitudes: 100%|██████████| 6/6 [00:10<00:00,  1.69s/it]\n",
      "Calculating magnitudes: 100%|██████████| 6/6 [00:05<00:00,  1.14it/s]\n",
      "Calculating magnitudes: 100%|██████████| 6/6 [00:07<00:00,  1.32s/it]\n",
      "Calculating magnitudes: 100%|██████████| 6/6 [00:07<00:00,  1.18s/it]\n",
      "Calculating magnitudes: 100%|██████████| 6/6 [00:06<00:00,  1.08s/it]\n",
      "100%|██████████| 100/100 [1:47:00<00:00, 64.20s/it]\n"
     ]
    }
   ],
   "source": [
    "photometric_catalogs_path = '/Users/mncavieres/Documents/2024-2/HVS/Data/speedystar_catalogs/top_heavy_phot_prop'\n",
    "\n",
    "for catalog in tqdm(os.listdir(propagated_catalogs_path)):\n",
    "    # Only compute actual catalogs FITS files\n",
    "    if not catalog.endswith('.fits'):\n",
    "        print('Skipping', catalog)\n",
    "        continue\n",
    "\n",
    "    # Load propagated sample\n",
    "    mysample = starsample(os.path.join(propagated_catalogs_path, catalog))\n",
    "\n",
    "    # Select only HVSs that are fast\n",
    "    #fast = mysample.GCv > mysample.Vesc\n",
    "    #mysample = mysample[fast]\n",
    "    \n",
    "    #Assign the dust map. Will be downloaded if it doesn't already exist in the working directory or where you've\n",
    "    #   specified above\n",
    "    mysample.dust = mwdust.Combined15()\n",
    "\n",
    "    #Get mock apparent magnitudes . By default magnitudes are computed in the Johnson-Cousins V and I bands \n",
    "    #   and the Gaia G, G_RP, G_BP and G_RVS bands.\n",
    "    #   By default this also returns Gaia astrometric and radial velocity errors assuming Gaia DR4 precision\n",
    "    mysample.photometry()\n",
    "\n",
    "    #Save the sample with mock photometry\n",
    "    mysample.save(os.path.join(photometric_catalogs_path, catalog))"
   ]
  },
  {
   "cell_type": "code",
   "execution_count": 14,
   "metadata": {},
   "outputs": [
    {
     "name": "stderr",
     "output_type": "stream",
     "text": [
      "Calculating magnitudes: 100%|██████████| 6/6 [00:02<00:00,  2.16it/s]\n"
     ]
    }
   ],
   "source": [
    "#Load a pre-existing propagated sample, if needed\n",
    "mysample = starsample('./cat_propagated.fits')\n",
    "\n",
    "#Magnitudes are exctincted by Milky Way dust along the line of sight. Need to assign a dust map. \n",
    "#Dust map(s) must be downloaded if they do not already exist. They can be rather large, ~500 MB.\n",
    "\n",
    "#Uncomment this line and fill out a path if the dust map is located somewhere other than the working\n",
    "#   directory, or you want it downloaded somewhere other than the working directory\n",
    "#mysample.config_dust('/path/to/where/you/want/the/dust/map')\n",
    "\n",
    "#Assign the dust map. Will be downloaded if it doesn't already exist in the working directory or where you've\n",
    "#   specified above\n",
    "mysample.dust = mwdust.Combined15()\n",
    "\n",
    "#Get mock apparent magnitudes . By default magnitudes are computed in the Johnson-Cousins V and I bands \n",
    "#   and the Gaia G, G_RP, G_BP and G_RVS bands.\n",
    "#   By default this also returns Gaia astrometric and radial velocity errors assuming Gaia DR4 precision\n",
    "mysample.photometry()\n",
    "\n",
    "#Save the sample with mock photometry\n",
    "mysample.save('./cat_photometry.fits')"
   ]
  },
  {
   "cell_type": "markdown",
   "metadata": {},
   "source": [
    "### Gaia detectability\n",
    " Finally, let's determine which stars would be detectable in Gaia Data Release 3.\n",
    " \n",
    " Gaia magnitude cuts can be performed using mysample[...], but they're also implemented directly in `speedystar.subsample` for simplicity, along with some other common cuts. These cuts will also automatically calculate DR3 mock Gaia errors.\n"
   ]
  },
  {
   "cell_type": "code",
   "execution_count": 15,
   "metadata": {},
   "outputs": [
    {
     "name": "stderr",
     "output_type": "stream",
     "text": [
      "100%|██████████| 100/100 [00:10<00:00,  9.95it/s]\n"
     ]
    }
   ],
   "source": [
    "detectable_dr3_path = '/Users/mncavieres/Documents/2024-2/HVS/speedystar/simulated_catalogs/detectable_DR3'\n",
    "\n",
    "for catalog in tqdm.tqdm(os.listdir(photometric_catalogs_path)):\n",
    "    if not catalog.endswith('.fits'):\n",
    "        pass\n",
    "    # Load photometric sample\n",
    "    mysample = starsample(os.path.join(photometric_catalogs_path, catalog))\n",
    "\n",
    "    #Determine which stars would be in principle detectable in Gaia DR3 and recalculate errors\n",
    "    mysample.subsample('Gaia_DR3')\n",
    "\n",
    "    #Save the cut sample\n",
    "    mysample.save(os.path.join(detectable_dr3_path, catalog))"
   ]
  },
  {
   "cell_type": "code",
   "execution_count": 15,
   "metadata": {},
   "outputs": [
    {
     "name": "stdout",
     "output_type": "stream",
     "text": [
      "Number of stars in Gaia DR3: 95\n",
      "Number of stars in Gaia DR4 with radial velocity: 4\n"
     ]
    }
   ],
   "source": [
    "#Load a pre-existing sample with photometry, if needed\n",
    "mysample = starsample('./cat_photometry.fits')\n",
    "\n",
    "#Determine which stars would be in principle detectable in Gaia DR3 and recalculate errors\n",
    "mysample.subsample('Gaia_DR3')\n",
    "\n",
    "#Save the cut sample\n",
    "mysample.save('./cat_gaiaDR3.fits')\n",
    "print('Number of stars in Gaia DR3: '+str(mysample.size))\n",
    "\n",
    "#Determine which stars would be in principle detectable in the subsample of Gaia DR4 with\n",
    "#   measured radial velocities.\n",
    "mysample.subsample('Gaia_6D_DR4')\n",
    "\n",
    "#Save the cut sample\n",
    "mysample.save('./cat_gaiaDR4_6D.fits')\n",
    "print('Number of stars in Gaia DR4 with radial velocity: '+str(mysample.size))\n"
   ]
  },
  {
   "cell_type": "code",
   "execution_count": 17,
   "metadata": {},
   "outputs": [
    {
     "name": "stdout",
     "output_type": "stream",
     "text": [
      "Number of stars in Gaia DR4: 95\n"
     ]
    }
   ],
   "source": [
    "#Load a pre-existing sample with photometry, if needed\n",
    "mysample = starsample('./cat_photometry.fits')\n",
    "mysample.subsample('Gaia_DR4')\n",
    "\n",
    "#Save the cut sample\n",
    "mysample.save('./cat_gaiaDR4.fits')\n",
    "print('Number of stars in Gaia DR4: '+str(mysample.size))"
   ]
  },
  {
   "cell_type": "code",
   "execution_count": 20,
   "metadata": {},
   "outputs": [
    {
     "name": "stdout",
     "output_type": "stream",
     "text": [
      "Number of stars in Gaia DR4: 4\n"
     ]
    }
   ],
   "source": [
    "#Load a pre-existing sample with photometry, if needed\n",
    "mysample = starsample('./cat_photometry.fits')\n",
    "mysample.subsample('Gaia_6D_DR4')\n",
    "print('Number of stars in Gaia DR4: '+str(mysample.size))"
   ]
  },
  {
   "cell_type": "code",
   "execution_count": null,
   "metadata": {},
   "outputs": [],
   "source": []
  }
 ],
 "metadata": {
  "kernelspec": {
   "display_name": "speedytest2",
   "language": "python",
   "name": "python3"
  },
  "language_info": {
   "codemirror_mode": {
    "name": "ipython",
    "version": 3
   },
   "file_extension": ".py",
   "mimetype": "text/x-python",
   "name": "python",
   "nbconvert_exporter": "python",
   "pygments_lexer": "ipython3",
   "version": "3.12.7"
  }
 },
 "nbformat": 4,
 "nbformat_minor": 2
}
