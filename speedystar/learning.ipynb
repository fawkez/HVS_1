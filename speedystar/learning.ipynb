{
 "cells": [
  {
   "cell_type": "markdown",
   "metadata": {},
   "source": [
    "### Your first hypervelocity star catalogue\n",
    "\n",
    "`speedystar` is a python package which will allow you to generate, evolve, propagate and perform mock observations of single stars ejected at high velocities.\n",
    "\n",
    "### Getting Started\n",
    "\n",
    "Make sure this notebook is in the parent directory of `speedystar/`. The package itself is not large, but performing mock observations requires downloading a Milky Way dust map which by default is ~500 MB. This free space is assumed to be in the current working directory by default, but does not have to be (see below).\n",
    "\n",
    "We currently do not recommend installing `speedystar` globally using pip since that prevents you from editing the source code directly.\n",
    "\n",
    "`speedystar` uses a number of Python packages. Some of these which might not already be included in your Python distribution are astropy, galpy, mwdust and pygaia. Simply run this notebook and conda or pip install any package that doesn't exist.\n",
    "\n",
    "More accurate treatments of the Gaia selection functions and astrometric spread function also require the Python packages scanninglaw and gaiaunlimited. These packages currently do not support Windows since they rely on the healpy package, but can be installed using Windows Subsystem for Linux (WSL).\n",
    "\n",
    "### Documentation\n",
    "\n",
    "help(speedystar.starsample) will display the names and descriptions of every method in `speedystar`, as well as descriptions of common column names.\n",
    "\n",
    "### Outputs\n",
    "\n",
    "`speedystar` outputs are .fits tables containing useful info for each mock star as well as metadata describing the assumptions that go into the sample. They can be accessed using astropy.table or with [Topcat](https://www.star.bris.ac.uk/~mbt/topcat/) or however else you'd like to read them.\n"
   ]
  },
  {
   "cell_type": "code",
   "execution_count": 1,
   "metadata": {},
   "outputs": [
    {
     "name": "stdout",
     "output_type": "stream",
     "text": [
      "/Users/mncavieres/opt/anaconda3/envs/speedytest2/lib/python3.12/site-packages/requests/__init__.py:86: RequestsDependencyWarning: Unable to find acceptable character detection dependency (chardet or charset_normalizer).\n",
      "  warnings.warn(\n",
      "\n"
     ]
    }
   ],
   "source": [
    "#Import what you need\n",
    "import numpy as np\n",
    "import os\n",
    "#os.chdir('/mnt/c/Users/frase/')\n",
    "from speedystar import starsample\n",
    "from speedystar.eject import Hills\n",
    "from speedystar.utils.mwpotential import MWPotential\n",
    "import astropy.units as u\n",
    "from galpy import potential\n",
    "import mwdust\n",
    "from tqdm import tqdm\n",
    "#Print a lot of documentation\n",
    "#help(starsample)"
   ]
  },
  {
   "cell_type": "markdown",
   "metadata": {},
   "source": [
    "### Ejecting a sample\n",
    "\n",
    "We're now ready to eject some stars!\n",
    "\n",
    "The 'typical' way to eject hypervelocity stars is via the Hills Mechanism, in which a stellar binary approaches Sgr A* on a very low-angular momentum orbit. At a particular distance from Sgr A*, the tidal forces across the binary surpass the gravitational binding energy of the binary itself and the binary is separated. One star is captured in orbit around Sgr A* and the other is flung away at a velocities up to several thousand km/s. Stars ejected above the escape velocity of the Galaxy are hypervelocity stars (HVSs) -- they will eventually escape the Galaxy entirely. Note that there will also be a population of stars ejected slowly as well, which will not escape the inner Galaxy and might survive to interact again with Sgr A*.\n",
    "\n",
    "<p align=\"center\">\n",
    "<img src =\"https://www.universetoday.com/wp-content/uploads/2023/01/hills-mechanism.jpg\" width=\"50%\" height=\"50%\">\n",
    "</p>\n",
    "\n",
    "With `speedystar` you first generate a sample of stars at the moment of ejection. The number of stars and their masses/metallicities/velocities/flight times/evolutionary stages depend a lot on assumptions you make about stars and binaries in the Galactic Centre, see [Evans+2022](https://ui.adsabs.harvard.edu/abs/2022MNRAS.512.2350E/abstract) for more details.\n"
   ]
  },
  {
   "cell_type": "markdown",
   "metadata": {},
   "source": [
    "## Build a simple catalog"
   ]
  },
  {
   "cell_type": "code",
   "execution_count": 2,
   "metadata": {},
   "outputs": [],
   "source": [
    "simulated_catalogs_path = '/Users/mncavieres/Documents/2024-2/HVS/speedystar/simulated_catalogs/new/evolved'"
   ]
  },
  {
   "cell_type": "code",
   "execution_count": null,
   "metadata": {},
   "outputs": [],
   "source": [
    "#  the mass of Sgr A*, the maximum flight time, etc.\n",
    "\n",
    "simulated_catalogs_path = '/Users/mncavieres/Documents/2024-2/HVS/speedystar/simulated_catalogs/top_heavy'\n",
    "ejectionmodel = Hills(rate=1e-4/u.yr, kappa=1.7, amuseflag= True, Met= 0.25)\n",
    "mysample = starsample(ejectionmodel, name='sill_copy')\n",
    "mysample.save(os.path.join(simulated_catalogs_path, f'cat_ejection_kappa_{1.7}.fits'))"
   ]
  },
  {
   "cell_type": "markdown",
   "metadata": {},
   "source": [
    "## Build for a range of IMF slopes"
   ]
  },
  {
   "cell_type": "code",
   "execution_count": null,
   "metadata": {},
   "outputs": [
    {
     "ename": "KeyboardInterrupt",
     "evalue": "",
     "output_type": "error",
     "traceback": [
      "\u001b[0;31m---------------------------------------------------------------------------\u001b[0m",
      "\u001b[0;31mKeyboardInterrupt\u001b[0m                         Traceback (most recent call last)",
      "Cell \u001b[0;32mIn[5], line 10\u001b[0m\n\u001b[1;32m      8\u001b[0m \u001b[38;5;28;01mfor\u001b[39;00m kappa \u001b[38;5;129;01min\u001b[39;00m kappa_range:\n\u001b[1;32m      9\u001b[0m     ejectionmodel \u001b[38;5;241m=\u001b[39m Hills(rate\u001b[38;5;241m=\u001b[39m\u001b[38;5;241m1e-2\u001b[39m\u001b[38;5;241m/\u001b[39mu\u001b[38;5;241m.\u001b[39myr, kappa\u001b[38;5;241m=\u001b[39mkappa, amuseflag\u001b[38;5;241m=\u001b[39m \u001b[38;5;28;01mTrue\u001b[39;00m, Met\u001b[38;5;241m=\u001b[39m \u001b[38;5;241m0.25\u001b[39m)\n\u001b[0;32m---> 10\u001b[0m     mysample \u001b[38;5;241m=\u001b[39m \u001b[43mstarsample\u001b[49m\u001b[43m(\u001b[49m\u001b[43mejectionmodel\u001b[49m\u001b[43m,\u001b[49m\u001b[43m \u001b[49m\u001b[43mname\u001b[49m\u001b[38;5;241;43m=\u001b[39;49m\u001b[38;5;124;43m'\u001b[39;49m\u001b[38;5;124;43msill_copy\u001b[39;49m\u001b[38;5;124;43m'\u001b[39;49m\u001b[43m)\u001b[49m\n\u001b[1;32m     11\u001b[0m     mysample\u001b[38;5;241m.\u001b[39msave(os\u001b[38;5;241m.\u001b[39mpath\u001b[38;5;241m.\u001b[39mjoin(simulated_catalogs_path, \u001b[38;5;124mf\u001b[39m\u001b[38;5;124m'\u001b[39m\u001b[38;5;124mcat_ejection_kappa_\u001b[39m\u001b[38;5;132;01m{\u001b[39;00mkappa\u001b[38;5;132;01m}\u001b[39;00m\u001b[38;5;124m.fits\u001b[39m\u001b[38;5;124m'\u001b[39m))\n",
      "File \u001b[0;32m~/Documents/2024-2/HVS/speedystar/speedystar/__init__.py:183\u001b[0m, in \u001b[0;36mstarsample.__init__\u001b[0;34m(self, inputdata, name, isExternal, **kwargs)\u001b[0m\n\u001b[1;32m    181\u001b[0m \u001b[38;5;66;03m#If inputdata is ejection model, create new ejection sample\u001b[39;00m\n\u001b[1;32m    182\u001b[0m \u001b[38;5;28;01mif\u001b[39;00m \u001b[38;5;28misinstance\u001b[39m(inputdata, EjectionModel):\n\u001b[0;32m--> 183\u001b[0m     \u001b[38;5;28;43mself\u001b[39;49m\u001b[38;5;241;43m.\u001b[39;49m\u001b[43m_eject\u001b[49m\u001b[43m(\u001b[49m\u001b[43minputdata\u001b[49m\u001b[43m,\u001b[49m\u001b[43m \u001b[49m\u001b[38;5;241;43m*\u001b[39;49m\u001b[38;5;241;43m*\u001b[39;49m\u001b[43mkwargs\u001b[49m\u001b[43m)\u001b[49m\n\u001b[1;32m    185\u001b[0m \u001b[38;5;66;03m# If inputdata is a filename and isExternal=True, \u001b[39;00m\n\u001b[1;32m    186\u001b[0m \u001b[38;5;66;03m# loads existing sample of star observations    \u001b[39;00m\n\u001b[1;32m    187\u001b[0m \u001b[38;5;28;01mif\u001b[39;00m(\u001b[38;5;28misinstance\u001b[39m(inputdata, \u001b[38;5;28mstr\u001b[39m) \u001b[38;5;129;01mand\u001b[39;00m (isExternal)):\n",
      "File \u001b[0;32m~/Documents/2024-2/HVS/speedystar/speedystar/__init__.py:217\u001b[0m, in \u001b[0;36mstarsample._eject\u001b[0;34m(self, ejmodel, **kwargs)\u001b[0m\n\u001b[1;32m    209\u001b[0m \u001b[38;5;28mself\u001b[39m\u001b[38;5;241m.\u001b[39mpropagated \u001b[38;5;241m=\u001b[39m \u001b[38;5;28;01mFalse\u001b[39;00m\n\u001b[1;32m    211\u001b[0m \u001b[38;5;66;03m# See ejmodel.sampler() for descriptions of returned attributes\u001b[39;00m\n\u001b[1;32m    212\u001b[0m \u001b[38;5;66;03m#self.r0, self.phi0, self.theta0, self.v0, self.phiv0, self.thetav0, \\\u001b[39;00m\n\u001b[1;32m    213\u001b[0m \u001b[38;5;66;03m#self.m, self.tage, self.tflight, self.a, self.P, self.q, self.mem, \\\u001b[39;00m\n\u001b[1;32m    214\u001b[0m \u001b[38;5;66;03m#self.met, self.stage, self.stagebefore, self.Rad, self.T_eff, \\\u001b[39;00m\n\u001b[1;32m    215\u001b[0m \u001b[38;5;66;03m#self.Lum, self.size = ejmodel.sampler(**kwargs)\u001b[39;00m\n\u001b[0;32m--> 217\u001b[0m ejargs \u001b[38;5;241m=\u001b[39m \u001b[43mejmodel\u001b[49m\u001b[38;5;241;43m.\u001b[39;49m\u001b[43msampler\u001b[49m\u001b[43m(\u001b[49m\u001b[38;5;241;43m*\u001b[39;49m\u001b[38;5;241;43m*\u001b[39;49m\u001b[43mkwargs\u001b[49m\u001b[43m)\u001b[49m\n\u001b[1;32m    219\u001b[0m \u001b[38;5;28;01mfor\u001b[39;00m key \u001b[38;5;129;01min\u001b[39;00m \u001b[38;5;28mlist\u001b[39m(ejargs\u001b[38;5;241m.\u001b[39mkeys()):\n\u001b[1;32m    220\u001b[0m     \u001b[38;5;28msetattr\u001b[39m(\u001b[38;5;28mself\u001b[39m,key,ejargs[key])\n",
      "File \u001b[0;32m~/Documents/2024-2/HVS/speedystar/speedystar/eject.py:1075\u001b[0m, in \u001b[0;36mHills.sampler\u001b[0;34m(self)\u001b[0m\n\u001b[1;32m   1059\u001b[0m met \u001b[38;5;241m=\u001b[39m \u001b[38;5;28mself\u001b[39m\u001b[38;5;241m.\u001b[39msample_met(n)\n\u001b[1;32m   1061\u001b[0m \u001b[38;5;28;01mif\u001b[39;00m \u001b[38;5;28mself\u001b[39m\u001b[38;5;241m.\u001b[39mamuseflag:\n\u001b[1;32m   1062\u001b[0m     \u001b[38;5;66;03m#Calculate stellar ages and remove stars that are remnants today\u001b[39;00m\n\u001b[1;32m   1063\u001b[0m     \u001b[38;5;66;03m#Calculating maximum lifetimes (taken here as the time from ZAMS \u001b[39;00m\n\u001b[0;32m   (...)\u001b[0m\n\u001b[1;32m   1072\u001b[0m     \u001b[38;5;66;03m#binary using the Hurley+2000 relation. These relations assume \u001b[39;00m\n\u001b[1;32m   1073\u001b[0m     \u001b[38;5;66;03m#Zsun=0.02, so might need to be adjusted if self.Zsun is different\u001b[39;00m\n\u001b[0;32m-> 1075\u001b[0m     T_maxbig \u001b[38;5;241m=\u001b[39m \u001b[43mget_t_MS\u001b[49m\u001b[43m(\u001b[49m\u001b[43mnp\u001b[49m\u001b[38;5;241;43m.\u001b[39;49m\u001b[43mmaximum\u001b[49m\u001b[43m(\u001b[49m\u001b[43mm\u001b[49m\u001b[43m,\u001b[49m\u001b[43mmc\u001b[49m\u001b[43m)\u001b[49m\u001b[43m,\u001b[49m\u001b[43mmet\u001b[49m\u001b[38;5;241;43m+\u001b[39;49m\u001b[43mnp\u001b[49m\u001b[38;5;241;43m.\u001b[39;49m\u001b[43mlog10\u001b[49m\u001b[43m(\u001b[49m\u001b[38;5;28;43mself\u001b[39;49m\u001b[38;5;241;43m.\u001b[39;49m\u001b[43mZsun\u001b[49m\u001b[38;5;241;43m/\u001b[39;49m\u001b[38;5;241;43m0.02\u001b[39;49m\u001b[43m)\u001b[49m\u001b[43m)\u001b[49m\n\u001b[1;32m   1076\u001b[0m     T_maxbig[T_maxbig\u001b[38;5;241m>\u001b[39m\u001b[38;5;28mself\u001b[39m\u001b[38;5;241m.\u001b[39mT_MW] \u001b[38;5;241m=\u001b[39m \u001b[38;5;28mself\u001b[39m\u001b[38;5;241m.\u001b[39mT_MW\n\u001b[1;32m   1078\u001b[0m     \u001b[38;5;66;03m#Binary hung around the GC for a random fraction e1 \u001b[39;00m\n\u001b[1;32m   1079\u001b[0m     \u001b[38;5;66;03m#of its maximum lifetime\u001b[39;00m\n\u001b[1;32m   1080\u001b[0m     \u001b[38;5;66;03m#(\"maximum lifetime\" here is taken as 1.4*t_MS, see above)\u001b[39;00m\n",
      "File \u001b[0;32m~/Documents/2024-2/HVS/speedystar/speedystar/utils/hurley_stellar_evolution.py:1859\u001b[0m, in \u001b[0;36mget_t_MS\u001b[0;34m(m, xi)\u001b[0m\n\u001b[1;32m   1854\u001b[0m out \u001b[38;5;241m=\u001b[39m np\u001b[38;5;241m.\u001b[39mempty(\u001b[38;5;28mlen\u001b[39m(M))\n\u001b[1;32m   1856\u001b[0m \u001b[38;5;28;01mfor\u001b[39;00m i \u001b[38;5;129;01min\u001b[39;00m \u001b[38;5;28mrange\u001b[39m(\u001b[38;5;28mlen\u001b[39m(m)):\n\u001b[1;32m   1857\u001b[0m \u001b[38;5;66;03m#for i in tqdm(range(len(m))):\u001b[39;00m\n\u001b[1;32m   1858\u001b[0m     \u001b[38;5;66;03m#out[i] = max( Mu_param(M[i],xi[i])*t_BGB(M[i],xi[i]), x_param(xi[i])*t_BGB(M[i],xi[i]) )#*u.Myr \u001b[39;00m\n\u001b[0;32m-> 1859\u001b[0m     out[i] \u001b[38;5;241m=\u001b[39m \u001b[43mt_MS\u001b[49m\u001b[43m(\u001b[49m\u001b[43mM\u001b[49m\u001b[43m[\u001b[49m\u001b[43mi\u001b[49m\u001b[43m]\u001b[49m\u001b[43m,\u001b[49m\u001b[43m \u001b[49m\u001b[43mxi\u001b[49m\u001b[43m[\u001b[49m\u001b[43mi\u001b[49m\u001b[43m]\u001b[49m\u001b[43m)\u001b[49m \n\u001b[1;32m   1861\u001b[0m \u001b[38;5;28;01mreturn\u001b[39;00m out\u001b[38;5;241m*\u001b[39mu\u001b[38;5;241m.\u001b[39mMyr\n",
      "File \u001b[0;32m~/Documents/2024-2/HVS/speedystar/speedystar/utils/hurley_stellar_evolution.py:683\u001b[0m, in \u001b[0;36mt_MS\u001b[0;34m(M, xi)\u001b[0m\n\u001b[1;32m    681\u001b[0m \u001b[38;5;28;01mdef\u001b[39;00m \u001b[38;5;21mt_MS\u001b[39m(M,xi):\n\u001b[1;32m    682\u001b[0m         \u001b[38;5;66;03m# Main Sequence (MS) lifetime, Eq. 5:\u001b[39;00m\n\u001b[0;32m--> 683\u001b[0m         \u001b[38;5;28;01mreturn\u001b[39;00m \u001b[38;5;28mmax\u001b[39m( \u001b[43mt_hook\u001b[49m\u001b[43m(\u001b[49m\u001b[43mM\u001b[49m\u001b[43m,\u001b[49m\u001b[43m \u001b[49m\u001b[43mxi\u001b[49m\u001b[43m)\u001b[49m, x_param(xi)\u001b[38;5;241m*\u001b[39mt_BGB(M,xi) )\n",
      "File \u001b[0;32m~/Documents/2024-2/HVS/speedystar/speedystar/utils/hurley_stellar_evolution.py:679\u001b[0m, in \u001b[0;36mt_hook\u001b[0;34m(M, xi)\u001b[0m\n\u001b[1;32m    678\u001b[0m \u001b[38;5;28;01mdef\u001b[39;00m \u001b[38;5;21mt_hook\u001b[39m(M, xi):\n\u001b[0;32m--> 679\u001b[0m         \u001b[38;5;28;01mreturn\u001b[39;00m \u001b[43mMu_param\u001b[49m\u001b[43m(\u001b[49m\u001b[43mM\u001b[49m\u001b[43m,\u001b[49m\u001b[43m \u001b[49m\u001b[43mxi\u001b[49m\u001b[43m)\u001b[49m \u001b[38;5;241m*\u001b[39m t_BGB(M, xi)\n",
      "File \u001b[0;32m~/Documents/2024-2/HVS/speedystar/speedystar/utils/hurley_stellar_evolution.py:667\u001b[0m, in \u001b[0;36mMu_param\u001b[0;34m(M, xi)\u001b[0m\n\u001b[1;32m    665\u001b[0m \u001b[38;5;28;01mdef\u001b[39;00m \u001b[38;5;21mMu_param\u001b[39m(M,xi):\n\u001b[1;32m    666\u001b[0m         \u001b[38;5;66;03m# Eq. 7:\u001b[39;00m\n\u001b[0;32m--> 667\u001b[0m         \u001b[38;5;28;01mreturn\u001b[39;00m \u001b[38;5;28mmax\u001b[39m( \u001b[38;5;241m0.5\u001b[39m, \u001b[38;5;241m1.0\u001b[39m \u001b[38;5;241m-\u001b[39m \u001b[38;5;241m0.01\u001b[39m\u001b[38;5;241m*\u001b[39m\u001b[38;5;28mmax\u001b[39m( a_coeff(xi,\u001b[38;5;241m6\u001b[39m)\u001b[38;5;241m/\u001b[39m(M\u001b[38;5;241m*\u001b[39m\u001b[38;5;241m*\u001b[39m\u001b[43ma_coeff\u001b[49m\u001b[43m(\u001b[49m\u001b[43mxi\u001b[49m\u001b[43m,\u001b[49m\u001b[38;5;241;43m7\u001b[39;49m\u001b[43m)\u001b[49m), a_coeff(xi,\u001b[38;5;241m8\u001b[39m) \u001b[38;5;241m+\u001b[39m a_coeff(xi,\u001b[38;5;241m9\u001b[39m)\u001b[38;5;241m/\u001b[39m(M\u001b[38;5;241m*\u001b[39m\u001b[38;5;241m*\u001b[39ma_coeff(xi,\u001b[38;5;241m10\u001b[39m)) ) )\n",
      "File \u001b[0;32m~/Documents/2024-2/HVS/speedystar/speedystar/utils/hurley_stellar_evolution.py:23\u001b[0m, in \u001b[0;36ma_coeff\u001b[0;34m(xi, n)\u001b[0m\n\u001b[1;32m     17\u001b[0m         \u001b[38;5;28;01mreturn\u001b[39;00m \u001b[38;5;241m0.02\u001b[39m \u001b[38;5;241m*\u001b[39m \u001b[38;5;241m10.\u001b[39m\u001b[38;5;241m*\u001b[39m\u001b[38;5;241m*\u001b[39mxi\n\u001b[1;32m     20\u001b[0m \u001b[38;5;66;03m# ================ Coefficients from Appendix A ================================== #\u001b[39;00m\n\u001b[0;32m---> 23\u001b[0m \u001b[38;5;28;01mdef\u001b[39;00m \u001b[38;5;21ma_coeff\u001b[39m(xi,n):\n\u001b[1;32m     24\u001b[0m \n\u001b[1;32m     25\u001b[0m         \u001b[38;5;66;03m# ---------- tMS + LTMS: ---------------\u001b[39;00m\n\u001b[1;32m     27\u001b[0m         \u001b[38;5;28;01mif\u001b[39;00m n \u001b[38;5;241m==\u001b[39m \u001b[38;5;241m1\u001b[39m:\n\u001b[1;32m     28\u001b[0m                 params \u001b[38;5;241m=\u001b[39m [\u001b[38;5;241m1.593890e3\u001b[39m, \u001b[38;5;241m2.053038e3\u001b[39m, \u001b[38;5;241m1.231226e3\u001b[39m, \u001b[38;5;241m2.327785e2\u001b[39m, \u001b[38;5;241m0.\u001b[39m]\n",
      "\u001b[0;31mKeyboardInterrupt\u001b[0m: "
     ]
    }
   ],
   "source": [
    "#Current ejection methods include 'Hills' implementing the Hills mechanism\n",
    "#  and 'BMBH' implementing the massive black hole binary slingshot mechanism\n",
    "\n",
    "# Arguments to Hills() allow you to set many parameters for the sample, e.g. the stellar initial mass function,\n",
    "#  the mass of Sgr A*, the maximum flight time, etc.\n",
    "\n",
    "simulated_catalogs_path = '/Users/mncavieres/Documents/2024-2/HVS/speedystar/simulated_catalogs/top_heavy'\n",
    "kappa_range = np.linspace(1, 2.5, 10)\n",
    "for kappa in kappa_range:\n",
    "    ejectionmodel = Hills(rate=1e-4/u.yr, kappa=kappa, amuseflag= True, Met= 0.25)\n",
    "    mysample = starsample(ejectionmodel, name='sill_copy')\n",
    "    mysample.save(os.path.join(simulated_catalogs_path, f'cat_ejection_kappa_{kappa}.fits'))"
   ]
  },
  {
   "cell_type": "code",
   "execution_count": 7,
   "metadata": {},
   "outputs": [
    {
     "name": "stderr",
     "output_type": "stream",
     "text": [
      "  0%|          | 0/100 [00:00<?, ?it/s]"
     ]
    },
    {
     "name": "stdout",
     "output_type": "stream",
     "text": [
      "/Users/mncavieres/opt/anaconda3/envs/speedytest2/lib/python3.12/site-packages/amuse/rfi/core.py:964: UserWarning: MPI (unexpectedly?) not available, falling back to sockets channel\n",
      "  warnings.warn(\"MPI (unexpectedly?) not available, falling back to sockets channel\")\n",
      "\n"
     ]
    },
    {
     "name": "stderr",
     "output_type": "stream",
     "text": [
      "Evolving HVSs: 100%|██████████| 1/1 [00:03<00:00,  3.09s/it]\n",
      "  1%|          | 1/100 [00:19<32:56, 19.97s/it]"
     ]
    },
    {
     "name": "stdout",
     "output_type": "stream",
     "text": [
      "/Users/mncavieres/opt/anaconda3/envs/speedytest2/lib/python3.12/site-packages/amuse/rfi/core.py:964: UserWarning: MPI (unexpectedly?) not available, falling back to sockets channel\n",
      "  warnings.warn(\"MPI (unexpectedly?) not available, falling back to sockets channel\")\n",
      "\n"
     ]
    },
    {
     "name": "stderr",
     "output_type": "stream",
     "text": [
      "Evolving HVSs: 100%|██████████| 1/1 [00:02<00:00,  2.25s/it]\n",
      "  2%|▏         | 2/100 [00:39<31:48, 19.47s/it]"
     ]
    },
    {
     "name": "stdout",
     "output_type": "stream",
     "text": [
      "/Users/mncavieres/opt/anaconda3/envs/speedytest2/lib/python3.12/site-packages/amuse/rfi/core.py:964: UserWarning: MPI (unexpectedly?) not available, falling back to sockets channel\n",
      "  warnings.warn(\"MPI (unexpectedly?) not available, falling back to sockets channel\")\n",
      "\n"
     ]
    },
    {
     "name": "stderr",
     "output_type": "stream",
     "text": [
      "Evolving HVSs: 100%|██████████| 1/1 [00:02<00:00,  2.28s/it]\n",
      "  3%|▎         | 3/100 [00:58<31:11, 19.30s/it]"
     ]
    },
    {
     "name": "stdout",
     "output_type": "stream",
     "text": [
      "/Users/mncavieres/opt/anaconda3/envs/speedytest2/lib/python3.12/site-packages/amuse/rfi/core.py:964: UserWarning: MPI (unexpectedly?) not available, falling back to sockets channel\n",
      "  warnings.warn(\"MPI (unexpectedly?) not available, falling back to sockets channel\")\n",
      "\n"
     ]
    },
    {
     "name": "stderr",
     "output_type": "stream",
     "text": [
      "Evolving HVSs: 100%|██████████| 1/1 [00:02<00:00,  2.30s/it]\n",
      "  4%|▍         | 4/100 [01:17<30:53, 19.31s/it]"
     ]
    },
    {
     "name": "stdout",
     "output_type": "stream",
     "text": [
      "/Users/mncavieres/opt/anaconda3/envs/speedytest2/lib/python3.12/site-packages/amuse/rfi/core.py:964: UserWarning: MPI (unexpectedly?) not available, falling back to sockets channel\n",
      "  warnings.warn(\"MPI (unexpectedly?) not available, falling back to sockets channel\")\n",
      "\n"
     ]
    },
    {
     "name": "stderr",
     "output_type": "stream",
     "text": [
      "Evolving HVSs: 100%|██████████| 1/1 [00:02<00:00,  2.29s/it]\n",
      "  5%|▌         | 5/100 [01:36<30:18, 19.15s/it]"
     ]
    },
    {
     "name": "stdout",
     "output_type": "stream",
     "text": [
      "/Users/mncavieres/opt/anaconda3/envs/speedytest2/lib/python3.12/site-packages/amuse/rfi/core.py:964: UserWarning: MPI (unexpectedly?) not available, falling back to sockets channel\n",
      "  warnings.warn(\"MPI (unexpectedly?) not available, falling back to sockets channel\")\n",
      "\n"
     ]
    },
    {
     "name": "stderr",
     "output_type": "stream",
     "text": [
      "Evolving HVSs: 100%|██████████| 1/1 [00:02<00:00,  2.25s/it]\n",
      "  6%|▌         | 6/100 [01:55<29:56, 19.11s/it]"
     ]
    },
    {
     "name": "stdout",
     "output_type": "stream",
     "text": [
      "/Users/mncavieres/opt/anaconda3/envs/speedytest2/lib/python3.12/site-packages/amuse/rfi/core.py:964: UserWarning: MPI (unexpectedly?) not available, falling back to sockets channel\n",
      "  warnings.warn(\"MPI (unexpectedly?) not available, falling back to sockets channel\")\n",
      "\n"
     ]
    },
    {
     "name": "stderr",
     "output_type": "stream",
     "text": [
      "Evolving HVSs: 100%|██████████| 1/1 [00:02<00:00,  2.29s/it]\n",
      "  7%|▋         | 7/100 [02:14<29:39, 19.14s/it]"
     ]
    },
    {
     "name": "stdout",
     "output_type": "stream",
     "text": [
      "/Users/mncavieres/opt/anaconda3/envs/speedytest2/lib/python3.12/site-packages/amuse/rfi/core.py:964: UserWarning: MPI (unexpectedly?) not available, falling back to sockets channel\n",
      "  warnings.warn(\"MPI (unexpectedly?) not available, falling back to sockets channel\")\n",
      "\n"
     ]
    },
    {
     "name": "stderr",
     "output_type": "stream",
     "text": [
      "Evolving HVSs: 100%|██████████| 1/1 [00:02<00:00,  2.30s/it]\n",
      "  8%|▊         | 8/100 [02:33<29:22, 19.16s/it]"
     ]
    },
    {
     "name": "stdout",
     "output_type": "stream",
     "text": [
      "/Users/mncavieres/opt/anaconda3/envs/speedytest2/lib/python3.12/site-packages/amuse/rfi/core.py:964: UserWarning: MPI (unexpectedly?) not available, falling back to sockets channel\n",
      "  warnings.warn(\"MPI (unexpectedly?) not available, falling back to sockets channel\")\n",
      "\n"
     ]
    },
    {
     "name": "stderr",
     "output_type": "stream",
     "text": [
      "Evolving HVSs: 100%|██████████| 1/1 [00:02<00:00,  2.26s/it]\n",
      "  9%|▉         | 9/100 [02:53<29:11, 19.25s/it]"
     ]
    },
    {
     "name": "stdout",
     "output_type": "stream",
     "text": [
      "/Users/mncavieres/opt/anaconda3/envs/speedytest2/lib/python3.12/site-packages/amuse/rfi/core.py:964: UserWarning: MPI (unexpectedly?) not available, falling back to sockets channel\n",
      "  warnings.warn(\"MPI (unexpectedly?) not available, falling back to sockets channel\")\n",
      "\n"
     ]
    },
    {
     "name": "stderr",
     "output_type": "stream",
     "text": [
      "Evolving HVSs: 100%|██████████| 1/1 [00:02<00:00,  2.25s/it]\n",
      " 10%|█         | 10/100 [03:12<28:42, 19.14s/it]"
     ]
    },
    {
     "name": "stdout",
     "output_type": "stream",
     "text": [
      "/Users/mncavieres/opt/anaconda3/envs/speedytest2/lib/python3.12/site-packages/amuse/rfi/core.py:964: UserWarning: MPI (unexpectedly?) not available, falling back to sockets channel\n",
      "  warnings.warn(\"MPI (unexpectedly?) not available, falling back to sockets channel\")\n",
      "\n"
     ]
    },
    {
     "name": "stderr",
     "output_type": "stream",
     "text": [
      "Evolving HVSs: 100%|██████████| 1/1 [00:02<00:00,  2.41s/it]\n",
      " 11%|█         | 11/100 [03:31<28:32, 19.25s/it]"
     ]
    },
    {
     "name": "stdout",
     "output_type": "stream",
     "text": [
      "/Users/mncavieres/opt/anaconda3/envs/speedytest2/lib/python3.12/site-packages/amuse/rfi/core.py:964: UserWarning: MPI (unexpectedly?) not available, falling back to sockets channel\n",
      "  warnings.warn(\"MPI (unexpectedly?) not available, falling back to sockets channel\")\n",
      "\n"
     ]
    },
    {
     "name": "stderr",
     "output_type": "stream",
     "text": [
      "Evolving HVSs: 100%|██████████| 1/1 [00:02<00:00,  2.28s/it]\n",
      " 12%|█▏        | 12/100 [03:50<28:03, 19.14s/it]"
     ]
    },
    {
     "name": "stdout",
     "output_type": "stream",
     "text": [
      "/Users/mncavieres/opt/anaconda3/envs/speedytest2/lib/python3.12/site-packages/amuse/rfi/core.py:964: UserWarning: MPI (unexpectedly?) not available, falling back to sockets channel\n",
      "  warnings.warn(\"MPI (unexpectedly?) not available, falling back to sockets channel\")\n",
      "\n"
     ]
    },
    {
     "name": "stderr",
     "output_type": "stream",
     "text": [
      "Evolving HVSs: 100%|██████████| 1/1 [00:02<00:00,  2.38s/it]\n",
      " 13%|█▎        | 13/100 [04:09<27:52, 19.23s/it]"
     ]
    },
    {
     "name": "stdout",
     "output_type": "stream",
     "text": [
      "/Users/mncavieres/opt/anaconda3/envs/speedytest2/lib/python3.12/site-packages/amuse/rfi/core.py:964: UserWarning: MPI (unexpectedly?) not available, falling back to sockets channel\n",
      "  warnings.warn(\"MPI (unexpectedly?) not available, falling back to sockets channel\")\n",
      "\n"
     ]
    },
    {
     "name": "stderr",
     "output_type": "stream",
     "text": [
      "Evolving HVSs: 100%|██████████| 1/1 [00:02<00:00,  2.25s/it]\n",
      " 14%|█▍        | 14/100 [04:29<27:34, 19.24s/it]"
     ]
    },
    {
     "name": "stdout",
     "output_type": "stream",
     "text": [
      "/Users/mncavieres/opt/anaconda3/envs/speedytest2/lib/python3.12/site-packages/amuse/rfi/core.py:964: UserWarning: MPI (unexpectedly?) not available, falling back to sockets channel\n",
      "  warnings.warn(\"MPI (unexpectedly?) not available, falling back to sockets channel\")\n",
      "\n"
     ]
    },
    {
     "name": "stderr",
     "output_type": "stream",
     "text": [
      "Evolving HVSs: 100%|██████████| 1/1 [00:02<00:00,  2.27s/it]\n",
      " 15%|█▌        | 15/100 [04:48<27:09, 19.17s/it]"
     ]
    },
    {
     "name": "stdout",
     "output_type": "stream",
     "text": [
      "/Users/mncavieres/opt/anaconda3/envs/speedytest2/lib/python3.12/site-packages/amuse/rfi/core.py:964: UserWarning: MPI (unexpectedly?) not available, falling back to sockets channel\n",
      "  warnings.warn(\"MPI (unexpectedly?) not available, falling back to sockets channel\")\n",
      "\n"
     ]
    },
    {
     "name": "stderr",
     "output_type": "stream",
     "text": [
      "Evolving HVSs: 100%|██████████| 1/1 [00:02<00:00,  2.28s/it]\n",
      " 16%|█▌        | 16/100 [05:07<26:44, 19.10s/it]"
     ]
    },
    {
     "name": "stdout",
     "output_type": "stream",
     "text": [
      "/Users/mncavieres/opt/anaconda3/envs/speedytest2/lib/python3.12/site-packages/amuse/rfi/core.py:964: UserWarning: MPI (unexpectedly?) not available, falling back to sockets channel\n",
      "  warnings.warn(\"MPI (unexpectedly?) not available, falling back to sockets channel\")\n",
      "\n"
     ]
    },
    {
     "name": "stderr",
     "output_type": "stream",
     "text": [
      "Evolving HVSs: 100%|██████████| 1/1 [00:02<00:00,  2.31s/it]\n",
      " 17%|█▋        | 17/100 [05:26<26:30, 19.17s/it]"
     ]
    },
    {
     "name": "stdout",
     "output_type": "stream",
     "text": [
      "/Users/mncavieres/opt/anaconda3/envs/speedytest2/lib/python3.12/site-packages/amuse/rfi/core.py:964: UserWarning: MPI (unexpectedly?) not available, falling back to sockets channel\n",
      "  warnings.warn(\"MPI (unexpectedly?) not available, falling back to sockets channel\")\n",
      "\n"
     ]
    },
    {
     "name": "stderr",
     "output_type": "stream",
     "text": [
      "Evolving HVSs: 100%|██████████| 1/1 [00:02<00:00,  2.29s/it]\n",
      " 18%|█▊        | 18/100 [05:45<26:11, 19.17s/it]"
     ]
    },
    {
     "name": "stdout",
     "output_type": "stream",
     "text": [
      "/Users/mncavieres/opt/anaconda3/envs/speedytest2/lib/python3.12/site-packages/amuse/rfi/core.py:964: UserWarning: MPI (unexpectedly?) not available, falling back to sockets channel\n",
      "  warnings.warn(\"MPI (unexpectedly?) not available, falling back to sockets channel\")\n",
      "\n"
     ]
    },
    {
     "name": "stderr",
     "output_type": "stream",
     "text": [
      "Evolving HVSs: 100%|██████████| 1/1 [00:02<00:00,  2.28s/it]\n",
      " 19%|█▉        | 19/100 [06:04<25:49, 19.13s/it]"
     ]
    },
    {
     "name": "stdout",
     "output_type": "stream",
     "text": [
      "/Users/mncavieres/opt/anaconda3/envs/speedytest2/lib/python3.12/site-packages/amuse/rfi/core.py:964: UserWarning: MPI (unexpectedly?) not available, falling back to sockets channel\n",
      "  warnings.warn(\"MPI (unexpectedly?) not available, falling back to sockets channel\")\n",
      "\n"
     ]
    },
    {
     "name": "stderr",
     "output_type": "stream",
     "text": [
      "Evolving HVSs: 100%|██████████| 1/1 [00:02<00:00,  2.31s/it]\n",
      " 20%|██        | 20/100 [06:23<25:28, 19.11s/it]"
     ]
    },
    {
     "name": "stdout",
     "output_type": "stream",
     "text": [
      "/Users/mncavieres/opt/anaconda3/envs/speedytest2/lib/python3.12/site-packages/amuse/rfi/core.py:964: UserWarning: MPI (unexpectedly?) not available, falling back to sockets channel\n",
      "  warnings.warn(\"MPI (unexpectedly?) not available, falling back to sockets channel\")\n",
      "\n"
     ]
    },
    {
     "name": "stderr",
     "output_type": "stream",
     "text": [
      "Evolving HVSs: 100%|██████████| 1/1 [00:02<00:00,  2.22s/it]\n",
      " 21%|██        | 21/100 [06:42<24:59, 18.98s/it]"
     ]
    },
    {
     "name": "stdout",
     "output_type": "stream",
     "text": [
      "/Users/mncavieres/opt/anaconda3/envs/speedytest2/lib/python3.12/site-packages/amuse/rfi/core.py:964: UserWarning: MPI (unexpectedly?) not available, falling back to sockets channel\n",
      "  warnings.warn(\"MPI (unexpectedly?) not available, falling back to sockets channel\")\n",
      "\n"
     ]
    },
    {
     "name": "stderr",
     "output_type": "stream",
     "text": [
      "Evolving HVSs: 100%|██████████| 1/1 [00:02<00:00,  2.29s/it]\n",
      " 22%|██▏       | 22/100 [07:01<24:46, 19.06s/it]"
     ]
    },
    {
     "name": "stdout",
     "output_type": "stream",
     "text": [
      "/Users/mncavieres/opt/anaconda3/envs/speedytest2/lib/python3.12/site-packages/amuse/rfi/core.py:964: UserWarning: MPI (unexpectedly?) not available, falling back to sockets channel\n",
      "  warnings.warn(\"MPI (unexpectedly?) not available, falling back to sockets channel\")\n",
      "\n"
     ]
    },
    {
     "name": "stderr",
     "output_type": "stream",
     "text": [
      "Evolving HVSs: 100%|██████████| 1/1 [00:02<00:00,  2.31s/it]\n",
      " 23%|██▎       | 23/100 [07:20<24:26, 19.04s/it]"
     ]
    },
    {
     "name": "stdout",
     "output_type": "stream",
     "text": [
      "/Users/mncavieres/opt/anaconda3/envs/speedytest2/lib/python3.12/site-packages/amuse/rfi/core.py:964: UserWarning: MPI (unexpectedly?) not available, falling back to sockets channel\n",
      "  warnings.warn(\"MPI (unexpectedly?) not available, falling back to sockets channel\")\n",
      "\n"
     ]
    },
    {
     "name": "stderr",
     "output_type": "stream",
     "text": [
      "Evolving HVSs: 100%|██████████| 1/1 [00:02<00:00,  2.32s/it]\n",
      " 24%|██▍       | 24/100 [07:40<24:23, 19.25s/it]"
     ]
    },
    {
     "name": "stdout",
     "output_type": "stream",
     "text": [
      "/Users/mncavieres/opt/anaconda3/envs/speedytest2/lib/python3.12/site-packages/amuse/rfi/core.py:964: UserWarning: MPI (unexpectedly?) not available, falling back to sockets channel\n",
      "  warnings.warn(\"MPI (unexpectedly?) not available, falling back to sockets channel\")\n",
      "\n"
     ]
    },
    {
     "name": "stderr",
     "output_type": "stream",
     "text": [
      "Evolving HVSs: 100%|██████████| 1/1 [00:02<00:00,  2.30s/it]\n",
      " 25%|██▌       | 25/100 [07:59<24:04, 19.26s/it]"
     ]
    },
    {
     "name": "stdout",
     "output_type": "stream",
     "text": [
      "/Users/mncavieres/opt/anaconda3/envs/speedytest2/lib/python3.12/site-packages/amuse/rfi/core.py:964: UserWarning: MPI (unexpectedly?) not available, falling back to sockets channel\n",
      "  warnings.warn(\"MPI (unexpectedly?) not available, falling back to sockets channel\")\n",
      "\n"
     ]
    },
    {
     "name": "stderr",
     "output_type": "stream",
     "text": [
      "Evolving HVSs: 100%|██████████| 1/1 [00:02<00:00,  2.25s/it]\n",
      " 26%|██▌       | 26/100 [08:18<23:36, 19.15s/it]"
     ]
    },
    {
     "name": "stdout",
     "output_type": "stream",
     "text": [
      "/Users/mncavieres/opt/anaconda3/envs/speedytest2/lib/python3.12/site-packages/amuse/rfi/core.py:964: UserWarning: MPI (unexpectedly?) not available, falling back to sockets channel\n",
      "  warnings.warn(\"MPI (unexpectedly?) not available, falling back to sockets channel\")\n",
      "\n"
     ]
    },
    {
     "name": "stderr",
     "output_type": "stream",
     "text": [
      "Evolving HVSs: 100%|██████████| 1/1 [00:02<00:00,  2.19s/it]\n",
      " 27%|██▋       | 27/100 [08:37<23:07, 19.00s/it]"
     ]
    },
    {
     "name": "stdout",
     "output_type": "stream",
     "text": [
      "/Users/mncavieres/opt/anaconda3/envs/speedytest2/lib/python3.12/site-packages/amuse/rfi/core.py:964: UserWarning: MPI (unexpectedly?) not available, falling back to sockets channel\n",
      "  warnings.warn(\"MPI (unexpectedly?) not available, falling back to sockets channel\")\n",
      "\n"
     ]
    },
    {
     "name": "stderr",
     "output_type": "stream",
     "text": [
      "Evolving HVSs: 100%|██████████| 1/1 [00:02<00:00,  2.60s/it]\n",
      " 28%|██▊       | 28/100 [08:56<23:02, 19.20s/it]"
     ]
    },
    {
     "name": "stdout",
     "output_type": "stream",
     "text": [
      "/Users/mncavieres/opt/anaconda3/envs/speedytest2/lib/python3.12/site-packages/amuse/rfi/core.py:964: UserWarning: MPI (unexpectedly?) not available, falling back to sockets channel\n",
      "  warnings.warn(\"MPI (unexpectedly?) not available, falling back to sockets channel\")\n",
      "\n"
     ]
    },
    {
     "name": "stderr",
     "output_type": "stream",
     "text": [
      "Evolving HVSs: 100%|██████████| 1/1 [00:02<00:00,  2.32s/it]\n",
      " 29%|██▉       | 29/100 [09:16<22:53, 19.35s/it]"
     ]
    },
    {
     "name": "stdout",
     "output_type": "stream",
     "text": [
      "/Users/mncavieres/opt/anaconda3/envs/speedytest2/lib/python3.12/site-packages/amuse/rfi/core.py:964: UserWarning: MPI (unexpectedly?) not available, falling back to sockets channel\n",
      "  warnings.warn(\"MPI (unexpectedly?) not available, falling back to sockets channel\")\n",
      "\n"
     ]
    },
    {
     "name": "stderr",
     "output_type": "stream",
     "text": [
      "Evolving HVSs: 100%|██████████| 1/1 [00:02<00:00,  2.23s/it]\n",
      " 30%|███       | 30/100 [09:36<22:42, 19.46s/it]"
     ]
    },
    {
     "name": "stdout",
     "output_type": "stream",
     "text": [
      "/Users/mncavieres/opt/anaconda3/envs/speedytest2/lib/python3.12/site-packages/amuse/rfi/core.py:964: UserWarning: MPI (unexpectedly?) not available, falling back to sockets channel\n",
      "  warnings.warn(\"MPI (unexpectedly?) not available, falling back to sockets channel\")\n",
      "\n"
     ]
    },
    {
     "name": "stderr",
     "output_type": "stream",
     "text": [
      "Evolving HVSs: 100%|██████████| 1/1 [00:02<00:00,  2.28s/it]\n",
      " 31%|███       | 31/100 [09:55<22:22, 19.46s/it]"
     ]
    },
    {
     "name": "stdout",
     "output_type": "stream",
     "text": [
      "/Users/mncavieres/opt/anaconda3/envs/speedytest2/lib/python3.12/site-packages/amuse/rfi/core.py:964: UserWarning: MPI (unexpectedly?) not available, falling back to sockets channel\n",
      "  warnings.warn(\"MPI (unexpectedly?) not available, falling back to sockets channel\")\n",
      "\n"
     ]
    },
    {
     "name": "stderr",
     "output_type": "stream",
     "text": [
      "Evolving HVSs: 100%|██████████| 1/1 [00:02<00:00,  2.33s/it]\n",
      " 32%|███▏      | 32/100 [10:15<22:03, 19.47s/it]"
     ]
    },
    {
     "name": "stdout",
     "output_type": "stream",
     "text": [
      "/Users/mncavieres/opt/anaconda3/envs/speedytest2/lib/python3.12/site-packages/amuse/rfi/core.py:964: UserWarning: MPI (unexpectedly?) not available, falling back to sockets channel\n",
      "  warnings.warn(\"MPI (unexpectedly?) not available, falling back to sockets channel\")\n",
      "\n"
     ]
    },
    {
     "name": "stderr",
     "output_type": "stream",
     "text": [
      "Evolving HVSs: 100%|██████████| 1/1 [00:02<00:00,  2.27s/it]\n",
      " 33%|███▎      | 33/100 [10:34<21:37, 19.37s/it]"
     ]
    },
    {
     "name": "stdout",
     "output_type": "stream",
     "text": [
      "/Users/mncavieres/opt/anaconda3/envs/speedytest2/lib/python3.12/site-packages/amuse/rfi/core.py:964: UserWarning: MPI (unexpectedly?) not available, falling back to sockets channel\n",
      "  warnings.warn(\"MPI (unexpectedly?) not available, falling back to sockets channel\")\n",
      "\n"
     ]
    },
    {
     "name": "stderr",
     "output_type": "stream",
     "text": [
      "Evolving HVSs: 100%|██████████| 1/1 [00:02<00:00,  2.30s/it]\n",
      " 34%|███▍      | 34/100 [10:53<21:14, 19.31s/it]"
     ]
    },
    {
     "name": "stdout",
     "output_type": "stream",
     "text": [
      "/Users/mncavieres/opt/anaconda3/envs/speedytest2/lib/python3.12/site-packages/amuse/rfi/core.py:964: UserWarning: MPI (unexpectedly?) not available, falling back to sockets channel\n",
      "  warnings.warn(\"MPI (unexpectedly?) not available, falling back to sockets channel\")\n",
      "\n"
     ]
    },
    {
     "name": "stderr",
     "output_type": "stream",
     "text": [
      "Evolving HVSs: 100%|██████████| 1/1 [00:02<00:00,  2.34s/it]\n",
      " 35%|███▌      | 35/100 [11:12<20:55, 19.31s/it]"
     ]
    },
    {
     "name": "stdout",
     "output_type": "stream",
     "text": [
      "/Users/mncavieres/opt/anaconda3/envs/speedytest2/lib/python3.12/site-packages/amuse/rfi/core.py:964: UserWarning: MPI (unexpectedly?) not available, falling back to sockets channel\n",
      "  warnings.warn(\"MPI (unexpectedly?) not available, falling back to sockets channel\")\n",
      "\n"
     ]
    },
    {
     "name": "stderr",
     "output_type": "stream",
     "text": [
      "Evolving HVSs: 100%|██████████| 1/1 [00:02<00:00,  2.24s/it]\n",
      " 36%|███▌      | 36/100 [11:32<20:44, 19.45s/it]"
     ]
    },
    {
     "name": "stdout",
     "output_type": "stream",
     "text": [
      "/Users/mncavieres/opt/anaconda3/envs/speedytest2/lib/python3.12/site-packages/amuse/rfi/core.py:964: UserWarning: MPI (unexpectedly?) not available, falling back to sockets channel\n",
      "  warnings.warn(\"MPI (unexpectedly?) not available, falling back to sockets channel\")\n",
      "\n"
     ]
    },
    {
     "name": "stderr",
     "output_type": "stream",
     "text": [
      "Evolving HVSs: 100%|██████████| 1/1 [00:02<00:00,  2.32s/it]\n",
      " 37%|███▋      | 37/100 [11:51<20:22, 19.41s/it]"
     ]
    },
    {
     "name": "stdout",
     "output_type": "stream",
     "text": [
      "/Users/mncavieres/opt/anaconda3/envs/speedytest2/lib/python3.12/site-packages/amuse/rfi/core.py:964: UserWarning: MPI (unexpectedly?) not available, falling back to sockets channel\n",
      "  warnings.warn(\"MPI (unexpectedly?) not available, falling back to sockets channel\")\n",
      "\n"
     ]
    },
    {
     "name": "stderr",
     "output_type": "stream",
     "text": [
      "Evolving HVSs: 100%|██████████| 1/1 [00:02<00:00,  2.25s/it]\n",
      " 38%|███▊      | 38/100 [12:11<19:56, 19.30s/it]"
     ]
    },
    {
     "name": "stdout",
     "output_type": "stream",
     "text": [
      "/Users/mncavieres/opt/anaconda3/envs/speedytest2/lib/python3.12/site-packages/amuse/rfi/core.py:964: UserWarning: MPI (unexpectedly?) not available, falling back to sockets channel\n",
      "  warnings.warn(\"MPI (unexpectedly?) not available, falling back to sockets channel\")\n",
      "\n"
     ]
    },
    {
     "name": "stderr",
     "output_type": "stream",
     "text": [
      "Evolving HVSs: 100%|██████████| 1/1 [00:02<00:00,  2.32s/it]\n",
      " 39%|███▉      | 39/100 [12:30<19:37, 19.30s/it]"
     ]
    },
    {
     "name": "stdout",
     "output_type": "stream",
     "text": [
      "/Users/mncavieres/opt/anaconda3/envs/speedytest2/lib/python3.12/site-packages/amuse/rfi/core.py:964: UserWarning: MPI (unexpectedly?) not available, falling back to sockets channel\n",
      "  warnings.warn(\"MPI (unexpectedly?) not available, falling back to sockets channel\")\n",
      "\n"
     ]
    },
    {
     "name": "stderr",
     "output_type": "stream",
     "text": [
      "Evolving HVSs: 100%|██████████| 1/1 [00:02<00:00,  2.36s/it]\n",
      " 40%|████      | 40/100 [12:49<19:14, 19.25s/it]"
     ]
    },
    {
     "name": "stdout",
     "output_type": "stream",
     "text": [
      "/Users/mncavieres/opt/anaconda3/envs/speedytest2/lib/python3.12/site-packages/amuse/rfi/core.py:964: UserWarning: MPI (unexpectedly?) not available, falling back to sockets channel\n",
      "  warnings.warn(\"MPI (unexpectedly?) not available, falling back to sockets channel\")\n",
      "\n"
     ]
    },
    {
     "name": "stderr",
     "output_type": "stream",
     "text": [
      "Evolving HVSs: 100%|██████████| 1/1 [00:02<00:00,  2.37s/it]\n",
      " 41%|████      | 41/100 [13:08<18:58, 19.30s/it]"
     ]
    },
    {
     "name": "stdout",
     "output_type": "stream",
     "text": [
      "/Users/mncavieres/opt/anaconda3/envs/speedytest2/lib/python3.12/site-packages/amuse/rfi/core.py:964: UserWarning: MPI (unexpectedly?) not available, falling back to sockets channel\n",
      "  warnings.warn(\"MPI (unexpectedly?) not available, falling back to sockets channel\")\n",
      "\n"
     ]
    },
    {
     "name": "stderr",
     "output_type": "stream",
     "text": [
      "Evolving HVSs: 100%|██████████| 1/1 [00:02<00:00,  2.32s/it]\n",
      " 42%|████▏     | 42/100 [13:28<18:44, 19.39s/it]"
     ]
    },
    {
     "name": "stdout",
     "output_type": "stream",
     "text": [
      "/Users/mncavieres/opt/anaconda3/envs/speedytest2/lib/python3.12/site-packages/amuse/rfi/core.py:964: UserWarning: MPI (unexpectedly?) not available, falling back to sockets channel\n",
      "  warnings.warn(\"MPI (unexpectedly?) not available, falling back to sockets channel\")\n",
      "\n"
     ]
    },
    {
     "name": "stderr",
     "output_type": "stream",
     "text": [
      "Evolving HVSs: 100%|██████████| 1/1 [00:02<00:00,  2.77s/it]\n",
      " 43%|████▎     | 43/100 [13:49<18:52, 19.86s/it]"
     ]
    },
    {
     "name": "stdout",
     "output_type": "stream",
     "text": [
      "/Users/mncavieres/opt/anaconda3/envs/speedytest2/lib/python3.12/site-packages/amuse/rfi/core.py:964: UserWarning: MPI (unexpectedly?) not available, falling back to sockets channel\n",
      "  warnings.warn(\"MPI (unexpectedly?) not available, falling back to sockets channel\")\n",
      "\n"
     ]
    },
    {
     "name": "stderr",
     "output_type": "stream",
     "text": [
      "Evolving HVSs: 100%|██████████| 1/1 [00:02<00:00,  2.35s/it]\n",
      " 44%|████▍     | 44/100 [14:09<18:38, 19.97s/it]"
     ]
    },
    {
     "name": "stdout",
     "output_type": "stream",
     "text": [
      "/Users/mncavieres/opt/anaconda3/envs/speedytest2/lib/python3.12/site-packages/amuse/rfi/core.py:964: UserWarning: MPI (unexpectedly?) not available, falling back to sockets channel\n",
      "  warnings.warn(\"MPI (unexpectedly?) not available, falling back to sockets channel\")\n",
      "\n"
     ]
    },
    {
     "name": "stderr",
     "output_type": "stream",
     "text": [
      "Evolving HVSs: 100%|██████████| 1/1 [00:02<00:00,  2.36s/it]\n",
      " 45%|████▌     | 45/100 [14:29<18:12, 19.87s/it]"
     ]
    },
    {
     "name": "stdout",
     "output_type": "stream",
     "text": [
      "/Users/mncavieres/opt/anaconda3/envs/speedytest2/lib/python3.12/site-packages/amuse/rfi/core.py:964: UserWarning: MPI (unexpectedly?) not available, falling back to sockets channel\n",
      "  warnings.warn(\"MPI (unexpectedly?) not available, falling back to sockets channel\")\n",
      "\n"
     ]
    },
    {
     "name": "stderr",
     "output_type": "stream",
     "text": [
      "Evolving HVSs: 100%|██████████| 1/1 [00:02<00:00,  2.32s/it]\n",
      " 46%|████▌     | 46/100 [14:48<17:45, 19.73s/it]"
     ]
    },
    {
     "name": "stdout",
     "output_type": "stream",
     "text": [
      "/Users/mncavieres/opt/anaconda3/envs/speedytest2/lib/python3.12/site-packages/amuse/rfi/core.py:964: UserWarning: MPI (unexpectedly?) not available, falling back to sockets channel\n",
      "  warnings.warn(\"MPI (unexpectedly?) not available, falling back to sockets channel\")\n",
      "\n"
     ]
    },
    {
     "name": "stderr",
     "output_type": "stream",
     "text": [
      "Evolving HVSs: 100%|██████████| 1/1 [00:02<00:00,  2.34s/it]\n",
      " 47%|████▋     | 47/100 [15:08<17:31, 19.83s/it]"
     ]
    },
    {
     "name": "stdout",
     "output_type": "stream",
     "text": [
      "/Users/mncavieres/opt/anaconda3/envs/speedytest2/lib/python3.12/site-packages/amuse/rfi/core.py:964: UserWarning: MPI (unexpectedly?) not available, falling back to sockets channel\n",
      "  warnings.warn(\"MPI (unexpectedly?) not available, falling back to sockets channel\")\n",
      "\n"
     ]
    },
    {
     "name": "stderr",
     "output_type": "stream",
     "text": [
      "Evolving HVSs: 100%|██████████| 1/1 [00:02<00:00,  2.31s/it]\n",
      " 48%|████▊     | 48/100 [15:28<17:07, 19.77s/it]"
     ]
    },
    {
     "name": "stdout",
     "output_type": "stream",
     "text": [
      "/Users/mncavieres/opt/anaconda3/envs/speedytest2/lib/python3.12/site-packages/amuse/rfi/core.py:964: UserWarning: MPI (unexpectedly?) not available, falling back to sockets channel\n",
      "  warnings.warn(\"MPI (unexpectedly?) not available, falling back to sockets channel\")\n",
      "\n"
     ]
    },
    {
     "name": "stderr",
     "output_type": "stream",
     "text": [
      "Evolving HVSs: 100%|██████████| 1/1 [00:02<00:00,  2.29s/it]\n",
      " 49%|████▉     | 49/100 [15:47<16:44, 19.70s/it]"
     ]
    },
    {
     "name": "stdout",
     "output_type": "stream",
     "text": [
      "/Users/mncavieres/opt/anaconda3/envs/speedytest2/lib/python3.12/site-packages/amuse/rfi/core.py:964: UserWarning: MPI (unexpectedly?) not available, falling back to sockets channel\n",
      "  warnings.warn(\"MPI (unexpectedly?) not available, falling back to sockets channel\")\n",
      "\n"
     ]
    },
    {
     "name": "stderr",
     "output_type": "stream",
     "text": [
      "Evolving HVSs: 100%|██████████| 1/1 [00:02<00:00,  2.29s/it]\n",
      " 50%|█████     | 50/100 [16:06<16:11, 19.43s/it]"
     ]
    },
    {
     "name": "stdout",
     "output_type": "stream",
     "text": [
      "/Users/mncavieres/opt/anaconda3/envs/speedytest2/lib/python3.12/site-packages/amuse/rfi/core.py:964: UserWarning: MPI (unexpectedly?) not available, falling back to sockets channel\n",
      "  warnings.warn(\"MPI (unexpectedly?) not available, falling back to sockets channel\")\n",
      "\n"
     ]
    },
    {
     "name": "stderr",
     "output_type": "stream",
     "text": [
      "Evolving HVSs: 100%|██████████| 1/1 [00:02<00:00,  2.76s/it]\n",
      " 51%|█████     | 51/100 [16:27<16:08, 19.76s/it]"
     ]
    },
    {
     "name": "stdout",
     "output_type": "stream",
     "text": [
      "/Users/mncavieres/opt/anaconda3/envs/speedytest2/lib/python3.12/site-packages/amuse/rfi/core.py:964: UserWarning: MPI (unexpectedly?) not available, falling back to sockets channel\n",
      "  warnings.warn(\"MPI (unexpectedly?) not available, falling back to sockets channel\")\n",
      "\n"
     ]
    },
    {
     "name": "stderr",
     "output_type": "stream",
     "text": [
      "Evolving HVSs: 100%|██████████| 1/1 [00:02<00:00,  2.36s/it]\n",
      " 52%|█████▏    | 52/100 [16:46<15:44, 19.68s/it]"
     ]
    },
    {
     "name": "stdout",
     "output_type": "stream",
     "text": [
      "/Users/mncavieres/opt/anaconda3/envs/speedytest2/lib/python3.12/site-packages/amuse/rfi/core.py:964: UserWarning: MPI (unexpectedly?) not available, falling back to sockets channel\n",
      "  warnings.warn(\"MPI (unexpectedly?) not available, falling back to sockets channel\")\n",
      "\n"
     ]
    },
    {
     "name": "stderr",
     "output_type": "stream",
     "text": [
      "Evolving HVSs: 100%|██████████| 1/1 [00:02<00:00,  2.43s/it]\n",
      " 53%|█████▎    | 53/100 [17:06<15:20, 19.59s/it]"
     ]
    },
    {
     "name": "stdout",
     "output_type": "stream",
     "text": [
      "/Users/mncavieres/opt/anaconda3/envs/speedytest2/lib/python3.12/site-packages/amuse/rfi/core.py:964: UserWarning: MPI (unexpectedly?) not available, falling back to sockets channel\n",
      "  warnings.warn(\"MPI (unexpectedly?) not available, falling back to sockets channel\")\n",
      "\n"
     ]
    },
    {
     "name": "stderr",
     "output_type": "stream",
     "text": [
      "Evolving HVSs: 100%|██████████| 1/1 [00:02<00:00,  2.34s/it]\n",
      " 54%|█████▍    | 54/100 [17:25<15:01, 19.59s/it]"
     ]
    },
    {
     "name": "stdout",
     "output_type": "stream",
     "text": [
      "/Users/mncavieres/opt/anaconda3/envs/speedytest2/lib/python3.12/site-packages/amuse/rfi/core.py:964: UserWarning: MPI (unexpectedly?) not available, falling back to sockets channel\n",
      "  warnings.warn(\"MPI (unexpectedly?) not available, falling back to sockets channel\")\n",
      "\n"
     ]
    },
    {
     "name": "stderr",
     "output_type": "stream",
     "text": [
      "Evolving HVSs: 100%|██████████| 1/1 [00:02<00:00,  2.34s/it]\n",
      " 55%|█████▌    | 55/100 [17:45<14:37, 19.50s/it]"
     ]
    },
    {
     "name": "stdout",
     "output_type": "stream",
     "text": [
      "/Users/mncavieres/opt/anaconda3/envs/speedytest2/lib/python3.12/site-packages/amuse/rfi/core.py:964: UserWarning: MPI (unexpectedly?) not available, falling back to sockets channel\n",
      "  warnings.warn(\"MPI (unexpectedly?) not available, falling back to sockets channel\")\n",
      "\n"
     ]
    },
    {
     "name": "stderr",
     "output_type": "stream",
     "text": [
      "Evolving HVSs: 100%|██████████| 1/1 [00:02<00:00,  2.22s/it]\n",
      " 56%|█████▌    | 56/100 [18:04<14:16, 19.47s/it]"
     ]
    },
    {
     "name": "stdout",
     "output_type": "stream",
     "text": [
      "/Users/mncavieres/opt/anaconda3/envs/speedytest2/lib/python3.12/site-packages/amuse/rfi/core.py:964: UserWarning: MPI (unexpectedly?) not available, falling back to sockets channel\n",
      "  warnings.warn(\"MPI (unexpectedly?) not available, falling back to sockets channel\")\n",
      "\n"
     ]
    },
    {
     "name": "stderr",
     "output_type": "stream",
     "text": [
      "Evolving HVSs: 100%|██████████| 1/1 [00:02<00:00,  2.26s/it]\n",
      " 57%|█████▋    | 57/100 [18:23<13:49, 19.30s/it]"
     ]
    },
    {
     "name": "stdout",
     "output_type": "stream",
     "text": [
      "/Users/mncavieres/opt/anaconda3/envs/speedytest2/lib/python3.12/site-packages/amuse/rfi/core.py:964: UserWarning: MPI (unexpectedly?) not available, falling back to sockets channel\n",
      "  warnings.warn(\"MPI (unexpectedly?) not available, falling back to sockets channel\")\n",
      "\n"
     ]
    },
    {
     "name": "stderr",
     "output_type": "stream",
     "text": [
      "Evolving HVSs: 100%|██████████| 1/1 [00:02<00:00,  2.21s/it]\n",
      " 58%|█████▊    | 58/100 [18:41<13:22, 19.12s/it]"
     ]
    },
    {
     "name": "stdout",
     "output_type": "stream",
     "text": [
      "/Users/mncavieres/opt/anaconda3/envs/speedytest2/lib/python3.12/site-packages/amuse/rfi/core.py:964: UserWarning: MPI (unexpectedly?) not available, falling back to sockets channel\n",
      "  warnings.warn(\"MPI (unexpectedly?) not available, falling back to sockets channel\")\n",
      "\n"
     ]
    },
    {
     "name": "stderr",
     "output_type": "stream",
     "text": [
      "Evolving HVSs: 100%|██████████| 1/1 [00:02<00:00,  2.28s/it]\n",
      " 59%|█████▉    | 59/100 [19:00<13:00, 19.03s/it]"
     ]
    },
    {
     "name": "stdout",
     "output_type": "stream",
     "text": [
      "/Users/mncavieres/opt/anaconda3/envs/speedytest2/lib/python3.12/site-packages/amuse/rfi/core.py:964: UserWarning: MPI (unexpectedly?) not available, falling back to sockets channel\n",
      "  warnings.warn(\"MPI (unexpectedly?) not available, falling back to sockets channel\")\n",
      "\n"
     ]
    },
    {
     "name": "stderr",
     "output_type": "stream",
     "text": [
      "Evolving HVSs: 100%|██████████| 1/1 [00:02<00:00,  2.27s/it]\n",
      " 60%|██████    | 60/100 [19:19<12:41, 19.03s/it]"
     ]
    },
    {
     "name": "stdout",
     "output_type": "stream",
     "text": [
      "/Users/mncavieres/opt/anaconda3/envs/speedytest2/lib/python3.12/site-packages/amuse/rfi/core.py:964: UserWarning: MPI (unexpectedly?) not available, falling back to sockets channel\n",
      "  warnings.warn(\"MPI (unexpectedly?) not available, falling back to sockets channel\")\n",
      "\n"
     ]
    },
    {
     "name": "stderr",
     "output_type": "stream",
     "text": [
      "Evolving HVSs: 100%|██████████| 1/1 [00:02<00:00,  2.29s/it]\n",
      " 61%|██████    | 61/100 [19:38<12:21, 19.02s/it]"
     ]
    },
    {
     "name": "stdout",
     "output_type": "stream",
     "text": [
      "/Users/mncavieres/opt/anaconda3/envs/speedytest2/lib/python3.12/site-packages/amuse/rfi/core.py:964: UserWarning: MPI (unexpectedly?) not available, falling back to sockets channel\n",
      "  warnings.warn(\"MPI (unexpectedly?) not available, falling back to sockets channel\")\n",
      "\n"
     ]
    },
    {
     "name": "stderr",
     "output_type": "stream",
     "text": [
      "Evolving HVSs: 100%|██████████| 1/1 [00:02<00:00,  2.26s/it]\n",
      " 62%|██████▏   | 62/100 [19:57<12:03, 19.04s/it]"
     ]
    },
    {
     "name": "stdout",
     "output_type": "stream",
     "text": [
      "/Users/mncavieres/opt/anaconda3/envs/speedytest2/lib/python3.12/site-packages/amuse/rfi/core.py:964: UserWarning: MPI (unexpectedly?) not available, falling back to sockets channel\n",
      "  warnings.warn(\"MPI (unexpectedly?) not available, falling back to sockets channel\")\n",
      "\n"
     ]
    },
    {
     "name": "stderr",
     "output_type": "stream",
     "text": [
      "Evolving HVSs: 100%|██████████| 1/1 [00:02<00:00,  2.28s/it]\n",
      " 63%|██████▎   | 63/100 [20:17<11:45, 19.08s/it]"
     ]
    },
    {
     "name": "stdout",
     "output_type": "stream",
     "text": [
      "/Users/mncavieres/opt/anaconda3/envs/speedytest2/lib/python3.12/site-packages/amuse/rfi/core.py:964: UserWarning: MPI (unexpectedly?) not available, falling back to sockets channel\n",
      "  warnings.warn(\"MPI (unexpectedly?) not available, falling back to sockets channel\")\n",
      "\n"
     ]
    },
    {
     "name": "stderr",
     "output_type": "stream",
     "text": [
      "Evolving HVSs: 100%|██████████| 1/1 [00:02<00:00,  2.30s/it]\n",
      " 64%|██████▍   | 64/100 [20:36<11:28, 19.12s/it]"
     ]
    },
    {
     "name": "stdout",
     "output_type": "stream",
     "text": [
      "/Users/mncavieres/opt/anaconda3/envs/speedytest2/lib/python3.12/site-packages/amuse/rfi/core.py:964: UserWarning: MPI (unexpectedly?) not available, falling back to sockets channel\n",
      "  warnings.warn(\"MPI (unexpectedly?) not available, falling back to sockets channel\")\n",
      "\n"
     ]
    },
    {
     "name": "stderr",
     "output_type": "stream",
     "text": [
      "Evolving HVSs: 100%|██████████| 1/1 [00:02<00:00,  2.33s/it]\n",
      " 65%|██████▌   | 65/100 [20:55<11:13, 19.25s/it]"
     ]
    },
    {
     "name": "stdout",
     "output_type": "stream",
     "text": [
      "/Users/mncavieres/opt/anaconda3/envs/speedytest2/lib/python3.12/site-packages/amuse/rfi/core.py:964: UserWarning: MPI (unexpectedly?) not available, falling back to sockets channel\n",
      "  warnings.warn(\"MPI (unexpectedly?) not available, falling back to sockets channel\")\n",
      "\n"
     ]
    },
    {
     "name": "stderr",
     "output_type": "stream",
     "text": [
      "Evolving HVSs: 100%|██████████| 1/1 [00:02<00:00,  2.29s/it]\n",
      " 66%|██████▌   | 66/100 [21:15<10:56, 19.32s/it]"
     ]
    },
    {
     "name": "stdout",
     "output_type": "stream",
     "text": [
      "/Users/mncavieres/opt/anaconda3/envs/speedytest2/lib/python3.12/site-packages/amuse/rfi/core.py:964: UserWarning: MPI (unexpectedly?) not available, falling back to sockets channel\n",
      "  warnings.warn(\"MPI (unexpectedly?) not available, falling back to sockets channel\")\n",
      "\n"
     ]
    },
    {
     "name": "stderr",
     "output_type": "stream",
     "text": [
      "Evolving HVSs: 100%|██████████| 1/1 [00:02<00:00,  2.25s/it]\n",
      " 67%|██████▋   | 67/100 [21:34<10:37, 19.31s/it]"
     ]
    },
    {
     "name": "stdout",
     "output_type": "stream",
     "text": [
      "/Users/mncavieres/opt/anaconda3/envs/speedytest2/lib/python3.12/site-packages/amuse/rfi/core.py:964: UserWarning: MPI (unexpectedly?) not available, falling back to sockets channel\n",
      "  warnings.warn(\"MPI (unexpectedly?) not available, falling back to sockets channel\")\n",
      "\n"
     ]
    },
    {
     "name": "stderr",
     "output_type": "stream",
     "text": [
      "Evolving HVSs: 100%|██████████| 1/1 [00:02<00:00,  2.23s/it]\n",
      " 68%|██████▊   | 68/100 [21:53<10:12, 19.15s/it]"
     ]
    },
    {
     "name": "stdout",
     "output_type": "stream",
     "text": [
      "/Users/mncavieres/opt/anaconda3/envs/speedytest2/lib/python3.12/site-packages/amuse/rfi/core.py:964: UserWarning: MPI (unexpectedly?) not available, falling back to sockets channel\n",
      "  warnings.warn(\"MPI (unexpectedly?) not available, falling back to sockets channel\")\n",
      "\n"
     ]
    },
    {
     "name": "stderr",
     "output_type": "stream",
     "text": [
      "Evolving HVSs: 100%|██████████| 1/1 [00:02<00:00,  2.23s/it]\n",
      " 69%|██████▉   | 69/100 [22:13<09:58, 19.31s/it]"
     ]
    },
    {
     "name": "stdout",
     "output_type": "stream",
     "text": [
      "/Users/mncavieres/opt/anaconda3/envs/speedytest2/lib/python3.12/site-packages/amuse/rfi/core.py:964: UserWarning: MPI (unexpectedly?) not available, falling back to sockets channel\n",
      "  warnings.warn(\"MPI (unexpectedly?) not available, falling back to sockets channel\")\n",
      "\n"
     ]
    },
    {
     "name": "stderr",
     "output_type": "stream",
     "text": [
      "Evolving HVSs: 100%|██████████| 1/1 [00:02<00:00,  2.29s/it]\n",
      " 70%|███████   | 70/100 [22:33<09:45, 19.52s/it]"
     ]
    },
    {
     "name": "stdout",
     "output_type": "stream",
     "text": [
      "/Users/mncavieres/opt/anaconda3/envs/speedytest2/lib/python3.12/site-packages/amuse/rfi/core.py:964: UserWarning: MPI (unexpectedly?) not available, falling back to sockets channel\n",
      "  warnings.warn(\"MPI (unexpectedly?) not available, falling back to sockets channel\")\n",
      "\n"
     ]
    },
    {
     "name": "stderr",
     "output_type": "stream",
     "text": [
      "Evolving HVSs: 100%|██████████| 1/1 [00:02<00:00,  2.32s/it]\n",
      " 71%|███████   | 71/100 [22:52<09:29, 19.63s/it]"
     ]
    },
    {
     "name": "stdout",
     "output_type": "stream",
     "text": [
      "/Users/mncavieres/opt/anaconda3/envs/speedytest2/lib/python3.12/site-packages/amuse/rfi/core.py:964: UserWarning: MPI (unexpectedly?) not available, falling back to sockets channel\n",
      "  warnings.warn(\"MPI (unexpectedly?) not available, falling back to sockets channel\")\n",
      "\n"
     ]
    },
    {
     "name": "stderr",
     "output_type": "stream",
     "text": [
      "Evolving HVSs: 100%|██████████| 1/1 [00:02<00:00,  2.31s/it]\n",
      " 72%|███████▏  | 72/100 [23:12<09:04, 19.45s/it]"
     ]
    },
    {
     "name": "stdout",
     "output_type": "stream",
     "text": [
      "/Users/mncavieres/opt/anaconda3/envs/speedytest2/lib/python3.12/site-packages/amuse/rfi/core.py:964: UserWarning: MPI (unexpectedly?) not available, falling back to sockets channel\n",
      "  warnings.warn(\"MPI (unexpectedly?) not available, falling back to sockets channel\")\n",
      "\n"
     ]
    },
    {
     "name": "stderr",
     "output_type": "stream",
     "text": [
      "Evolving HVSs: 100%|██████████| 1/1 [00:02<00:00,  2.31s/it]\n",
      " 73%|███████▎  | 73/100 [23:32<08:52, 19.73s/it]"
     ]
    },
    {
     "name": "stdout",
     "output_type": "stream",
     "text": [
      "/Users/mncavieres/opt/anaconda3/envs/speedytest2/lib/python3.12/site-packages/amuse/rfi/core.py:964: UserWarning: MPI (unexpectedly?) not available, falling back to sockets channel\n",
      "  warnings.warn(\"MPI (unexpectedly?) not available, falling back to sockets channel\")\n",
      "\n"
     ]
    },
    {
     "name": "stderr",
     "output_type": "stream",
     "text": [
      "Evolving HVSs: 100%|██████████| 1/1 [00:02<00:00,  2.27s/it]\n",
      " 74%|███████▍  | 74/100 [23:51<08:30, 19.65s/it]"
     ]
    },
    {
     "name": "stdout",
     "output_type": "stream",
     "text": [
      "/Users/mncavieres/opt/anaconda3/envs/speedytest2/lib/python3.12/site-packages/amuse/rfi/core.py:964: UserWarning: MPI (unexpectedly?) not available, falling back to sockets channel\n",
      "  warnings.warn(\"MPI (unexpectedly?) not available, falling back to sockets channel\")\n",
      "\n"
     ]
    },
    {
     "name": "stderr",
     "output_type": "stream",
     "text": [
      "Evolving HVSs: 100%|██████████| 1/1 [00:02<00:00,  2.31s/it]\n",
      " 75%|███████▌  | 75/100 [24:11<08:09, 19.58s/it]"
     ]
    },
    {
     "name": "stdout",
     "output_type": "stream",
     "text": [
      "/Users/mncavieres/opt/anaconda3/envs/speedytest2/lib/python3.12/site-packages/amuse/rfi/core.py:964: UserWarning: MPI (unexpectedly?) not available, falling back to sockets channel\n",
      "  warnings.warn(\"MPI (unexpectedly?) not available, falling back to sockets channel\")\n",
      "\n"
     ]
    },
    {
     "name": "stderr",
     "output_type": "stream",
     "text": [
      "Evolving HVSs: 100%|██████████| 1/1 [00:02<00:00,  2.35s/it]\n",
      " 76%|███████▌  | 76/100 [24:30<07:50, 19.60s/it]"
     ]
    },
    {
     "name": "stdout",
     "output_type": "stream",
     "text": [
      "/Users/mncavieres/opt/anaconda3/envs/speedytest2/lib/python3.12/site-packages/amuse/rfi/core.py:964: UserWarning: MPI (unexpectedly?) not available, falling back to sockets channel\n",
      "  warnings.warn(\"MPI (unexpectedly?) not available, falling back to sockets channel\")\n",
      "\n"
     ]
    },
    {
     "name": "stderr",
     "output_type": "stream",
     "text": [
      "Evolving HVSs: 100%|██████████| 1/1 [00:02<00:00,  2.31s/it]\n",
      " 77%|███████▋  | 77/100 [24:50<07:28, 19.50s/it]"
     ]
    },
    {
     "name": "stdout",
     "output_type": "stream",
     "text": [
      "/Users/mncavieres/opt/anaconda3/envs/speedytest2/lib/python3.12/site-packages/amuse/rfi/core.py:964: UserWarning: MPI (unexpectedly?) not available, falling back to sockets channel\n",
      "  warnings.warn(\"MPI (unexpectedly?) not available, falling back to sockets channel\")\n",
      "\n"
     ]
    },
    {
     "name": "stderr",
     "output_type": "stream",
     "text": [
      "Evolving HVSs: 100%|██████████| 1/1 [00:02<00:00,  2.54s/it]\n",
      " 78%|███████▊  | 78/100 [25:10<07:14, 19.74s/it]"
     ]
    },
    {
     "name": "stdout",
     "output_type": "stream",
     "text": [
      "/Users/mncavieres/opt/anaconda3/envs/speedytest2/lib/python3.12/site-packages/amuse/rfi/core.py:964: UserWarning: MPI (unexpectedly?) not available, falling back to sockets channel\n",
      "  warnings.warn(\"MPI (unexpectedly?) not available, falling back to sockets channel\")\n",
      "\n"
     ]
    },
    {
     "name": "stderr",
     "output_type": "stream",
     "text": [
      "Evolving HVSs: 100%|██████████| 1/1 [00:02<00:00,  2.31s/it]\n",
      " 79%|███████▉  | 79/100 [25:30<06:55, 19.77s/it]"
     ]
    },
    {
     "name": "stdout",
     "output_type": "stream",
     "text": [
      "/Users/mncavieres/opt/anaconda3/envs/speedytest2/lib/python3.12/site-packages/amuse/rfi/core.py:964: UserWarning: MPI (unexpectedly?) not available, falling back to sockets channel\n",
      "  warnings.warn(\"MPI (unexpectedly?) not available, falling back to sockets channel\")\n",
      "\n"
     ]
    },
    {
     "name": "stderr",
     "output_type": "stream",
     "text": [
      "Evolving HVSs: 100%|██████████| 1/1 [00:02<00:00,  2.36s/it]\n",
      " 80%|████████  | 80/100 [25:50<06:37, 19.87s/it]"
     ]
    },
    {
     "name": "stdout",
     "output_type": "stream",
     "text": [
      "/Users/mncavieres/opt/anaconda3/envs/speedytest2/lib/python3.12/site-packages/amuse/rfi/core.py:964: UserWarning: MPI (unexpectedly?) not available, falling back to sockets channel\n",
      "  warnings.warn(\"MPI (unexpectedly?) not available, falling back to sockets channel\")\n",
      "\n"
     ]
    },
    {
     "name": "stderr",
     "output_type": "stream",
     "text": [
      "Evolving HVSs: 100%|██████████| 1/1 [00:02<00:00,  2.54s/it]\n",
      " 81%|████████  | 81/100 [26:10<06:16, 19.79s/it]"
     ]
    },
    {
     "name": "stdout",
     "output_type": "stream",
     "text": [
      "/Users/mncavieres/opt/anaconda3/envs/speedytest2/lib/python3.12/site-packages/amuse/rfi/core.py:964: UserWarning: MPI (unexpectedly?) not available, falling back to sockets channel\n",
      "  warnings.warn(\"MPI (unexpectedly?) not available, falling back to sockets channel\")\n",
      "\n"
     ]
    },
    {
     "name": "stderr",
     "output_type": "stream",
     "text": [
      "Evolving HVSs: 100%|██████████| 1/1 [00:02<00:00,  2.30s/it]\n",
      " 82%|████████▏ | 82/100 [26:29<05:54, 19.71s/it]"
     ]
    },
    {
     "name": "stdout",
     "output_type": "stream",
     "text": [
      "/Users/mncavieres/opt/anaconda3/envs/speedytest2/lib/python3.12/site-packages/amuse/rfi/core.py:964: UserWarning: MPI (unexpectedly?) not available, falling back to sockets channel\n",
      "  warnings.warn(\"MPI (unexpectedly?) not available, falling back to sockets channel\")\n",
      "\n"
     ]
    },
    {
     "name": "stderr",
     "output_type": "stream",
     "text": [
      "Evolving HVSs: 100%|██████████| 1/1 [00:02<00:00,  2.31s/it]\n",
      " 83%|████████▎ | 83/100 [26:48<05:33, 19.61s/it]"
     ]
    },
    {
     "name": "stdout",
     "output_type": "stream",
     "text": [
      "/Users/mncavieres/opt/anaconda3/envs/speedytest2/lib/python3.12/site-packages/amuse/rfi/core.py:964: UserWarning: MPI (unexpectedly?) not available, falling back to sockets channel\n",
      "  warnings.warn(\"MPI (unexpectedly?) not available, falling back to sockets channel\")\n",
      "\n"
     ]
    },
    {
     "name": "stderr",
     "output_type": "stream",
     "text": [
      "Evolving HVSs: 100%|██████████| 1/1 [00:02<00:00,  2.30s/it]\n",
      " 84%|████████▍ | 84/100 [27:08<05:12, 19.53s/it]"
     ]
    },
    {
     "name": "stdout",
     "output_type": "stream",
     "text": [
      "/Users/mncavieres/opt/anaconda3/envs/speedytest2/lib/python3.12/site-packages/amuse/rfi/core.py:964: UserWarning: MPI (unexpectedly?) not available, falling back to sockets channel\n",
      "  warnings.warn(\"MPI (unexpectedly?) not available, falling back to sockets channel\")\n",
      "\n"
     ]
    },
    {
     "name": "stderr",
     "output_type": "stream",
     "text": [
      "Evolving HVSs: 100%|██████████| 1/1 [00:02<00:00,  2.28s/it]\n",
      " 85%|████████▌ | 85/100 [27:27<04:49, 19.32s/it]"
     ]
    },
    {
     "name": "stdout",
     "output_type": "stream",
     "text": [
      "/Users/mncavieres/opt/anaconda3/envs/speedytest2/lib/python3.12/site-packages/amuse/rfi/core.py:964: UserWarning: MPI (unexpectedly?) not available, falling back to sockets channel\n",
      "  warnings.warn(\"MPI (unexpectedly?) not available, falling back to sockets channel\")\n",
      "\n"
     ]
    },
    {
     "name": "stderr",
     "output_type": "stream",
     "text": [
      "Evolving HVSs: 100%|██████████| 1/1 [00:02<00:00,  2.39s/it]\n",
      " 86%|████████▌ | 86/100 [27:46<04:30, 19.32s/it]"
     ]
    },
    {
     "name": "stdout",
     "output_type": "stream",
     "text": [
      "/Users/mncavieres/opt/anaconda3/envs/speedytest2/lib/python3.12/site-packages/amuse/rfi/core.py:964: UserWarning: MPI (unexpectedly?) not available, falling back to sockets channel\n",
      "  warnings.warn(\"MPI (unexpectedly?) not available, falling back to sockets channel\")\n",
      "\n"
     ]
    },
    {
     "name": "stderr",
     "output_type": "stream",
     "text": [
      "Evolving HVSs: 100%|██████████| 1/1 [00:02<00:00,  2.26s/it]\n",
      " 87%|████████▋ | 87/100 [28:06<04:14, 19.58s/it]"
     ]
    },
    {
     "name": "stdout",
     "output_type": "stream",
     "text": [
      "/Users/mncavieres/opt/anaconda3/envs/speedytest2/lib/python3.12/site-packages/amuse/rfi/core.py:964: UserWarning: MPI (unexpectedly?) not available, falling back to sockets channel\n",
      "  warnings.warn(\"MPI (unexpectedly?) not available, falling back to sockets channel\")\n",
      "\n"
     ]
    },
    {
     "name": "stderr",
     "output_type": "stream",
     "text": [
      "Evolving HVSs: 100%|██████████| 1/1 [00:02<00:00,  2.29s/it]\n",
      " 88%|████████▊ | 88/100 [28:25<03:54, 19.52s/it]"
     ]
    },
    {
     "name": "stdout",
     "output_type": "stream",
     "text": [
      "/Users/mncavieres/opt/anaconda3/envs/speedytest2/lib/python3.12/site-packages/amuse/rfi/core.py:964: UserWarning: MPI (unexpectedly?) not available, falling back to sockets channel\n",
      "  warnings.warn(\"MPI (unexpectedly?) not available, falling back to sockets channel\")\n",
      "\n"
     ]
    },
    {
     "name": "stderr",
     "output_type": "stream",
     "text": [
      "Evolving HVSs: 100%|██████████| 1/1 [00:02<00:00,  2.35s/it]\n",
      " 89%|████████▉ | 89/100 [28:45<03:34, 19.54s/it]"
     ]
    },
    {
     "name": "stdout",
     "output_type": "stream",
     "text": [
      "/Users/mncavieres/opt/anaconda3/envs/speedytest2/lib/python3.12/site-packages/amuse/rfi/core.py:964: UserWarning: MPI (unexpectedly?) not available, falling back to sockets channel\n",
      "  warnings.warn(\"MPI (unexpectedly?) not available, falling back to sockets channel\")\n",
      "\n"
     ]
    },
    {
     "name": "stderr",
     "output_type": "stream",
     "text": [
      "Evolving HVSs: 100%|██████████| 1/1 [00:02<00:00,  2.28s/it]\n",
      " 90%|█████████ | 90/100 [29:05<03:15, 19.51s/it]"
     ]
    },
    {
     "name": "stdout",
     "output_type": "stream",
     "text": [
      "/Users/mncavieres/opt/anaconda3/envs/speedytest2/lib/python3.12/site-packages/amuse/rfi/core.py:964: UserWarning: MPI (unexpectedly?) not available, falling back to sockets channel\n",
      "  warnings.warn(\"MPI (unexpectedly?) not available, falling back to sockets channel\")\n",
      "\n"
     ]
    },
    {
     "name": "stderr",
     "output_type": "stream",
     "text": [
      "Evolving HVSs: 100%|██████████| 1/1 [00:02<00:00,  2.68s/it]\n",
      " 91%|█████████ | 91/100 [29:25<02:57, 19.78s/it]"
     ]
    },
    {
     "name": "stdout",
     "output_type": "stream",
     "text": [
      "/Users/mncavieres/opt/anaconda3/envs/speedytest2/lib/python3.12/site-packages/amuse/rfi/core.py:964: UserWarning: MPI (unexpectedly?) not available, falling back to sockets channel\n",
      "  warnings.warn(\"MPI (unexpectedly?) not available, falling back to sockets channel\")\n",
      "\n"
     ]
    },
    {
     "name": "stderr",
     "output_type": "stream",
     "text": [
      "Evolving HVSs: 100%|██████████| 1/1 [00:02<00:00,  2.36s/it]\n",
      " 92%|█████████▏| 92/100 [29:45<02:39, 19.96s/it]"
     ]
    },
    {
     "name": "stdout",
     "output_type": "stream",
     "text": [
      "/Users/mncavieres/opt/anaconda3/envs/speedytest2/lib/python3.12/site-packages/amuse/rfi/core.py:964: UserWarning: MPI (unexpectedly?) not available, falling back to sockets channel\n",
      "  warnings.warn(\"MPI (unexpectedly?) not available, falling back to sockets channel\")\n",
      "\n"
     ]
    },
    {
     "name": "stderr",
     "output_type": "stream",
     "text": [
      "Evolving HVSs: 100%|██████████| 1/1 [00:02<00:00,  2.28s/it]\n",
      " 93%|█████████▎| 93/100 [30:05<02:19, 19.86s/it]"
     ]
    },
    {
     "name": "stdout",
     "output_type": "stream",
     "text": [
      "/Users/mncavieres/opt/anaconda3/envs/speedytest2/lib/python3.12/site-packages/amuse/rfi/core.py:964: UserWarning: MPI (unexpectedly?) not available, falling back to sockets channel\n",
      "  warnings.warn(\"MPI (unexpectedly?) not available, falling back to sockets channel\")\n",
      "\n"
     ]
    },
    {
     "name": "stderr",
     "output_type": "stream",
     "text": [
      "Evolving HVSs: 100%|██████████| 1/1 [00:02<00:00,  2.36s/it]\n",
      " 94%|█████████▍| 94/100 [30:25<01:59, 19.95s/it]"
     ]
    },
    {
     "name": "stdout",
     "output_type": "stream",
     "text": [
      "/Users/mncavieres/opt/anaconda3/envs/speedytest2/lib/python3.12/site-packages/amuse/rfi/core.py:964: UserWarning: MPI (unexpectedly?) not available, falling back to sockets channel\n",
      "  warnings.warn(\"MPI (unexpectedly?) not available, falling back to sockets channel\")\n",
      "\n"
     ]
    },
    {
     "name": "stderr",
     "output_type": "stream",
     "text": [
      "Evolving HVSs: 100%|██████████| 1/1 [00:02<00:00,  2.33s/it]\n",
      " 95%|█████████▌| 95/100 [30:46<01:41, 20.32s/it]"
     ]
    },
    {
     "name": "stdout",
     "output_type": "stream",
     "text": [
      "/Users/mncavieres/opt/anaconda3/envs/speedytest2/lib/python3.12/site-packages/amuse/rfi/core.py:964: UserWarning: MPI (unexpectedly?) not available, falling back to sockets channel\n",
      "  warnings.warn(\"MPI (unexpectedly?) not available, falling back to sockets channel\")\n",
      "\n"
     ]
    },
    {
     "name": "stderr",
     "output_type": "stream",
     "text": [
      "Evolving HVSs: 100%|██████████| 1/1 [00:02<00:00,  2.29s/it]\n",
      " 96%|█████████▌| 96/100 [31:06<01:20, 20.11s/it]"
     ]
    },
    {
     "name": "stdout",
     "output_type": "stream",
     "text": [
      "/Users/mncavieres/opt/anaconda3/envs/speedytest2/lib/python3.12/site-packages/amuse/rfi/core.py:964: UserWarning: MPI (unexpectedly?) not available, falling back to sockets channel\n",
      "  warnings.warn(\"MPI (unexpectedly?) not available, falling back to sockets channel\")\n",
      "\n"
     ]
    },
    {
     "name": "stderr",
     "output_type": "stream",
     "text": [
      "Evolving HVSs: 100%|██████████| 1/1 [00:02<00:00,  2.29s/it]\n",
      " 97%|█████████▋| 97/100 [31:25<00:59, 19.83s/it]"
     ]
    },
    {
     "name": "stdout",
     "output_type": "stream",
     "text": [
      "/Users/mncavieres/opt/anaconda3/envs/speedytest2/lib/python3.12/site-packages/amuse/rfi/core.py:964: UserWarning: MPI (unexpectedly?) not available, falling back to sockets channel\n",
      "  warnings.warn(\"MPI (unexpectedly?) not available, falling back to sockets channel\")\n",
      "\n"
     ]
    },
    {
     "name": "stderr",
     "output_type": "stream",
     "text": [
      "Evolving HVSs: 100%|██████████| 1/1 [00:02<00:00,  2.31s/it]\n",
      " 98%|█████████▊| 98/100 [31:44<00:39, 19.68s/it]"
     ]
    },
    {
     "name": "stdout",
     "output_type": "stream",
     "text": [
      "/Users/mncavieres/opt/anaconda3/envs/speedytest2/lib/python3.12/site-packages/amuse/rfi/core.py:964: UserWarning: MPI (unexpectedly?) not available, falling back to sockets channel\n",
      "  warnings.warn(\"MPI (unexpectedly?) not available, falling back to sockets channel\")\n",
      "\n"
     ]
    },
    {
     "name": "stderr",
     "output_type": "stream",
     "text": [
      "Evolving HVSs: 100%|██████████| 1/1 [00:02<00:00,  2.27s/it]\n",
      " 99%|█████████▉| 99/100 [32:04<00:19, 19.57s/it]"
     ]
    },
    {
     "name": "stdout",
     "output_type": "stream",
     "text": [
      "/Users/mncavieres/opt/anaconda3/envs/speedytest2/lib/python3.12/site-packages/amuse/rfi/core.py:964: UserWarning: MPI (unexpectedly?) not available, falling back to sockets channel\n",
      "  warnings.warn(\"MPI (unexpectedly?) not available, falling back to sockets channel\")\n",
      "\n"
     ]
    },
    {
     "name": "stderr",
     "output_type": "stream",
     "text": [
      "Evolving HVSs: 100%|██████████| 1/1 [00:02<00:00,  2.34s/it]\n",
      "100%|██████████| 100/100 [32:24<00:00, 19.44s/it]\n"
     ]
    }
   ],
   "source": [
    "# just generate a lot of stars with flat IMF to the apply importance sampling\n",
    "#  the mass of Sgr A*, the maximum flight time, etc.\n",
    "simulated_catalogs_path = '/Users/mncavieres/Documents/2024-2/HVS/speedystar/simulated_catalogs/flat'\n",
    "\n",
    "for kappa in tqdm(range(100)):\n",
    "    ejectionmodel = Hills(rate=1e-3/u.yr, kappa=0, amuseflag= True, Met= 0.25)\n",
    "    mysample = starsample(ejectionmodel, name='sill_copy')\n",
    "    mysample.save(os.path.join(simulated_catalogs_path, f'cat_ejection_kappa_{kappa}.fits'))\n",
    "\n",
    "# ejectionmodel = Hills(rate=1e-1/u.yr, kappa=1.7, amuseflag= True, Met= 0.25)\n",
    "# mysample = starsample(ejectionmodel, name='sill_copy')\n",
    "# mysample.save(os.path.join(simulated_catalogs_path, f'cat_ejection_kappa_{1.7}.fits'))"
   ]
  },
  {
   "cell_type": "markdown",
   "metadata": {},
   "source": [
    "### Propagating the sample\n",
    "\n",
    "The 'ejection sample' consists of a population of stars freshly ejected from the centre of the Milky Way. Next we have to propagate them through the Galaxy (each at its own assigned flight time) to find out where they will be at the present day. To do this we will have to assume a potential for the Galaxy. \n",
    "\n",
    "<p align=\"center\">\n",
    "<img src =\"https://cdn.sci.news/images/enlarge4/image_5003e-Hypervelocity-Stars.jpg\" width=\"50%\" height=\"50%\">\n",
    "</p>\n"
   ]
  },
  {
   "cell_type": "code",
   "execution_count": 8,
   "metadata": {},
   "outputs": [
    {
     "name": "stderr",
     "output_type": "stream",
     "text": [
      "Propagating...: 100%|██████████| 12699/12699 [03:18<00:00, 63.96it/s]\n",
      "Propagating...: 100%|██████████| 12734/12734 [03:21<00:00, 63.35it/s]\n",
      "Propagating...: 100%|██████████| 12424/12424 [03:16<00:00, 63.11it/s]\n",
      "Propagating...: 100%|██████████| 12545/12545 [03:15<00:00, 64.17it/s]\n",
      "Propagating...: 100%|██████████| 12591/12591 [03:09<00:00, 66.46it/s]\n",
      "Propagating...: 100%|██████████| 12545/12545 [03:08<00:00, 66.43it/s]\n",
      "Propagating...: 100%|██████████| 12780/12780 [03:11<00:00, 66.72it/s]\n",
      "Propagating...: 100%|██████████| 12592/12592 [03:09<00:00, 66.61it/s]\n",
      "Propagating...: 100%|██████████| 12507/12507 [07:34<00:00, 27.53it/s]\n",
      "Propagating...: 100%|██████████| 12675/12675 [03:17<00:00, 64.08it/s]\n",
      "Propagating...: 100%|██████████| 12728/12728 [03:16<00:00, 64.76it/s]\n",
      "Propagating...: 100%|██████████| 12718/12718 [03:18<00:00, 64.11it/s]\n",
      "Propagating...: 100%|██████████| 12487/12487 [47:37<00:00,  4.37it/s]\n",
      "Propagating...: 100%|██████████| 12405/12405 [03:16<00:00, 63.28it/s]\n",
      "Propagating...: 100%|██████████| 12608/12608 [03:18<00:00, 63.51it/s]\n",
      "Propagating...: 100%|██████████| 12563/12563 [03:11<00:00, 65.50it/s]\n",
      "Propagating...: 100%|██████████| 12543/12543 [03:20<00:00, 62.42it/s]\n",
      "Propagating...: 100%|██████████| 12592/12592 [03:19<00:00, 63.04it/s]\n",
      "Propagating...: 100%|██████████| 12659/12659 [03:20<00:00, 63.25it/s]\n",
      "Propagating...: 100%|██████████| 12652/12652 [03:10<00:00, 66.48it/s]\n",
      "Propagating...: 100%|██████████| 12673/12673 [03:09<00:00, 66.81it/s]\n",
      "Propagating...: 100%|██████████| 12713/12713 [03:11<00:00, 66.29it/s]\n",
      "Propagating...: 100%|██████████| 12466/12466 [03:06<00:00, 66.77it/s]\n",
      "Propagating...: 100%|██████████| 12480/12480 [31:52<00:00,  6.52it/s]\n",
      "Propagating...: 100%|██████████| 12670/12670 [03:27<00:00, 61.02it/s]\n",
      "Propagating...: 100%|██████████| 12407/12407 [4:05:45<00:00,  1.19s/it]\n",
      "Propagating...: 100%|██████████| 12729/12729 [17:30:02<00:00,  4.95s/it]\n",
      "Propagating...: 100%|██████████| 12660/12660 [33:18<00:00,  6.33it/s]\n",
      "Propagating...: 100%|██████████| 12481/12481 [02:23<00:00, 86.71it/s]\n",
      "Propagating...: 100%|██████████| 12459/12459 [33:21<00:00,  6.23it/s]\n",
      "Propagating...: 100%|██████████| 12616/12616 [45:51<00:00,  4.58it/s]\n",
      "Propagating...: 100%|██████████| 12580/12580 [02:25<00:00, 86.63it/s]\n",
      "Propagating...: 100%|██████████| 12542/12542 [02:22<00:00, 88.03it/s]\n",
      "Propagating...: 100%|██████████| 12579/12579 [02:24<00:00, 87.27it/s]\n",
      "Propagating...: 100%|██████████| 12401/12401 [02:21<00:00, 87.72it/s]\n",
      "Propagating...: 100%|██████████| 12525/12525 [02:29<00:00, 84.05it/s]\n",
      "Propagating...: 100%|██████████| 12640/12640 [02:31<00:00, 83.60it/s]\n",
      "Propagating...: 100%|██████████| 12640/12640 [02:59<00:00, 70.61it/s]\n",
      "Propagating...: 100%|██████████| 12421/12421 [3:09:05<00:00,  1.09it/s]\n",
      "Propagating...: 100%|██████████| 12636/12636 [05:20<00:00, 39.44it/s]\n",
      "Propagating...: 100%|██████████| 12503/12503 [03:13<00:00, 64.68it/s]\n",
      "Propagating...: 100%|██████████| 12611/12611 [03:16<00:00, 64.34it/s]\n",
      "Propagating...: 100%|██████████| 12711/12711 [03:17<00:00, 64.37it/s]\n",
      "Propagating...: 100%|██████████| 12554/12554 [03:15<00:00, 64.20it/s]\n",
      "Propagating...: 100%|██████████| 12474/12474 [03:12<00:00, 64.86it/s]\n",
      "Propagating...: 100%|██████████| 12654/12654 [03:17<00:00, 64.09it/s]\n",
      "Propagating...: 100%|██████████| 12800/12800 [03:17<00:00, 64.73it/s]\n",
      "Propagating...: 100%|██████████| 12485/12485 [03:14<00:00, 64.05it/s]\n",
      "Propagating...: 100%|██████████| 12654/12654 [03:20<00:00, 63.03it/s]\n",
      "Propagating...: 100%|██████████| 12485/12485 [03:17<00:00, 63.25it/s]\n",
      "Propagating...: 100%|██████████| 12456/12456 [03:07<00:00, 66.27it/s]\n",
      "Propagating...: 100%|██████████| 12573/12573 [03:13<00:00, 64.92it/s]\n",
      "Propagating...: 100%|██████████| 12630/12630 [03:21<00:00, 62.65it/s]\n",
      "Propagating...: 100%|██████████| 12445/12445 [03:16<00:00, 63.36it/s]\n",
      "Propagating...: 100%|██████████| 12593/12593 [03:15<00:00, 64.34it/s]\n",
      "Propagating...: 100%|██████████| 12570/12570 [03:18<00:00, 63.38it/s]\n",
      "Propagating...: 100%|██████████| 12592/12592 [03:16<00:00, 63.97it/s]\n",
      "Propagating...: 100%|██████████| 12380/12380 [03:07<00:00, 66.01it/s]\n",
      "Propagating...: 100%|██████████| 12451/12451 [03:15<00:00, 63.83it/s]\n",
      "Propagating...: 100%|██████████| 12385/12385 [03:16<00:00, 63.00it/s]\n",
      "Propagating...: 100%|██████████| 12557/12557 [03:21<00:00, 62.39it/s]\n",
      "Propagating...: 100%|██████████| 12708/12708 [03:11<00:00, 66.42it/s]\n",
      "Propagating...: 100%|██████████| 12431/12431 [03:08<00:00, 65.79it/s]\n",
      "Propagating...: 100%|██████████| 12500/12500 [03:19<00:00, 62.59it/s]\n",
      "Propagating...: 100%|██████████| 12525/12525 [03:19<00:00, 62.72it/s]\n",
      "Propagating...: 100%|██████████| 12636/12636 [03:26<00:00, 61.12it/s]\n",
      "Propagating...: 100%|██████████| 12411/12411 [02:48<00:00, 73.49it/s]\n",
      "Propagating...: 100%|██████████| 12500/12500 [02:31<00:00, 82.43it/s]\n",
      "Propagating...: 100%|██████████| 12418/12418 [02:29<00:00, 83.08it/s]\n",
      "Propagating...: 100%|██████████| 12678/12678 [02:29<00:00, 84.55it/s]\n",
      "Propagating...: 100%|██████████| 12598/12598 [02:31<00:00, 83.22it/s]\n",
      "Propagating...: 100%|██████████| 12602/12602 [02:32<00:00, 82.71it/s]\n",
      "Propagating...: 100%|██████████| 12435/12435 [02:30<00:00, 82.84it/s]\n",
      "Propagating...: 100%|██████████| 12490/12490 [02:26<00:00, 85.11it/s]\n",
      "Propagating...: 100%|██████████| 12579/12579 [02:27<00:00, 85.03it/s]\n",
      "Propagating...: 100%|██████████| 12646/12646 [02:27<00:00, 85.74it/s]\n",
      "Propagating...: 100%|██████████| 12320/12320 [02:25<00:00, 84.92it/s]\n",
      "Propagating...: 100%|██████████| 12794/12794 [02:32<00:00, 83.96it/s]\n",
      "Propagating...: 100%|██████████| 12647/12647 [02:34<00:00, 81.87it/s]\n",
      "Propagating...: 100%|██████████| 12562/12562 [02:29<00:00, 84.12it/s]\n",
      "Propagating...: 100%|██████████| 12637/12637 [02:31<00:00, 83.19it/s]\n",
      "Propagating...: 100%|██████████| 12474/12474 [02:30<00:00, 82.86it/s]\n",
      "Propagating...: 100%|██████████| 12746/12746 [02:32<00:00, 83.48it/s]\n",
      "Propagating...: 100%|██████████| 12528/12528 [02:30<00:00, 83.41it/s]\n",
      "Propagating...: 100%|██████████| 12468/12468 [02:30<00:00, 82.83it/s]\n",
      "Propagating...: 100%|██████████| 12679/12679 [02:29<00:00, 84.62it/s]\n",
      "Propagating...: 100%|██████████| 12442/12442 [02:28<00:00, 84.07it/s]\n",
      "Propagating...: 100%|██████████| 12680/12680 [02:27<00:00, 85.96it/s]\n",
      "Propagating...: 100%|██████████| 12501/12501 [02:26<00:00, 85.33it/s]\n",
      "Propagating...: 100%|██████████| 12408/12408 [02:22<00:00, 86.83it/s]\n",
      "Propagating...: 100%|██████████| 12557/12557 [02:29<00:00, 83.96it/s]\n",
      "Propagating...: 100%|██████████| 12633/12633 [02:29<00:00, 84.68it/s]\n",
      "Propagating...: 100%|██████████| 12482/12482 [02:27<00:00, 84.44it/s]\n",
      "Propagating...: 100%|██████████| 12400/12400 [02:26<00:00, 84.36it/s]\n",
      "Propagating...: 100%|██████████| 12704/12704 [02:35<00:00, 81.53it/s]\n",
      "Propagating...: 100%|██████████| 12432/12432 [02:28<00:00, 83.46it/s]\n",
      "Propagating...: 100%|██████████| 12508/12508 [02:29<00:00, 83.93it/s]\n",
      "Propagating...: 100%|██████████| 12619/12619 [02:30<00:00, 83.87it/s]\n",
      "Propagating...: 100%|██████████| 12676/12676 [02:34<00:00, 81.98it/s]\n",
      "Propagating...: 100%|██████████| 12688/12688 [02:31<00:00, 83.61it/s]\n",
      "100%|██████████| 100/100 [32:42:43<00:00, 1177.64s/it]\n"
     ]
    }
   ],
   "source": [
    "propagated_catalogs_path = '/Users/mncavieres/Documents/2024-2/HVS/Data/speedystar_catalogs/flat_propagated'\n",
    "\n",
    "#simulated_catalogs_path = '/Users/mncavieres/Documents/2024-2/HVS/speedystar/simulated_catalogs/top_heavy'\n",
    "\n",
    "# Assume a Galactic potential\n",
    "default_potential = MWPotential()\n",
    "#Ensure the potential has physical units so that the final positions and velocities have physical units too\n",
    "potential.turn_physical_on(default_potential)\n",
    "\n",
    "for catalog in tqdm(os.listdir(simulated_catalogs_path)):\n",
    "    # Skip already propagated samples\n",
    "    if os.path.isfile(os.path.join(simulated_catalogs_path, catalog)):\n",
    "        pass\n",
    "    # Only propagate FITS files\n",
    "    if catalog.endswith('.fits'):\n",
    "            # Load ejection sample, if it doesn't already exist\n",
    "        mysample = starsample(os.path.join(simulated_catalogs_path, catalog))\n",
    "\n",
    "        #Propagate sample. Positions / velocities are returned in Cartesian (x/y/z/v_x/v_y/v_z) and Galactic (l/b/dist/pm_l/pm_b/v_radial) and equatorial (ra/dec/dist/pm_ra/pm_dec/v_radial) coordinates\n",
    "        mysample.propagate(potential = default_potential)\n",
    "\n",
    "        #Save propagated sample\n",
    "        mysample.save(os.path.join(propagated_catalogs_path, catalog))"
   ]
  },
  {
   "cell_type": "markdown",
   "metadata": {},
   "source": [
    "### Subsetting the catalogue\n",
    "\n",
    "So far we've ejected and propagated everything, including fast and slow stars. If we're only interested in the hypervelocity stars, we can use boolean indexing on a speedystar object."
   ]
  },
  {
   "cell_type": "code",
   "execution_count": 13,
   "metadata": {},
   "outputs": [
    {
     "name": "stdout",
     "output_type": "stream",
     "text": [
      "Size of the entire sample: 561\n",
      "Size of the fast sample: 424\n"
     ]
    }
   ],
   "source": [
    "fast = mysample.GCv > mysample.Vesc\n",
    "\n",
    "print('Size of the entire sample: '+str(mysample.size))\n",
    "\n",
    "mysample = mysample[fast]\n",
    "print('Size of the fast sample: '+str(mysample.size))"
   ]
  },
  {
   "cell_type": "markdown",
   "metadata": {},
   "source": [
    "### Mock observations of the sample\n",
    "\n",
    "We next have to figure out how bright each of the stars is, otherwise we don't know which of the stars would be detectable today or in the near future. `speedystar` is able to calculate the apparent magnitudes of the sample in a variety of photometric bassbands (e.g. Gaia G/G_BP/G_RP/G_RVS, Johnson-Cousins UBVRI, SDSS/LSST ugriz, VISTA JHK) depending on the mass, temperature and radius of the stars along with their distance and position on the sky.\n",
    "\n"
   ]
  },
  {
   "cell_type": "code",
   "execution_count": 6,
   "metadata": {},
   "outputs": [
    {
     "name": "stderr",
     "output_type": "stream",
     "text": [
      "Calculating magnitudes: 100%|██████████| 6/6 [00:12<00:00,  2.13s/it]\n",
      "Calculating magnitudes: 100%|██████████| 6/6 [00:07<00:00,  1.22s/it]\n",
      "Calculating magnitudes: 100%|██████████| 6/6 [00:09<00:00,  1.66s/it]\n",
      "Calculating magnitudes: 100%|██████████| 6/6 [00:06<00:00,  1.11s/it]\n",
      "Calculating magnitudes: 100%|██████████| 6/6 [00:10<00:00,  1.74s/it]\n",
      "Calculating magnitudes: 100%|██████████| 6/6 [00:07<00:00,  1.24s/it]\n",
      "Calculating magnitudes: 100%|██████████| 6/6 [00:05<00:00,  1.17it/s]\n",
      "Calculating magnitudes: 100%|██████████| 6/6 [00:06<00:00,  1.10s/it]\n",
      "Calculating magnitudes: 100%|██████████| 6/6 [00:11<00:00,  1.93s/it]\n",
      "Calculating magnitudes: 100%|██████████| 6/6 [00:08<00:00,  1.46s/it]\n",
      "Calculating magnitudes: 100%|██████████| 6/6 [00:10<00:00,  1.67s/it]\n",
      "Calculating magnitudes: 100%|██████████| 6/6 [00:07<00:00,  1.23s/it]\n",
      "Calculating magnitudes: 100%|██████████| 6/6 [00:08<00:00,  1.46s/it]\n",
      "Calculating magnitudes: 100%|██████████| 6/6 [00:12<00:00,  2.06s/it]\n",
      "Calculating magnitudes: 100%|██████████| 6/6 [00:10<00:00,  1.79s/it]\n",
      "Calculating magnitudes: 100%|██████████| 6/6 [00:10<00:00,  1.70s/it]\n",
      "Calculating magnitudes: 100%|██████████| 6/6 [00:08<00:00,  1.39s/it]\n",
      "Calculating magnitudes: 100%|██████████| 6/6 [00:06<00:00,  1.06s/it]\n",
      "Calculating magnitudes: 100%|██████████| 6/6 [00:05<00:00,  1.04it/s]\n",
      "Calculating magnitudes: 100%|██████████| 6/6 [00:10<00:00,  1.68s/it]\n",
      "Calculating magnitudes: 100%|██████████| 6/6 [00:08<00:00,  1.47s/it]\n",
      "Calculating magnitudes: 100%|██████████| 6/6 [00:09<00:00,  1.62s/it]\n",
      "Calculating magnitudes: 100%|██████████| 6/6 [00:06<00:00,  1.01s/it]\n",
      "Calculating magnitudes: 100%|██████████| 6/6 [00:07<00:00,  1.18s/it]\n",
      "Calculating magnitudes: 100%|██████████| 6/6 [00:04<00:00,  1.29it/s]\n",
      "Calculating magnitudes: 100%|██████████| 6/6 [00:05<00:00,  1.02it/s]\n",
      "Calculating magnitudes: 100%|██████████| 6/6 [00:09<00:00,  1.54s/it]\n",
      "Calculating magnitudes: 100%|██████████| 6/6 [00:10<00:00,  1.79s/it]\n",
      "Calculating magnitudes: 100%|██████████| 6/6 [00:07<00:00,  1.30s/it]\n",
      "Calculating magnitudes: 100%|██████████| 6/6 [00:09<00:00,  1.50s/it]\n",
      "Calculating magnitudes: 100%|██████████| 6/6 [00:05<00:00,  1.08it/s]\n",
      "Calculating magnitudes: 100%|██████████| 6/6 [00:11<00:00,  1.86s/it]\n",
      "Calculating magnitudes: 100%|██████████| 6/6 [00:09<00:00,  1.63s/it]\n",
      "Calculating magnitudes: 100%|██████████| 6/6 [00:11<00:00,  1.87s/it]\n",
      "Calculating magnitudes: 100%|██████████| 6/6 [00:08<00:00,  1.38s/it]\n",
      "Calculating magnitudes: 100%|██████████| 6/6 [00:11<00:00,  1.92s/it]\n",
      "Calculating magnitudes: 100%|██████████| 6/6 [00:05<00:00,  1.06it/s]\n",
      "Calculating magnitudes: 100%|██████████| 6/6 [00:09<00:00,  1.64s/it]\n",
      "Calculating magnitudes: 100%|██████████| 6/6 [00:08<00:00,  1.47s/it]\n",
      "Calculating magnitudes: 100%|██████████| 6/6 [00:08<00:00,  1.37s/it]\n",
      "Calculating magnitudes: 100%|██████████| 6/6 [00:10<00:00,  1.75s/it]\n",
      "Calculating magnitudes: 100%|██████████| 6/6 [00:08<00:00,  1.44s/it]\n",
      "Calculating magnitudes: 100%|██████████| 6/6 [00:10<00:00,  1.80s/it]\n",
      "Calculating magnitudes: 100%|██████████| 6/6 [00:05<00:00,  1.02it/s]\n",
      "Calculating magnitudes: 100%|██████████| 6/6 [00:10<00:00,  1.67s/it]\n",
      "Calculating magnitudes: 100%|██████████| 6/6 [00:08<00:00,  1.37s/it]\n",
      "Calculating magnitudes: 100%|██████████| 6/6 [1:14:35<00:00, 745.97s/it] \n",
      "Calculating magnitudes: 100%|██████████| 6/6 [00:10<00:00,  1.74s/it]\n",
      "Calculating magnitudes: 100%|██████████| 6/6 [00:11<00:00,  1.97s/it]\n",
      "Calculating magnitudes: 100%|██████████| 6/6 [00:04<00:00,  1.22it/s]\n",
      "Calculating magnitudes: 100%|██████████| 6/6 [00:05<00:00,  1.19it/s]\n",
      "Calculating magnitudes: 100%|██████████| 6/6 [00:10<00:00,  1.73s/it]\n",
      "Calculating magnitudes: 100%|██████████| 6/6 [00:10<00:00,  1.79s/it]\n",
      "Calculating magnitudes: 100%|██████████| 6/6 [00:05<00:00,  1.03it/s]\n",
      "Calculating magnitudes: 100%|██████████| 6/6 [00:06<00:00,  1.11s/it]\n",
      "Calculating magnitudes: 100%|██████████| 6/6 [00:09<00:00,  1.65s/it]\n",
      "Calculating magnitudes: 100%|██████████| 6/6 [00:10<00:00,  1.73s/it]\n",
      "Calculating magnitudes: 100%|██████████| 6/6 [00:07<00:00,  1.23s/it]\n",
      "Calculating magnitudes: 100%|██████████| 6/6 [00:07<00:00,  1.32s/it]\n",
      "Calculating magnitudes: 100%|██████████| 6/6 [00:07<00:00,  1.24s/it]\n",
      "Calculating magnitudes: 100%|██████████| 6/6 [00:08<00:00,  1.37s/it]\n",
      "Calculating magnitudes: 100%|██████████| 6/6 [00:08<00:00,  1.43s/it]\n",
      "Calculating magnitudes: 100%|██████████| 6/6 [00:09<00:00,  1.55s/it]\n",
      "Calculating magnitudes: 100%|██████████| 6/6 [00:05<00:00,  1.14it/s]\n",
      "Calculating magnitudes: 100%|██████████| 6/6 [00:08<00:00,  1.45s/it]\n",
      "Calculating magnitudes: 100%|██████████| 6/6 [00:03<00:00,  1.63it/s]\n",
      "Calculating magnitudes: 100%|██████████| 6/6 [00:04<00:00,  1.44it/s]\n",
      "Calculating magnitudes: 100%|██████████| 6/6 [00:09<00:00,  1.65s/it]\n",
      "Calculating magnitudes: 100%|██████████| 6/6 [00:09<00:00,  1.57s/it]\n",
      "Calculating magnitudes: 100%|██████████| 6/6 [00:10<00:00,  1.71s/it]\n",
      "Calculating magnitudes: 100%|██████████| 6/6 [00:15<00:00,  2.50s/it]\n",
      "Calculating magnitudes: 100%|██████████| 6/6 [00:08<00:00,  1.47s/it]\n",
      "Calculating magnitudes: 100%|██████████| 6/6 [00:07<00:00,  1.27s/it]\n",
      "Calculating magnitudes: 100%|██████████| 6/6 [00:05<00:00,  1.09it/s]\n",
      "Calculating magnitudes: 100%|██████████| 6/6 [00:07<00:00,  1.28s/it]\n",
      "Calculating magnitudes: 100%|██████████| 6/6 [00:04<00:00,  1.50it/s]\n",
      "Calculating magnitudes: 100%|██████████| 6/6 [00:06<00:00,  1.01s/it]\n",
      "Calculating magnitudes: 100%|██████████| 6/6 [00:09<00:00,  1.63s/it]\n",
      "Calculating magnitudes: 100%|██████████| 6/6 [00:10<00:00,  1.81s/it]\n",
      "Calculating magnitudes: 100%|██████████| 6/6 [00:09<00:00,  1.65s/it]\n",
      "Calculating magnitudes: 100%|██████████| 6/6 [00:07<00:00,  1.19s/it]\n",
      "Calculating magnitudes: 100%|██████████| 6/6 [00:05<00:00,  1.08it/s]\n",
      "Calculating magnitudes: 100%|██████████| 6/6 [00:09<00:00,  1.56s/it]\n",
      "Calculating magnitudes: 100%|██████████| 6/6 [00:03<00:00,  1.72it/s]\n",
      "Calculating magnitudes: 100%|██████████| 6/6 [00:08<00:00,  1.44s/it]\n",
      "Calculating magnitudes: 100%|██████████| 6/6 [00:09<00:00,  1.56s/it]\n",
      "Calculating magnitudes: 100%|██████████| 6/6 [00:06<00:00,  1.13s/it]\n",
      "Calculating magnitudes: 100%|██████████| 6/6 [00:06<00:00,  1.06s/it]\n",
      "Calculating magnitudes: 100%|██████████| 6/6 [00:08<00:00,  1.48s/it]\n",
      "Calculating magnitudes: 100%|██████████| 6/6 [00:06<00:00,  1.08s/it]\n",
      "Calculating magnitudes: 100%|██████████| 6/6 [00:09<00:00,  1.64s/it]\n",
      "Calculating magnitudes: 100%|██████████| 6/6 [00:04<00:00,  1.48it/s]\n",
      "Calculating magnitudes: 100%|██████████| 6/6 [00:09<00:00,  1.61s/it]\n",
      "Calculating magnitudes: 100%|██████████| 6/6 [00:08<00:00,  1.37s/it]\n",
      "Calculating magnitudes: 100%|██████████| 6/6 [00:06<00:00,  1.06s/it]\n",
      "Calculating magnitudes: 100%|██████████| 6/6 [00:10<00:00,  1.69s/it]\n",
      "Calculating magnitudes: 100%|██████████| 6/6 [00:05<00:00,  1.14it/s]\n",
      "Calculating magnitudes: 100%|██████████| 6/6 [00:07<00:00,  1.32s/it]\n",
      "Calculating magnitudes: 100%|██████████| 6/6 [00:07<00:00,  1.18s/it]\n",
      "Calculating magnitudes: 100%|██████████| 6/6 [00:06<00:00,  1.08s/it]\n",
      "100%|██████████| 100/100 [1:47:00<00:00, 64.20s/it]\n"
     ]
    }
   ],
   "source": [
    "photometric_catalogs_path = '/Users/mncavieres/Documents/2024-2/HVS/Data/speedystar_catalogs/top_heavy_phot_prop'\n",
    "\n",
    "for catalog in tqdm(os.listdir(propagated_catalogs_path)):\n",
    "    # Only compute actual catalogs FITS files\n",
    "    if not catalog.endswith('.fits'):\n",
    "        print('Skipping', catalog)\n",
    "        continue\n",
    "\n",
    "    # Load propagated sample\n",
    "    mysample = starsample(os.path.join(propagated_catalogs_path, catalog))\n",
    "\n",
    "    # Select only HVSs that are fast\n",
    "    #fast = mysample.GCv > mysample.Vesc\n",
    "    #mysample = mysample[fast]\n",
    "    \n",
    "    #Assign the dust map. Will be downloaded if it doesn't already exist in the working directory or where you've\n",
    "    #   specified above\n",
    "    mysample.dust = mwdust.Combined15()\n",
    "\n",
    "    #Get mock apparent magnitudes . By default magnitudes are computed in the Johnson-Cousins V and I bands \n",
    "    #   and the Gaia G, G_RP, G_BP and G_RVS bands.\n",
    "    #   By default this also returns Gaia astrometric and radial velocity errors assuming Gaia DR4 precision\n",
    "    mysample.photometry()\n",
    "\n",
    "    #Save the sample with mock photometry\n",
    "    mysample.save(os.path.join(photometric_catalogs_path, catalog))"
   ]
  },
  {
   "cell_type": "code",
   "execution_count": 14,
   "metadata": {},
   "outputs": [
    {
     "name": "stderr",
     "output_type": "stream",
     "text": [
      "Calculating magnitudes: 100%|██████████| 6/6 [00:02<00:00,  2.16it/s]\n"
     ]
    }
   ],
   "source": [
    "#Load a pre-existing propagated sample, if needed\n",
    "mysample = starsample('./cat_propagated.fits')\n",
    "\n",
    "#Magnitudes are exctincted by Milky Way dust along the line of sight. Need to assign a dust map. \n",
    "#Dust map(s) must be downloaded if they do not already exist. They can be rather large, ~500 MB.\n",
    "\n",
    "#Uncomment this line and fill out a path if the dust map is located somewhere other than the working\n",
    "#   directory, or you want it downloaded somewhere other than the working directory\n",
    "#mysample.config_dust('/path/to/where/you/want/the/dust/map')\n",
    "\n",
    "#Assign the dust map. Will be downloaded if it doesn't already exist in the working directory or where you've\n",
    "#   specified above\n",
    "mysample.dust = mwdust.Combined15()\n",
    "\n",
    "#Get mock apparent magnitudes . By default magnitudes are computed in the Johnson-Cousins V and I bands \n",
    "#   and the Gaia G, G_RP, G_BP and G_RVS bands.\n",
    "#   By default this also returns Gaia astrometric and radial velocity errors assuming Gaia DR4 precision\n",
    "mysample.photometry()\n",
    "\n",
    "#Save the sample with mock photometry\n",
    "mysample.save('./cat_photometry.fits')"
   ]
  },
  {
   "cell_type": "markdown",
   "metadata": {},
   "source": [
    "### Gaia detectability\n",
    " Finally, let's determine which stars would be detectable in Gaia Data Release 3.\n",
    " \n",
    " Gaia magnitude cuts can be performed using mysample[...], but they're also implemented directly in `speedystar.subsample` for simplicity, along with some other common cuts. These cuts will also automatically calculate DR3 mock Gaia errors.\n"
   ]
  },
  {
   "cell_type": "code",
   "execution_count": 15,
   "metadata": {},
   "outputs": [
    {
     "name": "stderr",
     "output_type": "stream",
     "text": [
      "100%|██████████| 100/100 [00:10<00:00,  9.95it/s]\n"
     ]
    }
   ],
   "source": [
    "detectable_dr3_path = '/Users/mncavieres/Documents/2024-2/HVS/speedystar/simulated_catalogs/detectable_DR3'\n",
    "\n",
    "for catalog in tqdm.tqdm(os.listdir(photometric_catalogs_path)):\n",
    "    if not catalog.endswith('.fits'):\n",
    "        pass\n",
    "    # Load photometric sample\n",
    "    mysample = starsample(os.path.join(photometric_catalogs_path, catalog))\n",
    "\n",
    "    #Determine which stars would be in principle detectable in Gaia DR3 and recalculate errors\n",
    "    mysample.subsample('Gaia_DR3')\n",
    "\n",
    "    #Save the cut sample\n",
    "    mysample.save(os.path.join(detectable_dr3_path, catalog))"
   ]
  },
  {
   "cell_type": "code",
   "execution_count": 15,
   "metadata": {},
   "outputs": [
    {
     "name": "stdout",
     "output_type": "stream",
     "text": [
      "Number of stars in Gaia DR3: 95\n",
      "Number of stars in Gaia DR4 with radial velocity: 4\n"
     ]
    }
   ],
   "source": [
    "#Load a pre-existing sample with photometry, if needed\n",
    "mysample = starsample('./cat_photometry.fits')\n",
    "\n",
    "#Determine which stars would be in principle detectable in Gaia DR3 and recalculate errors\n",
    "mysample.subsample('Gaia_DR3')\n",
    "\n",
    "#Save the cut sample\n",
    "mysample.save('./cat_gaiaDR3.fits')\n",
    "print('Number of stars in Gaia DR3: '+str(mysample.size))\n",
    "\n",
    "#Determine which stars would be in principle detectable in the subsample of Gaia DR4 with\n",
    "#   measured radial velocities.\n",
    "mysample.subsample('Gaia_6D_DR4')\n",
    "\n",
    "#Save the cut sample\n",
    "mysample.save('./cat_gaiaDR4_6D.fits')\n",
    "print('Number of stars in Gaia DR4 with radial velocity: '+str(mysample.size))\n"
   ]
  },
  {
   "cell_type": "code",
   "execution_count": 17,
   "metadata": {},
   "outputs": [
    {
     "name": "stdout",
     "output_type": "stream",
     "text": [
      "Number of stars in Gaia DR4: 95\n"
     ]
    }
   ],
   "source": [
    "#Load a pre-existing sample with photometry, if needed\n",
    "mysample = starsample('./cat_photometry.fits')\n",
    "mysample.subsample('Gaia_DR4')\n",
    "\n",
    "#Save the cut sample\n",
    "mysample.save('./cat_gaiaDR4.fits')\n",
    "print('Number of stars in Gaia DR4: '+str(mysample.size))"
   ]
  },
  {
   "cell_type": "code",
   "execution_count": 20,
   "metadata": {},
   "outputs": [
    {
     "name": "stdout",
     "output_type": "stream",
     "text": [
      "Number of stars in Gaia DR4: 4\n"
     ]
    }
   ],
   "source": [
    "#Load a pre-existing sample with photometry, if needed\n",
    "mysample = starsample('./cat_photometry.fits')\n",
    "mysample.subsample('Gaia_6D_DR4')\n",
    "print('Number of stars in Gaia DR4: '+str(mysample.size))"
   ]
  },
  {
   "cell_type": "code",
   "execution_count": null,
   "metadata": {},
   "outputs": [],
   "source": []
  }
 ],
 "metadata": {
  "kernelspec": {
   "display_name": "speedytest2",
   "language": "python",
   "name": "python3"
  },
  "language_info": {
   "codemirror_mode": {
    "name": "ipython",
    "version": 3
   },
   "file_extension": ".py",
   "mimetype": "text/x-python",
   "name": "python",
   "nbconvert_exporter": "python",
   "pygments_lexer": "ipython3",
   "version": "3.12.7"
  }
 },
 "nbformat": 4,
 "nbformat_minor": 2
}
