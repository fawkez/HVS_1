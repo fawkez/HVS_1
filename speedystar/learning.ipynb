{
 "cells": [
  {
   "cell_type": "markdown",
   "metadata": {},
   "source": [
    "### Your first hypervelocity star catalogue\n",
    "\n",
    "`speedystar` is a python package which will allow you to generate, evolve, propagate and perform mock observations of single stars ejected at high velocities.\n",
    "\n",
    "### Getting Started\n",
    "\n",
    "Make sure this notebook is in the parent directory of `speedystar/`. The package itself is not large, but performing mock observations requires downloading a Milky Way dust map which by default is ~500 MB. This free space is assumed to be in the current working directory by default, but does not have to be (see below).\n",
    "\n",
    "We currently do not recommend installing `speedystar` globally using pip since that prevents you from editing the source code directly.\n",
    "\n",
    "`speedystar` uses a number of Python packages. Some of these which might not already be included in your Python distribution are astropy, galpy, mwdust and pygaia. Simply run this notebook and conda or pip install any package that doesn't exist.\n",
    "\n",
    "More accurate treatments of the Gaia selection functions and astrometric spread function also require the Python packages scanninglaw and gaiaunlimited. These packages currently do not support Windows since they rely on the healpy package, but can be installed using Windows Subsystem for Linux (WSL).\n",
    "\n",
    "### Documentation\n",
    "\n",
    "help(speedystar.starsample) will display the names and descriptions of every method in `speedystar`, as well as descriptions of common column names.\n",
    "\n",
    "### Outputs\n",
    "\n",
    "`speedystar` outputs are .fits tables containing useful info for each mock star as well as metadata describing the assumptions that go into the sample. They can be accessed using astropy.table or with [Topcat](https://www.star.bris.ac.uk/~mbt/topcat/) or however else you'd like to read them.\n"
   ]
  },
  {
   "cell_type": "code",
   "execution_count": 1,
   "metadata": {},
   "outputs": [
    {
     "name": "stdout",
     "output_type": "stream",
     "text": [
      "/Users/mncavieres/opt/anaconda3/envs/speedytest2/lib/python3.12/site-packages/requests/__init__.py:86: RequestsDependencyWarning: Unable to find acceptable character detection dependency (chardet or charset_normalizer).\n",
      "  warnings.warn(\n",
      "\n"
     ]
    }
   ],
   "source": [
    "#Import what you need\n",
    "import numpy as np\n",
    "import os\n",
    "#os.chdir('/mnt/c/Users/frase/')\n",
    "from speedystar import starsample\n",
    "from speedystar.eject import Hills\n",
    "from speedystar.utils.mwpotential import MWPotential\n",
    "import astropy.units as u\n",
    "from galpy import potential\n",
    "import mwdust\n",
    "from tqdm import tqdm\n",
    "import matplotlib.pyplot as plt\n",
    "#Print a lot of documentation\n",
    "#help(starsample)"
   ]
  },
  {
   "cell_type": "code",
   "execution_count": 2,
   "metadata": {},
   "outputs": [],
   "source": [
    "potential = MWPotential()"
   ]
  },
  {
   "cell_type": "code",
   "execution_count": 3,
   "metadata": {},
   "outputs": [],
   "source": [
    "from galpy.util.conversion import get_physical"
   ]
  },
  {
   "cell_type": "code",
   "execution_count": 4,
   "metadata": {},
   "outputs": [
    {
     "data": {
      "text/latex": [
       "$220.0 \\; \\mathrm{\\frac{km}{s}}$"
      ],
      "text/plain": [
       "<Quantity 220.0 km / s>"
      ]
     },
     "execution_count": 4,
     "metadata": {},
     "output_type": "execute_result"
    }
   ],
   "source": [
    "get_physical(potential)['vo']*u.km/u.s"
   ]
  },
  {
   "cell_type": "code",
   "execution_count": 5,
   "metadata": {},
   "outputs": [
    {
     "data": {
      "text/latex": [
       "$8.0 \\; \\mathrm{kpc}$"
      ],
      "text/plain": [
       "<Quantity 8.0 kpc>"
      ]
     },
     "execution_count": 5,
     "metadata": {},
     "output_type": "execute_result"
    }
   ],
   "source": [
    "get_physical(potential)['ro']*u.kpc"
   ]
  },
  {
   "cell_type": "markdown",
   "metadata": {},
   "source": [
    "### Ejecting a sample\n",
    "\n",
    "We're now ready to eject some stars!\n",
    "\n",
    "The 'typical' way to eject hypervelocity stars is via the Hills Mechanism, in which a stellar binary approaches Sgr A* on a very low-angular momentum orbit. At a particular distance from Sgr A*, the tidal forces across the binary surpass the gravitational binding energy of the binary itself and the binary is separated. One star is captured in orbit around Sgr A* and the other is flung away at a velocities up to several thousand km/s. Stars ejected above the escape velocity of the Galaxy are hypervelocity stars (HVSs) -- they will eventually escape the Galaxy entirely. Note that there will also be a population of stars ejected slowly as well, which will not escape the inner Galaxy and might survive to interact again with Sgr A*.\n",
    "\n",
    "<p align=\"center\">\n",
    "<img src =\"https://www.universetoday.com/wp-content/uploads/2023/01/hills-mechanism.jpg\" width=\"50%\" height=\"50%\">\n",
    "</p>\n",
    "\n",
    "With `speedystar` you first generate a sample of stars at the moment of ejection. The number of stars and their masses/metallicities/velocities/flight times/evolutionary stages depend a lot on assumptions you make about stars and binaries in the Galactic Centre, see [Evans+2022](https://ui.adsabs.harvard.edu/abs/2022MNRAS.512.2350E/abstract) for more details.\n"
   ]
  },
  {
   "cell_type": "markdown",
   "metadata": {},
   "source": [
    "## Build a simple catalog"
   ]
  },
  {
   "cell_type": "code",
   "execution_count": 7,
   "metadata": {},
   "outputs": [],
   "source": [
    "simulated_catalogs_path = '/Users/mncavieres/Documents/2024-2/HVS/speedystar/simulated_catalogs/new/evolved'"
   ]
  },
  {
   "cell_type": "code",
   "execution_count": 8,
   "metadata": {},
   "outputs": [
    {
     "name": "stderr",
     "output_type": "stream",
     "text": [
      "Evolving HVSs:   0%|          | 0/1 [00:00<?, ?it/s]"
     ]
    },
    {
     "name": "stdout",
     "output_type": "stream",
     "text": [
      "/Users/mncavieres/opt/anaconda3/envs/speedytest2/lib/python3.12/site-packages/amuse/rfi/core.py:964: UserWarning: MPI (unexpectedly?) not available, falling back to sockets channel\n",
      "  warnings.warn(\"MPI (unexpectedly?) not available, falling back to sockets channel\")\n",
      "\n"
     ]
    },
    {
     "name": "stderr",
     "output_type": "stream",
     "text": [
      "Evolving HVSs: 100%|██████████| 1/1 [00:00<00:00,  1.50it/s]\n"
     ]
    }
   ],
   "source": [
    "#  the mass of Sgr A*, the maximum flight time, etc.\n",
    "\n",
    "#simulated_catalogs_path = '/Users/mncavieres/Documents/2024-2/HVS/speedystar/simulated_catalogs/top_heavy'\n",
    "ejectionmodel = Hills(rate=1e-5/u.yr, amuseflag= True, Met= 0)\n",
    "mysample = starsample(ejectionmodel, name='sill_copy')\n",
    "#mysample.save(os.path.join(simulated_catalogs_path, f'cat_ejection_kappa_{1.7}.fits'))"
   ]
  },
  {
   "cell_type": "code",
   "execution_count": 9,
   "metadata": {},
   "outputs": [
    {
     "data": {
      "image/png": "[encoded data removed]",
      "text/plain": [
       "<Figure size 640x480 with 1 Axes>"
      ]
     },
     "metadata": {},
     "output_type": "display_data"
    }
   ],
   "source": [
    "plt.hist(mysample.m, bins = 100)\n",
    "plt.show()"
   ]
  },
  {
   "cell_type": "markdown",
   "metadata": {},
   "source": [
    "## Build for a range of IMF slopes"
   ]
  },
  {
   "cell_type": "code",
   "execution_count": null,
   "metadata": {},
   "outputs": [],
   "source": [
    "#Current ejection methods include 'Hills' implementing the Hills mechanism\n",
    "#  and 'BMBH' implementing the massive black hole binary slingshot mechanism\n",
    "\n",
    "# Arguments to Hills() allow you to set many parameters for the sample, e.g. the stellar initial mass function,\n",
    "#  the mass of Sgr A*, the maximum flight time, etc.\n",
    "\n",
    "simulated_catalogs_path = '/Users/mncavieres/Documents/2024-2/HVS/speedystar/simulated_catalogs/top_heavy'\n",
    "kappa_range = np.linspace(1, 2.5, 10)\n",
    "for kappa in kappa_range:\n",
    "    ejectionmodel = Hills(rate=1e-4/u.yr, kappa=kappa, amuseflag= True, Met= 0.25)\n",
    "    mysample = starsample(ejectionmodel, name='sill_copy')\n",
    "    mysample.save(os.path.join(simulated_catalogs_path, f'cat_ejection_kappa_{kappa}.fits'))"
   ]
  },
  {
   "cell_type": "code",
   "execution_count": null,
   "metadata": {},
   "outputs": [],
   "source": [
    "# just generate a lot of stars with flat IMF to the apply importance sampling\n",
    "#  the mass of Sgr A*, the maximum flight time, etc.\n",
    "simulated_catalogs_path = '/Users/mncavieres/Documents/2024-2/HVS/Data/speedystar_catalogs/top_heavy_Lu_2013/sample'\n",
    "\n",
    "for kappa in tqdm(range(200)):\n",
    "    ejectionmodel = Hills(rate=1e-3/u.yr, amuseflag= True, Met= 0.02, kappa=1.7)\n",
    "    mysample = starsample(ejectionmodel, name='sill_copy')\n",
    "    mysample.save(os.path.join(simulated_catalogs_path, f'cat_ejection_{kappa}.fits'))\n",
    "\n",
    "# ejectionmodel = Hills(rate=1e-1/u.yr, kappa=1.7, amuseflag= True, Met= 0.25)\n",
    "# mysample = starsample(ejectionmodel, name='sill_copy')\n",
    "# mysample.save(os.path.join(simulated_catalogs_path, f'cat_ejection_kappa_{1.7}.fits'))"
   ]
  },
  {
   "cell_type": "markdown",
   "metadata": {},
   "source": [
    "### Propagating the sample\n",
    "\n",
    "The 'ejection sample' consists of a population of stars freshly ejected from the centre of the Milky Way. Next we have to propagate them through the Galaxy (each at its own assigned flight time) to find out where they will be at the present day. To do this we will have to assume a potential for the Galaxy. \n",
    "\n",
    "<p align=\"center\">\n",
    "<img src =\"https://cdn.sci.news/images/enlarge4/image_5003e-Hypervelocity-Stars.jpg\" width=\"50%\" height=\"50%\">\n",
    "</p>\n"
   ]
  },
  {
   "cell_type": "code",
   "execution_count": 19,
   "metadata": {},
   "outputs": [
    {
     "name": "stderr",
     "output_type": "stream",
     "text": [
      "Propagating...: 100%|██████████| 14961/14961 [03:14<00:00, 77.01it/s]\n",
      "Propagating...: 100%|██████████| 14760/14760 [03:11<00:00, 76.96it/s]\n",
      "Propagating...: 100%|██████████| 14768/14768 [03:10<00:00, 77.66it/s]\n",
      "Propagating...: 100%|██████████| 14654/14654 [03:02<00:00, 80.16it/s]\n",
      "Propagating...: 100%|██████████| 14760/14760 [03:03<00:00, 80.36it/s]\n",
      "Propagating...: 100%|██████████| 14713/14713 [03:07<00:00, 78.53it/s]\n",
      "Propagating...: 100%|██████████| 14800/14800 [03:11<00:00, 77.44it/s]\n",
      "Propagating...: 100%|██████████| 14734/14734 [03:04<00:00, 79.75it/s]\n",
      "Propagating...: 100%|██████████| 15015/15015 [03:14<00:00, 77.26it/s]\n",
      "Propagating...: 100%|██████████| 14970/14970 [03:10<00:00, 78.63it/s]\n",
      "Propagating...: 100%|██████████| 14679/14679 [03:03<00:00, 80.06it/s]\n",
      "Propagating...: 100%|██████████| 14604/14604 [03:05<00:00, 78.80it/s]\n",
      "Propagating...: 100%|██████████| 14887/14887 [03:06<00:00, 79.92it/s]\n",
      "Propagating...: 100%|██████████| 14851/14851 [03:09<00:00, 78.50it/s]\n",
      "Propagating...: 100%|██████████| 14842/14842 [03:05<00:00, 80.10it/s]\n",
      "Propagating...: 100%|██████████| 14859/14859 [03:08<00:00, 78.67it/s]\n",
      "Propagating...: 100%|██████████| 14905/14905 [03:07<00:00, 79.43it/s]\n",
      "Propagating...: 100%|██████████| 14827/14827 [03:05<00:00, 79.90it/s]\n",
      "Propagating...: 100%|██████████| 14760/14760 [03:07<00:00, 78.89it/s]\n",
      "Propagating...: 100%|██████████| 14889/14889 [03:11<00:00, 77.58it/s]\n",
      "Propagating...: 100%|██████████| 14766/14766 [03:05<00:00, 79.58it/s]\n",
      "Propagating...: 100%|██████████| 14745/14745 [03:04<00:00, 79.86it/s]\n",
      "Propagating...: 100%|██████████| 14843/14843 [03:11<00:00, 77.46it/s]\n",
      "Propagating...: 100%|██████████| 14861/14861 [03:10<00:00, 77.91it/s]\n",
      "Propagating...: 100%|██████████| 14737/14737 [03:09<00:00, 77.79it/s]\n",
      "Propagating...: 100%|██████████| 14595/14595 [03:02<00:00, 79.82it/s]\n",
      "Propagating...: 100%|██████████| 15020/15020 [03:09<00:00, 79.10it/s]\n",
      "Propagating...: 100%|██████████| 14999/14999 [03:12<00:00, 77.97it/s]\n",
      "Propagating...: 100%|██████████| 14735/14735 [03:05<00:00, 79.45it/s]\n",
      "Propagating...: 100%|██████████| 14878/14878 [03:07<00:00, 79.27it/s]\n",
      "Propagating...: 100%|██████████| 14828/14828 [03:05<00:00, 79.84it/s]\n",
      "Propagating...: 100%|██████████| 14873/14873 [03:08<00:00, 78.99it/s]\n",
      "Propagating...: 100%|██████████| 14892/14892 [03:11<00:00, 77.92it/s]\n",
      "Propagating...: 100%|██████████| 14977/14977 [03:08<00:00, 79.30it/s]\n",
      "Propagating...: 100%|██████████| 14728/14728 [03:06<00:00, 78.88it/s]\n",
      "Propagating...: 100%|██████████| 14874/14874 [03:10<00:00, 78.12it/s]\n",
      "Propagating...: 100%|██████████| 14700/14700 [03:05<00:00, 79.07it/s]\n",
      "Propagating...: 100%|██████████| 14778/14778 [03:11<00:00, 77.23it/s]\n",
      "Propagating...: 100%|██████████| 14654/14654 [03:04<00:00, 79.30it/s]\n",
      "Propagating...: 100%|██████████| 14769/14769 [03:08<00:00, 78.17it/s]\n",
      "Propagating...: 100%|██████████| 14781/14781 [03:09<00:00, 78.10it/s]\n",
      "Propagating...: 100%|██████████| 14928/14928 [03:10<00:00, 78.20it/s]\n",
      "Propagating...: 100%|██████████| 14810/14810 [03:14<00:00, 76.33it/s]\n",
      "Propagating...: 100%|██████████| 14945/14945 [03:10<00:00, 78.59it/s]\n",
      "Propagating...: 100%|██████████| 14811/14811 [03:06<00:00, 79.48it/s]\n",
      "Propagating...: 100%|██████████| 15110/15110 [03:16<00:00, 76.87it/s]\n",
      "Propagating...: 100%|██████████| 14828/14828 [03:11<00:00, 77.47it/s]\n",
      "Propagating...: 100%|██████████| 14661/14661 [03:12<00:00, 76.31it/s]\n",
      "Propagating...: 100%|██████████| 14731/14731 [03:07<00:00, 78.69it/s]\n",
      "Propagating...: 100%|██████████| 14739/14739 [03:06<00:00, 78.87it/s]\n",
      "Propagating...: 100%|██████████| 14816/14816 [03:10<00:00, 77.68it/s]\n",
      "Propagating...: 100%|██████████| 14833/14833 [03:09<00:00, 78.44it/s]\n",
      "Propagating...: 100%|██████████| 14688/14688 [03:09<00:00, 77.56it/s]\n",
      "Propagating...: 100%|██████████| 14607/14607 [03:08<00:00, 77.57it/s]\n",
      "Propagating...: 100%|██████████| 14864/14864 [03:08<00:00, 79.05it/s]\n",
      "Propagating...: 100%|██████████| 14789/14789 [03:12<00:00, 76.64it/s]\n",
      "Propagating...: 100%|██████████| 14822/14822 [03:10<00:00, 77.75it/s]\n",
      "Propagating...: 100%|██████████| 14668/14668 [03:12<00:00, 76.00it/s]\n",
      "Propagating...: 100%|██████████| 14847/14847 [03:13<00:00, 76.84it/s]\n",
      "Propagating...: 100%|██████████| 14980/14980 [03:14<00:00, 76.97it/s]\n",
      "Propagating...: 100%|██████████| 14722/14722 [03:16<00:00, 75.06it/s]\n",
      "Propagating...: 100%|██████████| 14901/14901 [03:07<00:00, 79.34it/s]\n",
      "Propagating...: 100%|██████████| 14781/14781 [03:04<00:00, 79.91it/s]\n",
      "Propagating...: 100%|██████████| 14866/14866 [03:05<00:00, 80.12it/s]\n",
      "Propagating...: 100%|██████████| 14768/14768 [03:07<00:00, 78.71it/s]\n",
      "Propagating...: 100%|██████████| 14898/14898 [03:07<00:00, 79.28it/s]\n",
      "Propagating...: 100%|██████████| 14844/14844 [03:14<00:00, 76.40it/s]\n",
      "Propagating...: 100%|██████████| 14722/14722 [03:16<00:00, 74.93it/s]\n",
      "Propagating...: 100%|██████████| 14835/14835 [03:16<00:00, 75.45it/s]\n",
      "Propagating...: 100%|██████████| 14823/14823 [03:16<00:00, 75.36it/s]\n",
      "Propagating...: 100%|██████████| 15017/15017 [03:23<00:00, 73.82it/s]\n",
      "Propagating...: 100%|██████████| 14776/14776 [03:19<00:00, 74.03it/s]\n",
      "Propagating...: 100%|██████████| 15031/15031 [03:23<00:00, 73.73it/s]\n",
      "Propagating...: 100%|██████████| 14647/14647 [03:15<00:00, 74.99it/s]\n",
      "Propagating...: 100%|██████████| 14802/14802 [03:15<00:00, 75.81it/s]\n",
      "Propagating...: 100%|██████████| 15042/15042 [03:26<00:00, 72.97it/s]\n",
      "Propagating...: 100%|██████████| 14740/14740 [03:20<00:00, 73.58it/s]\n",
      "Propagating...: 100%|██████████| 14698/14698 [03:08<00:00, 78.16it/s]\n",
      "Propagating...: 100%|██████████| 14924/14924 [03:12<00:00, 77.63it/s]\n",
      "Propagating...: 100%|██████████| 14802/14802 [03:17<00:00, 75.07it/s]\n",
      "Propagating...: 100%|██████████| 14876/14876 [03:24<00:00, 72.64it/s]\n",
      "Propagating...: 100%|██████████| 14918/14918 [03:17<00:00, 75.44it/s]\n",
      "Propagating...: 100%|██████████| 14922/14922 [03:15<00:00, 76.41it/s]\n",
      "Propagating...: 100%|██████████| 14755/14755 [03:08<00:00, 78.40it/s]\n",
      "Propagating...: 100%|██████████| 14624/14624 [03:05<00:00, 78.83it/s]\n",
      "Propagating...: 100%|██████████| 14750/14750 [03:04<00:00, 80.01it/s]\n",
      "Propagating...: 100%|██████████| 14756/14756 [03:06<00:00, 79.09it/s]\n",
      "Propagating...: 100%|██████████| 14864/14864 [03:07<00:00, 79.20it/s]\n",
      "Propagating...: 100%|██████████| 14893/14893 [03:06<00:00, 79.78it/s]\n",
      "Propagating...: 100%|██████████| 15052/15052 [03:13<00:00, 77.68it/s]\n",
      "Propagating...: 100%|██████████| 14874/14874 [03:12<00:00, 77.31it/s]\n",
      "Propagating...: 100%|██████████| 14627/14627 [03:10<00:00, 76.91it/s]\n",
      "Propagating...: 100%|██████████| 14686/14686 [03:13<00:00, 75.85it/s]\n",
      "Propagating...: 100%|██████████| 14931/14931 [03:20<00:00, 74.44it/s]\n",
      "Propagating...: 100%|██████████| 14822/14822 [03:12<00:00, 76.96it/s]\n",
      "Propagating...: 100%|██████████| 14966/14966 [03:16<00:00, 76.32it/s]\n",
      "Propagating...: 100%|██████████| 14729/14729 [03:15<00:00, 75.46it/s]\n",
      "Propagating...: 100%|██████████| 14964/14964 [03:13<00:00, 77.29it/s]\n",
      "Propagating...: 100%|██████████| 14934/14934 [03:18<00:00, 75.15it/s]\n",
      "Propagating...: 100%|██████████| 14882/14882 [03:17<00:00, 75.41it/s]\n",
      "Propagating...: 100%|██████████| 14772/14772 [03:18<00:00, 74.25it/s]\n",
      "Propagating...: 100%|██████████| 14872/14872 [03:20<00:00, 74.29it/s]\n",
      "Propagating...: 100%|██████████| 14806/14806 [03:24<00:00, 72.40it/s]\n",
      "Propagating...: 100%|██████████| 14874/14874 [03:23<00:00, 73.25it/s]\n",
      "Propagating...: 100%|██████████| 14732/14732 [03:21<00:00, 72.95it/s]\n",
      "Propagating...: 100%|██████████| 14843/14843 [03:22<00:00, 73.34it/s]\n",
      "Propagating...: 100%|██████████| 14794/14794 [03:20<00:00, 73.64it/s]\n",
      "Propagating...: 100%|██████████| 14762/14762 [03:27<00:00, 71.14it/s]\n",
      "Propagating...: 100%|██████████| 14870/14870 [03:23<00:00, 73.24it/s]\n",
      "Propagating...: 100%|██████████| 14699/14699 [03:19<00:00, 73.79it/s]\n",
      "Propagating...: 100%|██████████| 14655/14655 [03:16<00:00, 74.70it/s]\n",
      "Propagating...: 100%|██████████| 14870/14870 [03:24<00:00, 72.77it/s]\n",
      "Propagating...: 100%|██████████| 14758/14758 [03:13<00:00, 76.09it/s]\n",
      "Propagating...: 100%|██████████| 14679/14679 [03:15<00:00, 74.97it/s]\n",
      "Propagating...: 100%|██████████| 14808/14808 [03:19<00:00, 74.32it/s]\n",
      "Propagating...: 100%|██████████| 14974/14974 [03:49<00:00, 65.22it/s]\n",
      "Propagating...: 100%|██████████| 14831/14831 [03:17<00:00, 75.04it/s]\n",
      "Propagating...: 100%|██████████| 14907/14907 [03:17<00:00, 75.42it/s]\n",
      "Propagating...: 100%|██████████| 14821/14821 [03:27<00:00, 71.34it/s]\n",
      "Propagating...: 100%|██████████| 15075/15075 [03:18<00:00, 75.85it/s]\n",
      "Propagating...: 100%|██████████| 14827/14827 [03:31<00:00, 70.13it/s]\n",
      "Propagating...: 100%|██████████| 14757/14757 [03:21<00:00, 73.31it/s]\n",
      "Propagating...: 100%|██████████| 14714/14714 [03:19<00:00, 73.65it/s]\n",
      "Propagating...: 100%|██████████| 14855/14855 [03:18<00:00, 74.95it/s]\n",
      "Propagating...: 100%|██████████| 14780/14780 [03:26<00:00, 71.59it/s]\n",
      "Propagating...: 100%|██████████| 14720/14720 [03:11<00:00, 76.69it/s]\n",
      "Propagating...: 100%|██████████| 14862/14862 [03:08<00:00, 78.92it/s]\n",
      "Propagating...: 100%|██████████| 14881/14881 [03:18<00:00, 74.93it/s]\n",
      "Propagating...: 100%|██████████| 14956/14956 [03:18<00:00, 75.31it/s]\n",
      "Propagating...: 100%|██████████| 14677/14677 [03:11<00:00, 76.70it/s]\n",
      "Propagating...: 100%|██████████| 14700/14700 [03:17<00:00, 74.54it/s]\n",
      "Propagating...: 100%|██████████| 14617/14617 [03:08<00:00, 77.56it/s]\n",
      "Propagating...: 100%|██████████| 14626/14626 [03:08<00:00, 77.42it/s]\n",
      "Propagating...: 100%|██████████| 14856/14856 [03:07<00:00, 79.30it/s]\n",
      "Propagating...: 100%|██████████| 14791/14791 [55:15<00:00,  4.46it/s]\n",
      "Propagating...: 100%|██████████| 14713/14713 [04:06<00:00, 59.63it/s]\n",
      "Propagating...: 100%|██████████| 14799/14799 [04:09<00:00, 59.41it/s]\n",
      "Propagating...: 100%|██████████| 14733/14733 [04:11<00:00, 58.58it/s]\n",
      "Propagating...: 100%|██████████| 14719/14719 [04:04<00:00, 60.18it/s]\n",
      "Propagating...: 100%|██████████| 15189/15189 [11:32:30<00:00,  2.74s/it]\n",
      "Propagating...: 100%|██████████| 14920/14920 [2:03:25<00:00,  2.01it/s]\n",
      "Propagating...: 100%|██████████| 14903/14903 [04:11<00:00, 59.29it/s]\n",
      "Propagating...: 100%|██████████| 14860/14860 [39:14<00:00,  6.31it/s]\n",
      "Propagating...: 100%|██████████| 14745/14745 [04:18<00:00, 57.11it/s]\n",
      "Propagating...: 100%|██████████| 14816/14816 [04:17<00:00, 57.47it/s]\n",
      "Propagating...: 100%|██████████| 14828/14828 [04:15<00:00, 57.97it/s]\n",
      "Propagating...: 100%|██████████| 14863/14863 [04:24<00:00, 56.16it/s]\n",
      "Propagating...: 100%|██████████| 14646/14646 [04:17<00:00, 56.98it/s]\n",
      "Propagating...: 100%|██████████| 14970/14970 [04:18<00:00, 57.93it/s]\n",
      "Propagating...: 100%|██████████| 14817/14817 [04:14<00:00, 58.11it/s]\n",
      "Propagating...: 100%|██████████| 14684/14684 [04:18<00:00, 56.71it/s]\n",
      "Propagating...: 100%|██████████| 14750/14750 [04:19<00:00, 56.94it/s]\n",
      "Propagating...: 100%|██████████| 14648/14648 [04:14<00:00, 57.54it/s]\n",
      "Propagating...: 100%|██████████| 14782/14782 [04:18<00:00, 57.28it/s]\n",
      "Propagating...: 100%|██████████| 14938/14938 [04:22<00:00, 56.87it/s]\n",
      "Propagating...: 100%|██████████| 14707/14707 [04:10<00:00, 58.78it/s]\n",
      "Propagating...: 100%|██████████| 14633/14633 [04:12<00:00, 58.05it/s]\n",
      "Propagating...: 100%|██████████| 14908/14908 [04:08<00:00, 60.09it/s]\n",
      "Propagating...: 100%|██████████| 14758/14758 [04:08<00:00, 59.42it/s]\n",
      "Propagating...: 100%|██████████| 14782/14782 [09:25<00:00, 26.13it/s]\n",
      "Propagating...: 100%|██████████| 14876/14876 [06:32<00:00, 37.94it/s]\n",
      "Propagating...: 100%|██████████| 14694/14694 [09:03<00:00, 27.05it/s]\n",
      "Propagating...: 100%|██████████| 14793/14793 [03:12<00:00, 76.99it/s]\n",
      "Propagating...: 100%|██████████| 14646/14646 [03:13<00:00, 75.88it/s]\n",
      "Propagating...: 100%|██████████| 14897/14897 [03:13<00:00, 77.18it/s]\n",
      "Propagating...: 100%|██████████| 14691/14691 [03:15<00:00, 75.25it/s]\n",
      "Propagating...: 100%|██████████| 14913/14913 [03:28<00:00, 71.69it/s]\n",
      "Propagating...: 100%|██████████| 14606/14606 [04:51<00:00, 50.12it/s]\n",
      "Propagating...: 100%|██████████| 14905/14905 [03:21<00:00, 74.05it/s]\n",
      "Propagating...: 100%|██████████| 14510/14510 [03:17<00:00, 73.35it/s]\n",
      "Propagating...: 100%|██████████| 14816/14816 [03:20<00:00, 73.77it/s]\n",
      "Propagating...: 100%|██████████| 14681/14681 [03:25<00:00, 71.55it/s]\n",
      "Propagating...: 100%|██████████| 15021/15021 [03:32<00:00, 70.53it/s]\n",
      "Propagating...: 100%|██████████| 14929/14929 [03:26<00:00, 72.15it/s]\n",
      "Propagating...: 100%|██████████| 14719/14719 [03:17<00:00, 74.41it/s]\n",
      "Propagating...: 100%|██████████| 14850/14850 [03:19<00:00, 74.33it/s]\n",
      "Propagating...: 100%|██████████| 14879/14879 [03:23<00:00, 72.99it/s]\n",
      "Propagating...: 100%|██████████| 14724/14724 [03:19<00:00, 73.71it/s]\n",
      "Propagating...: 100%|██████████| 14903/14903 [03:17<00:00, 75.60it/s]\n",
      "Propagating...: 100%|██████████| 14871/14871 [03:14<00:00, 76.48it/s]\n",
      "Propagating...: 100%|██████████| 14755/14755 [03:13<00:00, 76.24it/s]\n",
      "Propagating...: 100%|██████████| 14748/14748 [03:24<00:00, 72.02it/s]\n",
      "Propagating...: 100%|██████████| 14688/14688 [03:09<00:00, 77.60it/s]\n",
      "Propagating...: 100%|██████████| 14747/14747 [03:14<00:00, 76.01it/s]\n",
      "Propagating...: 100%|██████████| 14806/14806 [03:13<00:00, 76.41it/s]\n",
      "Propagating...: 100%|██████████| 14805/14805 [03:24<00:00, 72.50it/s]\n",
      "Propagating...: 100%|██████████| 14802/14802 [05:02<00:00, 48.97it/s]\n",
      "Propagating...: 100%|██████████| 14827/14827 [03:08<00:00, 78.66it/s]\n",
      "Propagating...: 100%|██████████| 14975/14975 [03:12<00:00, 77.61it/s]\n",
      "Propagating...: 100%|██████████| 14621/14621 [03:09<00:00, 77.28it/s]\n",
      "Propagating...: 100%|██████████| 14767/14767 [03:17<00:00, 74.66it/s]\n",
      "Propagating...: 100%|██████████| 14731/14731 [03:16<00:00, 75.00it/s]\n",
      "Propagating...: 100%|██████████| 15021/15021 [03:25<00:00, 72.95it/s]\n",
      "Propagating...: 100%|██████████| 14864/14864 [03:10<00:00, 77.93it/s]\n",
      "Propagating...: 100%|██████████| 14980/14980 [03:18<00:00, 75.30it/s]\n",
      "Propagating...: 100%|██████████| 14703/14703 [03:14<00:00, 75.47it/s]\n",
      "Propagating...: 100%|██████████| 14782/14782 [03:13<00:00, 76.31it/s]\n",
      "Propagating...: 100%|██████████| 14614/14614 [03:13<00:00, 75.50it/s]\n",
      "Propagating...: 100%|██████████| 14922/14922 [03:26<00:00, 72.36it/s]\n",
      "Propagating...: 100%|██████████| 14715/14715 [03:19<00:00, 73.67it/s]\n",
      "100%|██████████| 200/200 [27:16:17<00:00, 490.89s/it]\n"
     ]
    }
   ],
   "source": [
    "propagated_catalogs_path = '/Users/mncavieres/Documents/2024-2/HVS/Data/speedystar_catalogs/top_heavy_Lu_2013/propagated'\n",
    "\n",
    "#simulated_catalogs_path = '/Users/mncavieres/Documents/2024-2/HVS/speedystar/simulated_catalogs/top_heavy'\n",
    "\n",
    "# Assume a Galactic potential\n",
    "default_potential = MWPotential()\n",
    "#Ensure the potential has physical units so that the final positions and velocities have physical units too\n",
    "potential.turn_physical_on(default_potential)\n",
    "\n",
    "for catalog in tqdm(os.listdir(simulated_catalogs_path)):\n",
    "    # Skip already propagated samples\n",
    "    if os.path.isfile(os.path.join(simulated_catalogs_path, catalog)):\n",
    "        pass\n",
    "    # Only propagate FITS files\n",
    "    if catalog.endswith('.fits'):\n",
    "            # Load ejection sample, if it doesn't already exist\n",
    "        mysample = starsample(os.path.join(simulated_catalogs_path, catalog))\n",
    "\n",
    "        #Propagate sample. Positions / velocities are returned in Cartesian (x/y/z/v_x/v_y/v_z) and Galactic (l/b/dist/pm_l/pm_b/v_radial) and equatorial (ra/dec/dist/pm_ra/pm_dec/v_radial) coordinates\n",
    "        mysample.propagate(potential = default_potential)\n",
    "\n",
    "        #Save propagated sample\n",
    "        mysample.save(os.path.join(propagated_catalogs_path, catalog))"
   ]
  },
  {
   "cell_type": "markdown",
   "metadata": {},
   "source": [
    "### Subsetting the catalogue\n",
    "\n",
    "So far we've ejected and propagated everything, including fast and slow stars. If we're only interested in the hypervelocity stars, we can use boolean indexing on a speedystar object."
   ]
  },
  {
   "cell_type": "code",
   "execution_count": 13,
   "metadata": {},
   "outputs": [
    {
     "name": "stdout",
     "output_type": "stream",
     "text": [
      "Size of the entire sample: 561\n",
      "Size of the fast sample: 424\n"
     ]
    }
   ],
   "source": [
    "fast = mysample.GCv > mysample.Vesc\n",
    "\n",
    "print('Size of the entire sample: '+str(mysample.size))\n",
    "\n",
    "mysample = mysample[fast]\n",
    "print('Size of the fast sample: '+str(mysample.size))"
   ]
  },
  {
   "cell_type": "markdown",
   "metadata": {},
   "source": [
    "### Mock observations of the sample\n",
    "\n",
    "We next have to figure out how bright each of the stars is, otherwise we don't know which of the stars would be detectable today or in the near future. `speedystar` is able to calculate the apparent magnitudes of the sample in a variety of photometric bassbands (e.g. Gaia G/G_BP/G_RP/G_RVS, Johnson-Cousins UBVRI, SDSS/LSST ugriz, VISTA JHK) depending on the mass, temperature and radius of the stars along with their distance and position on the sky.\n",
    "\n"
   ]
  },
  {
   "cell_type": "code",
   "execution_count": null,
   "metadata": {},
   "outputs": [
    {
     "name": "stderr",
     "output_type": "stream",
     "text": [
      "Calculating magnitudes: 100%|██████████| 6/6 [00:20<00:00,  3.40s/it]\n",
      "Calculating magnitudes: 100%|██████████| 6/6 [00:20<00:00,  3.44s/it]\n",
      "Calculating magnitudes: 100%|██████████| 6/6 [00:20<00:00,  3.40s/it]\n",
      "Calculating magnitudes: 100%|██████████| 6/6 [00:20<00:00,  3.39s/it]\n",
      "Calculating magnitudes: 100%|██████████| 6/6 [00:21<00:00,  3.62s/it]\n",
      "Calculating magnitudes: 100%|██████████| 6/6 [00:20<00:00,  3.42s/it]\n",
      "Calculating magnitudes: 100%|██████████| 6/6 [00:20<00:00,  3.50s/it]\n",
      "Calculating magnitudes: 100%|██████████| 6/6 [00:20<00:00,  3.35s/it]\n",
      "Calculating magnitudes: 100%|██████████| 6/6 [00:20<00:00,  3.37s/it]\n",
      "Calculating magnitudes: 100%|██████████| 6/6 [00:21<00:00,  3.58s/it]\n",
      "Calculating magnitudes: 100%|██████████| 6/6 [00:20<00:00,  3.34s/it]\n",
      "Calculating magnitudes: 100%|██████████| 6/6 [00:20<00:00,  3.44s/it]\n",
      "Calculating magnitudes: 100%|██████████| 6/6 [00:20<00:00,  3.40s/it]\n",
      "Calculating magnitudes: 100%|██████████| 6/6 [00:20<00:00,  3.39s/it]\n",
      "Calculating magnitudes: 100%|██████████| 6/6 [00:19<00:00,  3.31s/it]\n",
      "Calculating magnitudes: 100%|██████████| 6/6 [00:20<00:00,  3.34s/it]\n",
      "Calculating magnitudes: 100%|██████████| 6/6 [00:20<00:00,  3.44s/it]\n",
      "Calculating magnitudes: 100%|██████████| 6/6 [00:21<00:00,  3.55s/it]\n",
      "Calculating magnitudes: 100%|██████████| 6/6 [00:20<00:00,  3.39s/it]\n",
      "Calculating magnitudes: 100%|██████████| 6/6 [00:20<00:00,  3.39s/it]\n",
      "Calculating magnitudes: 100%|██████████| 6/6 [00:20<00:00,  3.45s/it]\n",
      "Calculating magnitudes: 100%|██████████| 6/6 [00:20<00:00,  3.44s/it]\n",
      "Calculating magnitudes: 100%|██████████| 6/6 [00:20<00:00,  3.33s/it]\n",
      "Calculating magnitudes: 100%|██████████| 6/6 [00:20<00:00,  3.43s/it]\n",
      "Calculating magnitudes: 100%|██████████| 6/6 [00:19<00:00,  3.33s/it]\n",
      "Calculating magnitudes: 100%|██████████| 6/6 [00:20<00:00,  3.37s/it]\n",
      "Calculating magnitudes: 100%|██████████| 6/6 [00:20<00:00,  3.40s/it]\n",
      "Calculating magnitudes: 100%|██████████| 6/6 [00:20<00:00,  3.41s/it]\n",
      "Calculating magnitudes: 100%|██████████| 6/6 [00:21<00:00,  3.52s/it]\n",
      "Calculating magnitudes: 100%|██████████| 6/6 [00:20<00:00,  3.38s/it]\n",
      "Calculating magnitudes: 100%|██████████| 6/6 [00:21<00:00,  3.55s/it]\n",
      "Calculating magnitudes: 100%|██████████| 6/6 [00:21<00:00,  3.52s/it]\n",
      "Calculating magnitudes: 100%|██████████| 6/6 [00:20<00:00,  3.35s/it]\n",
      "Calculating magnitudes: 100%|██████████| 6/6 [00:20<00:00,  3.36s/it]\n",
      "Calculating magnitudes: 100%|██████████| 6/6 [00:21<00:00,  3.51s/it]\n",
      "Calculating magnitudes: 100%|██████████| 6/6 [00:20<00:00,  3.44s/it]\n",
      "Calculating magnitudes: 100%|██████████| 6/6 [00:20<00:00,  3.35s/it]\n",
      "Calculating magnitudes: 100%|██████████| 6/6 [00:19<00:00,  3.28s/it]\n",
      "Calculating magnitudes: 100%|██████████| 6/6 [00:20<00:00,  3.45s/it]\n",
      "Calculating magnitudes: 100%|██████████| 6/6 [00:21<00:00,  3.58s/it]\n",
      "Calculating magnitudes: 100%|██████████| 6/6 [00:20<00:00,  3.48s/it]\n",
      "Calculating magnitudes: 100%|██████████| 6/6 [00:20<00:00,  3.36s/it]\n",
      "Calculating magnitudes: 100%|██████████| 6/6 [00:21<00:00,  3.51s/it]\n",
      "Calculating magnitudes: 100%|██████████| 6/6 [00:20<00:00,  3.40s/it]\n",
      "Calculating magnitudes: 100%|██████████| 6/6 [00:20<00:00,  3.47s/it]\n",
      "Calculating magnitudes: 100%|██████████| 6/6 [00:21<00:00,  3.51s/it]\n",
      "Calculating magnitudes: 100%|██████████| 6/6 [00:20<00:00,  3.34s/it]\n",
      "Calculating magnitudes: 100%|██████████| 6/6 [00:20<00:00,  3.38s/it]\n",
      "Calculating magnitudes: 100%|██████████| 6/6 [00:20<00:00,  3.39s/it]\n",
      "Calculating magnitudes: 100%|██████████| 6/6 [00:21<00:00,  3.50s/it]\n",
      "Calculating magnitudes: 100%|██████████| 6/6 [00:20<00:00,  3.39s/it]\n",
      "Calculating magnitudes: 100%|██████████| 6/6 [00:20<00:00,  3.48s/it]\n",
      "Calculating magnitudes: 100%|██████████| 6/6 [00:19<00:00,  3.25s/it]\n",
      "Calculating magnitudes: 100%|██████████| 6/6 [00:20<00:00,  3.49s/it]\n",
      "Calculating magnitudes: 100%|██████████| 6/6 [00:20<00:00,  3.40s/it]\n",
      "Calculating magnitudes: 100%|██████████| 6/6 [00:20<00:00,  3.39s/it]\n",
      "Calculating magnitudes: 100%|██████████| 6/6 [00:19<00:00,  3.32s/it]\n",
      "Calculating magnitudes: 100%|██████████| 6/6 [00:20<00:00,  3.36s/it]\n",
      "Calculating magnitudes: 100%|██████████| 6/6 [00:19<00:00,  3.33s/it]\n",
      "Calculating magnitudes: 100%|██████████| 6/6 [00:20<00:00,  3.47s/it]\n",
      "Calculating magnitudes: 100%|██████████| 6/6 [00:20<00:00,  3.36s/it]\n",
      "Calculating magnitudes: 100%|██████████| 6/6 [00:20<00:00,  3.42s/it]\n",
      "Calculating magnitudes: 100%|██████████| 6/6 [00:20<00:00,  3.41s/it]\n",
      "Calculating magnitudes: 100%|██████████| 6/6 [00:20<00:00,  3.46s/it]\n",
      "Calculating magnitudes: 100%|██████████| 6/6 [00:20<00:00,  3.37s/it]\n",
      "Calculating magnitudes: 100%|██████████| 6/6 [00:21<00:00,  3.51s/it]\n",
      "Calculating magnitudes: 100%|██████████| 6/6 [00:19<00:00,  3.28s/it]\n",
      "Calculating magnitudes: 100%|██████████| 6/6 [00:19<00:00,  3.28s/it]\n",
      "Calculating magnitudes: 100%|██████████| 6/6 [00:20<00:00,  3.41s/it]\n",
      "Calculating magnitudes: 100%|██████████| 6/6 [00:20<00:00,  3.42s/it]\n",
      "Calculating magnitudes: 100%|██████████| 6/6 [00:20<00:00,  3.50s/it]\n",
      "Calculating magnitudes: 100%|██████████| 6/6 [00:20<00:00,  3.39s/it]\n",
      "Calculating magnitudes: 100%|██████████| 6/6 [00:20<00:00,  3.35s/it]\n",
      "Calculating magnitudes: 100%|██████████| 6/6 [00:20<00:00,  3.49s/it]\n",
      "Calculating magnitudes: 100%|██████████| 6/6 [00:20<00:00,  3.47s/it]\n",
      "Calculating magnitudes: 100%|██████████| 6/6 [00:19<00:00,  3.32s/it]\n",
      "Calculating magnitudes: 100%|██████████| 6/6 [00:20<00:00,  3.38s/it]\n",
      "Calculating magnitudes: 100%|██████████| 6/6 [00:20<00:00,  3.39s/it]\n",
      "Calculating magnitudes: 100%|██████████| 6/6 [00:20<00:00,  3.47s/it]\n",
      "Calculating magnitudes: 100%|██████████| 6/6 [00:20<00:00,  3.41s/it]\n",
      "Calculating magnitudes: 100%|██████████| 6/6 [00:20<00:00,  3.48s/it]\n",
      "Calculating magnitudes: 100%|██████████| 6/6 [00:20<00:00,  3.44s/it]\n",
      "Calculating magnitudes: 100%|██████████| 6/6 [00:20<00:00,  3.41s/it]\n",
      "Calculating magnitudes: 100%|██████████| 6/6 [00:20<00:00,  3.43s/it]\n",
      "Calculating magnitudes: 100%|██████████| 6/6 [00:20<00:00,  3.39s/it]\n",
      "Calculating magnitudes: 100%|██████████| 6/6 [00:19<00:00,  3.31s/it]\n",
      "Calculating magnitudes: 100%|██████████| 6/6 [00:20<00:00,  3.43s/it]\n",
      "Calculating magnitudes: 100%|██████████| 6/6 [00:21<00:00,  3.52s/it]\n",
      "Calculating magnitudes: 100%|██████████| 6/6 [00:20<00:00,  3.42s/it]\n",
      "Calculating magnitudes: 100%|██████████| 6/6 [00:20<00:00,  3.37s/it]\n",
      "Calculating magnitudes: 100%|██████████| 6/6 [00:20<00:00,  3.41s/it]\n",
      "Calculating magnitudes: 100%|██████████| 6/6 [00:20<00:00,  3.42s/it]\n",
      "Calculating magnitudes: 100%|██████████| 6/6 [00:20<00:00,  3.44s/it]\n",
      "Calculating magnitudes: 100%|██████████| 6/6 [00:19<00:00,  3.33s/it]\n",
      "Calculating magnitudes: 100%|██████████| 6/6 [00:20<00:00,  3.37s/it]\n",
      "Calculating magnitudes: 100%|██████████| 6/6 [00:20<00:00,  3.39s/it]\n",
      "Calculating magnitudes: 100%|██████████| 6/6 [00:20<00:00,  3.44s/it]\n",
      "Calculating magnitudes: 100%|██████████| 6/6 [00:20<00:00,  3.35s/it]\n",
      "Calculating magnitudes: 100%|██████████| 6/6 [00:19<00:00,  3.28s/it]\n",
      "Calculating magnitudes: 100%|██████████| 6/6 [00:20<00:00,  3.48s/it]\n",
      "100%|██████████| 100/100 [37:20<00:00, 22.41s/it]\n"
     ]
    }
   ],
   "source": [
    "photometric_catalogs_path = '/Users/mncavieres/Documents/2024-2/HVS/Data/speedystar_catalogs/stock/phot_prop'\n",
    "\n",
    "for catalog in tqdm(os.listdir(propagated_catalogs_path)):\n",
    "    # Only compute actual catalogs FITS files\n",
    "    if not catalog.endswith('.fits'):\n",
    "        print('Skipping', catalog)\n",
    "        continue\n",
    "\n",
    "    # Load propagated sample\n",
    "    mysample = starsample(os.path.join(propagated_catalogs_path, catalog))\n",
    "\n",
    "    # Select only HVSs that are fast\n",
    "    fast = mysample.GCv > 300\n",
    "    mysample = mysample[fast]\n",
    "    \n",
    "    #Assign the dust map. Will be downloaded if it doesn't already exist in the working directory or where you've\n",
    "    #   specified above\n",
    "    mysample.dust = mwdust.Combined15()\n",
    "\n",
    "    #Get mock apparent magnitudes . By default magnitudes are computed in the Johnson-Cousins V and I bands \n",
    "    #   and the Gaia G, G_RP, G_BP and G_RVS bands.\n",
    "    #   By default this also returns Gaia astrometric and radial velocity errors assuming Gaia DR4 precision\n",
    "    mysample.photometry()\n",
    "\n",
    "    #Save the sample with mock photometry\n",
    "    mysample.save(os.path.join(photometric_catalogs_path, catalog))"
   ]
  },
  {
   "cell_type": "code",
   "execution_count": 14,
   "metadata": {},
   "outputs": [
    {
     "name": "stderr",
     "output_type": "stream",
     "text": [
      "Calculating magnitudes: 100%|██████████| 6/6 [00:02<00:00,  2.16it/s]\n"
     ]
    }
   ],
   "source": [
    "#Load a pre-existing propagated sample, if needed\n",
    "mysample = starsample('./cat_propagated.fits')\n",
    "\n",
    "#Magnitudes are exctincted by Milky Way dust along the line of sight. Need to assign a dust map. \n",
    "#Dust map(s) must be downloaded if they do not already exist. They can be rather large, ~500 MB.\n",
    "\n",
    "#Uncomment this line and fill out a path if the dust map is located somewhere other than the working\n",
    "#   directory, or you want it downloaded somewhere other than the working directory\n",
    "#mysample.config_dust('/path/to/where/you/want/the/dust/map')\n",
    "\n",
    "#Assign the dust map. Will be downloaded if it doesn't already exist in the working directory or where you've\n",
    "#   specified above\n",
    "mysample.dust = mwdust.Combined15()\n",
    "\n",
    "#Get mock apparent magnitudes . By default magnitudes are computed in the Johnson-Cousins V and I bands \n",
    "#   and the Gaia G, G_RP, G_BP and G_RVS bands.\n",
    "#   By default this also returns Gaia astrometric and radial velocity errors assuming Gaia DR4 precision\n",
    "mysample.photometry()\n",
    "\n",
    "#Save the sample with mock photometry\n",
    "mysample.save('./cat_photometry.fits')"
   ]
  },
  {
   "cell_type": "markdown",
   "metadata": {},
   "source": [
    "### Gaia detectability\n",
    " Finally, let's determine which stars would be detectable in Gaia Data Release 3.\n",
    " \n",
    " Gaia magnitude cuts can be performed using mysample[...], but they're also implemented directly in `speedystar.subsample` for simplicity, along with some other common cuts. These cuts will also automatically calculate DR3 mock Gaia errors.\n"
   ]
  },
  {
   "cell_type": "code",
   "execution_count": 15,
   "metadata": {},
   "outputs": [
    {
     "name": "stderr",
     "output_type": "stream",
     "text": [
      "100%|██████████| 100/100 [00:10<00:00,  9.95it/s]\n"
     ]
    }
   ],
   "source": [
    "detectable_dr3_path = '/Users/mncavieres/Documents/2024-2/HVS/speedystar/simulated_catalogs/detectable_DR3'\n",
    "\n",
    "for catalog in tqdm.tqdm(os.listdir(photometric_catalogs_path)):\n",
    "    if not catalog.endswith('.fits'):\n",
    "        pass\n",
    "    # Load photometric sample\n",
    "    mysample = starsample(os.path.join(photometric_catalogs_path, catalog))\n",
    "\n",
    "    #Determine which stars would be in principle detectable in Gaia DR3 and recalculate errors\n",
    "    mysample.subsample('Gaia_DR3')\n",
    "\n",
    "    #Save the cut sample\n",
    "    mysample.save(os.path.join(detectable_dr3_path, catalog))"
   ]
  },
  {
   "cell_type": "code",
   "execution_count": 15,
   "metadata": {},
   "outputs": [
    {
     "name": "stdout",
     "output_type": "stream",
     "text": [
      "Number of stars in Gaia DR3: 95\n",
      "Number of stars in Gaia DR4 with radial velocity: 4\n"
     ]
    }
   ],
   "source": [
    "#Load a pre-existing sample with photometry, if needed\n",
    "mysample = starsample('./cat_photometry.fits')\n",
    "\n",
    "#Determine which stars would be in principle detectable in Gaia DR3 and recalculate errors\n",
    "mysample.subsample('Gaia_DR3')\n",
    "\n",
    "#Save the cut sample\n",
    "mysample.save('./cat_gaiaDR3.fits')\n",
    "print('Number of stars in Gaia DR3: '+str(mysample.size))\n",
    "\n",
    "#Determine which stars would be in principle detectable in the subsample of Gaia DR4 with\n",
    "#   measured radial velocities.\n",
    "mysample.subsample('Gaia_6D_DR4')\n",
    "\n",
    "#Save the cut sample\n",
    "mysample.save('./cat_gaiaDR4_6D.fits')\n",
    "print('Number of stars in Gaia DR4 with radial velocity: '+str(mysample.size))\n"
   ]
  },
  {
   "cell_type": "code",
   "execution_count": 17,
   "metadata": {},
   "outputs": [
    {
     "name": "stdout",
     "output_type": "stream",
     "text": [
      "Number of stars in Gaia DR4: 95\n"
     ]
    }
   ],
   "source": [
    "#Load a pre-existing sample with photometry, if needed\n",
    "mysample = starsample('./cat_photometry.fits')\n",
    "mysample.subsample('Gaia_DR4')\n",
    "\n",
    "#Save the cut sample\n",
    "mysample.save('./cat_gaiaDR4.fits')\n",
    "print('Number of stars in Gaia DR4: '+str(mysample.size))"
   ]
  },
  {
   "cell_type": "code",
   "execution_count": 20,
   "metadata": {},
   "outputs": [
    {
     "name": "stdout",
     "output_type": "stream",
     "text": [
      "Number of stars in Gaia DR4: 4\n"
     ]
    }
   ],
   "source": [
    "#Load a pre-existing sample with photometry, if needed\n",
    "mysample = starsample('./cat_photometry.fits')\n",
    "mysample.subsample('Gaia_6D_DR4')\n",
    "print('Number of stars in Gaia DR4: '+str(mysample.size))"
   ]
  },
  {
   "cell_type": "code",
   "execution_count": null,
   "metadata": {},
   "outputs": [],
   "source": []
  }
 ],
 "metadata": {
  "kernelspec": {
   "display_name": "speedytest2",
   "language": "python",
   "name": "python3"
  },
  "language_info": {
   "codemirror_mode": {
    "name": "ipython",
    "version": 3
   },
   "file_extension": ".py",
   "mimetype": "text/x-python",
   "name": "python",
   "nbconvert_exporter": "python",
   "pygments_lexer": "ipython3",
   "version": "3.12.7"
  }
 },
 "nbformat": 4,
 "nbformat_minor": 2
}
