{
 "cells": [
  {
   "cell_type": "markdown",
   "metadata": {},
   "source": [
    "### Your first hypervelocity star catalogue\n",
    "\n",
    "`speedystar` is a python package which will allow you to generate, evolve, propagate and perform mock observations of single stars ejected at high velocities.\n",
    "\n",
    "### Getting Started\n",
    "\n",
    "Make sure this notebook is in the parent directory of `speedystar/`. The package itself is not large, but performing mock observations requires downloading a Milky Way dust map which by default is ~500 MB. This free space is assumed to be in the current working directory by default, but does not have to be (see below).\n",
    "\n",
    "We currently do not recommend installing `speedystar` globally using pip since that prevents you from editing the source code directly.\n",
    "\n",
    "`speedystar` uses a number of Python packages. Some of these which might not already be included in your Python distribution are astropy, galpy, mwdust and pygaia. Simply run this notebook and conda or pip install any package that doesn't exist.\n",
    "\n",
    "More accurate treatments of the Gaia selection functions and astrometric spread function also require the Python packages scanninglaw and gaiaunlimited. These packages currently do not support Windows since they rely on the healpy package, but can be installed using Windows Subsystem for Linux (WSL).\n",
    "\n",
    "### Documentation\n",
    "\n",
    "help(speedystar.starsample) will display the names and descriptions of every method in `speedystar`, as well as descriptions of common column names.\n",
    "\n",
    "### Outputs\n",
    "\n",
    "`speedystar` outputs are .fits tables containing useful info for each mock star as well as metadata describing the assumptions that go into the sample. They can be accessed using astropy.table or with [Topcat](https://www.star.bris.ac.uk/~mbt/topcat/) or however else you'd like to read them.\n"
   ]
  },
  {
   "cell_type": "code",
   "execution_count": 1,
   "metadata": {},
   "outputs": [
    {
     "name": "stdout",
     "output_type": "stream",
     "text": [
      "/Users/mncavieres/opt/anaconda3/envs/speedytest2/lib/python3.12/site-packages/requests/__init__.py:86: RequestsDependencyWarning: Unable to find acceptable character detection dependency (chardet or charset_normalizer).\n",
      "  warnings.warn(\n",
      "\n"
     ]
    }
   ],
   "source": [
    "#Import what you need\n",
    "import numpy as np\n",
    "import os\n",
    "#os.chdir('/mnt/c/Users/frase/')\n",
    "from speedystar import starsample\n",
    "from speedystar.eject import Hills\n",
    "from speedystar.utils.mwpotential import MWPotential\n",
    "import astropy.units as u\n",
    "from galpy import potential\n",
    "import mwdust\n",
    "from tqdm import tqdm\n",
    "import matplotlib.pyplot as plt\n",
    "#Print a lot of documentation\n",
    "#help(starsample)"
   ]
  },
  {
   "cell_type": "markdown",
   "metadata": {},
   "source": [
    "### Ejecting a sample\n",
    "\n",
    "We're now ready to eject some stars!\n",
    "\n",
    "The 'typical' way to eject hypervelocity stars is via the Hills Mechanism, in which a stellar binary approaches Sgr A* on a very low-angular momentum orbit. At a particular distance from Sgr A*, the tidal forces across the binary surpass the gravitational binding energy of the binary itself and the binary is separated. One star is captured in orbit around Sgr A* and the other is flung away at a velocities up to several thousand km/s. Stars ejected above the escape velocity of the Galaxy are hypervelocity stars (HVSs) -- they will eventually escape the Galaxy entirely. Note that there will also be a population of stars ejected slowly as well, which will not escape the inner Galaxy and might survive to interact again with Sgr A*.\n",
    "\n",
    "<p align=\"center\">\n",
    "<img src =\"https://www.universetoday.com/wp-content/uploads/2023/01/hills-mechanism.jpg\" width=\"50%\" height=\"50%\">\n",
    "</p>\n",
    "\n",
    "With `speedystar` you first generate a sample of stars at the moment of ejection. The number of stars and their masses/metallicities/velocities/flight times/evolutionary stages depend a lot on assumptions you make about stars and binaries in the Galactic Centre, see [Evans+2022](https://ui.adsabs.harvard.edu/abs/2022MNRAS.512.2350E/abstract) for more details.\n"
   ]
  },
  {
   "cell_type": "markdown",
   "metadata": {},
   "source": [
    "## Build a simple catalog"
   ]
  },
  {
   "cell_type": "code",
   "execution_count": 2,
   "metadata": {},
   "outputs": [],
   "source": [
    "simulated_catalogs_path = '/Users/mncavieres/Documents/2024-2/HVS/speedystar/simulated_catalogs/new/evolved'"
   ]
  },
  {
   "cell_type": "code",
   "execution_count": 11,
   "metadata": {},
   "outputs": [
    {
     "name": "stderr",
     "output_type": "stream",
     "text": [
      "Evolving HVSs:   0%|          | 0/1 [00:00<?, ?it/s]"
     ]
    },
    {
     "name": "stdout",
     "output_type": "stream",
     "text": [
      "/Users/mncavieres/opt/anaconda3/envs/speedytest2/lib/python3.12/site-packages/amuse/rfi/core.py:964: UserWarning: MPI (unexpectedly?) not available, falling back to sockets channel\n",
      "  warnings.warn(\"MPI (unexpectedly?) not available, falling back to sockets channel\")\n",
      "\n"
     ]
    },
    {
     "name": "stderr",
     "output_type": "stream",
     "text": [
      "Evolving HVSs: 100%|██████████| 1/1 [00:01<00:00,  1.01s/it]\n"
     ]
    }
   ],
   "source": [
    "#  the mass of Sgr A*, the maximum flight time, etc.\n",
    "\n",
    "#simulated_catalogs_path = '/Users/mncavieres/Documents/2024-2/HVS/speedystar/simulated_catalogs/top_heavy'\n",
    "ejectionmodel = Hills(rate=1e-4/u.yr, amuseflag= True, Met= 0)\n",
    "mysample = starsample(ejectionmodel, name='sill_copy')\n",
    "#mysample.save(os.path.join(simulated_catalogs_path, f'cat_ejection_kappa_{1.7}.fits'))"
   ]
  },
  {
   "cell_type": "code",
   "execution_count": 5,
   "metadata": {},
   "outputs": [
    {
     "data": {
      "image/png": "[encoded data removed]",
      "text/plain": [
       "<Figure size 640x480 with 1 Axes>"
      ]
     },
     "metadata": {},
     "output_type": "display_data"
    }
   ],
   "source": [
    "plt.hist(mysample.m, bins = 100)\n",
    "plt.show()"
   ]
  },
  {
   "cell_type": "markdown",
   "metadata": {},
   "source": [
    "## Build for a range of IMF slopes"
   ]
  },
  {
   "cell_type": "code",
   "execution_count": null,
   "metadata": {},
   "outputs": [],
   "source": [
    "#Current ejection methods include 'Hills' implementing the Hills mechanism\n",
    "#  and 'BMBH' implementing the massive black hole binary slingshot mechanism\n",
    "\n",
    "# Arguments to Hills() allow you to set many parameters for the sample, e.g. the stellar initial mass function,\n",
    "#  the mass of Sgr A*, the maximum flight time, etc.\n",
    "\n",
    "simulated_catalogs_path = '/Users/mncavieres/Documents/2024-2/HVS/speedystar/simulated_catalogs/top_heavy'\n",
    "kappa_range = np.linspace(1, 2.5, 10)\n",
    "for kappa in kappa_range:\n",
    "    ejectionmodel = Hills(rate=1e-4/u.yr, kappa=kappa, amuseflag= True, Met= 0.25)\n",
    "    mysample = starsample(ejectionmodel, name='sill_copy')\n",
    "    mysample.save(os.path.join(simulated_catalogs_path, f'cat_ejection_kappa_{kappa}.fits'))"
   ]
  },
  {
   "cell_type": "code",
   "execution_count": 15,
   "metadata": {},
   "outputs": [
    {
     "name": "stderr",
     "output_type": "stream",
     "text": [
      "  0%|          | 0/100 [00:00<?, ?it/s]\n",
      "\u001b[A"
     ]
    },
    {
     "name": "stdout",
     "output_type": "stream",
     "text": [
      "/Users/mncavieres/opt/anaconda3/envs/speedytest2/lib/python3.12/site-packages/amuse/rfi/core.py:964: UserWarning: MPI (unexpectedly?) not available, falling back to sockets channel\n",
      "  warnings.warn(\"MPI (unexpectedly?) not available, falling back to sockets channel\")\n",
      "\n"
     ]
    },
    {
     "name": "stderr",
     "output_type": "stream",
     "text": [
      "\n",
      "Evolving HVSs: 100%|██████████| 1/1 [00:01<00:00,  1.02s/it]\n",
      "  1%|          | 1/100 [00:05<09:28,  5.74s/it]\n",
      "\u001b[A"
     ]
    },
    {
     "name": "stdout",
     "output_type": "stream",
     "text": [
      "/Users/mncavieres/opt/anaconda3/envs/speedytest2/lib/python3.12/site-packages/amuse/rfi/core.py:964: UserWarning: MPI (unexpectedly?) not available, falling back to sockets channel\n",
      "  warnings.warn(\"MPI (unexpectedly?) not available, falling back to sockets channel\")\n",
      "\n"
     ]
    },
    {
     "name": "stderr",
     "output_type": "stream",
     "text": [
      "\n",
      "Evolving HVSs: 100%|██████████| 1/1 [00:01<00:00,  1.01s/it]\n",
      "  2%|▏         | 2/100 [00:11<09:28,  5.80s/it]\n",
      "\u001b[A"
     ]
    },
    {
     "name": "stdout",
     "output_type": "stream",
     "text": [
      "/Users/mncavieres/opt/anaconda3/envs/speedytest2/lib/python3.12/site-packages/amuse/rfi/core.py:964: UserWarning: MPI (unexpectedly?) not available, falling back to sockets channel\n",
      "  warnings.warn(\"MPI (unexpectedly?) not available, falling back to sockets channel\")\n",
      "\n"
     ]
    },
    {
     "name": "stderr",
     "output_type": "stream",
     "text": [
      "\n",
      "Evolving HVSs: 100%|██████████| 1/1 [00:01<00:00,  1.00s/it]\n",
      "  3%|▎         | 3/100 [00:17<09:14,  5.72s/it]\n",
      "\u001b[A"
     ]
    },
    {
     "name": "stdout",
     "output_type": "stream",
     "text": [
      "/Users/mncavieres/opt/anaconda3/envs/speedytest2/lib/python3.12/site-packages/amuse/rfi/core.py:964: UserWarning: MPI (unexpectedly?) not available, falling back to sockets channel\n",
      "  warnings.warn(\"MPI (unexpectedly?) not available, falling back to sockets channel\")\n",
      "\n"
     ]
    },
    {
     "name": "stderr",
     "output_type": "stream",
     "text": [
      "\n",
      "Evolving HVSs: 100%|██████████| 1/1 [00:00<00:00,  1.02it/s]\n",
      "  4%|▍         | 4/100 [00:22<09:10,  5.73s/it]\n",
      "\u001b[A"
     ]
    },
    {
     "name": "stdout",
     "output_type": "stream",
     "text": [
      "/Users/mncavieres/opt/anaconda3/envs/speedytest2/lib/python3.12/site-packages/amuse/rfi/core.py:964: UserWarning: MPI (unexpectedly?) not available, falling back to sockets channel\n",
      "  warnings.warn(\"MPI (unexpectedly?) not available, falling back to sockets channel\")\n",
      "\n"
     ]
    },
    {
     "name": "stderr",
     "output_type": "stream",
     "text": [
      "\n",
      "Evolving HVSs: 100%|██████████| 1/1 [00:00<00:00,  1.00it/s]\n",
      "  5%|▌         | 5/100 [00:28<09:07,  5.77s/it]\n",
      "\u001b[A"
     ]
    },
    {
     "name": "stdout",
     "output_type": "stream",
     "text": [
      "/Users/mncavieres/opt/anaconda3/envs/speedytest2/lib/python3.12/site-packages/amuse/rfi/core.py:964: UserWarning: MPI (unexpectedly?) not available, falling back to sockets channel\n",
      "  warnings.warn(\"MPI (unexpectedly?) not available, falling back to sockets channel\")\n",
      "\n"
     ]
    },
    {
     "name": "stderr",
     "output_type": "stream",
     "text": [
      "\n",
      "Evolving HVSs: 100%|██████████| 1/1 [00:00<00:00,  1.01it/s]\n",
      "  6%|▌         | 6/100 [00:34<09:01,  5.76s/it]\n",
      "\u001b[A"
     ]
    },
    {
     "name": "stdout",
     "output_type": "stream",
     "text": [
      "/Users/mncavieres/opt/anaconda3/envs/speedytest2/lib/python3.12/site-packages/amuse/rfi/core.py:964: UserWarning: MPI (unexpectedly?) not available, falling back to sockets channel\n",
      "  warnings.warn(\"MPI (unexpectedly?) not available, falling back to sockets channel\")\n",
      "\n"
     ]
    },
    {
     "name": "stderr",
     "output_type": "stream",
     "text": [
      "\n",
      "Evolving HVSs: 100%|██████████| 1/1 [00:00<00:00,  1.01it/s]\n",
      "  7%|▋         | 7/100 [00:40<08:50,  5.70s/it]\n",
      "\u001b[A"
     ]
    },
    {
     "name": "stdout",
     "output_type": "stream",
     "text": [
      "/Users/mncavieres/opt/anaconda3/envs/speedytest2/lib/python3.12/site-packages/amuse/rfi/core.py:964: UserWarning: MPI (unexpectedly?) not available, falling back to sockets channel\n",
      "  warnings.warn(\"MPI (unexpectedly?) not available, falling back to sockets channel\")\n",
      "\n"
     ]
    },
    {
     "name": "stderr",
     "output_type": "stream",
     "text": [
      "\n",
      "Evolving HVSs: 100%|██████████| 1/1 [00:00<00:00,  1.05it/s]\n",
      "  8%|▊         | 8/100 [00:45<08:48,  5.74s/it]\n",
      "\u001b[A"
     ]
    },
    {
     "name": "stdout",
     "output_type": "stream",
     "text": [
      "/Users/mncavieres/opt/anaconda3/envs/speedytest2/lib/python3.12/site-packages/amuse/rfi/core.py:964: UserWarning: MPI (unexpectedly?) not available, falling back to sockets channel\n",
      "  warnings.warn(\"MPI (unexpectedly?) not available, falling back to sockets channel\")\n",
      "\n"
     ]
    },
    {
     "name": "stderr",
     "output_type": "stream",
     "text": [
      "\n",
      "Evolving HVSs: 100%|██████████| 1/1 [00:00<00:00,  1.04it/s]\n",
      "  9%|▉         | 9/100 [00:51<08:43,  5.75s/it]\n",
      "\u001b[A"
     ]
    },
    {
     "name": "stdout",
     "output_type": "stream",
     "text": [
      "/Users/mncavieres/opt/anaconda3/envs/speedytest2/lib/python3.12/site-packages/amuse/rfi/core.py:964: UserWarning: MPI (unexpectedly?) not available, falling back to sockets channel\n",
      "  warnings.warn(\"MPI (unexpectedly?) not available, falling back to sockets channel\")\n",
      "\n"
     ]
    },
    {
     "name": "stderr",
     "output_type": "stream",
     "text": [
      "\n",
      "Evolving HVSs: 100%|██████████| 1/1 [00:01<00:00,  1.01s/it]\n",
      " 10%|█         | 10/100 [00:57<08:47,  5.86s/it]\n",
      "\u001b[A"
     ]
    },
    {
     "name": "stdout",
     "output_type": "stream",
     "text": [
      "/Users/mncavieres/opt/anaconda3/envs/speedytest2/lib/python3.12/site-packages/amuse/rfi/core.py:964: UserWarning: MPI (unexpectedly?) not available, falling back to sockets channel\n",
      "  warnings.warn(\"MPI (unexpectedly?) not available, falling back to sockets channel\")\n",
      "\n"
     ]
    },
    {
     "name": "stderr",
     "output_type": "stream",
     "text": [
      "\n",
      "Evolving HVSs: 100%|██████████| 1/1 [00:01<00:00,  1.02s/it]\n",
      " 11%|█         | 11/100 [01:03<08:40,  5.85s/it]\n",
      "\u001b[A"
     ]
    },
    {
     "name": "stdout",
     "output_type": "stream",
     "text": [
      "/Users/mncavieres/opt/anaconda3/envs/speedytest2/lib/python3.12/site-packages/amuse/rfi/core.py:964: UserWarning: MPI (unexpectedly?) not available, falling back to sockets channel\n",
      "  warnings.warn(\"MPI (unexpectedly?) not available, falling back to sockets channel\")\n",
      "\n"
     ]
    },
    {
     "name": "stderr",
     "output_type": "stream",
     "text": [
      "\n",
      "Evolving HVSs: 100%|██████████| 1/1 [00:00<00:00,  1.00it/s]\n",
      " 12%|█▏        | 12/100 [01:09<08:34,  5.85s/it]\n",
      "\u001b[A"
     ]
    },
    {
     "name": "stdout",
     "output_type": "stream",
     "text": [
      "/Users/mncavieres/opt/anaconda3/envs/speedytest2/lib/python3.12/site-packages/amuse/rfi/core.py:964: UserWarning: MPI (unexpectedly?) not available, falling back to sockets channel\n",
      "  warnings.warn(\"MPI (unexpectedly?) not available, falling back to sockets channel\")\n",
      "\n"
     ]
    },
    {
     "name": "stderr",
     "output_type": "stream",
     "text": [
      "\n",
      "Evolving HVSs: 100%|██████████| 1/1 [00:00<00:00,  1.01it/s]\n",
      " 13%|█▎        | 13/100 [01:15<08:22,  5.77s/it]\n",
      "\u001b[A"
     ]
    },
    {
     "name": "stdout",
     "output_type": "stream",
     "text": [
      "/Users/mncavieres/opt/anaconda3/envs/speedytest2/lib/python3.12/site-packages/amuse/rfi/core.py:964: UserWarning: MPI (unexpectedly?) not available, falling back to sockets channel\n",
      "  warnings.warn(\"MPI (unexpectedly?) not available, falling back to sockets channel\")\n",
      "\n"
     ]
    },
    {
     "name": "stderr",
     "output_type": "stream",
     "text": [
      "\n",
      "Evolving HVSs: 100%|██████████| 1/1 [00:01<00:00,  1.00s/it]\n",
      " 14%|█▍        | 14/100 [01:20<08:16,  5.78s/it]\n",
      "\u001b[A"
     ]
    },
    {
     "name": "stdout",
     "output_type": "stream",
     "text": [
      "/Users/mncavieres/opt/anaconda3/envs/speedytest2/lib/python3.12/site-packages/amuse/rfi/core.py:964: UserWarning: MPI (unexpectedly?) not available, falling back to sockets channel\n",
      "  warnings.warn(\"MPI (unexpectedly?) not available, falling back to sockets channel\")\n",
      "\n"
     ]
    },
    {
     "name": "stderr",
     "output_type": "stream",
     "text": [
      "\n",
      "Evolving HVSs: 100%|██████████| 1/1 [00:00<00:00,  1.00it/s]\n",
      " 15%|█▌        | 15/100 [01:26<08:10,  5.78s/it]\n",
      "\u001b[A"
     ]
    },
    {
     "name": "stdout",
     "output_type": "stream",
     "text": [
      "/Users/mncavieres/opt/anaconda3/envs/speedytest2/lib/python3.12/site-packages/amuse/rfi/core.py:964: UserWarning: MPI (unexpectedly?) not available, falling back to sockets channel\n",
      "  warnings.warn(\"MPI (unexpectedly?) not available, falling back to sockets channel\")\n",
      "\n"
     ]
    },
    {
     "name": "stderr",
     "output_type": "stream",
     "text": [
      "\n",
      "Evolving HVSs: 100%|██████████| 1/1 [00:01<00:00,  1.04s/it]\n",
      " 16%|█▌        | 16/100 [01:32<08:10,  5.83s/it]\n",
      "\u001b[A"
     ]
    },
    {
     "name": "stdout",
     "output_type": "stream",
     "text": [
      "/Users/mncavieres/opt/anaconda3/envs/speedytest2/lib/python3.12/site-packages/amuse/rfi/core.py:964: UserWarning: MPI (unexpectedly?) not available, falling back to sockets channel\n",
      "  warnings.warn(\"MPI (unexpectedly?) not available, falling back to sockets channel\")\n",
      "\n"
     ]
    },
    {
     "name": "stderr",
     "output_type": "stream",
     "text": [
      "\n",
      "Evolving HVSs: 100%|██████████| 1/1 [00:01<00:00,  1.04s/it]\n",
      " 17%|█▋        | 17/100 [01:38<08:02,  5.81s/it]\n",
      "\u001b[A"
     ]
    },
    {
     "name": "stdout",
     "output_type": "stream",
     "text": [
      "/Users/mncavieres/opt/anaconda3/envs/speedytest2/lib/python3.12/site-packages/amuse/rfi/core.py:964: UserWarning: MPI (unexpectedly?) not available, falling back to sockets channel\n",
      "  warnings.warn(\"MPI (unexpectedly?) not available, falling back to sockets channel\")\n",
      "\n"
     ]
    },
    {
     "name": "stderr",
     "output_type": "stream",
     "text": [
      "\n",
      "Evolving HVSs: 100%|██████████| 1/1 [00:01<00:00,  1.01s/it]\n",
      " 18%|█▊        | 18/100 [01:44<07:53,  5.78s/it]\n",
      "\u001b[A"
     ]
    },
    {
     "name": "stdout",
     "output_type": "stream",
     "text": [
      "/Users/mncavieres/opt/anaconda3/envs/speedytest2/lib/python3.12/site-packages/amuse/rfi/core.py:964: UserWarning: MPI (unexpectedly?) not available, falling back to sockets channel\n",
      "  warnings.warn(\"MPI (unexpectedly?) not available, falling back to sockets channel\")\n",
      "\n"
     ]
    },
    {
     "name": "stderr",
     "output_type": "stream",
     "text": [
      "\n",
      "Evolving HVSs: 100%|██████████| 1/1 [00:00<00:00,  1.04it/s]\n",
      " 19%|█▉        | 19/100 [01:49<07:41,  5.70s/it]\n",
      "\u001b[A"
     ]
    },
    {
     "name": "stdout",
     "output_type": "stream",
     "text": [
      "/Users/mncavieres/opt/anaconda3/envs/speedytest2/lib/python3.12/site-packages/amuse/rfi/core.py:964: UserWarning: MPI (unexpectedly?) not available, falling back to sockets channel\n",
      "  warnings.warn(\"MPI (unexpectedly?) not available, falling back to sockets channel\")\n",
      "\n"
     ]
    },
    {
     "name": "stderr",
     "output_type": "stream",
     "text": [
      "\n",
      "Evolving HVSs: 100%|██████████| 1/1 [00:00<00:00,  1.00it/s]\n",
      " 20%|██        | 20/100 [01:55<07:36,  5.70s/it]\n",
      "\u001b[A"
     ]
    },
    {
     "name": "stdout",
     "output_type": "stream",
     "text": [
      "/Users/mncavieres/opt/anaconda3/envs/speedytest2/lib/python3.12/site-packages/amuse/rfi/core.py:964: UserWarning: MPI (unexpectedly?) not available, falling back to sockets channel\n",
      "  warnings.warn(\"MPI (unexpectedly?) not available, falling back to sockets channel\")\n",
      "\n"
     ]
    },
    {
     "name": "stderr",
     "output_type": "stream",
     "text": [
      "\n",
      "Evolving HVSs: 100%|██████████| 1/1 [00:00<00:00,  1.01it/s]\n",
      " 21%|██        | 21/100 [02:00<07:26,  5.66s/it]\n",
      "\u001b[A"
     ]
    },
    {
     "name": "stdout",
     "output_type": "stream",
     "text": [
      "/Users/mncavieres/opt/anaconda3/envs/speedytest2/lib/python3.12/site-packages/amuse/rfi/core.py:964: UserWarning: MPI (unexpectedly?) not available, falling back to sockets channel\n",
      "  warnings.warn(\"MPI (unexpectedly?) not available, falling back to sockets channel\")\n",
      "\n"
     ]
    },
    {
     "name": "stderr",
     "output_type": "stream",
     "text": [
      "\n",
      "Evolving HVSs: 100%|██████████| 1/1 [00:00<00:00,  1.02it/s]\n",
      " 22%|██▏       | 22/100 [02:06<07:20,  5.65s/it]\n",
      "\u001b[A"
     ]
    },
    {
     "name": "stdout",
     "output_type": "stream",
     "text": [
      "/Users/mncavieres/opt/anaconda3/envs/speedytest2/lib/python3.12/site-packages/amuse/rfi/core.py:964: UserWarning: MPI (unexpectedly?) not available, falling back to sockets channel\n",
      "  warnings.warn(\"MPI (unexpectedly?) not available, falling back to sockets channel\")\n",
      "\n"
     ]
    },
    {
     "name": "stderr",
     "output_type": "stream",
     "text": [
      "\n",
      "Evolving HVSs: 100%|██████████| 1/1 [00:01<00:00,  1.01s/it]\n",
      " 23%|██▎       | 23/100 [02:12<07:15,  5.65s/it]\n",
      "\u001b[A"
     ]
    },
    {
     "name": "stdout",
     "output_type": "stream",
     "text": [
      "/Users/mncavieres/opt/anaconda3/envs/speedytest2/lib/python3.12/site-packages/amuse/rfi/core.py:964: UserWarning: MPI (unexpectedly?) not available, falling back to sockets channel\n",
      "  warnings.warn(\"MPI (unexpectedly?) not available, falling back to sockets channel\")\n",
      "\n"
     ]
    },
    {
     "name": "stderr",
     "output_type": "stream",
     "text": [
      "\n",
      "Evolving HVSs: 100%|██████████| 1/1 [00:00<00:00,  1.01it/s]\n",
      " 24%|██▍       | 24/100 [02:17<07:08,  5.64s/it]\n",
      "\u001b[A"
     ]
    },
    {
     "name": "stdout",
     "output_type": "stream",
     "text": [
      "/Users/mncavieres/opt/anaconda3/envs/speedytest2/lib/python3.12/site-packages/amuse/rfi/core.py:964: UserWarning: MPI (unexpectedly?) not available, falling back to sockets channel\n",
      "  warnings.warn(\"MPI (unexpectedly?) not available, falling back to sockets channel\")\n",
      "\n"
     ]
    },
    {
     "name": "stderr",
     "output_type": "stream",
     "text": [
      "\n",
      "Evolving HVSs: 100%|██████████| 1/1 [00:00<00:00,  1.02it/s]\n",
      " 25%|██▌       | 25/100 [02:23<07:02,  5.63s/it]\n",
      "\u001b[A"
     ]
    },
    {
     "name": "stdout",
     "output_type": "stream",
     "text": [
      "/Users/mncavieres/opt/anaconda3/envs/speedytest2/lib/python3.12/site-packages/amuse/rfi/core.py:964: UserWarning: MPI (unexpectedly?) not available, falling back to sockets channel\n",
      "  warnings.warn(\"MPI (unexpectedly?) not available, falling back to sockets channel\")\n",
      "\n"
     ]
    },
    {
     "name": "stderr",
     "output_type": "stream",
     "text": [
      "\n",
      "Evolving HVSs: 100%|██████████| 1/1 [00:00<00:00,  1.03it/s]\n",
      " 26%|██▌       | 26/100 [02:28<06:53,  5.59s/it]\n",
      "\u001b[A"
     ]
    },
    {
     "name": "stdout",
     "output_type": "stream",
     "text": [
      "/Users/mncavieres/opt/anaconda3/envs/speedytest2/lib/python3.12/site-packages/amuse/rfi/core.py:964: UserWarning: MPI (unexpectedly?) not available, falling back to sockets channel\n",
      "  warnings.warn(\"MPI (unexpectedly?) not available, falling back to sockets channel\")\n",
      "\n"
     ]
    },
    {
     "name": "stderr",
     "output_type": "stream",
     "text": [
      "\n",
      "Evolving HVSs: 100%|██████████| 1/1 [00:00<00:00,  1.00it/s]\n",
      " 27%|██▋       | 27/100 [02:34<06:52,  5.65s/it]\n",
      "\u001b[A"
     ]
    },
    {
     "name": "stdout",
     "output_type": "stream",
     "text": [
      "/Users/mncavieres/opt/anaconda3/envs/speedytest2/lib/python3.12/site-packages/amuse/rfi/core.py:964: UserWarning: MPI (unexpectedly?) not available, falling back to sockets channel\n",
      "  warnings.warn(\"MPI (unexpectedly?) not available, falling back to sockets channel\")\n",
      "\n"
     ]
    },
    {
     "name": "stderr",
     "output_type": "stream",
     "text": [
      "\n",
      "Evolving HVSs: 100%|██████████| 1/1 [00:00<00:00,  1.06it/s]\n",
      " 28%|██▊       | 28/100 [02:40<06:48,  5.68s/it]\n",
      "\u001b[A"
     ]
    },
    {
     "name": "stdout",
     "output_type": "stream",
     "text": [
      "/Users/mncavieres/opt/anaconda3/envs/speedytest2/lib/python3.12/site-packages/amuse/rfi/core.py:964: UserWarning: MPI (unexpectedly?) not available, falling back to sockets channel\n",
      "  warnings.warn(\"MPI (unexpectedly?) not available, falling back to sockets channel\")\n",
      "\n"
     ]
    },
    {
     "name": "stderr",
     "output_type": "stream",
     "text": [
      "\n",
      "Evolving HVSs: 100%|██████████| 1/1 [00:00<00:00,  1.01it/s]\n",
      " 29%|██▉       | 29/100 [02:46<06:42,  5.67s/it]\n",
      "\u001b[A"
     ]
    },
    {
     "name": "stdout",
     "output_type": "stream",
     "text": [
      "/Users/mncavieres/opt/anaconda3/envs/speedytest2/lib/python3.12/site-packages/amuse/rfi/core.py:964: UserWarning: MPI (unexpectedly?) not available, falling back to sockets channel\n",
      "  warnings.warn(\"MPI (unexpectedly?) not available, falling back to sockets channel\")\n",
      "\n"
     ]
    },
    {
     "name": "stderr",
     "output_type": "stream",
     "text": [
      "\n",
      "Evolving HVSs: 100%|██████████| 1/1 [00:00<00:00,  1.01it/s]\n",
      " 30%|███       | 30/100 [02:51<06:37,  5.68s/it]\n",
      "\u001b[A"
     ]
    },
    {
     "name": "stdout",
     "output_type": "stream",
     "text": [
      "/Users/mncavieres/opt/anaconda3/envs/speedytest2/lib/python3.12/site-packages/amuse/rfi/core.py:964: UserWarning: MPI (unexpectedly?) not available, falling back to sockets channel\n",
      "  warnings.warn(\"MPI (unexpectedly?) not available, falling back to sockets channel\")\n",
      "\n"
     ]
    },
    {
     "name": "stderr",
     "output_type": "stream",
     "text": [
      "\n",
      "Evolving HVSs: 100%|██████████| 1/1 [00:00<00:00,  1.03it/s]\n",
      " 31%|███       | 31/100 [02:57<06:29,  5.64s/it]\n",
      "\u001b[A"
     ]
    },
    {
     "name": "stdout",
     "output_type": "stream",
     "text": [
      "/Users/mncavieres/opt/anaconda3/envs/speedytest2/lib/python3.12/site-packages/amuse/rfi/core.py:964: UserWarning: MPI (unexpectedly?) not available, falling back to sockets channel\n",
      "  warnings.warn(\"MPI (unexpectedly?) not available, falling back to sockets channel\")\n",
      "\n"
     ]
    },
    {
     "name": "stderr",
     "output_type": "stream",
     "text": [
      "\n",
      "Evolving HVSs: 100%|██████████| 1/1 [00:00<00:00,  1.04it/s]\n",
      " 32%|███▏      | 32/100 [03:02<06:20,  5.60s/it]\n",
      "\u001b[A"
     ]
    },
    {
     "name": "stdout",
     "output_type": "stream",
     "text": [
      "/Users/mncavieres/opt/anaconda3/envs/speedytest2/lib/python3.12/site-packages/amuse/rfi/core.py:964: UserWarning: MPI (unexpectedly?) not available, falling back to sockets channel\n",
      "  warnings.warn(\"MPI (unexpectedly?) not available, falling back to sockets channel\")\n",
      "\n"
     ]
    },
    {
     "name": "stderr",
     "output_type": "stream",
     "text": [
      "\n",
      "Evolving HVSs: 100%|██████████| 1/1 [00:00<00:00,  1.02it/s]\n",
      " 33%|███▎      | 33/100 [03:08<06:18,  5.65s/it]\n",
      "\u001b[A"
     ]
    },
    {
     "name": "stdout",
     "output_type": "stream",
     "text": [
      "/Users/mncavieres/opt/anaconda3/envs/speedytest2/lib/python3.12/site-packages/amuse/rfi/core.py:964: UserWarning: MPI (unexpectedly?) not available, falling back to sockets channel\n",
      "  warnings.warn(\"MPI (unexpectedly?) not available, falling back to sockets channel\")\n",
      "\n"
     ]
    },
    {
     "name": "stderr",
     "output_type": "stream",
     "text": [
      "\n",
      "Evolving HVSs: 100%|██████████| 1/1 [00:01<00:00,  1.06s/it]\n",
      " 34%|███▍      | 34/100 [03:14<06:14,  5.68s/it]\n",
      "\u001b[A"
     ]
    },
    {
     "name": "stdout",
     "output_type": "stream",
     "text": [
      "/Users/mncavieres/opt/anaconda3/envs/speedytest2/lib/python3.12/site-packages/amuse/rfi/core.py:964: UserWarning: MPI (unexpectedly?) not available, falling back to sockets channel\n",
      "  warnings.warn(\"MPI (unexpectedly?) not available, falling back to sockets channel\")\n",
      "\n"
     ]
    },
    {
     "name": "stderr",
     "output_type": "stream",
     "text": [
      "\n",
      "Evolving HVSs: 100%|██████████| 1/1 [00:00<00:00,  1.02it/s]\n",
      " 35%|███▌      | 35/100 [03:19<06:08,  5.66s/it]\n",
      "\u001b[A"
     ]
    },
    {
     "name": "stdout",
     "output_type": "stream",
     "text": [
      "/Users/mncavieres/opt/anaconda3/envs/speedytest2/lib/python3.12/site-packages/amuse/rfi/core.py:964: UserWarning: MPI (unexpectedly?) not available, falling back to sockets channel\n",
      "  warnings.warn(\"MPI (unexpectedly?) not available, falling back to sockets channel\")\n",
      "\n"
     ]
    },
    {
     "name": "stderr",
     "output_type": "stream",
     "text": [
      "\n",
      "Evolving HVSs: 100%|██████████| 1/1 [00:01<00:00,  1.00s/it]\n",
      " 36%|███▌      | 36/100 [03:25<06:02,  5.66s/it]\n",
      "\u001b[A"
     ]
    },
    {
     "name": "stdout",
     "output_type": "stream",
     "text": [
      "/Users/mncavieres/opt/anaconda3/envs/speedytest2/lib/python3.12/site-packages/amuse/rfi/core.py:964: UserWarning: MPI (unexpectedly?) not available, falling back to sockets channel\n",
      "  warnings.warn(\"MPI (unexpectedly?) not available, falling back to sockets channel\")\n",
      "\n"
     ]
    },
    {
     "name": "stderr",
     "output_type": "stream",
     "text": [
      "\n",
      "Evolving HVSs: 100%|██████████| 1/1 [00:00<00:00,  1.04it/s]\n",
      " 37%|███▋      | 37/100 [03:31<05:53,  5.61s/it]\n",
      "\u001b[A"
     ]
    },
    {
     "name": "stdout",
     "output_type": "stream",
     "text": [
      "/Users/mncavieres/opt/anaconda3/envs/speedytest2/lib/python3.12/site-packages/amuse/rfi/core.py:964: UserWarning: MPI (unexpectedly?) not available, falling back to sockets channel\n",
      "  warnings.warn(\"MPI (unexpectedly?) not available, falling back to sockets channel\")\n",
      "\n"
     ]
    },
    {
     "name": "stderr",
     "output_type": "stream",
     "text": [
      "\n",
      "Evolving HVSs: 100%|██████████| 1/1 [00:01<00:00,  1.00s/it]\n",
      " 38%|███▊      | 38/100 [03:36<05:52,  5.69s/it]\n",
      "\u001b[A"
     ]
    },
    {
     "name": "stdout",
     "output_type": "stream",
     "text": [
      "/Users/mncavieres/opt/anaconda3/envs/speedytest2/lib/python3.12/site-packages/amuse/rfi/core.py:964: UserWarning: MPI (unexpectedly?) not available, falling back to sockets channel\n",
      "  warnings.warn(\"MPI (unexpectedly?) not available, falling back to sockets channel\")\n",
      "\n"
     ]
    },
    {
     "name": "stderr",
     "output_type": "stream",
     "text": [
      "\n",
      "Evolving HVSs: 100%|██████████| 1/1 [00:00<00:00,  1.00it/s]\n",
      " 39%|███▉      | 39/100 [03:42<05:50,  5.74s/it]\n",
      "\u001b[A"
     ]
    },
    {
     "name": "stdout",
     "output_type": "stream",
     "text": [
      "/Users/mncavieres/opt/anaconda3/envs/speedytest2/lib/python3.12/site-packages/amuse/rfi/core.py:964: UserWarning: MPI (unexpectedly?) not available, falling back to sockets channel\n",
      "  warnings.warn(\"MPI (unexpectedly?) not available, falling back to sockets channel\")\n",
      "\n"
     ]
    },
    {
     "name": "stderr",
     "output_type": "stream",
     "text": [
      "\n",
      "Evolving HVSs: 100%|██████████| 1/1 [00:01<00:00,  1.06s/it]\n",
      " 40%|████      | 40/100 [03:48<05:46,  5.77s/it]\n",
      "\u001b[A"
     ]
    },
    {
     "name": "stdout",
     "output_type": "stream",
     "text": [
      "/Users/mncavieres/opt/anaconda3/envs/speedytest2/lib/python3.12/site-packages/amuse/rfi/core.py:964: UserWarning: MPI (unexpectedly?) not available, falling back to sockets channel\n",
      "  warnings.warn(\"MPI (unexpectedly?) not available, falling back to sockets channel\")\n",
      "\n"
     ]
    },
    {
     "name": "stderr",
     "output_type": "stream",
     "text": [
      "\n",
      "Evolving HVSs: 100%|██████████| 1/1 [00:00<00:00,  1.01it/s]\n",
      " 41%|████      | 41/100 [03:54<05:39,  5.75s/it]\n",
      "\u001b[A"
     ]
    },
    {
     "name": "stdout",
     "output_type": "stream",
     "text": [
      "/Users/mncavieres/opt/anaconda3/envs/speedytest2/lib/python3.12/site-packages/amuse/rfi/core.py:964: UserWarning: MPI (unexpectedly?) not available, falling back to sockets channel\n",
      "  warnings.warn(\"MPI (unexpectedly?) not available, falling back to sockets channel\")\n",
      "\n"
     ]
    },
    {
     "name": "stderr",
     "output_type": "stream",
     "text": [
      "\n",
      "Evolving HVSs: 100%|██████████| 1/1 [00:00<00:00,  1.03it/s]\n",
      " 42%|████▏     | 42/100 [04:00<05:35,  5.79s/it]\n",
      "\u001b[A"
     ]
    },
    {
     "name": "stdout",
     "output_type": "stream",
     "text": [
      "/Users/mncavieres/opt/anaconda3/envs/speedytest2/lib/python3.12/site-packages/amuse/rfi/core.py:964: UserWarning: MPI (unexpectedly?) not available, falling back to sockets channel\n",
      "  warnings.warn(\"MPI (unexpectedly?) not available, falling back to sockets channel\")\n",
      "\n"
     ]
    },
    {
     "name": "stderr",
     "output_type": "stream",
     "text": [
      "\n",
      "Evolving HVSs: 100%|██████████| 1/1 [00:00<00:00,  1.01it/s]\n",
      " 43%|████▎     | 43/100 [04:05<05:27,  5.74s/it]\n",
      "\u001b[A"
     ]
    },
    {
     "name": "stdout",
     "output_type": "stream",
     "text": [
      "/Users/mncavieres/opt/anaconda3/envs/speedytest2/lib/python3.12/site-packages/amuse/rfi/core.py:964: UserWarning: MPI (unexpectedly?) not available, falling back to sockets channel\n",
      "  warnings.warn(\"MPI (unexpectedly?) not available, falling back to sockets channel\")\n",
      "\n"
     ]
    },
    {
     "name": "stderr",
     "output_type": "stream",
     "text": [
      "\n",
      "Evolving HVSs: 100%|██████████| 1/1 [00:01<00:00,  1.02s/it]\n",
      " 44%|████▍     | 44/100 [04:11<05:27,  5.84s/it]\n",
      "\u001b[A"
     ]
    },
    {
     "name": "stdout",
     "output_type": "stream",
     "text": [
      "/Users/mncavieres/opt/anaconda3/envs/speedytest2/lib/python3.12/site-packages/amuse/rfi/core.py:964: UserWarning: MPI (unexpectedly?) not available, falling back to sockets channel\n",
      "  warnings.warn(\"MPI (unexpectedly?) not available, falling back to sockets channel\")\n",
      "\n"
     ]
    },
    {
     "name": "stderr",
     "output_type": "stream",
     "text": [
      "\n",
      "Evolving HVSs: 100%|██████████| 1/1 [00:00<00:00,  1.02it/s]\n",
      " 45%|████▌     | 45/100 [04:17<05:17,  5.77s/it]\n",
      "\u001b[A"
     ]
    },
    {
     "name": "stdout",
     "output_type": "stream",
     "text": [
      "/Users/mncavieres/opt/anaconda3/envs/speedytest2/lib/python3.12/site-packages/amuse/rfi/core.py:964: UserWarning: MPI (unexpectedly?) not available, falling back to sockets channel\n",
      "  warnings.warn(\"MPI (unexpectedly?) not available, falling back to sockets channel\")\n",
      "\n"
     ]
    },
    {
     "name": "stderr",
     "output_type": "stream",
     "text": [
      "\n",
      "Evolving HVSs: 100%|██████████| 1/1 [00:00<00:00,  1.00it/s]\n",
      " 46%|████▌     | 46/100 [04:23<05:12,  5.79s/it]\n",
      "\u001b[A"
     ]
    },
    {
     "name": "stdout",
     "output_type": "stream",
     "text": [
      "/Users/mncavieres/opt/anaconda3/envs/speedytest2/lib/python3.12/site-packages/amuse/rfi/core.py:964: UserWarning: MPI (unexpectedly?) not available, falling back to sockets channel\n",
      "  warnings.warn(\"MPI (unexpectedly?) not available, falling back to sockets channel\")\n",
      "\n"
     ]
    },
    {
     "name": "stderr",
     "output_type": "stream",
     "text": [
      "\n",
      "Evolving HVSs: 100%|██████████| 1/1 [00:00<00:00,  1.04it/s]\n",
      " 47%|████▋     | 47/100 [04:29<05:04,  5.74s/it]\n",
      "\u001b[A"
     ]
    },
    {
     "name": "stdout",
     "output_type": "stream",
     "text": [
      "/Users/mncavieres/opt/anaconda3/envs/speedytest2/lib/python3.12/site-packages/amuse/rfi/core.py:964: UserWarning: MPI (unexpectedly?) not available, falling back to sockets channel\n",
      "  warnings.warn(\"MPI (unexpectedly?) not available, falling back to sockets channel\")\n",
      "\n"
     ]
    },
    {
     "name": "stderr",
     "output_type": "stream",
     "text": [
      "\n",
      "Evolving HVSs: 100%|██████████| 1/1 [00:00<00:00,  1.02it/s]\n",
      " 48%|████▊     | 48/100 [04:34<04:57,  5.72s/it]\n",
      "\u001b[A"
     ]
    },
    {
     "name": "stdout",
     "output_type": "stream",
     "text": [
      "/Users/mncavieres/opt/anaconda3/envs/speedytest2/lib/python3.12/site-packages/amuse/rfi/core.py:964: UserWarning: MPI (unexpectedly?) not available, falling back to sockets channel\n",
      "  warnings.warn(\"MPI (unexpectedly?) not available, falling back to sockets channel\")\n",
      "\n"
     ]
    },
    {
     "name": "stderr",
     "output_type": "stream",
     "text": [
      "\n",
      "Evolving HVSs: 100%|██████████| 1/1 [00:00<00:00,  1.01it/s]\n",
      " 49%|████▉     | 49/100 [04:40<04:52,  5.73s/it]\n",
      "\u001b[A"
     ]
    },
    {
     "name": "stdout",
     "output_type": "stream",
     "text": [
      "/Users/mncavieres/opt/anaconda3/envs/speedytest2/lib/python3.12/site-packages/amuse/rfi/core.py:964: UserWarning: MPI (unexpectedly?) not available, falling back to sockets channel\n",
      "  warnings.warn(\"MPI (unexpectedly?) not available, falling back to sockets channel\")\n",
      "\n"
     ]
    },
    {
     "name": "stderr",
     "output_type": "stream",
     "text": [
      "\n",
      "Evolving HVSs: 100%|██████████| 1/1 [00:00<00:00,  1.05it/s]\n",
      " 50%|█████     | 50/100 [04:45<04:42,  5.65s/it]\n",
      "\u001b[A"
     ]
    },
    {
     "name": "stdout",
     "output_type": "stream",
     "text": [
      "/Users/mncavieres/opt/anaconda3/envs/speedytest2/lib/python3.12/site-packages/amuse/rfi/core.py:964: UserWarning: MPI (unexpectedly?) not available, falling back to sockets channel\n",
      "  warnings.warn(\"MPI (unexpectedly?) not available, falling back to sockets channel\")\n",
      "\n"
     ]
    },
    {
     "name": "stderr",
     "output_type": "stream",
     "text": [
      "\n",
      "Evolving HVSs: 100%|██████████| 1/1 [00:00<00:00,  1.05it/s]\n",
      " 51%|█████     | 51/100 [04:51<04:34,  5.60s/it]\n",
      "\u001b[A"
     ]
    },
    {
     "name": "stdout",
     "output_type": "stream",
     "text": [
      "/Users/mncavieres/opt/anaconda3/envs/speedytest2/lib/python3.12/site-packages/amuse/rfi/core.py:964: UserWarning: MPI (unexpectedly?) not available, falling back to sockets channel\n",
      "  warnings.warn(\"MPI (unexpectedly?) not available, falling back to sockets channel\")\n",
      "\n"
     ]
    },
    {
     "name": "stderr",
     "output_type": "stream",
     "text": [
      "\n",
      "Evolving HVSs: 100%|██████████| 1/1 [00:00<00:00,  1.03it/s]\n",
      " 52%|█████▏    | 52/100 [04:56<04:27,  5.57s/it]\n",
      "\u001b[A"
     ]
    },
    {
     "name": "stdout",
     "output_type": "stream",
     "text": [
      "/Users/mncavieres/opt/anaconda3/envs/speedytest2/lib/python3.12/site-packages/amuse/rfi/core.py:964: UserWarning: MPI (unexpectedly?) not available, falling back to sockets channel\n",
      "  warnings.warn(\"MPI (unexpectedly?) not available, falling back to sockets channel\")\n",
      "\n"
     ]
    },
    {
     "name": "stderr",
     "output_type": "stream",
     "text": [
      "\n",
      "Evolving HVSs: 100%|██████████| 1/1 [00:01<00:00,  1.03s/it]\n",
      " 53%|█████▎    | 53/100 [05:02<04:22,  5.59s/it]\n",
      "\u001b[A"
     ]
    },
    {
     "name": "stdout",
     "output_type": "stream",
     "text": [
      "/Users/mncavieres/opt/anaconda3/envs/speedytest2/lib/python3.12/site-packages/amuse/rfi/core.py:964: UserWarning: MPI (unexpectedly?) not available, falling back to sockets channel\n",
      "  warnings.warn(\"MPI (unexpectedly?) not available, falling back to sockets channel\")\n",
      "\n"
     ]
    },
    {
     "name": "stderr",
     "output_type": "stream",
     "text": [
      "\n",
      "Evolving HVSs: 100%|██████████| 1/1 [00:00<00:00,  1.02it/s]\n",
      " 54%|█████▍    | 54/100 [05:08<04:16,  5.57s/it]\n",
      "\u001b[A"
     ]
    },
    {
     "name": "stdout",
     "output_type": "stream",
     "text": [
      "/Users/mncavieres/opt/anaconda3/envs/speedytest2/lib/python3.12/site-packages/amuse/rfi/core.py:964: UserWarning: MPI (unexpectedly?) not available, falling back to sockets channel\n",
      "  warnings.warn(\"MPI (unexpectedly?) not available, falling back to sockets channel\")\n",
      "\n"
     ]
    },
    {
     "name": "stderr",
     "output_type": "stream",
     "text": [
      "\n",
      "Evolving HVSs: 100%|██████████| 1/1 [00:00<00:00,  1.01it/s]\n",
      " 55%|█████▌    | 55/100 [05:13<04:11,  5.59s/it]\n",
      "\u001b[A"
     ]
    },
    {
     "name": "stdout",
     "output_type": "stream",
     "text": [
      "/Users/mncavieres/opt/anaconda3/envs/speedytest2/lib/python3.12/site-packages/amuse/rfi/core.py:964: UserWarning: MPI (unexpectedly?) not available, falling back to sockets channel\n",
      "  warnings.warn(\"MPI (unexpectedly?) not available, falling back to sockets channel\")\n",
      "\n"
     ]
    },
    {
     "name": "stderr",
     "output_type": "stream",
     "text": [
      "\n",
      "Evolving HVSs: 100%|██████████| 1/1 [00:00<00:00,  1.00it/s]\n",
      " 56%|█████▌    | 56/100 [05:19<04:06,  5.61s/it]\n",
      "\u001b[A"
     ]
    },
    {
     "name": "stdout",
     "output_type": "stream",
     "text": [
      "/Users/mncavieres/opt/anaconda3/envs/speedytest2/lib/python3.12/site-packages/amuse/rfi/core.py:964: UserWarning: MPI (unexpectedly?) not available, falling back to sockets channel\n",
      "  warnings.warn(\"MPI (unexpectedly?) not available, falling back to sockets channel\")\n",
      "\n"
     ]
    },
    {
     "name": "stderr",
     "output_type": "stream",
     "text": [
      "\n",
      "Evolving HVSs: 100%|██████████| 1/1 [00:00<00:00,  1.06it/s]\n",
      " 57%|█████▋    | 57/100 [05:24<03:59,  5.56s/it]\n",
      "\u001b[A"
     ]
    },
    {
     "name": "stdout",
     "output_type": "stream",
     "text": [
      "/Users/mncavieres/opt/anaconda3/envs/speedytest2/lib/python3.12/site-packages/amuse/rfi/core.py:964: UserWarning: MPI (unexpectedly?) not available, falling back to sockets channel\n",
      "  warnings.warn(\"MPI (unexpectedly?) not available, falling back to sockets channel\")\n",
      "\n"
     ]
    },
    {
     "name": "stderr",
     "output_type": "stream",
     "text": [
      "\n",
      "Evolving HVSs: 100%|██████████| 1/1 [00:00<00:00,  1.06it/s]\n",
      " 58%|█████▊    | 58/100 [05:30<03:53,  5.56s/it]\n",
      "\u001b[A"
     ]
    },
    {
     "name": "stdout",
     "output_type": "stream",
     "text": [
      "/Users/mncavieres/opt/anaconda3/envs/speedytest2/lib/python3.12/site-packages/amuse/rfi/core.py:964: UserWarning: MPI (unexpectedly?) not available, falling back to sockets channel\n",
      "  warnings.warn(\"MPI (unexpectedly?) not available, falling back to sockets channel\")\n",
      "\n"
     ]
    },
    {
     "name": "stderr",
     "output_type": "stream",
     "text": [
      "\n",
      "Evolving HVSs: 100%|██████████| 1/1 [00:00<00:00,  1.04it/s]\n",
      " 59%|█████▉    | 59/100 [05:35<03:48,  5.57s/it]\n",
      "\u001b[A"
     ]
    },
    {
     "name": "stdout",
     "output_type": "stream",
     "text": [
      "/Users/mncavieres/opt/anaconda3/envs/speedytest2/lib/python3.12/site-packages/amuse/rfi/core.py:964: UserWarning: MPI (unexpectedly?) not available, falling back to sockets channel\n",
      "  warnings.warn(\"MPI (unexpectedly?) not available, falling back to sockets channel\")\n",
      "\n"
     ]
    },
    {
     "name": "stderr",
     "output_type": "stream",
     "text": [
      "\n",
      "Evolving HVSs: 100%|██████████| 1/1 [00:00<00:00,  1.01it/s]\n",
      " 60%|██████    | 60/100 [05:41<03:43,  5.59s/it]\n",
      "\u001b[A"
     ]
    },
    {
     "name": "stdout",
     "output_type": "stream",
     "text": [
      "/Users/mncavieres/opt/anaconda3/envs/speedytest2/lib/python3.12/site-packages/amuse/rfi/core.py:964: UserWarning: MPI (unexpectedly?) not available, falling back to sockets channel\n",
      "  warnings.warn(\"MPI (unexpectedly?) not available, falling back to sockets channel\")\n",
      "\n"
     ]
    },
    {
     "name": "stderr",
     "output_type": "stream",
     "text": [
      "\n",
      "Evolving HVSs: 100%|██████████| 1/1 [00:00<00:00,  1.00it/s]\n",
      " 61%|██████    | 61/100 [05:47<03:38,  5.60s/it]\n",
      "\u001b[A"
     ]
    },
    {
     "name": "stdout",
     "output_type": "stream",
     "text": [
      "/Users/mncavieres/opt/anaconda3/envs/speedytest2/lib/python3.12/site-packages/amuse/rfi/core.py:964: UserWarning: MPI (unexpectedly?) not available, falling back to sockets channel\n",
      "  warnings.warn(\"MPI (unexpectedly?) not available, falling back to sockets channel\")\n",
      "\n"
     ]
    },
    {
     "name": "stderr",
     "output_type": "stream",
     "text": [
      "\n",
      "Evolving HVSs: 100%|██████████| 1/1 [00:00<00:00,  1.02it/s]\n",
      " 62%|██████▏   | 62/100 [05:52<03:33,  5.61s/it]\n",
      "\u001b[A"
     ]
    },
    {
     "name": "stdout",
     "output_type": "stream",
     "text": [
      "/Users/mncavieres/opt/anaconda3/envs/speedytest2/lib/python3.12/site-packages/amuse/rfi/core.py:964: UserWarning: MPI (unexpectedly?) not available, falling back to sockets channel\n",
      "  warnings.warn(\"MPI (unexpectedly?) not available, falling back to sockets channel\")\n",
      "\n"
     ]
    },
    {
     "name": "stderr",
     "output_type": "stream",
     "text": [
      "\n",
      "Evolving HVSs: 100%|██████████| 1/1 [00:00<00:00,  1.04it/s]\n",
      " 63%|██████▎   | 63/100 [05:58<03:26,  5.59s/it]\n",
      "\u001b[A"
     ]
    },
    {
     "name": "stdout",
     "output_type": "stream",
     "text": [
      "/Users/mncavieres/opt/anaconda3/envs/speedytest2/lib/python3.12/site-packages/amuse/rfi/core.py:964: UserWarning: MPI (unexpectedly?) not available, falling back to sockets channel\n",
      "  warnings.warn(\"MPI (unexpectedly?) not available, falling back to sockets channel\")\n",
      "\n"
     ]
    },
    {
     "name": "stderr",
     "output_type": "stream",
     "text": [
      "\n",
      "Evolving HVSs: 100%|██████████| 1/1 [00:00<00:00,  1.02it/s]\n",
      " 64%|██████▍   | 64/100 [06:03<03:21,  5.60s/it]\n",
      "\u001b[A"
     ]
    },
    {
     "name": "stdout",
     "output_type": "stream",
     "text": [
      "/Users/mncavieres/opt/anaconda3/envs/speedytest2/lib/python3.12/site-packages/amuse/rfi/core.py:964: UserWarning: MPI (unexpectedly?) not available, falling back to sockets channel\n",
      "  warnings.warn(\"MPI (unexpectedly?) not available, falling back to sockets channel\")\n",
      "\n"
     ]
    },
    {
     "name": "stderr",
     "output_type": "stream",
     "text": [
      "\n",
      "Evolving HVSs: 100%|██████████| 1/1 [00:00<00:00,  1.03it/s]\n",
      " 65%|██████▌   | 65/100 [06:09<03:15,  5.59s/it]\n",
      "\u001b[A"
     ]
    },
    {
     "name": "stdout",
     "output_type": "stream",
     "text": [
      "/Users/mncavieres/opt/anaconda3/envs/speedytest2/lib/python3.12/site-packages/amuse/rfi/core.py:964: UserWarning: MPI (unexpectedly?) not available, falling back to sockets channel\n",
      "  warnings.warn(\"MPI (unexpectedly?) not available, falling back to sockets channel\")\n",
      "\n"
     ]
    },
    {
     "name": "stderr",
     "output_type": "stream",
     "text": [
      "\n",
      "Evolving HVSs: 100%|██████████| 1/1 [00:00<00:00,  1.04it/s]\n",
      " 66%|██████▌   | 66/100 [06:15<03:09,  5.57s/it]\n",
      "\u001b[A"
     ]
    },
    {
     "name": "stdout",
     "output_type": "stream",
     "text": [
      "/Users/mncavieres/opt/anaconda3/envs/speedytest2/lib/python3.12/site-packages/amuse/rfi/core.py:964: UserWarning: MPI (unexpectedly?) not available, falling back to sockets channel\n",
      "  warnings.warn(\"MPI (unexpectedly?) not available, falling back to sockets channel\")\n",
      "\n"
     ]
    },
    {
     "name": "stderr",
     "output_type": "stream",
     "text": [
      "\n",
      "Evolving HVSs: 100%|██████████| 1/1 [00:01<00:00,  1.03s/it]\n",
      " 67%|██████▋   | 67/100 [06:20<03:05,  5.61s/it]\n",
      "\u001b[A"
     ]
    },
    {
     "name": "stdout",
     "output_type": "stream",
     "text": [
      "/Users/mncavieres/opt/anaconda3/envs/speedytest2/lib/python3.12/site-packages/amuse/rfi/core.py:964: UserWarning: MPI (unexpectedly?) not available, falling back to sockets channel\n",
      "  warnings.warn(\"MPI (unexpectedly?) not available, falling back to sockets channel\")\n",
      "\n"
     ]
    },
    {
     "name": "stderr",
     "output_type": "stream",
     "text": [
      "\n",
      "Evolving HVSs: 100%|██████████| 1/1 [00:00<00:00,  1.04it/s]\n",
      " 68%|██████▊   | 68/100 [06:26<03:00,  5.63s/it]\n",
      "\u001b[A"
     ]
    },
    {
     "name": "stdout",
     "output_type": "stream",
     "text": [
      "/Users/mncavieres/opt/anaconda3/envs/speedytest2/lib/python3.12/site-packages/amuse/rfi/core.py:964: UserWarning: MPI (unexpectedly?) not available, falling back to sockets channel\n",
      "  warnings.warn(\"MPI (unexpectedly?) not available, falling back to sockets channel\")\n",
      "\n"
     ]
    },
    {
     "name": "stderr",
     "output_type": "stream",
     "text": [
      "\n",
      "Evolving HVSs: 100%|██████████| 1/1 [00:01<00:00,  1.03s/it]\n",
      " 69%|██████▉   | 69/100 [06:32<02:56,  5.68s/it]\n",
      "\u001b[A"
     ]
    },
    {
     "name": "stdout",
     "output_type": "stream",
     "text": [
      "/Users/mncavieres/opt/anaconda3/envs/speedytest2/lib/python3.12/site-packages/amuse/rfi/core.py:964: UserWarning: MPI (unexpectedly?) not available, falling back to sockets channel\n",
      "  warnings.warn(\"MPI (unexpectedly?) not available, falling back to sockets channel\")\n",
      "\n"
     ]
    },
    {
     "name": "stderr",
     "output_type": "stream",
     "text": [
      "\n",
      "Evolving HVSs: 100%|██████████| 1/1 [00:00<00:00,  1.04it/s]\n",
      " 70%|███████   | 70/100 [06:38<02:51,  5.72s/it]\n",
      "\u001b[A"
     ]
    },
    {
     "name": "stdout",
     "output_type": "stream",
     "text": [
      "/Users/mncavieres/opt/anaconda3/envs/speedytest2/lib/python3.12/site-packages/amuse/rfi/core.py:964: UserWarning: MPI (unexpectedly?) not available, falling back to sockets channel\n",
      "  warnings.warn(\"MPI (unexpectedly?) not available, falling back to sockets channel\")\n",
      "\n"
     ]
    },
    {
     "name": "stderr",
     "output_type": "stream",
     "text": [
      "\n",
      "Evolving HVSs: 100%|██████████| 1/1 [00:00<00:00,  1.04it/s]\n",
      " 71%|███████   | 71/100 [06:43<02:44,  5.69s/it]\n",
      "\u001b[A"
     ]
    },
    {
     "name": "stdout",
     "output_type": "stream",
     "text": [
      "/Users/mncavieres/opt/anaconda3/envs/speedytest2/lib/python3.12/site-packages/amuse/rfi/core.py:964: UserWarning: MPI (unexpectedly?) not available, falling back to sockets channel\n",
      "  warnings.warn(\"MPI (unexpectedly?) not available, falling back to sockets channel\")\n",
      "\n"
     ]
    },
    {
     "name": "stderr",
     "output_type": "stream",
     "text": [
      "\n",
      "Evolving HVSs: 100%|██████████| 1/1 [00:01<00:00,  1.01s/it]\n",
      " 72%|███████▏  | 72/100 [06:49<02:40,  5.74s/it]\n",
      "\u001b[A"
     ]
    },
    {
     "name": "stdout",
     "output_type": "stream",
     "text": [
      "/Users/mncavieres/opt/anaconda3/envs/speedytest2/lib/python3.12/site-packages/amuse/rfi/core.py:964: UserWarning: MPI (unexpectedly?) not available, falling back to sockets channel\n",
      "  warnings.warn(\"MPI (unexpectedly?) not available, falling back to sockets channel\")\n",
      "\n"
     ]
    },
    {
     "name": "stderr",
     "output_type": "stream",
     "text": [
      "\n",
      "Evolving HVSs: 100%|██████████| 1/1 [00:00<00:00,  1.03it/s]\n",
      " 73%|███████▎  | 73/100 [06:55<02:33,  5.69s/it]\n",
      "\u001b[A"
     ]
    },
    {
     "name": "stdout",
     "output_type": "stream",
     "text": [
      "/Users/mncavieres/opt/anaconda3/envs/speedytest2/lib/python3.12/site-packages/amuse/rfi/core.py:964: UserWarning: MPI (unexpectedly?) not available, falling back to sockets channel\n",
      "  warnings.warn(\"MPI (unexpectedly?) not available, falling back to sockets channel\")\n",
      "\n"
     ]
    },
    {
     "name": "stderr",
     "output_type": "stream",
     "text": [
      "\n",
      "Evolving HVSs: 100%|██████████| 1/1 [00:00<00:00,  1.02it/s]\n",
      " 74%|███████▍  | 74/100 [07:01<02:30,  5.78s/it]\n",
      "\u001b[A"
     ]
    },
    {
     "name": "stdout",
     "output_type": "stream",
     "text": [
      "/Users/mncavieres/opt/anaconda3/envs/speedytest2/lib/python3.12/site-packages/amuse/rfi/core.py:964: UserWarning: MPI (unexpectedly?) not available, falling back to sockets channel\n",
      "  warnings.warn(\"MPI (unexpectedly?) not available, falling back to sockets channel\")\n",
      "\n"
     ]
    },
    {
     "name": "stderr",
     "output_type": "stream",
     "text": [
      "\n",
      "Evolving HVSs: 100%|██████████| 1/1 [00:01<00:00,  1.00s/it]\n",
      " 75%|███████▌  | 75/100 [07:06<02:23,  5.74s/it]\n",
      "\u001b[A"
     ]
    },
    {
     "name": "stdout",
     "output_type": "stream",
     "text": [
      "/Users/mncavieres/opt/anaconda3/envs/speedytest2/lib/python3.12/site-packages/amuse/rfi/core.py:964: UserWarning: MPI (unexpectedly?) not available, falling back to sockets channel\n",
      "  warnings.warn(\"MPI (unexpectedly?) not available, falling back to sockets channel\")\n",
      "\n"
     ]
    },
    {
     "name": "stderr",
     "output_type": "stream",
     "text": [
      "\n",
      "Evolving HVSs: 100%|██████████| 1/1 [00:00<00:00,  1.05it/s]\n",
      " 76%|███████▌  | 76/100 [07:12<02:16,  5.69s/it]\n",
      "\u001b[A"
     ]
    },
    {
     "name": "stdout",
     "output_type": "stream",
     "text": [
      "/Users/mncavieres/opt/anaconda3/envs/speedytest2/lib/python3.12/site-packages/amuse/rfi/core.py:964: UserWarning: MPI (unexpectedly?) not available, falling back to sockets channel\n",
      "  warnings.warn(\"MPI (unexpectedly?) not available, falling back to sockets channel\")\n",
      "\n"
     ]
    },
    {
     "name": "stderr",
     "output_type": "stream",
     "text": [
      "\n",
      "Evolving HVSs: 100%|██████████| 1/1 [00:00<00:00,  1.05it/s]\n",
      " 77%|███████▋  | 77/100 [07:17<02:10,  5.67s/it]\n",
      "\u001b[A"
     ]
    },
    {
     "name": "stdout",
     "output_type": "stream",
     "text": [
      "/Users/mncavieres/opt/anaconda3/envs/speedytest2/lib/python3.12/site-packages/amuse/rfi/core.py:964: UserWarning: MPI (unexpectedly?) not available, falling back to sockets channel\n",
      "  warnings.warn(\"MPI (unexpectedly?) not available, falling back to sockets channel\")\n",
      "\n"
     ]
    },
    {
     "name": "stderr",
     "output_type": "stream",
     "text": [
      "\n",
      "Evolving HVSs: 100%|██████████| 1/1 [00:00<00:00,  1.02it/s]\n",
      " 78%|███████▊  | 78/100 [07:23<02:04,  5.65s/it]\n",
      "\u001b[A"
     ]
    },
    {
     "name": "stdout",
     "output_type": "stream",
     "text": [
      "/Users/mncavieres/opt/anaconda3/envs/speedytest2/lib/python3.12/site-packages/amuse/rfi/core.py:964: UserWarning: MPI (unexpectedly?) not available, falling back to sockets channel\n",
      "  warnings.warn(\"MPI (unexpectedly?) not available, falling back to sockets channel\")\n",
      "\n"
     ]
    },
    {
     "name": "stderr",
     "output_type": "stream",
     "text": [
      "\n",
      "Evolving HVSs: 100%|██████████| 1/1 [00:00<00:00,  1.01it/s]\n",
      " 79%|███████▉  | 79/100 [07:29<01:58,  5.62s/it]\n",
      "\u001b[A"
     ]
    },
    {
     "name": "stdout",
     "output_type": "stream",
     "text": [
      "/Users/mncavieres/opt/anaconda3/envs/speedytest2/lib/python3.12/site-packages/amuse/rfi/core.py:964: UserWarning: MPI (unexpectedly?) not available, falling back to sockets channel\n",
      "  warnings.warn(\"MPI (unexpectedly?) not available, falling back to sockets channel\")\n",
      "\n"
     ]
    },
    {
     "name": "stderr",
     "output_type": "stream",
     "text": [
      "\n",
      "Evolving HVSs: 100%|██████████| 1/1 [00:00<00:00,  1.04it/s]\n",
      " 80%|████████  | 80/100 [07:34<01:50,  5.54s/it]\n",
      "\u001b[A"
     ]
    },
    {
     "name": "stdout",
     "output_type": "stream",
     "text": [
      "/Users/mncavieres/opt/anaconda3/envs/speedytest2/lib/python3.12/site-packages/amuse/rfi/core.py:964: UserWarning: MPI (unexpectedly?) not available, falling back to sockets channel\n",
      "  warnings.warn(\"MPI (unexpectedly?) not available, falling back to sockets channel\")\n",
      "\n"
     ]
    },
    {
     "name": "stderr",
     "output_type": "stream",
     "text": [
      "\n",
      "Evolving HVSs: 100%|██████████| 1/1 [00:00<00:00,  1.03it/s]\n",
      " 81%|████████  | 81/100 [07:40<01:45,  5.57s/it]\n",
      "\u001b[A"
     ]
    },
    {
     "name": "stdout",
     "output_type": "stream",
     "text": [
      "/Users/mncavieres/opt/anaconda3/envs/speedytest2/lib/python3.12/site-packages/amuse/rfi/core.py:964: UserWarning: MPI (unexpectedly?) not available, falling back to sockets channel\n",
      "  warnings.warn(\"MPI (unexpectedly?) not available, falling back to sockets channel\")\n",
      "\n"
     ]
    },
    {
     "name": "stderr",
     "output_type": "stream",
     "text": [
      "\n",
      "Evolving HVSs: 100%|██████████| 1/1 [00:00<00:00,  1.03it/s]\n",
      " 82%|████████▏ | 82/100 [07:45<01:41,  5.62s/it]\n",
      "\u001b[A"
     ]
    },
    {
     "name": "stdout",
     "output_type": "stream",
     "text": [
      "/Users/mncavieres/opt/anaconda3/envs/speedytest2/lib/python3.12/site-packages/amuse/rfi/core.py:964: UserWarning: MPI (unexpectedly?) not available, falling back to sockets channel\n",
      "  warnings.warn(\"MPI (unexpectedly?) not available, falling back to sockets channel\")\n",
      "\n"
     ]
    },
    {
     "name": "stderr",
     "output_type": "stream",
     "text": [
      "\n",
      "Evolving HVSs: 100%|██████████| 1/1 [00:00<00:00,  1.06it/s]\n",
      " 83%|████████▎ | 83/100 [07:51<01:35,  5.59s/it]\n",
      "\u001b[A"
     ]
    },
    {
     "name": "stdout",
     "output_type": "stream",
     "text": [
      "/Users/mncavieres/opt/anaconda3/envs/speedytest2/lib/python3.12/site-packages/amuse/rfi/core.py:964: UserWarning: MPI (unexpectedly?) not available, falling back to sockets channel\n",
      "  warnings.warn(\"MPI (unexpectedly?) not available, falling back to sockets channel\")\n",
      "\n"
     ]
    },
    {
     "name": "stderr",
     "output_type": "stream",
     "text": [
      "\n",
      "Evolving HVSs: 100%|██████████| 1/1 [00:00<00:00,  1.04it/s]\n",
      " 84%|████████▍ | 84/100 [07:57<01:29,  5.61s/it]\n",
      "\u001b[A"
     ]
    },
    {
     "name": "stdout",
     "output_type": "stream",
     "text": [
      "/Users/mncavieres/opt/anaconda3/envs/speedytest2/lib/python3.12/site-packages/amuse/rfi/core.py:964: UserWarning: MPI (unexpectedly?) not available, falling back to sockets channel\n",
      "  warnings.warn(\"MPI (unexpectedly?) not available, falling back to sockets channel\")\n",
      "\n"
     ]
    },
    {
     "name": "stderr",
     "output_type": "stream",
     "text": [
      "\n",
      "Evolving HVSs: 100%|██████████| 1/1 [00:01<00:00,  1.12s/it]\n",
      " 85%|████████▌ | 85/100 [08:02<01:25,  5.69s/it]\n",
      "\u001b[A"
     ]
    },
    {
     "name": "stdout",
     "output_type": "stream",
     "text": [
      "/Users/mncavieres/opt/anaconda3/envs/speedytest2/lib/python3.12/site-packages/amuse/rfi/core.py:964: UserWarning: MPI (unexpectedly?) not available, falling back to sockets channel\n",
      "  warnings.warn(\"MPI (unexpectedly?) not available, falling back to sockets channel\")\n",
      "\n"
     ]
    },
    {
     "name": "stderr",
     "output_type": "stream",
     "text": [
      "\n",
      "Evolving HVSs: 100%|██████████| 1/1 [00:01<00:00,  1.02s/it]\n",
      " 86%|████████▌ | 86/100 [08:09<01:21,  5.85s/it]\n",
      "\u001b[A"
     ]
    },
    {
     "name": "stdout",
     "output_type": "stream",
     "text": [
      "/Users/mncavieres/opt/anaconda3/envs/speedytest2/lib/python3.12/site-packages/amuse/rfi/core.py:964: UserWarning: MPI (unexpectedly?) not available, falling back to sockets channel\n",
      "  warnings.warn(\"MPI (unexpectedly?) not available, falling back to sockets channel\")\n",
      "\n"
     ]
    },
    {
     "name": "stderr",
     "output_type": "stream",
     "text": [
      "\n",
      "Evolving HVSs: 100%|██████████| 1/1 [00:00<00:00,  1.02it/s]\n",
      " 87%|████████▋ | 87/100 [08:15<01:16,  5.90s/it]\n",
      "\u001b[A"
     ]
    },
    {
     "name": "stdout",
     "output_type": "stream",
     "text": [
      "/Users/mncavieres/opt/anaconda3/envs/speedytest2/lib/python3.12/site-packages/amuse/rfi/core.py:964: UserWarning: MPI (unexpectedly?) not available, falling back to sockets channel\n",
      "  warnings.warn(\"MPI (unexpectedly?) not available, falling back to sockets channel\")\n",
      "\n"
     ]
    },
    {
     "name": "stderr",
     "output_type": "stream",
     "text": [
      "\n",
      "Evolving HVSs: 100%|██████████| 1/1 [00:01<00:00,  1.05s/it]\n",
      " 88%|████████▊ | 88/100 [08:21<01:10,  5.89s/it]\n",
      "\u001b[A"
     ]
    },
    {
     "name": "stdout",
     "output_type": "stream",
     "text": [
      "/Users/mncavieres/opt/anaconda3/envs/speedytest2/lib/python3.12/site-packages/amuse/rfi/core.py:964: UserWarning: MPI (unexpectedly?) not available, falling back to sockets channel\n",
      "  warnings.warn(\"MPI (unexpectedly?) not available, falling back to sockets channel\")\n",
      "\n"
     ]
    },
    {
     "name": "stderr",
     "output_type": "stream",
     "text": [
      "\n",
      "Evolving HVSs: 100%|██████████| 1/1 [00:00<00:00,  1.01it/s]\n",
      " 89%|████████▉ | 89/100 [08:26<01:05,  5.92s/it]\n",
      "\u001b[A"
     ]
    },
    {
     "name": "stdout",
     "output_type": "stream",
     "text": [
      "/Users/mncavieres/opt/anaconda3/envs/speedytest2/lib/python3.12/site-packages/amuse/rfi/core.py:964: UserWarning: MPI (unexpectedly?) not available, falling back to sockets channel\n",
      "  warnings.warn(\"MPI (unexpectedly?) not available, falling back to sockets channel\")\n",
      "\n"
     ]
    },
    {
     "name": "stderr",
     "output_type": "stream",
     "text": [
      "\n",
      "Evolving HVSs: 100%|██████████| 1/1 [00:00<00:00,  1.01it/s]\n",
      " 90%|█████████ | 90/100 [08:32<00:58,  5.82s/it]\n",
      "\u001b[A"
     ]
    },
    {
     "name": "stdout",
     "output_type": "stream",
     "text": [
      "/Users/mncavieres/opt/anaconda3/envs/speedytest2/lib/python3.12/site-packages/amuse/rfi/core.py:964: UserWarning: MPI (unexpectedly?) not available, falling back to sockets channel\n",
      "  warnings.warn(\"MPI (unexpectedly?) not available, falling back to sockets channel\")\n",
      "\n"
     ]
    },
    {
     "name": "stderr",
     "output_type": "stream",
     "text": [
      "\n",
      "Evolving HVSs: 100%|██████████| 1/1 [00:00<00:00,  1.02it/s]\n",
      " 91%|█████████ | 91/100 [08:38<00:52,  5.80s/it]\n",
      "\u001b[A"
     ]
    },
    {
     "name": "stdout",
     "output_type": "stream",
     "text": [
      "/Users/mncavieres/opt/anaconda3/envs/speedytest2/lib/python3.12/site-packages/amuse/rfi/core.py:964: UserWarning: MPI (unexpectedly?) not available, falling back to sockets channel\n",
      "  warnings.warn(\"MPI (unexpectedly?) not available, falling back to sockets channel\")\n",
      "\n"
     ]
    },
    {
     "name": "stderr",
     "output_type": "stream",
     "text": [
      "\n",
      "Evolving HVSs: 100%|██████████| 1/1 [00:00<00:00,  1.04it/s]\n",
      " 92%|█████████▏| 92/100 [08:43<00:46,  5.75s/it]\n",
      "\u001b[A"
     ]
    },
    {
     "name": "stdout",
     "output_type": "stream",
     "text": [
      "/Users/mncavieres/opt/anaconda3/envs/speedytest2/lib/python3.12/site-packages/amuse/rfi/core.py:964: UserWarning: MPI (unexpectedly?) not available, falling back to sockets channel\n",
      "  warnings.warn(\"MPI (unexpectedly?) not available, falling back to sockets channel\")\n",
      "\n"
     ]
    },
    {
     "name": "stderr",
     "output_type": "stream",
     "text": [
      "\n",
      "Evolving HVSs: 100%|██████████| 1/1 [00:01<00:00,  1.11s/it]\n",
      " 93%|█████████▎| 93/100 [08:49<00:40,  5.75s/it]\n",
      "\u001b[A"
     ]
    },
    {
     "name": "stdout",
     "output_type": "stream",
     "text": [
      "/Users/mncavieres/opt/anaconda3/envs/speedytest2/lib/python3.12/site-packages/amuse/rfi/core.py:964: UserWarning: MPI (unexpectedly?) not available, falling back to sockets channel\n",
      "  warnings.warn(\"MPI (unexpectedly?) not available, falling back to sockets channel\")\n",
      "\n"
     ]
    },
    {
     "name": "stderr",
     "output_type": "stream",
     "text": [
      "\n",
      "Evolving HVSs: 100%|██████████| 1/1 [00:01<00:00,  1.04s/it]\n",
      " 94%|█████████▍| 94/100 [08:55<00:34,  5.80s/it]\n",
      "\u001b[A"
     ]
    },
    {
     "name": "stdout",
     "output_type": "stream",
     "text": [
      "/Users/mncavieres/opt/anaconda3/envs/speedytest2/lib/python3.12/site-packages/amuse/rfi/core.py:964: UserWarning: MPI (unexpectedly?) not available, falling back to sockets channel\n",
      "  warnings.warn(\"MPI (unexpectedly?) not available, falling back to sockets channel\")\n",
      "\n"
     ]
    },
    {
     "name": "stderr",
     "output_type": "stream",
     "text": [
      "\n",
      "Evolving HVSs: 100%|██████████| 1/1 [00:00<00:00,  1.00it/s]\n",
      " 95%|█████████▌| 95/100 [09:01<00:28,  5.79s/it]\n",
      "\u001b[A"
     ]
    },
    {
     "name": "stdout",
     "output_type": "stream",
     "text": [
      "/Users/mncavieres/opt/anaconda3/envs/speedytest2/lib/python3.12/site-packages/amuse/rfi/core.py:964: UserWarning: MPI (unexpectedly?) not available, falling back to sockets channel\n",
      "  warnings.warn(\"MPI (unexpectedly?) not available, falling back to sockets channel\")\n",
      "\n"
     ]
    },
    {
     "name": "stderr",
     "output_type": "stream",
     "text": [
      "\n",
      "Evolving HVSs: 100%|██████████| 1/1 [00:00<00:00,  1.03it/s]\n",
      " 96%|█████████▌| 96/100 [09:06<00:22,  5.72s/it]\n",
      "\u001b[A"
     ]
    },
    {
     "name": "stdout",
     "output_type": "stream",
     "text": [
      "/Users/mncavieres/opt/anaconda3/envs/speedytest2/lib/python3.12/site-packages/amuse/rfi/core.py:964: UserWarning: MPI (unexpectedly?) not available, falling back to sockets channel\n",
      "  warnings.warn(\"MPI (unexpectedly?) not available, falling back to sockets channel\")\n",
      "\n"
     ]
    },
    {
     "name": "stderr",
     "output_type": "stream",
     "text": [
      "\n",
      "Evolving HVSs: 100%|██████████| 1/1 [00:00<00:00,  1.01it/s]\n",
      " 97%|█████████▋| 97/100 [09:12<00:17,  5.70s/it]\n",
      "\u001b[A"
     ]
    },
    {
     "name": "stdout",
     "output_type": "stream",
     "text": [
      "/Users/mncavieres/opt/anaconda3/envs/speedytest2/lib/python3.12/site-packages/amuse/rfi/core.py:964: UserWarning: MPI (unexpectedly?) not available, falling back to sockets channel\n",
      "  warnings.warn(\"MPI (unexpectedly?) not available, falling back to sockets channel\")\n",
      "\n"
     ]
    },
    {
     "name": "stderr",
     "output_type": "stream",
     "text": [
      "\n",
      "Evolving HVSs: 100%|██████████| 1/1 [00:00<00:00,  1.02it/s]\n",
      " 98%|█████████▊| 98/100 [09:18<00:11,  5.65s/it]\n",
      "\u001b[A"
     ]
    },
    {
     "name": "stdout",
     "output_type": "stream",
     "text": [
      "/Users/mncavieres/opt/anaconda3/envs/speedytest2/lib/python3.12/site-packages/amuse/rfi/core.py:964: UserWarning: MPI (unexpectedly?) not available, falling back to sockets channel\n",
      "  warnings.warn(\"MPI (unexpectedly?) not available, falling back to sockets channel\")\n",
      "\n"
     ]
    },
    {
     "name": "stderr",
     "output_type": "stream",
     "text": [
      "\n",
      "Evolving HVSs: 100%|██████████| 1/1 [00:00<00:00,  1.06it/s]\n",
      " 99%|█████████▉| 99/100 [09:23<00:05,  5.62s/it]\n",
      "\u001b[A"
     ]
    },
    {
     "name": "stdout",
     "output_type": "stream",
     "text": [
      "/Users/mncavieres/opt/anaconda3/envs/speedytest2/lib/python3.12/site-packages/amuse/rfi/core.py:964: UserWarning: MPI (unexpectedly?) not available, falling back to sockets channel\n",
      "  warnings.warn(\"MPI (unexpectedly?) not available, falling back to sockets channel\")\n",
      "\n"
     ]
    },
    {
     "name": "stderr",
     "output_type": "stream",
     "text": [
      "\n",
      "Evolving HVSs: 100%|██████████| 1/1 [00:00<00:00,  1.02it/s]\n",
      "100%|██████████| 100/100 [09:29<00:00,  5.69s/it]\n"
     ]
    }
   ],
   "source": [
    "# just generate a lot of stars with flat IMF to the apply importance sampling\n",
    "#  the mass of Sgr A*, the maximum flight time, etc.\n",
    "simulated_catalogs_path = '/Users/mncavieres/Documents/2024-2/HVS/Data/speedystar_catalogs/stock/sample'\n",
    "\n",
    "for kappa in tqdm(range(100)):\n",
    "    ejectionmodel = Hills(rate=1e-3/u.yr, amuseflag= True, Met= 0)\n",
    "    mysample = starsample(ejectionmodel, name='sill_copy')\n",
    "    mysample.save(os.path.join(simulated_catalogs_path, f'cat_ejection_{kappa}.fits'))\n",
    "\n",
    "# ejectionmodel = Hills(rate=1e-1/u.yr, kappa=1.7, amuseflag= True, Met= 0.25)\n",
    "# mysample = starsample(ejectionmodel, name='sill_copy')\n",
    "# mysample.save(os.path.join(simulated_catalogs_path, f'cat_ejection_kappa_{1.7}.fits'))"
   ]
  },
  {
   "cell_type": "markdown",
   "metadata": {},
   "source": [
    "### Propagating the sample\n",
    "\n",
    "The 'ejection sample' consists of a population of stars freshly ejected from the centre of the Milky Way. Next we have to propagate them through the Galaxy (each at its own assigned flight time) to find out where they will be at the present day. To do this we will have to assume a potential for the Galaxy. \n",
    "\n",
    "<p align=\"center\">\n",
    "<img src =\"https://cdn.sci.news/images/enlarge4/image_5003e-Hypervelocity-Stars.jpg\" width=\"50%\" height=\"50%\">\n",
    "</p>\n"
   ]
  },
  {
   "cell_type": "code",
   "execution_count": 16,
   "metadata": {},
   "outputs": [
    {
     "name": "stderr",
     "output_type": "stream",
     "text": [
      "  0%|          | 0/100 [00:00<?, ?it/s]\n",
      "\u001b[A\n",
      "\u001b[A\n",
      "\u001b[A\n",
      "\u001b[A\n",
      "\u001b[A\n",
      "\u001b[A\n",
      "\u001b[A\n",
      "\u001b[A\n",
      "\u001b[A\n",
      "\u001b[A\n",
      "\u001b[A\n",
      "\u001b[A\n",
      "\u001b[A\n",
      "\u001b[A\n",
      "\u001b[A\n",
      "\u001b[A\n",
      "\u001b[A\n",
      "\u001b[A\n",
      "\u001b[A\n",
      "\u001b[A\n",
      "\u001b[A\n",
      "\u001b[A\n",
      "\u001b[A\n",
      "\u001b[A\n",
      "\u001b[A\n",
      "\u001b[A\n",
      "\u001b[A\n",
      "\u001b[A\n",
      "\u001b[A\n",
      "\u001b[A\n",
      "\u001b[A\n",
      "\u001b[A\n",
      "\u001b[A\n",
      "\u001b[A\n",
      "\u001b[A\n",
      "\u001b[A\n",
      "\u001b[A\n",
      "\u001b[A\n",
      "\u001b[A\n",
      "\u001b[A\n",
      "\u001b[A\n",
      "\u001b[A\n",
      "\u001b[A\n",
      "\u001b[A\n",
      "\u001b[A\n",
      "\u001b[A\n",
      "\u001b[A\n",
      "\u001b[A\n",
      "\u001b[A\n",
      "\u001b[A\n",
      "\u001b[A\n",
      "\u001b[A\n",
      "\u001b[A\n",
      "\u001b[A\n",
      "\u001b[A\n",
      "\u001b[A\n",
      "\u001b[A\n",
      "\u001b[A\n",
      "\u001b[A\n",
      "\u001b[A\n",
      "\u001b[A\n",
      "\u001b[A\n",
      "\u001b[A\n",
      "\u001b[A\n",
      "\u001b[A\n",
      "\u001b[A\n",
      "\u001b[A\n",
      "\u001b[A\n",
      "\u001b[A\n",
      "\u001b[A\n",
      "\u001b[A\n",
      "\u001b[A\n",
      "\u001b[A\n",
      "\u001b[A\n",
      "\u001b[A\n",
      "\u001b[A\n",
      "\u001b[A\n",
      "\u001b[A\n",
      "\u001b[A\n",
      "\u001b[A\n",
      "\u001b[A\n",
      "\u001b[A\n",
      "\u001b[A\n",
      "\u001b[A\n",
      "\u001b[A\n",
      "\u001b[A\n",
      "\u001b[A\n",
      "\u001b[A\n",
      "\u001b[A\n",
      "\u001b[A\n",
      "\u001b[A\n",
      "\u001b[A\n",
      "\u001b[A\n",
      "\u001b[A\n",
      "\u001b[A\n",
      "\u001b[A\n",
      "\u001b[A\n",
      "\u001b[A\n",
      "\u001b[A\n",
      "\u001b[A\n",
      "\u001b[A\n",
      "\u001b[A\n",
      "\u001b[A\n",
      "\u001b[A\n",
      "\u001b[A\n",
      "\u001b[A\n",
      "\u001b[A\n",
      "\u001b[A\n",
      "\u001b[A\n",
      "\u001b[A\n",
      "\u001b[A\n",
      "\u001b[A\n",
      "\u001b[A\n",
      "\u001b[A\n",
      "\u001b[A\n",
      "\u001b[A\n",
      "\u001b[A\n",
      "\u001b[A\n",
      "\u001b[A\n",
      "\u001b[A\n",
      "\u001b[A\n",
      "\u001b[A\n",
      "\u001b[A\n",
      "\u001b[A\n",
      "\u001b[A\n",
      "\u001b[A\n",
      "\u001b[A\n",
      "\u001b[A\n",
      "\u001b[A\n",
      "\u001b[A\n",
      "\u001b[A\n",
      "\u001b[A\n",
      "\u001b[A\n",
      "\u001b[A\n",
      "\u001b[A\n",
      "\u001b[A\n",
      "\u001b[A\n",
      "\u001b[A\n",
      "\u001b[A\n",
      "\u001b[A\n",
      "\u001b[A\n",
      "\u001b[A\n",
      "\u001b[A\n",
      "\u001b[A\n",
      "\u001b[A\n",
      "\u001b[A\n",
      "\u001b[A\n",
      "\u001b[A\n",
      "\u001b[A\n",
      "\u001b[A\n",
      "\u001b[A\n",
      "\u001b[A\n",
      "\u001b[A\n",
      "\u001b[A\n",
      "\u001b[A\n",
      "\u001b[A\n",
      "\u001b[A\n",
      "\u001b[A\n",
      "\u001b[A\n",
      "\u001b[A\n",
      "\u001b[A\n",
      "\u001b[A\n",
      "\u001b[A\n",
      "\u001b[A\n",
      "\u001b[A\n",
      "\u001b[A\n",
      "\u001b[A\n",
      "\u001b[A\n",
      "\u001b[A\n",
      "\u001b[A\n",
      "\u001b[A\n",
      "\u001b[A\n",
      "\u001b[A\n",
      "\u001b[A\n",
      "\u001b[A\n",
      "\u001b[A\n",
      "\u001b[A\n",
      "\u001b[A\n",
      "\u001b[A\n",
      "\u001b[A\n",
      "\u001b[A\n",
      "\u001b[A\n",
      "\u001b[A\n",
      "\u001b[A\n",
      "\u001b[A\n",
      "\u001b[A\n",
      "\u001b[A\n",
      "\u001b[A\n",
      "\u001b[A\n",
      "\u001b[A\n",
      "\u001b[A\n",
      "\u001b[A\n",
      "\u001b[A\n",
      "\u001b[A\n",
      "\u001b[A\n",
      "\u001b[A\n",
      "\u001b[A\n",
      "\u001b[A\n",
      "\u001b[A\n",
      "\u001b[A\n",
      "\u001b[A\n",
      "\u001b[A\n",
      "\u001b[A\n",
      "\u001b[A\n",
      "\u001b[A\n",
      "\u001b[A\n",
      "\u001b[A\n",
      "\u001b[A\n",
      "\u001b[A\n",
      "\u001b[A\n",
      "\u001b[A\n",
      "\u001b[A\n",
      "\u001b[A\n",
      "\u001b[A\n",
      "\u001b[A\n",
      "\u001b[A\n",
      "\u001b[A\n",
      "\u001b[A\n",
      "\u001b[A\n",
      "\u001b[A\n",
      "\u001b[A\n",
      "\u001b[A\n",
      "\u001b[A\n",
      "\u001b[A\n",
      "\u001b[A\n",
      "\u001b[A\n",
      "\u001b[A\n",
      "\u001b[A\n",
      "\u001b[A\n",
      "\u001b[A\n",
      "\u001b[A\n",
      "\u001b[A\n",
      "\u001b[A\n",
      "\u001b[A\n",
      "\u001b[A\n",
      "\u001b[A\n",
      "\u001b[A\n",
      "\u001b[A\n",
      "\u001b[A\n",
      "\u001b[A\n",
      "\u001b[A\n",
      "\u001b[A\n",
      "\u001b[A\n",
      "\u001b[A\n",
      "\u001b[A\n",
      "\u001b[A\n",
      "\u001b[A\n",
      "\u001b[A\n",
      "\u001b[A\n",
      "\u001b[A\n",
      "\u001b[A\n",
      "\u001b[A\n",
      "\u001b[A\n",
      "\u001b[A\n",
      "\u001b[A\n",
      "\u001b[A\n",
      "\u001b[A\n",
      "\u001b[A\n",
      "\u001b[A\n",
      "\u001b[A\n",
      "\u001b[A\n",
      "\u001b[A\n",
      "\u001b[A\n",
      "\u001b[A\n",
      "\u001b[A\n",
      "\u001b[A\n",
      "\u001b[A\n",
      "\u001b[A\n",
      "\u001b[A\n",
      "\u001b[A\n",
      "\u001b[A\n",
      "\u001b[A\n",
      "\u001b[A\n",
      "\u001b[A\n",
      "\u001b[A\n",
      "\u001b[A\n",
      "\u001b[A\n",
      "\u001b[A\n",
      "\u001b[A\n",
      "\u001b[A\n",
      "\u001b[A\n",
      "\u001b[A\n",
      "\u001b[A\n",
      "\u001b[A\n",
      "\u001b[A\n",
      "\u001b[A\n",
      "\u001b[A\n",
      "\u001b[A\n",
      "\u001b[A\n",
      "\u001b[A\n",
      "\u001b[A\n",
      "\u001b[A\n",
      "\u001b[A\n",
      "\u001b[A\n",
      "\u001b[A\n",
      "\u001b[A\n",
      "\u001b[A\n",
      "\u001b[A\n",
      "\u001b[A\n",
      "\u001b[A\n",
      "\u001b[A\n",
      "\u001b[A\n",
      "\u001b[A\n",
      "\u001b[A\n",
      "\u001b[A\n",
      "\u001b[A\n",
      "\u001b[A\n",
      "\u001b[A\n",
      "\u001b[A\n",
      "\u001b[A\n",
      "\u001b[A\n",
      "\u001b[A\n",
      "\u001b[A\n",
      "\u001b[A\n",
      "\u001b[A\n",
      "\u001b[A\n",
      "\u001b[A\n",
      "\u001b[A\n",
      "\u001b[A\n",
      "\u001b[A\n",
      "\u001b[A\n",
      "\u001b[A\n",
      "\u001b[A\n",
      "\u001b[A\n",
      "\u001b[A\n",
      "\u001b[A\n",
      "\u001b[A\n",
      "\u001b[A\n",
      "\u001b[A\n",
      "\u001b[A\n",
      "\u001b[A\n",
      "\u001b[A\n",
      "\u001b[A\n",
      "\u001b[A\n",
      "\u001b[A\n",
      "\u001b[A\n",
      "\u001b[A\n",
      "\u001b[A\n",
      "\u001b[A\n",
      "\u001b[A\n",
      "\u001b[A\n",
      "\u001b[A\n",
      "\u001b[A\n",
      "\u001b[A\n",
      "\u001b[A\n",
      "\u001b[A\n",
      "\u001b[A\n",
      "\u001b[A\n",
      "\u001b[A\n",
      "\u001b[A\n",
      "\u001b[A\n",
      "\u001b[A\n",
      "\u001b[A\n",
      "\u001b[A\n",
      "\u001b[A\n",
      "\u001b[A\n",
      "\u001b[A\n",
      "\u001b[A\n",
      "\u001b[A\n",
      "\u001b[A\n",
      "\u001b[A\n",
      "\u001b[A\n",
      "\u001b[A\n",
      "\u001b[A\n",
      "\u001b[A\n",
      "\u001b[A\n",
      "\u001b[A\n",
      "\u001b[A\n",
      "\u001b[A\n",
      "\u001b[A\n",
      "\u001b[A\n",
      "\u001b[A\n",
      "\u001b[A\n",
      "\u001b[A\n",
      "\u001b[A\n",
      "\u001b[A\n",
      "\u001b[A\n",
      "\u001b[A\n",
      "\u001b[A\n",
      "\u001b[A\n",
      "\u001b[A\n",
      "\u001b[A\n",
      "\u001b[A\n",
      "\u001b[A\n",
      "\u001b[A\n",
      "\u001b[A\n",
      "\u001b[A\n",
      "\u001b[A\n",
      "\u001b[A\n",
      "\u001b[A\n",
      "\u001b[A\n",
      "\u001b[A\n",
      "\u001b[A\n",
      "\u001b[A\n",
      "\u001b[A\n",
      "\u001b[A\n",
      "\u001b[A\n",
      "\u001b[A\n",
      "\u001b[A\n",
      "\u001b[A\n",
      "\u001b[A\n",
      "\u001b[A\n",
      "\u001b[A\n",
      "\u001b[A\n",
      "\u001b[A\n",
      "\u001b[A\n",
      "\u001b[A\n",
      "\u001b[A\n",
      "\u001b[A\n",
      "\u001b[A\n",
      "\u001b[A\n",
      "\u001b[A\n",
      "\u001b[A\n",
      "\u001b[A\n",
      "\u001b[A\n",
      "\u001b[A\n",
      "\u001b[A\n",
      "\u001b[A\n",
      "\u001b[A\n",
      "\u001b[A\n",
      "\u001b[A\n",
      "\u001b[A\n",
      "\u001b[A\n",
      "\u001b[A\n",
      "\u001b[A\n",
      "\u001b[A\n",
      "\u001b[A\n",
      "\u001b[A\n",
      "\u001b[A\n",
      "\u001b[A\n",
      "\u001b[A\n",
      "\u001b[A\n",
      "\u001b[A\n",
      "\u001b[A\n",
      "\u001b[A\n",
      "\u001b[A\n",
      "\u001b[A\n",
      "\u001b[A\n",
      "\u001b[A\n",
      "\u001b[A\n",
      "\u001b[A\n",
      "\u001b[A\n",
      "\u001b[A\n",
      "\u001b[A\n",
      "\u001b[A\n",
      "\u001b[A\n",
      "\u001b[A\n",
      "\u001b[A\n",
      "\u001b[A\n",
      "\u001b[A\n",
      "\u001b[A\n",
      "\u001b[A\n",
      "\u001b[A\n",
      "\u001b[A\n",
      "\u001b[A\n",
      "\u001b[A\n",
      "\u001b[A\n",
      "\u001b[A\n",
      "\u001b[A\n",
      "\u001b[A\n",
      "\u001b[A\n",
      "\u001b[A\n",
      "\u001b[A\n",
      "\u001b[A\n",
      "\u001b[A\n",
      "\u001b[A\n",
      "\u001b[A\n",
      "\u001b[A\n",
      "\u001b[A\n",
      "\u001b[A\n",
      "\u001b[A\n",
      "\u001b[A\n",
      "\u001b[A\n",
      "\u001b[A\n",
      "\u001b[A\n",
      "\u001b[A\n",
      "\u001b[A\n",
      "\u001b[A\n",
      "\u001b[A\n",
      "\u001b[A\n",
      "\u001b[A\n",
      "\u001b[A\n",
      "\u001b[A\n",
      "\u001b[A\n",
      "\u001b[A\n",
      "\u001b[A\n",
      "\u001b[A\n",
      "\u001b[A\n",
      "\u001b[A\n",
      "\u001b[A\n",
      "\u001b[A\n",
      "\u001b[A\n",
      "\u001b[A\n",
      "\u001b[A\n",
      "\u001b[A\n",
      "\u001b[A\n",
      "\u001b[A\n",
      "\u001b[A\n",
      "\u001b[A\n",
      "\u001b[A\n",
      "\u001b[A\n",
      "\u001b[A\n",
      "\u001b[A\n",
      "\u001b[A\n",
      "\u001b[A\n",
      "\u001b[A\n",
      "\u001b[A\n",
      "\u001b[A\n",
      "\u001b[A\n",
      "\u001b[A\n",
      "\u001b[A\n",
      "\u001b[A\n",
      "\u001b[A\n",
      "\u001b[A\n",
      "\u001b[A\n",
      "\u001b[A\n",
      "\u001b[A\n",
      "\u001b[A\n",
      "\u001b[A\n",
      "\u001b[A\n",
      "\u001b[A\n",
      "\u001b[A\n",
      "\u001b[A\n",
      "\u001b[A\n",
      "\u001b[A\n",
      "\u001b[A\n",
      "\u001b[A\n",
      "\u001b[A\n",
      "\u001b[A\n",
      "\u001b[A\n",
      "\u001b[A\n",
      "\u001b[A\n",
      "\u001b[A\n",
      "\u001b[A\n",
      "\u001b[A\n",
      "\u001b[A\n",
      "\u001b[A\n",
      "\u001b[A\n",
      "\u001b[A\n",
      "\u001b[A\n",
      "\u001b[A\n",
      "\u001b[A\n",
      "\u001b[A\n",
      "\u001b[A\n",
      "\u001b[A\n",
      "\u001b[A\n",
      "\u001b[A\n",
      "\u001b[A\n",
      "\u001b[A\n",
      "\u001b[A\n",
      "\u001b[A\n",
      "\u001b[A\n",
      "\u001b[A\n",
      "\u001b[A\n",
      "\u001b[A\n",
      "\u001b[A\n",
      "\u001b[A\n",
      "\u001b[A\n",
      "\u001b[A\n",
      "\u001b[A\n",
      "\u001b[A\n",
      "\u001b[A\n",
      "\u001b[A\n",
      "\u001b[A\n",
      "\u001b[A\n",
      "\u001b[A\n",
      "\u001b[A\n",
      "\u001b[A\n",
      "\u001b[A\n",
      "\u001b[A\n",
      "\u001b[A\n",
      "\u001b[A\n",
      "\u001b[A\n",
      "\u001b[A\n",
      "\u001b[A\n",
      "\u001b[A\n",
      "\u001b[A\n",
      "\u001b[A\n",
      "\u001b[A\n",
      "\u001b[A\n",
      "\u001b[A\n",
      "\u001b[A\n",
      "\u001b[A\n",
      "\u001b[A\n",
      "\u001b[A\n",
      "\u001b[A\n",
      "\u001b[A\n",
      "\u001b[A\n",
      "\u001b[A\n",
      "\u001b[A\n",
      "\u001b[A\n",
      "\u001b[A\n",
      "\u001b[A\n",
      "\u001b[A\n",
      "\u001b[A\n",
      "\u001b[A\n",
      "\u001b[A\n",
      "\u001b[A\n",
      "\u001b[A\n",
      "\u001b[A\n",
      "\u001b[A\n",
      "\u001b[A\n",
      "\u001b[A\n",
      "\u001b[A\n",
      "\u001b[A\n",
      "\u001b[A\n",
      "\u001b[A\n",
      "\u001b[A\n",
      "\u001b[A\n",
      "\u001b[A\n",
      "\u001b[A\n",
      "\u001b[A\n",
      "\u001b[A\n",
      "\u001b[A\n",
      "\u001b[A\n",
      "\u001b[A\n",
      "\u001b[A\n",
      "\u001b[A\n",
      "\u001b[A\n",
      "\u001b[A\n",
      "\u001b[A\n",
      "\u001b[A\n",
      "\u001b[A\n",
      "\u001b[A\n",
      "\u001b[A\n",
      "\u001b[A\n",
      "\u001b[A\n",
      "\u001b[A\n",
      "\u001b[A\n",
      "\u001b[A\n",
      "\u001b[A\n",
      "\u001b[A\n",
      "\u001b[A\n",
      "\u001b[A\n",
      "\u001b[A\n",
      "\u001b[A\n",
      "\u001b[A\n",
      "\u001b[A\n",
      "\u001b[A\n",
      "\u001b[A\n",
      "\u001b[A\n",
      "\u001b[A\n",
      "\u001b[A\n",
      "\u001b[A\n",
      "\u001b[A\n",
      "\u001b[A\n",
      "\u001b[A\n",
      "\u001b[A\n",
      "\u001b[A\n",
      "\u001b[A\n",
      "\u001b[A\n",
      "\u001b[A\n",
      "\u001b[A\n",
      "\u001b[A\n",
      "\u001b[A\n",
      "\u001b[A\n",
      "\u001b[A\n",
      "\u001b[A\n",
      "\u001b[A\n",
      "\u001b[A\n",
      "\u001b[A\n",
      "\u001b[A\n",
      "\u001b[A\n",
      "\u001b[A\n",
      "\u001b[A\n",
      "\u001b[A\n",
      "\u001b[A\n",
      "\u001b[A\n",
      "\u001b[A\n",
      "\u001b[A\n",
      "\u001b[A\n",
      "\u001b[A\n",
      "\u001b[A\n",
      "\u001b[A\n",
      "\u001b[A\n",
      "\u001b[A\n",
      "\u001b[A\n",
      "\u001b[A\n",
      "\u001b[A\n",
      "\u001b[A\n",
      "\u001b[A\n",
      "\u001b[A\n",
      "\u001b[A\n",
      "\u001b[A\n",
      "\u001b[A\n",
      "\u001b[A\n",
      "\u001b[A\n",
      "\u001b[A\n",
      "\u001b[A\n",
      "\u001b[A\n",
      "\u001b[A\n",
      "\u001b[A\n",
      "\u001b[A\n",
      "\u001b[A\n",
      "\u001b[A\n",
      "\u001b[A\n",
      "\u001b[A\n",
      "\u001b[A\n",
      "\u001b[A\n",
      "Propagating...: 100%|██████████| 5682/5682 [01:17<00:00, 73.15it/s]\n",
      "  1%|          | 1/100 [01:20<2:13:08, 80.69s/it]\n",
      "\u001b[A\n",
      "\u001b[A\n",
      "\u001b[A\n",
      "\u001b[A\n",
      "\u001b[A\n",
      "\u001b[A\n",
      "\u001b[A\n",
      "\u001b[A\n",
      "\u001b[A\n",
      "\u001b[A\n",
      "\u001b[A\n",
      "\u001b[A\n",
      "\u001b[A\n",
      "\u001b[A\n",
      "\u001b[A\n",
      "\u001b[A\n",
      "\u001b[A\n",
      "\u001b[A\n",
      "\u001b[A\n",
      "\u001b[A\n",
      "\u001b[A\n",
      "\u001b[A\n",
      "\u001b[A\n",
      "\u001b[A\n",
      "\u001b[A\n",
      "\u001b[A\n",
      "\u001b[A\n",
      "\u001b[A\n",
      "\u001b[A\n",
      "\u001b[A\n",
      "\u001b[A\n",
      "\u001b[A\n",
      "\u001b[A\n",
      "\u001b[A\n",
      "\u001b[A\n",
      "\u001b[A\n",
      "\u001b[A\n",
      "\u001b[A\n",
      "\u001b[A\n",
      "\u001b[A\n",
      "\u001b[A\n",
      "\u001b[A\n",
      "\u001b[A\n",
      "\u001b[A\n",
      "\u001b[A\n",
      "\u001b[A\n",
      "\u001b[A\n",
      "\u001b[A\n",
      "\u001b[A\n",
      "\u001b[A\n",
      "\u001b[A\n",
      "\u001b[A\n",
      "\u001b[A\n",
      "\u001b[A\n",
      "\u001b[A\n",
      "\u001b[A\n",
      "\u001b[A\n",
      "\u001b[A\n",
      "\u001b[A\n",
      "\u001b[A\n",
      "\u001b[A\n",
      "\u001b[A\n",
      "\u001b[A\n",
      "\u001b[A\n",
      "\u001b[A\n",
      "\u001b[A\n",
      "\u001b[A\n",
      "\u001b[A\n",
      "\u001b[A\n",
      "\u001b[A\n",
      "\u001b[A\n",
      "\u001b[A\n",
      "\u001b[A\n",
      "\u001b[A\n",
      "\u001b[A\n",
      "\u001b[A\n",
      "\u001b[A\n",
      "\u001b[A\n",
      "\u001b[A\n",
      "\u001b[A\n",
      "\u001b[A\n",
      "\u001b[A\n",
      "\u001b[A\n",
      "\u001b[A\n",
      "\u001b[A\n",
      "\u001b[A\n",
      "\u001b[A\n",
      "\u001b[A\n",
      "\u001b[A\n",
      "\u001b[A\n",
      "\u001b[A\n",
      "\u001b[A\n",
      "\u001b[A\n",
      "\u001b[A\n",
      "\u001b[A\n",
      "\u001b[A\n",
      "\u001b[A\n",
      "\u001b[A\n",
      "\u001b[A\n",
      "\u001b[A\n",
      "\u001b[A\n",
      "\u001b[A\n",
      "\u001b[A\n",
      "\u001b[A\n",
      "\u001b[A\n",
      "\u001b[A\n",
      "\u001b[A\n",
      "\u001b[A\n",
      "\u001b[A\n",
      "\u001b[A\n",
      "\u001b[A\n",
      "\u001b[A\n",
      "\u001b[A\n",
      "\u001b[A\n",
      "\u001b[A\n",
      "\u001b[A\n",
      "\u001b[A\n",
      "\u001b[A\n",
      "\u001b[A\n",
      "\u001b[A\n",
      "\u001b[A\n",
      "\u001b[A\n",
      "\u001b[A\n",
      "\u001b[A\n",
      "\u001b[A\n",
      "\u001b[A\n",
      "\u001b[A\n",
      "\u001b[A\n",
      "\u001b[A\n",
      "\u001b[A\n",
      "\u001b[A\n",
      "\u001b[A\n",
      "\u001b[A\n",
      "\u001b[A\n",
      "\u001b[A\n",
      "\u001b[A\n",
      "\u001b[A\n",
      "\u001b[A\n",
      "\u001b[A\n",
      "\u001b[A\n",
      "\u001b[A\n",
      "\u001b[A\n",
      "\u001b[A\n",
      "\u001b[A\n",
      "\u001b[A\n",
      "\u001b[A\n",
      "\u001b[A\n",
      "\u001b[A\n",
      "\u001b[A\n",
      "\u001b[A\n",
      "\u001b[A\n",
      "\u001b[A\n",
      "\u001b[A\n",
      "\u001b[A\n",
      "\u001b[A\n",
      "\u001b[A\n",
      "\u001b[A\n",
      "\u001b[A\n",
      "\u001b[A\n",
      "\u001b[A\n",
      "\u001b[A\n",
      "\u001b[A\n",
      "\u001b[A\n",
      "\u001b[A\n",
      "\u001b[A\n",
      "\u001b[A\n",
      "\u001b[A\n",
      "\u001b[A\n",
      "\u001b[A\n",
      "\u001b[A\n",
      "\u001b[A\n",
      "\u001b[A\n",
      "\u001b[A\n",
      "\u001b[A\n",
      "\u001b[A\n",
      "\u001b[A\n",
      "\u001b[A\n",
      "\u001b[A\n",
      "\u001b[A\n",
      "\u001b[A\n",
      "\u001b[A\n",
      "\u001b[A\n",
      "\u001b[A\n",
      "\u001b[A\n",
      "\u001b[A\n",
      "\u001b[A\n",
      "\u001b[A\n",
      "\u001b[A\n",
      "\u001b[A\n",
      "\u001b[A\n",
      "\u001b[A\n",
      "\u001b[A\n",
      "\u001b[A\n",
      "\u001b[A\n",
      "\u001b[A\n",
      "\u001b[A\n",
      "\u001b[A\n",
      "\u001b[A\n",
      "\u001b[A\n",
      "\u001b[A\n",
      "\u001b[A\n",
      "\u001b[A\n",
      "\u001b[A\n",
      "\u001b[A\n",
      "\u001b[A\n",
      "\u001b[A\n",
      "\u001b[A\n",
      "\u001b[A\n",
      "\u001b[A\n",
      "\u001b[A\n",
      "\u001b[A\n",
      "\u001b[A\n",
      "\u001b[A\n",
      "\u001b[A\n",
      "\u001b[A\n",
      "\u001b[A\n",
      "\u001b[A\n",
      "\u001b[A\n",
      "\u001b[A\n",
      "\u001b[A\n",
      "\u001b[A\n",
      "\u001b[A\n",
      "\u001b[A\n",
      "\u001b[A\n",
      "\u001b[A\n",
      "\u001b[A\n",
      "\u001b[A\n",
      "\u001b[A\n",
      "\u001b[A\n",
      "\u001b[A\n",
      "\u001b[A\n",
      "\u001b[A\n",
      "\u001b[A\n",
      "\u001b[A\n",
      "\u001b[A\n",
      "\u001b[A\n",
      "\u001b[A\n",
      "\u001b[A\n",
      "\u001b[A\n",
      "\u001b[A\n",
      "\u001b[A\n",
      "\u001b[A\n",
      "\u001b[A\n",
      "\u001b[A\n",
      "\u001b[A\n",
      "\u001b[A\n",
      "\u001b[A\n",
      "\u001b[A\n",
      "\u001b[A\n",
      "\u001b[A\n",
      "\u001b[A\n",
      "\u001b[A\n",
      "\u001b[A\n",
      "\u001b[A\n",
      "\u001b[A\n",
      "\u001b[A\n",
      "\u001b[A\n",
      "\u001b[A\n",
      "\u001b[A\n",
      "\u001b[A\n",
      "\u001b[A\n",
      "\u001b[A\n",
      "\u001b[A\n",
      "\u001b[A\n",
      "\u001b[A\n",
      "\u001b[A\n",
      "\u001b[A\n",
      "\u001b[A\n",
      "\u001b[A\n",
      "\u001b[A\n",
      "\u001b[A\n",
      "\u001b[A\n",
      "\u001b[A\n",
      "\u001b[A\n",
      "\u001b[A\n",
      "\u001b[A\n",
      "\u001b[A\n",
      "\u001b[A\n",
      "\u001b[A\n",
      "\u001b[A\n",
      "\u001b[A\n",
      "\u001b[A\n",
      "\u001b[A\n",
      "\u001b[A\n",
      "\u001b[A\n",
      "\u001b[A\n",
      "\u001b[A\n",
      "\u001b[A\n",
      "\u001b[A\n",
      "\u001b[A\n",
      "\u001b[A\n",
      "\u001b[A\n",
      "\u001b[A\n",
      "\u001b[A\n",
      "\u001b[A\n",
      "\u001b[A\n",
      "\u001b[A\n",
      "\u001b[A\n",
      "\u001b[A\n",
      "\u001b[A\n",
      "\u001b[A\n",
      "\u001b[A\n",
      "\u001b[A\n",
      "\u001b[A\n",
      "\u001b[A\n",
      "\u001b[A\n",
      "\u001b[A\n",
      "\u001b[A\n",
      "\u001b[A\n",
      "\u001b[A\n",
      "\u001b[A\n",
      "\u001b[A\n",
      "\u001b[A\n",
      "\u001b[A\n",
      "\u001b[A\n",
      "\u001b[A\n",
      "\u001b[A\n",
      "\u001b[A\n",
      "\u001b[A\n",
      "\u001b[A\n",
      "\u001b[A\n",
      "\u001b[A\n",
      "\u001b[A\n",
      "\u001b[A\n",
      "\u001b[A\n",
      "\u001b[A\n",
      "\u001b[A\n",
      "\u001b[A\n",
      "\u001b[A\n",
      "\u001b[A\n",
      "\u001b[A\n",
      "\u001b[A\n",
      "\u001b[A\n",
      "\u001b[A\n",
      "\u001b[A\n",
      "\u001b[A\n",
      "\u001b[A\n",
      "\u001b[A\n",
      "\u001b[A\n",
      "\u001b[A\n",
      "\u001b[A\n",
      "\u001b[A\n",
      "\u001b[A\n",
      "\u001b[A\n",
      "\u001b[A\n",
      "\u001b[A\n",
      "\u001b[A\n",
      "\u001b[A\n",
      "\u001b[A\n",
      "\u001b[A\n",
      "\u001b[A\n",
      "\u001b[A\n",
      "\u001b[A\n",
      "\u001b[A\n",
      "\u001b[A\n",
      "\u001b[A\n",
      "\u001b[A\n",
      "\u001b[A\n",
      "\u001b[A\n",
      "\u001b[A\n",
      "\u001b[A\n",
      "\u001b[A\n",
      "\u001b[A\n",
      "\u001b[A\n",
      "\u001b[A\n",
      "\u001b[A\n",
      "\u001b[A\n",
      "\u001b[A\n",
      "\u001b[A\n",
      "\u001b[A\n",
      "\u001b[A\n",
      "\u001b[A\n",
      "\u001b[A\n",
      "\u001b[A\n",
      "\u001b[A\n",
      "\u001b[A\n",
      "\u001b[A\n",
      "\u001b[A\n",
      "\u001b[A\n",
      "\u001b[A\n",
      "\u001b[A\n",
      "\u001b[A\n",
      "\u001b[A\n",
      "\u001b[A\n",
      "\u001b[A\n",
      "\u001b[A\n",
      "\u001b[A\n",
      "\u001b[A\n",
      "\u001b[A\n",
      "\u001b[A\n",
      "\u001b[A\n",
      "\u001b[A\n",
      "\u001b[A\n",
      "\u001b[A\n",
      "\u001b[A\n",
      "\u001b[A\n",
      "\u001b[A\n",
      "\u001b[A\n",
      "\u001b[A\n",
      "\u001b[A\n",
      "\u001b[A\n",
      "\u001b[A\n",
      "\u001b[A\n",
      "\u001b[A\n",
      "\u001b[A\n",
      "\u001b[A\n",
      "\u001b[A\n",
      "\u001b[A\n",
      "\u001b[A\n",
      "\u001b[A\n",
      "\u001b[A\n",
      "\u001b[A\n",
      "\u001b[A\n",
      "\u001b[A\n",
      "\u001b[A\n",
      "\u001b[A\n",
      "\u001b[A\n",
      "\u001b[A\n",
      "\u001b[A\n",
      "\u001b[A\n",
      "\u001b[A\n",
      "\u001b[A\n",
      "\u001b[A\n",
      "\u001b[A\n",
      "\u001b[A\n",
      "\u001b[A\n",
      "\u001b[A\n",
      "\u001b[A\n",
      "\u001b[A\n",
      "\u001b[A\n",
      "\u001b[A\n",
      "\u001b[A\n",
      "\u001b[A\n",
      "\u001b[A\n",
      "\u001b[A\n",
      "\u001b[A\n",
      "\u001b[A\n",
      "\u001b[A\n",
      "\u001b[A\n",
      "\u001b[A\n",
      "\u001b[A\n",
      "\u001b[A\n",
      "\u001b[A\n",
      "\u001b[A\n",
      "\u001b[A\n",
      "\u001b[A\n",
      "\u001b[A\n",
      "\u001b[A\n",
      "\u001b[A\n",
      "\u001b[A\n",
      "\u001b[A\n",
      "\u001b[A\n",
      "\u001b[A\n",
      "\u001b[A\n",
      "\u001b[A\n",
      "\u001b[A\n",
      "\u001b[A\n",
      "\u001b[A\n",
      "\u001b[A\n",
      "\u001b[A\n",
      "\u001b[A\n",
      "\u001b[A\n",
      "\u001b[A\n",
      "\u001b[A\n",
      "\u001b[A\n",
      "\u001b[A\n",
      "\u001b[A\n",
      "\u001b[A\n",
      "\u001b[A\n",
      "\u001b[A\n",
      "\u001b[A\n",
      "\u001b[A\n",
      "\u001b[A\n",
      "\u001b[A\n",
      "\u001b[A\n",
      "\u001b[A\n",
      "\u001b[A\n",
      "\u001b[A\n",
      "\u001b[A\n",
      "\u001b[A\n",
      "\u001b[A\n",
      "\u001b[A\n",
      "\u001b[A\n",
      "\u001b[A\n",
      "\u001b[A\n",
      "\u001b[A\n",
      "\u001b[A\n",
      "\u001b[A\n",
      "\u001b[A\n",
      "\u001b[A\n",
      "\u001b[A\n",
      "\u001b[A\n",
      "\u001b[A\n",
      "\u001b[A\n",
      "\u001b[A\n",
      "\u001b[A\n",
      "\u001b[A\n",
      "\u001b[A\n",
      "\u001b[A\n",
      "\u001b[A\n",
      "\u001b[A\n",
      "\u001b[A\n",
      "\u001b[A\n",
      "\u001b[A\n",
      "\u001b[A\n",
      "\u001b[A\n",
      "\u001b[A\n",
      "\u001b[A\n",
      "\u001b[A\n",
      "\u001b[A\n",
      "\u001b[A\n",
      "\u001b[A\n",
      "\u001b[A\n",
      "\u001b[A\n",
      "\u001b[A\n",
      "\u001b[A\n",
      "\u001b[A\n",
      "\u001b[A\n",
      "\u001b[A\n",
      "\u001b[A\n",
      "\u001b[A\n",
      "\u001b[A\n",
      "\u001b[A\n",
      "\u001b[A\n",
      "\u001b[A\n",
      "\u001b[A\n",
      "\u001b[A\n",
      "\u001b[A\n",
      "\u001b[A\n",
      "\u001b[A\n",
      "\u001b[A\n",
      "\u001b[A\n",
      "\u001b[A\n",
      "\u001b[A\n",
      "\u001b[A\n",
      "\u001b[A\n",
      "\u001b[A\n",
      "\u001b[A\n",
      "\u001b[A\n",
      "\u001b[A\n",
      "\u001b[A\n",
      "\u001b[A\n",
      "\u001b[A\n",
      "\u001b[A\n",
      "\u001b[A\n",
      "\u001b[A\n",
      "\u001b[A\n",
      "\u001b[A\n",
      "\u001b[A\n",
      "\u001b[A\n",
      "\u001b[A\n",
      "\u001b[A\n",
      "\u001b[A\n",
      "\u001b[A\n",
      "\u001b[A\n",
      "\u001b[A\n",
      "\u001b[A\n",
      "\u001b[A\n",
      "\u001b[A\n",
      "\u001b[A\n",
      "\u001b[A\n",
      "\u001b[A\n",
      "\u001b[A\n",
      "\u001b[A\n",
      "\u001b[A\n",
      "\u001b[A\n",
      "\u001b[A\n",
      "\u001b[A\n",
      "\u001b[A\n",
      "\u001b[A\n",
      "\u001b[A\n",
      "\u001b[A\n",
      "\u001b[A\n",
      "\u001b[A\n",
      "\u001b[A\n",
      "\u001b[A\n",
      "\u001b[A\n",
      "\u001b[A\n",
      "\u001b[A\n",
      "\u001b[A\n",
      "\u001b[A\n",
      "\u001b[A\n",
      "\u001b[A\n",
      "\u001b[A\n",
      "\u001b[A\n",
      "\u001b[A\n",
      "\u001b[A\n",
      "\u001b[A\n",
      "\u001b[A\n",
      "\u001b[A\n",
      "\u001b[A\n",
      "\u001b[A\n",
      "\u001b[A\n",
      "\u001b[A\n",
      "\u001b[A\n",
      "\u001b[A\n",
      "\u001b[A\n",
      "\u001b[A\n",
      "\u001b[A\n",
      "\u001b[A\n",
      "\u001b[A\n",
      "\u001b[A\n",
      "\u001b[A\n",
      "\u001b[A\n",
      "\u001b[A\n",
      "\u001b[A\n",
      "\u001b[A\n",
      "\u001b[A\n",
      "\u001b[A\n",
      "\u001b[A\n",
      "\u001b[A\n",
      "\u001b[A\n",
      "\u001b[A\n",
      "\u001b[A\n",
      "\u001b[A\n",
      "\u001b[A\n",
      "\u001b[A\n",
      "\u001b[A\n",
      "\u001b[A\n",
      "\u001b[A\n",
      "\u001b[A\n",
      "\u001b[A\n",
      "\u001b[A\n",
      "\u001b[A\n",
      "\u001b[A\n",
      "\u001b[A\n",
      "\u001b[A\n",
      "\u001b[A\n",
      "\u001b[A\n",
      "\u001b[A\n",
      "\u001b[A\n",
      "\u001b[A\n",
      "\u001b[A\n",
      "\u001b[A\n",
      "\u001b[A\n",
      "\u001b[A\n",
      "\u001b[A\n",
      "\u001b[A\n",
      "\u001b[A\n",
      "\u001b[A\n",
      "\u001b[A\n",
      "\u001b[A\n",
      "\u001b[A\n",
      "\u001b[A\n",
      "\u001b[A\n",
      "\u001b[A\n",
      "\u001b[A\n",
      "\u001b[A\n",
      "\u001b[A\n",
      "\u001b[A\n",
      "\u001b[A\n",
      "\u001b[A\n",
      "\u001b[A\n",
      "\u001b[A\n",
      "\u001b[A\n",
      "\u001b[A\n",
      "\u001b[A\n",
      "\u001b[A\n",
      "\u001b[A\n",
      "\u001b[A\n",
      "\u001b[A\n",
      "\u001b[A\n",
      "\u001b[A\n",
      "\u001b[A\n",
      "\u001b[A\n",
      "\u001b[A\n",
      "\u001b[A\n",
      "\u001b[A\n",
      "\u001b[A\n",
      "\u001b[A\n",
      "\u001b[A\n",
      "\u001b[A\n",
      "\u001b[A\n",
      "\u001b[A\n",
      "\u001b[A\n",
      "\u001b[A\n",
      "\u001b[A\n",
      "Propagating...: 100%|██████████| 5699/5699 [01:14<00:00, 76.01it/s]\n",
      "Calculating magnitudes:  33%|███▎      | 2/6 [2:24:29<4:48:59, 4335.00s/it]\n",
      "Propagating...: 100%|██████████| 5494/5494 [01:13<00:00, 74.84it/s]\n",
      "Propagating...: 100%|██████████| 5701/5701 [01:16<00:00, 74.84it/s]\n",
      "Propagating...: 100%|██████████| 5614/5614 [01:15<00:00, 73.98it/s]\n",
      "Propagating...: 100%|██████████| 5624/5624 [01:13<00:00, 76.18it/s]\n",
      "Propagating...: 100%|██████████| 5727/5727 [01:14<00:00, 76.52it/s]\n",
      "Propagating...: 100%|██████████| 5611/5611 [01:11<00:00, 78.46it/s]\n",
      "Propagating...: 100%|██████████| 5648/5648 [01:12<00:00, 77.64it/s]\n",
      "Propagating...: 100%|██████████| 5877/5877 [01:21<00:00, 71.74it/s]\n",
      "Propagating...: 100%|██████████| 5618/5618 [01:15<00:00, 74.78it/s]\n",
      "Propagating...: 100%|██████████| 5768/5768 [01:18<00:00, 73.85it/s]\n",
      "Propagating...: 100%|██████████| 5737/5737 [01:18<00:00, 73.33it/s]\n",
      "Propagating...: 100%|██████████| 5725/5725 [01:13<00:00, 78.22it/s]\n",
      "Propagating...: 100%|██████████| 5578/5578 [01:10<00:00, 78.94it/s]\n",
      "Propagating...: 100%|██████████| 5626/5626 [01:12<00:00, 77.09it/s]\n",
      "Propagating...: 100%|██████████| 5692/5692 [01:45<00:00, 53.80it/s]\n",
      "Propagating...: 100%|██████████| 5632/5632 [01:19<00:00, 71.22it/s]\n",
      "Propagating...: 100%|██████████| 5709/5709 [01:14<00:00, 76.31it/s]\n",
      "Propagating...: 100%|██████████| 5751/5751 [01:17<00:00, 73.93it/s]\n",
      "Propagating...: 100%|██████████| 5654/5654 [01:15<00:00, 74.79it/s]\n",
      "Propagating...: 100%|██████████| 5801/5801 [01:17<00:00, 75.01it/s]\n",
      "Propagating...: 100%|██████████| 5639/5639 [01:16<00:00, 73.84it/s]\n",
      "Propagating...: 100%|██████████| 5680/5680 [01:15<00:00, 75.47it/s]\n",
      "Propagating...: 100%|██████████| 5703/5703 [01:14<00:00, 76.19it/s]\n",
      "Propagating...: 100%|██████████| 5738/5738 [01:15<00:00, 75.59it/s]\n",
      "Propagating...: 100%|██████████| 5681/5681 [01:12<00:00, 78.16it/s]\n",
      "Propagating...: 100%|██████████| 5748/5748 [01:14<00:00, 77.39it/s]\n",
      "Propagating...: 100%|██████████| 5818/5818 [01:17<00:00, 75.20it/s]\n",
      "Propagating...: 100%|██████████| 5807/5807 [01:14<00:00, 77.64it/s]\n",
      "Propagating...: 100%|██████████| 5782/5782 [01:14<00:00, 77.74it/s]\n",
      "Propagating...: 100%|██████████| 5812/5812 [01:15<00:00, 77.22it/s]\n",
      "Propagating...: 100%|██████████| 5705/5705 [01:12<00:00, 78.54it/s]\n",
      "Propagating...: 100%|██████████| 5625/5625 [01:15<00:00, 74.58it/s]\n",
      "Propagating...: 100%|██████████| 5774/5774 [01:17<00:00, 74.53it/s]\n",
      "Propagating...: 100%|██████████| 5662/5662 [01:15<00:00, 74.59it/s]\n",
      "Propagating...: 100%|██████████| 5684/5684 [01:17<00:00, 73.65it/s]\n",
      "Propagating...: 100%|██████████| 5583/5583 [01:14<00:00, 75.16it/s]\n",
      "Propagating...: 100%|██████████| 5575/5575 [01:12<00:00, 76.67it/s]\n",
      "Propagating...: 100%|██████████| 5887/5887 [01:18<00:00, 74.84it/s]\n",
      "Propagating...: 100%|██████████| 5847/5847 [01:17<00:00, 75.29it/s]\n",
      "Propagating...: 100%|██████████| 5609/5609 [01:19<00:00, 70.83it/s]\n",
      "Propagating...: 100%|██████████| 5682/5682 [01:11<00:00, 79.39it/s]\n",
      "Propagating...: 100%|██████████| 5653/5653 [01:12<00:00, 78.40it/s]\n",
      "Propagating...: 100%|██████████| 5726/5726 [01:12<00:00, 78.72it/s]\n",
      "Propagating...: 100%|██████████| 5831/5831 [01:13<00:00, 79.38it/s]\n",
      "Propagating...: 100%|██████████| 5603/5603 [01:10<00:00, 79.45it/s]\n",
      "Propagating...: 100%|██████████| 5637/5637 [01:11<00:00, 79.33it/s]\n",
      "Propagating...: 100%|██████████| 5652/5652 [01:10<00:00, 79.67it/s]\n",
      "Propagating...: 100%|██████████| 5649/5649 [01:11<00:00, 79.44it/s]\n",
      "Propagating...: 100%|██████████| 5737/5737 [01:12<00:00, 79.25it/s]\n",
      "Propagating...: 100%|██████████| 5694/5694 [01:12<00:00, 78.99it/s]\n",
      "Propagating...: 100%|██████████| 5578/5578 [01:10<00:00, 79.08it/s]\n",
      "Propagating...: 100%|██████████| 5649/5649 [01:11<00:00, 79.16it/s]\n",
      "Propagating...: 100%|██████████| 5705/5705 [01:11<00:00, 79.28it/s]\n",
      "Propagating...: 100%|██████████| 5791/5791 [01:13<00:00, 78.91it/s]\n",
      "Propagating...: 100%|██████████| 5522/5522 [01:09<00:00, 78.97it/s]\n",
      "Propagating...: 100%|██████████| 5582/5582 [01:10<00:00, 79.70it/s]\n",
      "Propagating...: 100%|██████████| 5763/5763 [01:12<00:00, 79.20it/s]\n",
      "Propagating...: 100%|██████████| 5858/5858 [01:14<00:00, 78.48it/s]\n",
      "Propagating...: 100%|██████████| 5736/5736 [01:12<00:00, 79.21it/s]\n",
      "Propagating...: 100%|██████████| 5683/5683 [01:12<00:00, 78.62it/s]\n",
      "Propagating...: 100%|██████████| 5619/5619 [01:11<00:00, 78.46it/s]\n",
      "Propagating...: 100%|██████████| 5628/5628 [01:11<00:00, 78.76it/s]\n",
      "Propagating...: 100%|██████████| 5689/5689 [01:13<00:00, 77.78it/s]\n",
      "Propagating...: 100%|██████████| 5795/5795 [01:14<00:00, 77.96it/s]\n",
      "Propagating...: 100%|██████████| 5514/5514 [01:09<00:00, 79.41it/s]\n",
      "Propagating...: 100%|██████████| 5637/5637 [01:11<00:00, 78.59it/s]\n",
      "Propagating...: 100%|██████████| 5724/5724 [01:12<00:00, 78.52it/s]\n",
      "Propagating...: 100%|██████████| 5714/5714 [01:12<00:00, 78.93it/s]\n",
      "Propagating...: 100%|██████████| 5690/5690 [01:13<00:00, 77.72it/s]\n",
      "Propagating...: 100%|██████████| 5681/5681 [01:11<00:00, 79.20it/s]\n",
      "Propagating...: 100%|██████████| 5699/5699 [01:12<00:00, 78.79it/s]\n",
      "Propagating...: 100%|██████████| 5782/5782 [01:13<00:00, 78.40it/s]\n",
      "Propagating...: 100%|██████████| 5678/5678 [01:12<00:00, 78.57it/s]\n",
      "Propagating...: 100%|██████████| 5667/5667 [01:11<00:00, 78.73it/s]\n",
      "Propagating...: 100%|██████████| 5643/5643 [01:11<00:00, 78.75it/s]\n",
      "Propagating...: 100%|██████████| 5679/5679 [01:12<00:00, 78.15it/s]\n",
      "Propagating...: 100%|██████████| 5682/5682 [01:11<00:00, 79.34it/s]\n",
      "Propagating...: 100%|██████████| 5703/5703 [01:12<00:00, 79.13it/s]\n",
      "Propagating...: 100%|██████████| 5807/5807 [01:14<00:00, 78.03it/s]\n",
      "Propagating...: 100%|██████████| 5620/5620 [01:11<00:00, 78.62it/s]\n",
      "Propagating...: 100%|██████████| 5698/5698 [01:12<00:00, 79.00it/s]\n",
      "Propagating...: 100%|██████████| 5595/5595 [01:11<00:00, 78.42it/s]\n",
      "Propagating...: 100%|██████████| 5667/5667 [01:11<00:00, 79.36it/s]\n",
      "Propagating...: 100%|██████████| 5596/5596 [01:11<00:00, 78.02it/s]\n",
      "Propagating...: 100%|██████████| 5780/5780 [01:13<00:00, 78.68it/s]\n",
      "Propagating...: 100%|██████████| 5780/5780 [01:13<00:00, 78.62it/s]\n",
      "Propagating...: 100%|██████████| 5740/5740 [01:13<00:00, 77.59it/s]\n",
      "Propagating...: 100%|██████████| 5628/5628 [01:11<00:00, 78.63it/s]\n",
      "Propagating...: 100%|██████████| 5607/5607 [01:11<00:00, 78.47it/s]\n",
      "Propagating...: 100%|██████████| 5763/5763 [01:13<00:00, 78.79it/s]\n",
      "Propagating...: 100%|██████████| 5790/5790 [01:14<00:00, 77.90it/s]\n",
      "Propagating...: 100%|██████████| 5669/5669 [01:11<00:00, 78.83it/s]\n",
      "Propagating...: 100%|██████████| 5725/5725 [01:12<00:00, 79.47it/s]\n",
      "Propagating...: 100%|██████████| 5640/5640 [01:11<00:00, 79.04it/s]\n",
      "Propagating...: 100%|██████████| 5643/5643 [01:11<00:00, 78.40it/s]\n",
      "Propagating...: 100%|██████████| 5645/5645 [01:11<00:00, 78.77it/s]\n",
      "Propagating...: 100%|██████████| 5601/5601 [01:10<00:00, 78.97it/s]\n",
      "Propagating...: 100%|██████████| 5603/5603 [01:11<00:00, 78.33it/s]\n",
      "100%|██████████| 100/100 [2:07:33<00:00, 76.54s/it]\n"
     ]
    }
   ],
   "source": [
    "propagated_catalogs_path = '/Users/mncavieres/Documents/2024-2/HVS/Data/speedystar_catalogs/stock/propagated'\n",
    "\n",
    "#simulated_catalogs_path = '/Users/mncavieres/Documents/2024-2/HVS/speedystar/simulated_catalogs/top_heavy'\n",
    "\n",
    "# Assume a Galactic potential\n",
    "default_potential = MWPotential()\n",
    "#Ensure the potential has physical units so that the final positions and velocities have physical units too\n",
    "potential.turn_physical_on(default_potential)\n",
    "\n",
    "for catalog in tqdm(os.listdir(simulated_catalogs_path)):\n",
    "    # Skip already propagated samples\n",
    "    if os.path.isfile(os.path.join(simulated_catalogs_path, catalog)):\n",
    "        pass\n",
    "    # Only propagate FITS files\n",
    "    if catalog.endswith('.fits'):\n",
    "            # Load ejection sample, if it doesn't already exist\n",
    "        mysample = starsample(os.path.join(simulated_catalogs_path, catalog))\n",
    "\n",
    "        #Propagate sample. Positions / velocities are returned in Cartesian (x/y/z/v_x/v_y/v_z) and Galactic (l/b/dist/pm_l/pm_b/v_radial) and equatorial (ra/dec/dist/pm_ra/pm_dec/v_radial) coordinates\n",
    "        mysample.propagate(potential = default_potential)\n",
    "\n",
    "        #Save propagated sample\n",
    "        mysample.save(os.path.join(propagated_catalogs_path, catalog))"
   ]
  },
  {
   "cell_type": "markdown",
   "metadata": {},
   "source": [
    "### Subsetting the catalogue\n",
    "\n",
    "So far we've ejected and propagated everything, including fast and slow stars. If we're only interested in the hypervelocity stars, we can use boolean indexing on a speedystar object."
   ]
  },
  {
   "cell_type": "code",
   "execution_count": 13,
   "metadata": {},
   "outputs": [
    {
     "name": "stdout",
     "output_type": "stream",
     "text": [
      "Size of the entire sample: 561\n",
      "Size of the fast sample: 424\n"
     ]
    }
   ],
   "source": [
    "fast = mysample.GCv > mysample.Vesc\n",
    "\n",
    "print('Size of the entire sample: '+str(mysample.size))\n",
    "\n",
    "mysample = mysample[fast]\n",
    "print('Size of the fast sample: '+str(mysample.size))"
   ]
  },
  {
   "cell_type": "markdown",
   "metadata": {},
   "source": [
    "### Mock observations of the sample\n",
    "\n",
    "We next have to figure out how bright each of the stars is, otherwise we don't know which of the stars would be detectable today or in the near future. `speedystar` is able to calculate the apparent magnitudes of the sample in a variety of photometric bassbands (e.g. Gaia G/G_BP/G_RP/G_RVS, Johnson-Cousins UBVRI, SDSS/LSST ugriz, VISTA JHK) depending on the mass, temperature and radius of the stars along with their distance and position on the sky.\n",
    "\n"
   ]
  },
  {
   "cell_type": "code",
   "execution_count": 17,
   "metadata": {},
   "outputs": [
    {
     "name": "stderr",
     "output_type": "stream",
     "text": [
      "Calculating magnitudes: 100%|██████████| 6/6 [00:20<00:00,  3.40s/it]\n",
      "Calculating magnitudes: 100%|██████████| 6/6 [00:20<00:00,  3.44s/it]\n",
      "Calculating magnitudes: 100%|██████████| 6/6 [00:20<00:00,  3.40s/it]\n",
      "Calculating magnitudes: 100%|██████████| 6/6 [00:20<00:00,  3.39s/it]\n",
      "Calculating magnitudes: 100%|██████████| 6/6 [00:21<00:00,  3.62s/it]\n",
      "Calculating magnitudes: 100%|██████████| 6/6 [00:20<00:00,  3.42s/it]\n",
      "Calculating magnitudes: 100%|██████████| 6/6 [00:20<00:00,  3.50s/it]\n",
      "Calculating magnitudes: 100%|██████████| 6/6 [00:20<00:00,  3.35s/it]\n",
      "Calculating magnitudes: 100%|██████████| 6/6 [00:20<00:00,  3.37s/it]\n",
      "Calculating magnitudes: 100%|██████████| 6/6 [00:21<00:00,  3.58s/it]\n",
      "Calculating magnitudes: 100%|██████████| 6/6 [00:20<00:00,  3.34s/it]\n",
      "Calculating magnitudes: 100%|██████████| 6/6 [00:20<00:00,  3.44s/it]\n",
      "Calculating magnitudes: 100%|██████████| 6/6 [00:20<00:00,  3.40s/it]\n",
      "Calculating magnitudes: 100%|██████████| 6/6 [00:20<00:00,  3.39s/it]\n",
      "Calculating magnitudes: 100%|██████████| 6/6 [00:19<00:00,  3.31s/it]\n",
      "Calculating magnitudes: 100%|██████████| 6/6 [00:20<00:00,  3.34s/it]\n",
      "Calculating magnitudes: 100%|██████████| 6/6 [00:20<00:00,  3.44s/it]\n",
      "Calculating magnitudes: 100%|██████████| 6/6 [00:21<00:00,  3.55s/it]\n",
      "Calculating magnitudes: 100%|██████████| 6/6 [00:20<00:00,  3.39s/it]\n",
      "Calculating magnitudes: 100%|██████████| 6/6 [00:20<00:00,  3.39s/it]\n",
      "Calculating magnitudes: 100%|██████████| 6/6 [00:20<00:00,  3.45s/it]\n",
      "Calculating magnitudes: 100%|██████████| 6/6 [00:20<00:00,  3.44s/it]\n",
      "Calculating magnitudes: 100%|██████████| 6/6 [00:20<00:00,  3.33s/it]\n",
      "Calculating magnitudes: 100%|██████████| 6/6 [00:20<00:00,  3.43s/it]\n",
      "Calculating magnitudes: 100%|██████████| 6/6 [00:19<00:00,  3.33s/it]\n",
      "Calculating magnitudes: 100%|██████████| 6/6 [00:20<00:00,  3.37s/it]\n",
      "Calculating magnitudes: 100%|██████████| 6/6 [00:20<00:00,  3.40s/it]\n",
      "Calculating magnitudes: 100%|██████████| 6/6 [00:20<00:00,  3.41s/it]\n",
      "Calculating magnitudes: 100%|██████████| 6/6 [00:21<00:00,  3.52s/it]\n",
      "Calculating magnitudes: 100%|██████████| 6/6 [00:20<00:00,  3.38s/it]\n",
      "Calculating magnitudes: 100%|██████████| 6/6 [00:21<00:00,  3.55s/it]\n",
      "Calculating magnitudes: 100%|██████████| 6/6 [00:21<00:00,  3.52s/it]\n",
      "Calculating magnitudes: 100%|██████████| 6/6 [00:20<00:00,  3.35s/it]\n",
      "Calculating magnitudes: 100%|██████████| 6/6 [00:20<00:00,  3.36s/it]\n",
      "Calculating magnitudes: 100%|██████████| 6/6 [00:21<00:00,  3.51s/it]\n",
      "Calculating magnitudes: 100%|██████████| 6/6 [00:20<00:00,  3.44s/it]\n",
      "Calculating magnitudes: 100%|██████████| 6/6 [00:20<00:00,  3.35s/it]\n",
      "Calculating magnitudes: 100%|██████████| 6/6 [00:19<00:00,  3.28s/it]\n",
      "Calculating magnitudes: 100%|██████████| 6/6 [00:20<00:00,  3.45s/it]\n",
      "Calculating magnitudes: 100%|██████████| 6/6 [00:21<00:00,  3.58s/it]\n",
      "Calculating magnitudes: 100%|██████████| 6/6 [00:20<00:00,  3.48s/it]\n",
      "Calculating magnitudes: 100%|██████████| 6/6 [00:20<00:00,  3.36s/it]\n",
      "Calculating magnitudes: 100%|██████████| 6/6 [00:21<00:00,  3.51s/it]\n",
      "Calculating magnitudes: 100%|██████████| 6/6 [00:20<00:00,  3.40s/it]\n",
      "Calculating magnitudes: 100%|██████████| 6/6 [00:20<00:00,  3.47s/it]\n",
      "Calculating magnitudes: 100%|██████████| 6/6 [00:21<00:00,  3.51s/it]\n",
      "Calculating magnitudes: 100%|██████████| 6/6 [00:20<00:00,  3.34s/it]\n",
      "Calculating magnitudes: 100%|██████████| 6/6 [00:20<00:00,  3.38s/it]\n",
      "Calculating magnitudes: 100%|██████████| 6/6 [00:20<00:00,  3.39s/it]\n",
      "Calculating magnitudes: 100%|██████████| 6/6 [00:21<00:00,  3.50s/it]\n",
      "Calculating magnitudes: 100%|██████████| 6/6 [00:20<00:00,  3.39s/it]\n",
      "Calculating magnitudes: 100%|██████████| 6/6 [00:20<00:00,  3.48s/it]\n",
      "Calculating magnitudes: 100%|██████████| 6/6 [00:19<00:00,  3.25s/it]\n",
      "Calculating magnitudes: 100%|██████████| 6/6 [00:20<00:00,  3.49s/it]\n",
      "Calculating magnitudes: 100%|██████████| 6/6 [00:20<00:00,  3.40s/it]\n",
      "Calculating magnitudes: 100%|██████████| 6/6 [00:20<00:00,  3.39s/it]\n",
      "Calculating magnitudes: 100%|██████████| 6/6 [00:19<00:00,  3.32s/it]\n",
      "Calculating magnitudes: 100%|██████████| 6/6 [00:20<00:00,  3.36s/it]\n",
      "Calculating magnitudes: 100%|██████████| 6/6 [00:19<00:00,  3.33s/it]\n",
      "Calculating magnitudes: 100%|██████████| 6/6 [00:20<00:00,  3.47s/it]\n",
      "Calculating magnitudes: 100%|██████████| 6/6 [00:20<00:00,  3.36s/it]\n",
      "Calculating magnitudes: 100%|██████████| 6/6 [00:20<00:00,  3.42s/it]\n",
      "Calculating magnitudes: 100%|██████████| 6/6 [00:20<00:00,  3.41s/it]\n",
      "Calculating magnitudes: 100%|██████████| 6/6 [00:20<00:00,  3.46s/it]\n",
      "Calculating magnitudes: 100%|██████████| 6/6 [00:20<00:00,  3.37s/it]\n",
      "Calculating magnitudes: 100%|██████████| 6/6 [00:21<00:00,  3.51s/it]\n",
      "Calculating magnitudes: 100%|██████████| 6/6 [00:19<00:00,  3.28s/it]\n",
      "Calculating magnitudes: 100%|██████████| 6/6 [00:19<00:00,  3.28s/it]\n",
      "Calculating magnitudes: 100%|██████████| 6/6 [00:20<00:00,  3.41s/it]\n",
      "Calculating magnitudes: 100%|██████████| 6/6 [00:20<00:00,  3.42s/it]\n",
      "Calculating magnitudes: 100%|██████████| 6/6 [00:20<00:00,  3.50s/it]\n",
      "Calculating magnitudes: 100%|██████████| 6/6 [00:20<00:00,  3.39s/it]\n",
      "Calculating magnitudes: 100%|██████████| 6/6 [00:20<00:00,  3.35s/it]\n",
      "Calculating magnitudes: 100%|██████████| 6/6 [00:20<00:00,  3.49s/it]\n",
      "Calculating magnitudes: 100%|██████████| 6/6 [00:20<00:00,  3.47s/it]\n",
      "Calculating magnitudes: 100%|██████████| 6/6 [00:19<00:00,  3.32s/it]\n",
      "Calculating magnitudes: 100%|██████████| 6/6 [00:20<00:00,  3.38s/it]\n",
      "Calculating magnitudes: 100%|██████████| 6/6 [00:20<00:00,  3.39s/it]\n",
      "Calculating magnitudes: 100%|██████████| 6/6 [00:20<00:00,  3.47s/it]\n",
      "Calculating magnitudes: 100%|██████████| 6/6 [00:20<00:00,  3.41s/it]\n",
      "Calculating magnitudes: 100%|██████████| 6/6 [00:20<00:00,  3.48s/it]\n",
      "Calculating magnitudes: 100%|██████████| 6/6 [00:20<00:00,  3.44s/it]\n",
      "Calculating magnitudes: 100%|██████████| 6/6 [00:20<00:00,  3.41s/it]\n",
      "Calculating magnitudes: 100%|██████████| 6/6 [00:20<00:00,  3.43s/it]\n",
      "Calculating magnitudes: 100%|██████████| 6/6 [00:20<00:00,  3.39s/it]\n",
      "Calculating magnitudes: 100%|██████████| 6/6 [00:19<00:00,  3.31s/it]\n",
      "Calculating magnitudes: 100%|██████████| 6/6 [00:20<00:00,  3.43s/it]\n",
      "Calculating magnitudes: 100%|██████████| 6/6 [00:21<00:00,  3.52s/it]\n",
      "Calculating magnitudes: 100%|██████████| 6/6 [00:20<00:00,  3.42s/it]\n",
      "Calculating magnitudes: 100%|██████████| 6/6 [00:20<00:00,  3.37s/it]\n",
      "Calculating magnitudes: 100%|██████████| 6/6 [00:20<00:00,  3.41s/it]\n",
      "Calculating magnitudes: 100%|██████████| 6/6 [00:20<00:00,  3.42s/it]\n",
      "Calculating magnitudes: 100%|██████████| 6/6 [00:20<00:00,  3.44s/it]\n",
      "Calculating magnitudes: 100%|██████████| 6/6 [00:19<00:00,  3.33s/it]\n",
      "Calculating magnitudes: 100%|██████████| 6/6 [00:20<00:00,  3.37s/it]\n",
      "Calculating magnitudes: 100%|██████████| 6/6 [00:20<00:00,  3.39s/it]\n",
      "Calculating magnitudes: 100%|██████████| 6/6 [00:20<00:00,  3.44s/it]\n",
      "Calculating magnitudes: 100%|██████████| 6/6 [00:20<00:00,  3.35s/it]\n",
      "Calculating magnitudes: 100%|██████████| 6/6 [00:19<00:00,  3.28s/it]\n",
      "Calculating magnitudes: 100%|██████████| 6/6 [00:20<00:00,  3.48s/it]\n",
      "100%|██████████| 100/100 [37:20<00:00, 22.41s/it]\n"
     ]
    }
   ],
   "source": [
    "photometric_catalogs_path = '/Users/mncavieres/Documents/2024-2/HVS/Data/speedystar_catalogs/stock/phot_prop'\n",
    "\n",
    "for catalog in tqdm(os.listdir(propagated_catalogs_path)):\n",
    "    # Only compute actual catalogs FITS files\n",
    "    if not catalog.endswith('.fits'):\n",
    "        print('Skipping', catalog)\n",
    "        continue\n",
    "\n",
    "    # Load propagated sample\n",
    "    mysample = starsample(os.path.join(propagated_catalogs_path, catalog))\n",
    "\n",
    "    # Select only HVSs that are fast\n",
    "    #fast = mysample.GCv > mysample.Vesc\n",
    "    #mysample = mysample[fast]\n",
    "    \n",
    "    #Assign the dust map. Will be downloaded if it doesn't already exist in the working directory or where you've\n",
    "    #   specified above\n",
    "    mysample.dust = mwdust.Combined15()\n",
    "\n",
    "    #Get mock apparent magnitudes . By default magnitudes are computed in the Johnson-Cousins V and I bands \n",
    "    #   and the Gaia G, G_RP, G_BP and G_RVS bands.\n",
    "    #   By default this also returns Gaia astrometric and radial velocity errors assuming Gaia DR4 precision\n",
    "    mysample.photometry()\n",
    "\n",
    "    #Save the sample with mock photometry\n",
    "    mysample.save(os.path.join(photometric_catalogs_path, catalog))"
   ]
  },
  {
   "cell_type": "code",
   "execution_count": 14,
   "metadata": {},
   "outputs": [
    {
     "name": "stderr",
     "output_type": "stream",
     "text": [
      "Calculating magnitudes: 100%|██████████| 6/6 [00:02<00:00,  2.16it/s]\n"
     ]
    }
   ],
   "source": [
    "#Load a pre-existing propagated sample, if needed\n",
    "mysample = starsample('./cat_propagated.fits')\n",
    "\n",
    "#Magnitudes are exctincted by Milky Way dust along the line of sight. Need to assign a dust map. \n",
    "#Dust map(s) must be downloaded if they do not already exist. They can be rather large, ~500 MB.\n",
    "\n",
    "#Uncomment this line and fill out a path if the dust map is located somewhere other than the working\n",
    "#   directory, or you want it downloaded somewhere other than the working directory\n",
    "#mysample.config_dust('/path/to/where/you/want/the/dust/map')\n",
    "\n",
    "#Assign the dust map. Will be downloaded if it doesn't already exist in the working directory or where you've\n",
    "#   specified above\n",
    "mysample.dust = mwdust.Combined15()\n",
    "\n",
    "#Get mock apparent magnitudes . By default magnitudes are computed in the Johnson-Cousins V and I bands \n",
    "#   and the Gaia G, G_RP, G_BP and G_RVS bands.\n",
    "#   By default this also returns Gaia astrometric and radial velocity errors assuming Gaia DR4 precision\n",
    "mysample.photometry()\n",
    "\n",
    "#Save the sample with mock photometry\n",
    "mysample.save('./cat_photometry.fits')"
   ]
  },
  {
   "cell_type": "markdown",
   "metadata": {},
   "source": [
    "### Gaia detectability\n",
    " Finally, let's determine which stars would be detectable in Gaia Data Release 3.\n",
    " \n",
    " Gaia magnitude cuts can be performed using mysample[...], but they're also implemented directly in `speedystar.subsample` for simplicity, along with some other common cuts. These cuts will also automatically calculate DR3 mock Gaia errors.\n"
   ]
  },
  {
   "cell_type": "code",
   "execution_count": 15,
   "metadata": {},
   "outputs": [
    {
     "name": "stderr",
     "output_type": "stream",
     "text": [
      "100%|██████████| 100/100 [00:10<00:00,  9.95it/s]\n"
     ]
    }
   ],
   "source": [
    "detectable_dr3_path = '/Users/mncavieres/Documents/2024-2/HVS/speedystar/simulated_catalogs/detectable_DR3'\n",
    "\n",
    "for catalog in tqdm.tqdm(os.listdir(photometric_catalogs_path)):\n",
    "    if not catalog.endswith('.fits'):\n",
    "        pass\n",
    "    # Load photometric sample\n",
    "    mysample = starsample(os.path.join(photometric_catalogs_path, catalog))\n",
    "\n",
    "    #Determine which stars would be in principle detectable in Gaia DR3 and recalculate errors\n",
    "    mysample.subsample('Gaia_DR3')\n",
    "\n",
    "    #Save the cut sample\n",
    "    mysample.save(os.path.join(detectable_dr3_path, catalog))"
   ]
  },
  {
   "cell_type": "code",
   "execution_count": 15,
   "metadata": {},
   "outputs": [
    {
     "name": "stdout",
     "output_type": "stream",
     "text": [
      "Number of stars in Gaia DR3: 95\n",
      "Number of stars in Gaia DR4 with radial velocity: 4\n"
     ]
    }
   ],
   "source": [
    "#Load a pre-existing sample with photometry, if needed\n",
    "mysample = starsample('./cat_photometry.fits')\n",
    "\n",
    "#Determine which stars would be in principle detectable in Gaia DR3 and recalculate errors\n",
    "mysample.subsample('Gaia_DR3')\n",
    "\n",
    "#Save the cut sample\n",
    "mysample.save('./cat_gaiaDR3.fits')\n",
    "print('Number of stars in Gaia DR3: '+str(mysample.size))\n",
    "\n",
    "#Determine which stars would be in principle detectable in the subsample of Gaia DR4 with\n",
    "#   measured radial velocities.\n",
    "mysample.subsample('Gaia_6D_DR4')\n",
    "\n",
    "#Save the cut sample\n",
    "mysample.save('./cat_gaiaDR4_6D.fits')\n",
    "print('Number of stars in Gaia DR4 with radial velocity: '+str(mysample.size))\n"
   ]
  },
  {
   "cell_type": "code",
   "execution_count": 17,
   "metadata": {},
   "outputs": [
    {
     "name": "stdout",
     "output_type": "stream",
     "text": [
      "Number of stars in Gaia DR4: 95\n"
     ]
    }
   ],
   "source": [
    "#Load a pre-existing sample with photometry, if needed\n",
    "mysample = starsample('./cat_photometry.fits')\n",
    "mysample.subsample('Gaia_DR4')\n",
    "\n",
    "#Save the cut sample\n",
    "mysample.save('./cat_gaiaDR4.fits')\n",
    "print('Number of stars in Gaia DR4: '+str(mysample.size))"
   ]
  },
  {
   "cell_type": "code",
   "execution_count": 20,
   "metadata": {},
   "outputs": [
    {
     "name": "stdout",
     "output_type": "stream",
     "text": [
      "Number of stars in Gaia DR4: 4\n"
     ]
    }
   ],
   "source": [
    "#Load a pre-existing sample with photometry, if needed\n",
    "mysample = starsample('./cat_photometry.fits')\n",
    "mysample.subsample('Gaia_6D_DR4')\n",
    "print('Number of stars in Gaia DR4: '+str(mysample.size))"
   ]
  },
  {
   "cell_type": "code",
   "execution_count": null,
   "metadata": {},
   "outputs": [],
   "source": []
  }
 ],
 "metadata": {
  "kernelspec": {
   "display_name": "speedytest2",
   "language": "python",
   "name": "python3"
  },
  "language_info": {
   "codemirror_mode": {
    "name": "ipython",
    "version": 3
   },
   "file_extension": ".py",
   "mimetype": "text/x-python",
   "name": "python",
   "nbconvert_exporter": "python",
   "pygments_lexer": "ipython3",
   "version": "3.12.7"
  }
 },
 "nbformat": 4,
 "nbformat_minor": 2
}
