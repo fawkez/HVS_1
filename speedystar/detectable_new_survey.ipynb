{
 "cells": [
  {
   "cell_type": "markdown",
   "metadata": {},
   "source": [
    "### Your first hypervelocity star catalogue\n",
    "\n",
    "`speedystar` is a python package which will allow you to generate, evolve, propagate and perform mock observations of single stars ejected at high velocities.\n",
    "\n",
    "### Getting Started\n",
    "\n",
    "Make sure this notebook is in the parent directory of `speedystar/`. The package itself is not large, but performing mock observations requires downloading a Milky Way dust map which by default is ~500 MB. This free space is assumed to be in the current working directory by default, but does not have to be (see below).\n",
    "\n",
    "We currently do not recommend installing `speedystar` globally using pip since that prevents you from editing the source code directly.\n",
    "\n",
    "`speedystar` uses a number of Python packages. Some of these which might not already be included in your Python distribution are astropy, galpy, mwdust and pygaia. Simply run this notebook and conda or pip install any package that doesn't exist.\n",
    "\n",
    "More accurate treatments of the Gaia selection functions and astrometric spread function also require the Python packages scanninglaw and gaiaunlimited. These packages currently do not support Windows since they rely on the healpy package, but can be installed using Windows Subsystem for Linux (WSL).\n",
    "\n",
    "### Documentation\n",
    "\n",
    "help(speedystar.starsample) will display the names and descriptions of every method in `speedystar`, as well as descriptions of common column names.\n",
    "\n",
    "### Outputs\n",
    "\n",
    "`speedystar` outputs are .fits tables containing useful info for each mock star as well as metadata describing the assumptions that go into the sample. They can be accessed using astropy.table or with [Topcat](https://www.star.bris.ac.uk/~mbt/topcat/) or however else you'd like to read them.\n"
   ]
  },
  {
   "cell_type": "code",
   "execution_count": 1,
   "metadata": {},
   "outputs": [
    {
     "name": "stdout",
     "output_type": "stream",
     "text": [
      "/Users/mncavieres/opt/anaconda3/envs/speedytest2/lib/python3.12/site-packages/requests/__init__.py:86: RequestsDependencyWarning: Unable to find acceptable character detection dependency (chardet or charset_normalizer).\n",
      "  warnings.warn(\n",
      "\n"
     ]
    }
   ],
   "source": [
    "#Import what you need\n",
    "import numpy as np\n",
    "#import os\n",
    "#os.chdir('/mnt/c/Users/frase/')\n",
    "from speedystar import starsample\n",
    "from speedystar.eject import Hills\n",
    "from speedystar.utils.mwpotential import MWPotential\n",
    "import astropy.units as u\n",
    "from galpy import potential\n",
    "import mwdust\n",
    "\n",
    "#Print a lot of documentation\n",
    "#help(starsample)"
   ]
  },
  {
   "cell_type": "markdown",
   "metadata": {},
   "source": [
    "### Ejecting a sample\n",
    "\n",
    "We're now ready to eject some stars!\n",
    "\n",
    "The 'typical' way to eject hypervelocity stars is via the Hills Mechanism, in which a stellar binary approaches Sgr A* on a very low-angular momentum orbit. At a particular distance from Sgr A*, the tidal forces across the binary surpass the gravitational binding energy of the binary itself and the binary is separated. One star is captured in orbit around Sgr A* and the other is flung away at a velocities up to several thousand km/s. Stars ejected above the escape velocity of the Galaxy are hypervelocity stars (HVSs) -- they will eventually escape the Galaxy entirely. Note that there will also be a population of stars ejected slowly as well, which will not escape the inner Galaxy and might survive to interact again with Sgr A*.\n",
    "\n",
    "<p align=\"center\">\n",
    "<img src =\"https://www.universetoday.com/wp-content/uploads/2023/01/hills-mechanism.jpg\" width=\"50%\" height=\"50%\">\n",
    "</p>\n",
    "\n",
    "With `speedystar` you first generate a sample of stars at the moment of ejection. The number of stars and their masses/metallicities/velocities/flight times/evolutionary stages depend a lot on assumptions you make about stars and binaries in the Galactic Centre, see [Evans+2022](https://ui.adsabs.harvard.edu/abs/2022MNRAS.512.2350E/abstract) for more details.\n"
   ]
  },
  {
   "cell_type": "code",
   "execution_count": 11,
   "metadata": {},
   "outputs": [
    {
     "name": "stderr",
     "output_type": "stream",
     "text": [
      "Evolving HVSs: 100%|██████████| 899/899 [00:00<00:00, 1043.64it/s]\n"
     ]
    }
   ],
   "source": [
    "#Current ejection methods include 'Hills' implementing the Hills mechanism\n",
    "#  and 'BMBH' implementing the massive black hole binary slingshot mechanism\n",
    "\n",
    "# Arguments to Hills() allow you to set many parameters for the sample, e.g. the stellar initial mass function,\n",
    "#  the mass of Sgr A*, the maximum flight time, etc.\n",
    "ejectionmodel = Hills(rate=1e-4/u.yr)\n",
    "\n",
    "# Eject a sample of stars from Sgr A*. \n",
    "mysample = starsample(ejectionmodel, name='My catalogue')\n",
    "\n",
    "# Save ejection sample\n",
    "mysample.save('./cat_ejection.fits')"
   ]
  },
  {
   "cell_type": "markdown",
   "metadata": {},
   "source": [
    "### Propagating the sample\n",
    "\n",
    "The 'ejection sample' consists of a population of stars freshly ejected from the centre of the Milky Way. Next we have to propagate them through the Galaxy (each at its own assigned flight time) to find out where they will be at the present day. To do this we will have to assume a potential for the Galaxy. \n",
    "\n",
    "<p align=\"center\">\n",
    "<img src =\"https://cdn.sci.news/images/enlarge4/image_5003e-Hypervelocity-Stars.jpg\" width=\"50%\" height=\"50%\">\n",
    "</p>\n"
   ]
  },
  {
   "cell_type": "code",
   "execution_count": 12,
   "metadata": {},
   "outputs": [
    {
     "name": "stderr",
     "output_type": "stream",
     "text": [
      "Propagating...: 100%|██████████| 601/601 [00:07<00:00, 78.04it/s]\n"
     ]
    }
   ],
   "source": [
    "# Load ejection sample, if it doesn't already exist\n",
    "mysample = starsample('./cat_ejection.fits')\n",
    "\n",
    "# Assume a Galactic potential\n",
    "default_potential = MWPotential()\n",
    "\n",
    "#Ensure the potential has physical units so that the final positions and velocities have physical units too\n",
    "potential.turn_physical_on(default_potential)\n",
    "\n",
    "#Propagate sample. Positions / velocities are returned in Cartesian (x/y/z/v_x/v_y/v_z) and Galactic (l/b/dist/pm_l/pm_b/v_radial) and equatorial (ra/dec/dist/pm_ra/pm_dec/v_radial) coordinates\n",
    "mysample.propagate(potential = default_potential)\n",
    "\n",
    "#Save propagated sample\n",
    "mysample.save('./cat_propagated.fits')"
   ]
  },
  {
   "cell_type": "markdown",
   "metadata": {},
   "source": [
    "### Subsetting the catalogue\n",
    "\n",
    "So far we've ejected and propagated everything, including fast and slow stars. If we're only interested in the hypervelocity stars, we can use boolean indexing on a speedystar object."
   ]
  },
  {
   "cell_type": "code",
   "execution_count": 13,
   "metadata": {},
   "outputs": [
    {
     "name": "stdout",
     "output_type": "stream",
     "text": [
      "Size of the entire sample: 601\n",
      "Size of the fast sample: 489\n"
     ]
    }
   ],
   "source": [
    "fast = mysample.GCv > 350*u.km/u.s\n",
    "\n",
    "print('Size of the entire sample: '+str(mysample.size))\n",
    "\n",
    "mysample = mysample[fast]\n",
    "print('Size of the fast sample: '+str(mysample.size))"
   ]
  },
  {
   "cell_type": "markdown",
   "metadata": {},
   "source": [
    "### Mock observations of the sample\n",
    "\n",
    "We next have to figure out how bright each of the stars is, otherwise we don't know which of the stars would be detectable today or in the near future. `speedystar` is able to calculate the apparent magnitudes of the sample in a variety of photometric bassbands (e.g. Gaia G/G_BP/G_RP/G_RVS, Johnson-Cousins UBVRI, SDSS/LSST ugriz, VISTA JHK) depending on the mass, temperature and radius of the stars along with their distance and position on the sky.\n",
    "\n"
   ]
  },
  {
   "cell_type": "code",
   "execution_count": 6,
   "metadata": {},
   "outputs": [
    {
     "name": "stderr",
     "output_type": "stream",
     "text": [
      "Calculating magnitudes: 100%|██████████| 6/6 [00:10<00:00,  1.75s/it]\n"
     ]
    }
   ],
   "source": [
    "#Load a pre-existing propagated sample, if needed\n",
    "mysample = starsample('./cat_propagated.fits')\n",
    "\n",
    "#Magnitudes are exctincted by Milky Way dust along the line of sight. Need to assign a dust map. \n",
    "#Dust map(s) must be downloaded if they do not already exist. They can be rather large, ~500 MB.\n",
    "\n",
    "#Uncomment this line and fill out a path if the dust map is located somewhere other than the working\n",
    "#   directory, or you want it downloaded somewhere other than the working directory\n",
    "#mysample.config_dust('/path/to/where/you/want/the/dust/map')\n",
    "\n",
    "#Assign the dust map. Will be downloaded if it doesn't already exist in the working directory or where you've\n",
    "#   specified above\n",
    "mysample.dust = mwdust.Combined15()\n",
    "\n",
    "#Get mock apparent magnitudes . By default magnitudes are computed in the Johnson-Cousins V and I bands \n",
    "#   and the Gaia G, G_RP, G_BP and G_RVS bands.\n",
    "#   By default this also returns Gaia astrometric and radial velocity errors assuming Gaia DR4 precision\n",
    "mysample.photometry()\n",
    "\n",
    "#Save the sample with mock photometry\n",
    "mysample.save('./cat_photometry.fits')"
   ]
  },
  {
   "cell_type": "markdown",
   "metadata": {},
   "source": [
    "### Gaia detectability\n",
    " Finally, let's determine which stars would be detectable in Gaia Data Release 3.\n",
    " \n",
    " Gaia magnitude cuts can be performed using mysample[...], but they're also implemented directly in `speedystar.subsample` for simplicity, along with some other common cuts. These cuts will also automatically calculate DR3 mock Gaia errors.\n"
   ]
  },
  {
   "cell_type": "code",
   "execution_count": 7,
   "metadata": {},
   "outputs": [
    {
     "name": "stdout",
     "output_type": "stream",
     "text": [
      "Number of stars in Gaia DR3: 8\n",
      "Number of stars in Gaia DR4 with radial velocity: 0\n"
     ]
    }
   ],
   "source": [
    "#Load a pre-existing sample with photometry, if needed\n",
    "mysample = starsample('./cat_photometry.fits')\n",
    "\n",
    "#Determine which stars would be in principle detectable in Gaia DR3 and recalculate errors\n",
    "mysample.subsample('Gaia_DR3')\n",
    "\n",
    "#Save the cut sample\n",
    "mysample.save('./cat_gaiaDR3.fits')\n",
    "print('Number of stars in Gaia DR3: '+str(mysample.size))\n",
    "\n",
    "#Determine which stars would be in principle detectable in the subsample of Gaia DR4 with\n",
    "#   measured radial velocities.\n",
    "mysample.subsample('Gaia_6D_DR4')\n",
    "\n",
    "#Save the cut sample\n",
    "mysample.save('./cat_gaiaDR4_6D.fits')\n",
    "print('Number of stars in Gaia DR4 with radial velocity: '+str(mysample.size))\n"
   ]
  },
  {
   "cell_type": "code",
   "execution_count": 17,
   "metadata": {},
   "outputs": [
    {
     "name": "stdout",
     "output_type": "stream",
     "text": [
      "Number of stars in Gaia DR4: 95\n"
     ]
    }
   ],
   "source": [
    "#Load a pre-existing sample with photometry, if needed\n",
    "mysample = starsample('./cat_photometry.fits')\n",
    "mysample.subsample('Gaia_DR4')\n",
    "\n",
    "#Save the cut sample\n",
    "mysample.save('./cat_gaiaDR4.fits')\n",
    "print('Number of stars in Gaia DR4: '+str(mysample.size))"
   ]
  },
  {
   "cell_type": "code",
   "execution_count": 20,
   "metadata": {},
   "outputs": [
    {
     "name": "stdout",
     "output_type": "stream",
     "text": [
      "Number of stars in Gaia DR4: 4\n"
     ]
    }
   ],
   "source": [
    "#Load a pre-existing sample with photometry, if needed\n",
    "mysample = starsample('./cat_photometry.fits')\n",
    "mysample.subsample('Gaia_6D_DR4')\n",
    "print('Number of stars in Gaia DR4: '+str(mysample.size))"
   ]
  },
  {
   "cell_type": "markdown",
   "metadata": {},
   "source": [
    "# Now do a loop to select them"
   ]
  },
  {
   "cell_type": "code",
   "execution_count": 2,
   "metadata": {},
   "outputs": [
    {
     "name": "stderr",
     "output_type": "stream",
     "text": [
      "Evolving HVSs:  78%|███████▊  | 67195/86249 [01:04<00:18, 1039.39it/s]\n"
     ]
    },
    {
     "ename": "KeyboardInterrupt",
     "evalue": "",
     "output_type": "error",
     "traceback": [
      "\u001b[0;31m---------------------------------------------------------------------------\u001b[0m",
      "\u001b[0;31mKeyboardInterrupt\u001b[0m                         Traceback (most recent call last)",
      "Cell \u001b[0;32mIn[2], line 15\u001b[0m\n\u001b[1;32m     12\u001b[0m ejectionmodel \u001b[38;5;241m=\u001b[39m Hills(rate\u001b[38;5;241m=\u001b[39m\u001b[38;5;241m1e-2\u001b[39m\u001b[38;5;241m/\u001b[39mu\u001b[38;5;241m.\u001b[39myr)\n\u001b[1;32m     14\u001b[0m \u001b[38;5;66;03m# Eject a sample of stars from Sgr A*. \u001b[39;00m\n\u001b[0;32m---> 15\u001b[0m mysample \u001b[38;5;241m=\u001b[39m \u001b[43mstarsample\u001b[49m\u001b[43m(\u001b[49m\u001b[43mejectionmodel\u001b[49m\u001b[43m,\u001b[49m\u001b[43m \u001b[49m\u001b[43mname\u001b[49m\u001b[38;5;241;43m=\u001b[39;49m\u001b[38;5;124;43m'\u001b[39;49m\u001b[38;5;124;43mMy catalogue\u001b[39;49m\u001b[38;5;124;43m'\u001b[39;49m\u001b[43m)\u001b[49m\n\u001b[1;32m     19\u001b[0m \u001b[38;5;66;03m#Propagate sample. Positions / velocities are returned in Cartesian (x/y/z/v_x/v_y/v_z) and Galactic (l/b/dist/pm_l/pm_b/v_radial) and equatorial (ra/dec/dist/pm_ra/pm_dec/v_radial) coordinates\u001b[39;00m\n\u001b[1;32m     20\u001b[0m mysample\u001b[38;5;241m.\u001b[39mpropagate(potential \u001b[38;5;241m=\u001b[39m default_potential)\n",
      "File \u001b[0;32m~/Documents/2024-2/HVS/speedystar/speedystar/__init__.py:183\u001b[0m, in \u001b[0;36mstarsample.__init__\u001b[0;34m(self, inputdata, name, isExternal, **kwargs)\u001b[0m\n\u001b[1;32m    181\u001b[0m \u001b[38;5;66;03m#If inputdata is ejection model, create new ejection sample\u001b[39;00m\n\u001b[1;32m    182\u001b[0m \u001b[38;5;28;01mif\u001b[39;00m \u001b[38;5;28misinstance\u001b[39m(inputdata, EjectionModel):\n\u001b[0;32m--> 183\u001b[0m     \u001b[38;5;28;43mself\u001b[39;49m\u001b[38;5;241;43m.\u001b[39;49m\u001b[43m_eject\u001b[49m\u001b[43m(\u001b[49m\u001b[43minputdata\u001b[49m\u001b[43m,\u001b[49m\u001b[43m \u001b[49m\u001b[38;5;241;43m*\u001b[39;49m\u001b[38;5;241;43m*\u001b[39;49m\u001b[43mkwargs\u001b[49m\u001b[43m)\u001b[49m\n\u001b[1;32m    185\u001b[0m \u001b[38;5;66;03m# If inputdata is a filename and isExternal=True, \u001b[39;00m\n\u001b[1;32m    186\u001b[0m \u001b[38;5;66;03m# loads existing sample of star observations    \u001b[39;00m\n\u001b[1;32m    187\u001b[0m \u001b[38;5;28;01mif\u001b[39;00m(\u001b[38;5;28misinstance\u001b[39m(inputdata, \u001b[38;5;28mstr\u001b[39m) \u001b[38;5;129;01mand\u001b[39;00m (isExternal)):\n",
      "File \u001b[0;32m~/Documents/2024-2/HVS/speedystar/speedystar/__init__.py:217\u001b[0m, in \u001b[0;36mstarsample._eject\u001b[0;34m(self, ejmodel, **kwargs)\u001b[0m\n\u001b[1;32m    209\u001b[0m \u001b[38;5;28mself\u001b[39m\u001b[38;5;241m.\u001b[39mpropagated \u001b[38;5;241m=\u001b[39m \u001b[38;5;28;01mFalse\u001b[39;00m\n\u001b[1;32m    211\u001b[0m \u001b[38;5;66;03m# See ejmodel.sampler() for descriptions of returned attributes\u001b[39;00m\n\u001b[1;32m    212\u001b[0m \u001b[38;5;66;03m#self.r0, self.phi0, self.theta0, self.v0, self.phiv0, self.thetav0, \\\u001b[39;00m\n\u001b[1;32m    213\u001b[0m \u001b[38;5;66;03m#self.m, self.tage, self.tflight, self.a, self.P, self.q, self.mem, \\\u001b[39;00m\n\u001b[1;32m    214\u001b[0m \u001b[38;5;66;03m#self.met, self.stage, self.stagebefore, self.Rad, self.T_eff, \\\u001b[39;00m\n\u001b[1;32m    215\u001b[0m \u001b[38;5;66;03m#self.Lum, self.size = ejmodel.sampler(**kwargs)\u001b[39;00m\n\u001b[0;32m--> 217\u001b[0m ejargs \u001b[38;5;241m=\u001b[39m \u001b[43mejmodel\u001b[49m\u001b[38;5;241;43m.\u001b[39;49m\u001b[43msampler\u001b[49m\u001b[43m(\u001b[49m\u001b[38;5;241;43m*\u001b[39;49m\u001b[38;5;241;43m*\u001b[39;49m\u001b[43mkwargs\u001b[49m\u001b[43m)\u001b[49m\n\u001b[1;32m    219\u001b[0m \u001b[38;5;28;01mfor\u001b[39;00m key \u001b[38;5;129;01min\u001b[39;00m \u001b[38;5;28mlist\u001b[39m(ejargs\u001b[38;5;241m.\u001b[39mkeys()):\n\u001b[1;32m    220\u001b[0m     \u001b[38;5;28msetattr\u001b[39m(\u001b[38;5;28mself\u001b[39m,key,ejargs[key])\n",
      "File \u001b[0;32m~/Documents/2024-2/HVS/speedystar/speedystar/eject.py:1199\u001b[0m, in \u001b[0;36mHills.sampler\u001b[0;34m(self)\u001b[0m\n\u001b[1;32m   1185\u001b[0m \u001b[38;5;28;01melse\u001b[39;00m:\n\u001b[1;32m   1186\u001b[0m \n\u001b[1;32m   1187\u001b[0m         \u001b[38;5;66;03m#indices with ith metallicity, subset\u001b[39;00m\n\u001b[0;32m   (...)\u001b[0m\n\u001b[1;32m   1194\u001b[0m \n\u001b[1;32m   1195\u001b[0m         \u001b[38;5;66;03m#Extract bigger star radii\u001b[39;00m\n\u001b[1;32m   1196\u001b[0m         \u001b[38;5;28;01mfor\u001b[39;00m i \u001b[38;5;129;01min\u001b[39;00m tqdm(\u001b[38;5;28mrange\u001b[39m(\u001b[38;5;28mlen\u001b[39m(mbig)), desc\u001b[38;5;241m=\u001b[39m\u001b[38;5;124m'\u001b[39m\u001b[38;5;124mEvolving HVSs\u001b[39m\u001b[38;5;124m'\u001b[39m):   \n\u001b[1;32m   1197\u001b[0m             \u001b[38;5;66;03m#for z in tqdm(np.unique(met),desc='Evolving HVSs'):   \u001b[39;00m\n\u001b[1;32m   1198\u001b[0m             \u001b[38;5;66;03m#Get radius of bigger star\u001b[39;00m\n\u001b[0;32m-> 1199\u001b[0m             Rmax[i] \u001b[38;5;241m=\u001b[39m \u001b[43mRadius\u001b[49m\u001b[43m(\u001b[49m\u001b[43mmbig\u001b[49m\u001b[43m[\u001b[49m\u001b[43mi\u001b[49m\u001b[43m]\u001b[49m\u001b[38;5;241;43m.\u001b[39;49m\u001b[43mvalue\u001b[49m\u001b[43m,\u001b[49m\u001b[43mmet\u001b[49m\u001b[43m[\u001b[49m\u001b[43mi\u001b[49m\u001b[43m]\u001b[49m\u001b[43m,\u001b[49m\u001b[43m \u001b[49m\n\u001b[1;32m   1200\u001b[0m \u001b[43m                                \u001b[49m\u001b[43mt_before\u001b[49m\u001b[43m[\u001b[49m\u001b[43mi\u001b[49m\u001b[43m]\u001b[49m\u001b[38;5;241;43m.\u001b[39;49m\u001b[43mvalue\u001b[49m\u001b[43m)\u001b[49m\n\u001b[1;32m   1202\u001b[0m             \u001b[38;5;66;03m#Rmax[idx] = Rmaxtmp\u001b[39;00m\n\u001b[1;32m   1203\u001b[0m             stagebefore[i] \u001b[38;5;241m=\u001b[39m \u001b[38;5;241m1\u001b[39m\n",
      "File \u001b[0;32m~/Documents/2024-2/HVS/speedystar/speedystar/utils/hurley_stellar_evolution.py:1204\u001b[0m, in \u001b[0;36mRadius\u001b[0;34m(M, xi, t)\u001b[0m\n\u001b[1;32m   1201\u001b[0m tau1, tau2 \u001b[38;5;241m=\u001b[39m tau_12(M, xi, t)\n\u001b[1;32m   1203\u001b[0m \u001b[38;5;28;01mif\u001b[39;00m(M\u001b[38;5;241m<\u001b[39m\u001b[38;5;241m1.4\u001b[39m):\n\u001b[0;32m-> 1204\u001b[0m     RZAMS \u001b[38;5;241m=\u001b[39m \u001b[43mR_ZAMS\u001b[49m\u001b[43m(\u001b[49m\u001b[43mM\u001b[49m\u001b[43m,\u001b[49m\u001b[43mget_Z\u001b[49m\u001b[43m(\u001b[49m\u001b[38;5;241;43m0.0\u001b[39;49m\u001b[43m)\u001b[49m\u001b[43m)\u001b[49m\n\u001b[1;32m   1205\u001b[0m \u001b[38;5;28;01melse\u001b[39;00m:\n\u001b[1;32m   1206\u001b[0m     RZAMS \u001b[38;5;241m=\u001b[39m R_ZAMS(M, Z)\n",
      "File \u001b[0;32m~/Documents/2024-2/HVS/speedystar/speedystar/utils/hurley_stellar_evolution.py:1009\u001b[0m, in \u001b[0;36mR_ZAMS\u001b[0;34m(M, Z)\u001b[0m\n\u001b[1;32m   1006\u001b[0m ms \u001b[38;5;241m=\u001b[39m np\u001b[38;5;241m.\u001b[39msqrt(M)\n\u001b[1;32m   1008\u001b[0m num \u001b[38;5;241m=\u001b[39m (coeff(Z, mx[\u001b[38;5;241m0\u001b[39m,:])\u001b[38;5;241m*\u001b[39mM\u001b[38;5;241m*\u001b[39m\u001b[38;5;241m*\u001b[39m\u001b[38;5;241m2.\u001b[39m \u001b[38;5;241m+\u001b[39m coeff(Z, mx[\u001b[38;5;241m1\u001b[39m,:])\u001b[38;5;241m*\u001b[39mM\u001b[38;5;241m*\u001b[39m\u001b[38;5;241m*\u001b[39m\u001b[38;5;241m6.\u001b[39m)\u001b[38;5;241m*\u001b[39mms \u001b[38;5;241m+\u001b[39m coeff(Z, mx[\u001b[38;5;241m2\u001b[39m,:])\u001b[38;5;241m*\u001b[39mM\u001b[38;5;241m*\u001b[39m\u001b[38;5;241m*\u001b[39m\u001b[38;5;241m11.\u001b[39m \u001b[38;5;241m+\u001b[39m (coeff(Z, mx[\u001b[38;5;241m3\u001b[39m,:]) \u001b[38;5;241m+\u001b[39m coeff(Z, mx[\u001b[38;5;241m4\u001b[39m,:])\u001b[38;5;241m*\u001b[39mms)\u001b[38;5;241m*\u001b[39mM\u001b[38;5;241m*\u001b[39m\u001b[38;5;241m*\u001b[39m\u001b[38;5;241m19.\u001b[39m\n\u001b[0;32m-> 1009\u001b[0m den \u001b[38;5;241m=\u001b[39m coeff(Z, mx[\u001b[38;5;241m5\u001b[39m,:]) \u001b[38;5;241m+\u001b[39m coeff(Z, mx[\u001b[38;5;241m6\u001b[39m,:])\u001b[38;5;241m*\u001b[39mM\u001b[38;5;241m*\u001b[39m\u001b[38;5;241m*\u001b[39m\u001b[38;5;241m2.\u001b[39m \u001b[38;5;241m+\u001b[39m (coeff(Z, \u001b[43mmx\u001b[49m\u001b[43m[\u001b[49m\u001b[38;5;241;43m7\u001b[39;49m\u001b[43m,\u001b[49m\u001b[43m:\u001b[49m\u001b[43m]\u001b[49m)\u001b[38;5;241m*\u001b[39mM\u001b[38;5;241m*\u001b[39m\u001b[38;5;241m*\u001b[39m\u001b[38;5;241m8.\u001b[39m \u001b[38;5;241m+\u001b[39m M\u001b[38;5;241m*\u001b[39m\u001b[38;5;241m*\u001b[39m\u001b[38;5;241m18.\u001b[39m \u001b[38;5;241m+\u001b[39m coeff(Z, mx[\u001b[38;5;241m8\u001b[39m,:])\u001b[38;5;241m*\u001b[39mM\u001b[38;5;241m*\u001b[39m\u001b[38;5;241m*\u001b[39m\u001b[38;5;241m19.\u001b[39m)\u001b[38;5;241m*\u001b[39mms\n\u001b[1;32m   1011\u001b[0m \u001b[38;5;28;01mreturn\u001b[39;00m num \u001b[38;5;241m/\u001b[39m den\n",
      "File \u001b[0;32m~/opt/anaconda3/envs/speedytest2/lib/python3.12/site-packages/numpy/matrixlib/defmatrix.py:192\u001b[0m, in \u001b[0;36mmatrix.__getitem__\u001b[0;34m(self, index)\u001b[0m\n\u001b[1;32m    189\u001b[0m         \u001b[38;5;28mself\u001b[39m\u001b[38;5;241m.\u001b[39mshape \u001b[38;5;241m=\u001b[39m (\u001b[38;5;241m1\u001b[39m, newshape[\u001b[38;5;241m0\u001b[39m])\n\u001b[1;32m    190\u001b[0m     \u001b[38;5;28;01mreturn\u001b[39;00m\n\u001b[0;32m--> 192\u001b[0m \u001b[38;5;28;01mdef\u001b[39;00m \u001b[38;5;21m__getitem__\u001b[39m(\u001b[38;5;28mself\u001b[39m, index):\n\u001b[1;32m    193\u001b[0m     \u001b[38;5;28mself\u001b[39m\u001b[38;5;241m.\u001b[39m_getitem \u001b[38;5;241m=\u001b[39m \u001b[38;5;28;01mTrue\u001b[39;00m\n\u001b[1;32m    195\u001b[0m     \u001b[38;5;28;01mtry\u001b[39;00m:\n",
      "\u001b[0;31mKeyboardInterrupt\u001b[0m: "
     ]
    }
   ],
   "source": [
    "#Current ejection methods include 'Hills' implementing the Hills mechanism\n",
    "#  and 'BMBH' implementing the massive black hole binary slingshot mechanism\n",
    "\n",
    "# Assume a Galactic potential\n",
    "default_potential = MWPotential()\n",
    "\n",
    "#Ensure the potential has physical units so that the final positions and velocities have physical units too\n",
    "potential.turn_physical_on(default_potential)\n",
    "\n",
    "# Arguments to Hills() allow you to set many parameters for the sample, e.g. the stellar initial mass function,\n",
    "#  the mass of Sgr A*, the maximum flight time, etc.\n",
    "ejectionmodel = Hills(rate=1e-2/u.yr)\n",
    "\n",
    "# Eject a sample of stars from Sgr A*. \n",
    "mysample = starsample(ejectionmodel, name='My catalogue')\n",
    "\n",
    "\n",
    "\n",
    "#Propagate sample. Positions / velocities are returned in Cartesian (x/y/z/v_x/v_y/v_z) and Galactic (l/b/dist/pm_l/pm_b/v_radial) and equatorial (ra/dec/dist/pm_ra/pm_dec/v_radial) coordinates\n",
    "mysample.propagate(potential = default_potential)\n",
    "\n",
    "fast = mysample.GCv > 350*u.km/u.s\n",
    "\n",
    "print('Size of the entire sample: '+str(mysample.size))\n",
    "\n",
    "mysample = mysample[fast]\n",
    "\n",
    "#   specified above\n",
    "mysample.dust = mwdust.Combined15()\n",
    "\n",
    "#Get mock apparent magnitudes . By default magnitudes are computed in the Johnson-Cousins V and I bands \n",
    "#   and the Gaia G, G_RP, G_BP and G_RVS bands.\n",
    "#   By default this also returns Gaia astrometric and radial velocity errors assuming Gaia DR4 precision\n",
    "mysample.photometry()\n",
    "\n",
    "\n",
    "#Determine which stars would be in principle detectable in Gaia DR3 and recalculate errors\n",
    "mysample.subsample('Gaia_DR3')\n",
    "\n",
    "print('Number of stars in Gaia DR3: '+str(mysample.size))\n",
    "\n",
    "#Save propagated sample\n",
    "mysample.save('/Users/mncavieres/Documents/2024-2/HVS/Data/speedystar_catalogs/simple_for_proposal/cat_propagated_ejr_2.fits')\n"
   ]
  },
  {
   "cell_type": "code",
   "execution_count": null,
   "metadata": {},
   "outputs": [],
   "source": []
  }
 ],
 "metadata": {
  "kernelspec": {
   "display_name": "speedytest2",
   "language": "python",
   "name": "python3"
  },
  "language_info": {
   "codemirror_mode": {
    "name": "ipython",
    "version": 3
   },
   "file_extension": ".py",
   "mimetype": "text/x-python",
   "name": "python",
   "nbconvert_exporter": "python",
   "pygments_lexer": "ipython3",
   "version": "3.12.7"
  }
 },
 "nbformat": 4,
 "nbformat_minor": 2
}
