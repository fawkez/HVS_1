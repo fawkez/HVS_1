{
 "cells": [
  {
   "cell_type": "code",
   "execution_count": 1,
   "metadata": {},
   "outputs": [
    {
     "name": "stderr",
     "output_type": "stream",
     "text": [
      "/Users/mncavieres/opt/anaconda3/envs/speedytest2/lib/python3.12/site-packages/requests/__init__.py:86: RequestsDependencyWarning: Unable to find acceptable character detection dependency (chardet or charset_normalizer).\n",
      "  warnings.warn(\n"
     ]
    }
   ],
   "source": [
    "# imports\n",
    "\n",
    "import os\n",
    "import sys\n",
    "import numpy as np\n",
    "import pandas as pd\n",
    "import matplotlib.pyplot as plt\n",
    "import seaborn as sns\n",
    "\n",
    "from astropy.io import fits\n",
    "from astropy.table import Table, vstack\n",
    "from astropy import units as u\n",
    "import astropy.coordinates as coord\n",
    "from astropy.coordinates import SkyCoord, Galactocentric, ICRS\n",
    "from astropy.constants import kpc, au\n",
    "from astropy.coordinates import CartesianRepresentation, CartesianDifferential\n",
    "from astropy.coordinates.matrix_utilities import rotation_matrix, matrix_product, matrix_transpose\n",
    "from numba import njit\n",
    "import matplotlib.colors as colors\n",
    "\n",
    "import random\n",
    "import healpy as hp\n",
    "\n",
    "from matplotlib.gridspec import GridSpec\n",
    "from scipy.optimize import minimize\n",
    "\n",
    "\n",
    "# Add the path to the 'scripts' folder directly\n",
    "sys.path.append('/Users/mncavieres/Documents/2024-2/HVS')\n",
    "\n",
    "\n",
    "# # Now you can import from the 'scripts' package\n",
    "# from scripts.implied_d_vr import *  # Or import any other module\n",
    "# from scripts.selections import *\n",
    "# from scripts.CMD_selection import *\n",
    "\n",
    "sys.path.append('/Users/mncavieres/Documents/2024-2/HVS')  # Add scripts folder to path\n",
    "from scripts.implied_d_vr import *  # Import specific functions or classes as needed\n",
    "from scripts.selections import *\n",
    "from scripts.CMD_selection import *\n",
    "from scripts.catalog_preparation.prepare_gaia import *\n",
    "from scripts.misc.fft_kde import WeightedFFTKDE\n",
    "#from scripts.implied_d_vr import *  # Or import any other module\n",
    "from scripts.selections import *\n",
    "from scripts.correction_non_radial.iterative_correction import compute_R0xez\n",
    "from scripts.correction_non_radial.iterative_correction import compute_ez\n",
    "from scripts.correction_non_radial.iterative_correction import compute_R0_V0_SI\n",
    "from scripts.correction_non_radial.iterative_correction import getdist_corrected\n",
    "from scripts.correction_non_radial.iterative_correction import iterative_correction\n",
    "\n",
    "# set up the plotting\n",
    "# set font size\n",
    "plt.rcParams.update({'font.size': 18})\n",
    "# set the figure size\n",
    "plt.rcParams.update({'figure.figsize': (10, 7)})\n",
    "# set the font to latex\n",
    "plt.rcParams.update({'text.usetex': True})\n"
   ]
  },
  {
   "cell_type": "code",
   "execution_count": null,
   "metadata": {},
   "outputs": [],
   "source": []
  }
 ],
 "metadata": {
  "kernelspec": {
   "display_name": "speedytest2",
   "language": "python",
   "name": "python3"
  },
  "language_info": {
   "codemirror_mode": {
    "name": "ipython",
    "version": 3
   },
   "file_extension": ".py",
   "mimetype": "text/x-python",
   "name": "python",
   "nbconvert_exporter": "python",
   "pygments_lexer": "ipython3",
   "version": "3.12.7"
  }
 },
 "nbformat": 4,
 "nbformat_minor": 2
}
